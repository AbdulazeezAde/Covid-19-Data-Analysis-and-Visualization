{
 "cells": [
  {
   "cell_type": "markdown",
   "metadata": {},
   "source": [
    "## COVID-19 INTERACTIVE COMPREHENSIVE ANALYSIS AND VISUALIZATION DASHBOARD"
   ]
  },
  {
   "cell_type": "markdown",
   "metadata": {},
   "source": [
    "## What is COVID-19?\n",
    "> Coronaviruses are a group of related RNA viruses that cause diseases in mammals and birds. In humans, these viruses cause respiratory tract infections that can range from mild to lethal. Mild illnesses include some cases of the common cold (which is also caused by other viruses, predominantly rhinoviruses), while more lethal varieties can cause SARS, MERS, and COVID-19. Symptoms in other species vary: in chickens, they cause an upper respiratory tract disease, while in cows and pigs they cause diarrhea. There are as yet no vaccines or antiviral drugs to prevent or treat human coronavirus infections."
   ]
  },
  {
   "cell_type": "markdown",
   "metadata": {},
   "source": [
    "![Coronavirus Image](http://media.heartlandtv.com/images/hypatia-h_8d10874cfef9eb8b5227907dad863c25-h_a29499ce9e14ad513229b7a8ef7fc2e0.jpg)"
   ]
  },
  {
   "cell_type": "markdown",
   "metadata": {},
   "source": [
    "## Displaying the total stats for Nigeria"
   ]
  },
  {
   "cell_type": "code",
   "execution_count": 93,
   "metadata": {},
   "outputs": [
    {
     "data": {
      "text/html": [
       "<div style = 'background-color: #504e4e; padding: 30px '><span style='color: #fff; font-size:30px;'> Confirmed: 20919</span><span style='color: red; font-size:30px;margin-left:20px;'> Deaths: 525</span><span style='color: orange; font-size:30px; margin-left:20px;'> Recovered: 7109</span><span style='color: yellow; font-size:30px;margin-left:20px;'> Active: 13285</span></div>"
      ],
      "text/plain": [
       "<IPython.core.display.HTML object>"
      ]
     },
     "metadata": {},
     "output_type": "display_data"
    }
   ],
   "source": [
    "from IPython.core.display import display, HTML\n",
    "display(HTML(\"<div style = 'background-color: #504e4e; padding: 30px '>\" +\n",
    "             \"<span style='color: #fff; font-size:30px;'> Confirmed: \"  + str(confirmed_total) +\"</span>\" +\n",
    "             \"<span style='color: red; font-size:30px;margin-left:20px;'> Deaths: \" + str(deaths_total) + \"</span>\"+\n",
    "             \"<span style='color: orange; font-size:30px; margin-left:20px;'> Recovered: \" + str(recovered_total) + \"</span>\"+\n",
    "             \"<span style='color: yellow; font-size:30px;margin-left:20px;'> Active: \" + str(active_total) + \"</span>\"+\n",
    "             \"</div>\")\n",
    "       )"
   ]
  },
  {
   "cell_type": "markdown",
   "metadata": {},
   "source": [
    "![Coronavirus Nig Image](https://www.ripplesnigeria.com/wp-content/uploads/2020/03/Health-authorities-in-South-Africa-treating-COVID-19-patients.jpg)"
   ]
  },
  {
   "cell_type": "code",
   "execution_count": 49,
   "metadata": {},
   "outputs": [],
   "source": [
    "import numpy as np\n",
    "import pandas as pd\n",
    "import matplotlib.pyplot as plt\n",
    "import seaborn as sns          \n",
    "import plotly.express as px      #for beautiful visualization \n",
    "import folium       #for the map visualization"
   ]
  },
  {
   "cell_type": "markdown",
   "metadata": {},
   "source": [
    "### Reading our dataset"
   ]
  },
  {
   "cell_type": "code",
   "execution_count": 2,
   "metadata": {},
   "outputs": [],
   "source": [
    "covid_death_nig_data = pd.read_csv(r\"C:\\Users\\seyi\\Downloads\\3\\nigeria-covid19-data-master\\data\\csv\\ncdc-covid19-states-daily-deaths.csv\")"
   ]
  },
  {
   "cell_type": "code",
   "execution_count": 3,
   "metadata": {},
   "outputs": [],
   "source": [
    "covid_recovered_nig_data = pd.read_csv(r\"C:\\Users\\seyi\\Downloads\\3\\nigeria-covid19-data-master\\data\\csv\\ncdc-covid19-states-daily-recovered.csv\")"
   ]
  },
  {
   "cell_type": "code",
   "execution_count": 4,
   "metadata": {},
   "outputs": [],
   "source": [
    "covid_cases_nig_data = pd.read_csv(r\"C:\\Users\\seyi\\Downloads\\3\\nigeria-covid19-data-master\\data\\csv\\ncdc-covid19-states-daily-cases.csv\")"
   ]
  },
  {
   "cell_type": "code",
   "execution_count": 5,
   "metadata": {},
   "outputs": [],
   "source": [
    "covid_states_nig_data = pd.read_csv(r\"C:\\Users\\seyi\\Downloads\\3\\nigeria-covid19-data-master\\data\\csv\\ncdc-covid19-states.csv\")"
   ]
  },
  {
   "cell_type": "code",
   "execution_count": 6,
   "metadata": {},
   "outputs": [],
   "source": [
    "covid_molecular_lab_data = pd.read_csv(r\"C:\\Users\\seyi\\Downloads\\3\\nigeria-covid19-data-master\\data\\csv\\ncdc-covid19-molecular-labs.csv\")"
   ]
  },
  {
   "cell_type": "code",
   "execution_count": 7,
   "metadata": {},
   "outputs": [],
   "source": [
    "covid_daily_updates_data = pd.read_csv(r\"C:\\Users\\seyi\\Downloads\\3\\nigeria-covid19-data-master\\data\\csv\\ncdc-covid19-dailyupdates.csv\")"
   ]
  },
  {
   "cell_type": "markdown",
   "metadata": {},
   "source": [
    "## EDA "
   ]
  },
  {
   "cell_type": "code",
   "execution_count": 8,
   "metadata": {},
   "outputs": [
    {
     "data": {
      "text/html": [
       "<div>\n",
       "<style scoped>\n",
       "    .dataframe tbody tr th:only-of-type {\n",
       "        vertical-align: middle;\n",
       "    }\n",
       "\n",
       "    .dataframe tbody tr th {\n",
       "        vertical-align: top;\n",
       "    }\n",
       "\n",
       "    .dataframe thead th {\n",
       "        text-align: right;\n",
       "    }\n",
       "</style>\n",
       "<table border=\"1\" class=\"dataframe\">\n",
       "  <thead>\n",
       "    <tr style=\"text-align: right;\">\n",
       "      <th></th>\n",
       "      <th>Date</th>\n",
       "      <th>Abia</th>\n",
       "      <th>Adamawa</th>\n",
       "      <th>Akwa Ibom</th>\n",
       "      <th>Anambra</th>\n",
       "      <th>Bauchi</th>\n",
       "      <th>Bayelsa</th>\n",
       "      <th>Benue</th>\n",
       "      <th>Borno</th>\n",
       "      <th>Cross River</th>\n",
       "      <th>...</th>\n",
       "      <th>Ogun</th>\n",
       "      <th>Ondo</th>\n",
       "      <th>Osun</th>\n",
       "      <th>Oyo</th>\n",
       "      <th>Plateau</th>\n",
       "      <th>Rivers</th>\n",
       "      <th>Sokoto</th>\n",
       "      <th>Taraba</th>\n",
       "      <th>Yobe</th>\n",
       "      <th>Zamfara</th>\n",
       "    </tr>\n",
       "  </thead>\n",
       "  <tbody>\n",
       "    <tr>\n",
       "      <th>0</th>\n",
       "      <td>2/27/2020</td>\n",
       "      <td>0</td>\n",
       "      <td>0</td>\n",
       "      <td>0</td>\n",
       "      <td>0</td>\n",
       "      <td>0</td>\n",
       "      <td>0</td>\n",
       "      <td>0</td>\n",
       "      <td>0</td>\n",
       "      <td>0</td>\n",
       "      <td>...</td>\n",
       "      <td>0</td>\n",
       "      <td>0</td>\n",
       "      <td>0</td>\n",
       "      <td>0</td>\n",
       "      <td>0</td>\n",
       "      <td>0</td>\n",
       "      <td>0</td>\n",
       "      <td>0</td>\n",
       "      <td>0</td>\n",
       "      <td>0</td>\n",
       "    </tr>\n",
       "    <tr>\n",
       "      <th>1</th>\n",
       "      <td>2/28/2020</td>\n",
       "      <td>0</td>\n",
       "      <td>0</td>\n",
       "      <td>0</td>\n",
       "      <td>0</td>\n",
       "      <td>0</td>\n",
       "      <td>0</td>\n",
       "      <td>0</td>\n",
       "      <td>0</td>\n",
       "      <td>0</td>\n",
       "      <td>...</td>\n",
       "      <td>0</td>\n",
       "      <td>0</td>\n",
       "      <td>0</td>\n",
       "      <td>0</td>\n",
       "      <td>0</td>\n",
       "      <td>0</td>\n",
       "      <td>0</td>\n",
       "      <td>0</td>\n",
       "      <td>0</td>\n",
       "      <td>0</td>\n",
       "    </tr>\n",
       "    <tr>\n",
       "      <th>2</th>\n",
       "      <td>2/29/2020</td>\n",
       "      <td>0</td>\n",
       "      <td>0</td>\n",
       "      <td>0</td>\n",
       "      <td>0</td>\n",
       "      <td>0</td>\n",
       "      <td>0</td>\n",
       "      <td>0</td>\n",
       "      <td>0</td>\n",
       "      <td>0</td>\n",
       "      <td>...</td>\n",
       "      <td>0</td>\n",
       "      <td>0</td>\n",
       "      <td>0</td>\n",
       "      <td>0</td>\n",
       "      <td>0</td>\n",
       "      <td>0</td>\n",
       "      <td>0</td>\n",
       "      <td>0</td>\n",
       "      <td>0</td>\n",
       "      <td>0</td>\n",
       "    </tr>\n",
       "    <tr>\n",
       "      <th>3</th>\n",
       "      <td>03/01/2020</td>\n",
       "      <td>0</td>\n",
       "      <td>0</td>\n",
       "      <td>0</td>\n",
       "      <td>0</td>\n",
       "      <td>0</td>\n",
       "      <td>0</td>\n",
       "      <td>0</td>\n",
       "      <td>0</td>\n",
       "      <td>0</td>\n",
       "      <td>...</td>\n",
       "      <td>0</td>\n",
       "      <td>0</td>\n",
       "      <td>0</td>\n",
       "      <td>0</td>\n",
       "      <td>0</td>\n",
       "      <td>0</td>\n",
       "      <td>0</td>\n",
       "      <td>0</td>\n",
       "      <td>0</td>\n",
       "      <td>0</td>\n",
       "    </tr>\n",
       "    <tr>\n",
       "      <th>4</th>\n",
       "      <td>03/02/2020</td>\n",
       "      <td>0</td>\n",
       "      <td>0</td>\n",
       "      <td>0</td>\n",
       "      <td>0</td>\n",
       "      <td>0</td>\n",
       "      <td>0</td>\n",
       "      <td>0</td>\n",
       "      <td>0</td>\n",
       "      <td>0</td>\n",
       "      <td>...</td>\n",
       "      <td>0</td>\n",
       "      <td>0</td>\n",
       "      <td>0</td>\n",
       "      <td>0</td>\n",
       "      <td>0</td>\n",
       "      <td>0</td>\n",
       "      <td>0</td>\n",
       "      <td>0</td>\n",
       "      <td>0</td>\n",
       "      <td>0</td>\n",
       "    </tr>\n",
       "  </tbody>\n",
       "</table>\n",
       "<p>5 rows × 38 columns</p>\n",
       "</div>"
      ],
      "text/plain": [
       "         Date  Abia  Adamawa  Akwa Ibom  Anambra  Bauchi  Bayelsa  Benue  \\\n",
       "0   2/27/2020     0        0          0        0       0        0      0   \n",
       "1   2/28/2020     0        0          0        0       0        0      0   \n",
       "2   2/29/2020     0        0          0        0       0        0      0   \n",
       "3  03/01/2020     0        0          0        0       0        0      0   \n",
       "4  03/02/2020     0        0          0        0       0        0      0   \n",
       "\n",
       "   Borno  Cross River  ...  Ogun  Ondo  Osun  Oyo  Plateau  Rivers  Sokoto  \\\n",
       "0      0            0  ...     0     0     0    0        0       0       0   \n",
       "1      0            0  ...     0     0     0    0        0       0       0   \n",
       "2      0            0  ...     0     0     0    0        0       0       0   \n",
       "3      0            0  ...     0     0     0    0        0       0       0   \n",
       "4      0            0  ...     0     0     0    0        0       0       0   \n",
       "\n",
       "   Taraba  Yobe  Zamfara  \n",
       "0       0     0        0  \n",
       "1       0     0        0  \n",
       "2       0     0        0  \n",
       "3       0     0        0  \n",
       "4       0     0        0  \n",
       "\n",
       "[5 rows x 38 columns]"
      ]
     },
     "execution_count": 8,
     "metadata": {},
     "output_type": "execute_result"
    }
   ],
   "source": [
    "covid_death_nig_data.head()"
   ]
  },
  {
   "cell_type": "code",
   "execution_count": 9,
   "metadata": {},
   "outputs": [
    {
     "data": {
      "text/html": [
       "<div>\n",
       "<style scoped>\n",
       "    .dataframe tbody tr th:only-of-type {\n",
       "        vertical-align: middle;\n",
       "    }\n",
       "\n",
       "    .dataframe tbody tr th {\n",
       "        vertical-align: top;\n",
       "    }\n",
       "\n",
       "    .dataframe thead th {\n",
       "        text-align: right;\n",
       "    }\n",
       "</style>\n",
       "<table border=\"1\" class=\"dataframe\">\n",
       "  <thead>\n",
       "    <tr style=\"text-align: right;\">\n",
       "      <th></th>\n",
       "      <th>Abia</th>\n",
       "      <th>Adamawa</th>\n",
       "      <th>Akwa Ibom</th>\n",
       "      <th>Anambra</th>\n",
       "      <th>Bauchi</th>\n",
       "      <th>Bayelsa</th>\n",
       "      <th>Benue</th>\n",
       "      <th>Borno</th>\n",
       "      <th>Cross River</th>\n",
       "      <th>Delta</th>\n",
       "      <th>...</th>\n",
       "      <th>Ogun</th>\n",
       "      <th>Ondo</th>\n",
       "      <th>Osun</th>\n",
       "      <th>Oyo</th>\n",
       "      <th>Plateau</th>\n",
       "      <th>Rivers</th>\n",
       "      <th>Sokoto</th>\n",
       "      <th>Taraba</th>\n",
       "      <th>Yobe</th>\n",
       "      <th>Zamfara</th>\n",
       "    </tr>\n",
       "  </thead>\n",
       "  <tbody>\n",
       "    <tr>\n",
       "      <th>count</th>\n",
       "      <td>117.000000</td>\n",
       "      <td>117.000000</td>\n",
       "      <td>117.000000</td>\n",
       "      <td>117.000000</td>\n",
       "      <td>117.000000</td>\n",
       "      <td>117.000000</td>\n",
       "      <td>117.0</td>\n",
       "      <td>117.000000</td>\n",
       "      <td>117.0</td>\n",
       "      <td>117.000000</td>\n",
       "      <td>...</td>\n",
       "      <td>117.000000</td>\n",
       "      <td>117.000000</td>\n",
       "      <td>117.000000</td>\n",
       "      <td>117.000000</td>\n",
       "      <td>117.000000</td>\n",
       "      <td>117.000000</td>\n",
       "      <td>117.000000</td>\n",
       "      <td>117.0</td>\n",
       "      <td>117.000000</td>\n",
       "      <td>117.000000</td>\n",
       "    </tr>\n",
       "    <tr>\n",
       "      <th>mean</th>\n",
       "      <td>0.102564</td>\n",
       "      <td>1.034188</td>\n",
       "      <td>1.017094</td>\n",
       "      <td>0.991453</td>\n",
       "      <td>2.743590</td>\n",
       "      <td>0.803419</td>\n",
       "      <td>0.0</td>\n",
       "      <td>10.735043</td>\n",
       "      <td>0.0</td>\n",
       "      <td>3.752137</td>\n",
       "      <td>...</td>\n",
       "      <td>3.914530</td>\n",
       "      <td>1.991453</td>\n",
       "      <td>1.897436</td>\n",
       "      <td>2.435897</td>\n",
       "      <td>0.854701</td>\n",
       "      <td>5.700855</td>\n",
       "      <td>5.837607</td>\n",
       "      <td>0.0</td>\n",
       "      <td>2.128205</td>\n",
       "      <td>2.008547</td>\n",
       "    </tr>\n",
       "    <tr>\n",
       "      <th>std</th>\n",
       "      <td>0.547480</td>\n",
       "      <td>1.701580</td>\n",
       "      <td>0.955771</td>\n",
       "      <td>2.614600</td>\n",
       "      <td>3.983054</td>\n",
       "      <td>1.988065</td>\n",
       "      <td>0.0</td>\n",
       "      <td>12.081186</td>\n",
       "      <td>0.0</td>\n",
       "      <td>5.003285</td>\n",
       "      <td>...</td>\n",
       "      <td>5.126962</td>\n",
       "      <td>4.067312</td>\n",
       "      <td>1.966901</td>\n",
       "      <td>2.992475</td>\n",
       "      <td>1.538388</td>\n",
       "      <td>8.821276</td>\n",
       "      <td>6.458031</td>\n",
       "      <td>0.0</td>\n",
       "      <td>3.133629</td>\n",
       "      <td>2.365323</td>\n",
       "    </tr>\n",
       "    <tr>\n",
       "      <th>min</th>\n",
       "      <td>0.000000</td>\n",
       "      <td>0.000000</td>\n",
       "      <td>0.000000</td>\n",
       "      <td>0.000000</td>\n",
       "      <td>0.000000</td>\n",
       "      <td>0.000000</td>\n",
       "      <td>0.0</td>\n",
       "      <td>0.000000</td>\n",
       "      <td>0.0</td>\n",
       "      <td>0.000000</td>\n",
       "      <td>...</td>\n",
       "      <td>0.000000</td>\n",
       "      <td>0.000000</td>\n",
       "      <td>0.000000</td>\n",
       "      <td>0.000000</td>\n",
       "      <td>0.000000</td>\n",
       "      <td>0.000000</td>\n",
       "      <td>0.000000</td>\n",
       "      <td>0.0</td>\n",
       "      <td>0.000000</td>\n",
       "      <td>0.000000</td>\n",
       "    </tr>\n",
       "    <tr>\n",
       "      <th>25%</th>\n",
       "      <td>0.000000</td>\n",
       "      <td>0.000000</td>\n",
       "      <td>0.000000</td>\n",
       "      <td>0.000000</td>\n",
       "      <td>0.000000</td>\n",
       "      <td>0.000000</td>\n",
       "      <td>0.0</td>\n",
       "      <td>0.000000</td>\n",
       "      <td>0.0</td>\n",
       "      <td>0.000000</td>\n",
       "      <td>...</td>\n",
       "      <td>0.000000</td>\n",
       "      <td>0.000000</td>\n",
       "      <td>0.000000</td>\n",
       "      <td>0.000000</td>\n",
       "      <td>0.000000</td>\n",
       "      <td>0.000000</td>\n",
       "      <td>0.000000</td>\n",
       "      <td>0.0</td>\n",
       "      <td>0.000000</td>\n",
       "      <td>0.000000</td>\n",
       "    </tr>\n",
       "    <tr>\n",
       "      <th>50%</th>\n",
       "      <td>0.000000</td>\n",
       "      <td>0.000000</td>\n",
       "      <td>1.000000</td>\n",
       "      <td>0.000000</td>\n",
       "      <td>0.000000</td>\n",
       "      <td>0.000000</td>\n",
       "      <td>0.0</td>\n",
       "      <td>2.000000</td>\n",
       "      <td>0.0</td>\n",
       "      <td>1.000000</td>\n",
       "      <td>...</td>\n",
       "      <td>1.000000</td>\n",
       "      <td>0.000000</td>\n",
       "      <td>0.000000</td>\n",
       "      <td>1.000000</td>\n",
       "      <td>0.000000</td>\n",
       "      <td>1.000000</td>\n",
       "      <td>0.000000</td>\n",
       "      <td>0.0</td>\n",
       "      <td>0.000000</td>\n",
       "      <td>0.000000</td>\n",
       "    </tr>\n",
       "    <tr>\n",
       "      <th>75%</th>\n",
       "      <td>0.000000</td>\n",
       "      <td>2.000000</td>\n",
       "      <td>2.000000</td>\n",
       "      <td>0.000000</td>\n",
       "      <td>5.000000</td>\n",
       "      <td>0.000000</td>\n",
       "      <td>0.0</td>\n",
       "      <td>25.000000</td>\n",
       "      <td>0.0</td>\n",
       "      <td>7.000000</td>\n",
       "      <td>...</td>\n",
       "      <td>7.000000</td>\n",
       "      <td>1.000000</td>\n",
       "      <td>4.000000</td>\n",
       "      <td>4.000000</td>\n",
       "      <td>1.000000</td>\n",
       "      <td>8.000000</td>\n",
       "      <td>14.000000</td>\n",
       "      <td>0.0</td>\n",
       "      <td>6.000000</td>\n",
       "      <td>5.000000</td>\n",
       "    </tr>\n",
       "    <tr>\n",
       "      <th>max</th>\n",
       "      <td>3.000000</td>\n",
       "      <td>5.000000</td>\n",
       "      <td>2.000000</td>\n",
       "      <td>9.000000</td>\n",
       "      <td>11.000000</td>\n",
       "      <td>11.000000</td>\n",
       "      <td>0.0</td>\n",
       "      <td>31.000000</td>\n",
       "      <td>0.0</td>\n",
       "      <td>20.000000</td>\n",
       "      <td>...</td>\n",
       "      <td>16.000000</td>\n",
       "      <td>17.000000</td>\n",
       "      <td>5.000000</td>\n",
       "      <td>9.000000</td>\n",
       "      <td>6.000000</td>\n",
       "      <td>31.000000</td>\n",
       "      <td>14.000000</td>\n",
       "      <td>0.0</td>\n",
       "      <td>8.000000</td>\n",
       "      <td>5.000000</td>\n",
       "    </tr>\n",
       "  </tbody>\n",
       "</table>\n",
       "<p>8 rows × 37 columns</p>\n",
       "</div>"
      ],
      "text/plain": [
       "             Abia     Adamawa   Akwa Ibom     Anambra      Bauchi     Bayelsa  \\\n",
       "count  117.000000  117.000000  117.000000  117.000000  117.000000  117.000000   \n",
       "mean     0.102564    1.034188    1.017094    0.991453    2.743590    0.803419   \n",
       "std      0.547480    1.701580    0.955771    2.614600    3.983054    1.988065   \n",
       "min      0.000000    0.000000    0.000000    0.000000    0.000000    0.000000   \n",
       "25%      0.000000    0.000000    0.000000    0.000000    0.000000    0.000000   \n",
       "50%      0.000000    0.000000    1.000000    0.000000    0.000000    0.000000   \n",
       "75%      0.000000    2.000000    2.000000    0.000000    5.000000    0.000000   \n",
       "max      3.000000    5.000000    2.000000    9.000000   11.000000   11.000000   \n",
       "\n",
       "       Benue       Borno  Cross River       Delta  ...        Ogun  \\\n",
       "count  117.0  117.000000        117.0  117.000000  ...  117.000000   \n",
       "mean     0.0   10.735043          0.0    3.752137  ...    3.914530   \n",
       "std      0.0   12.081186          0.0    5.003285  ...    5.126962   \n",
       "min      0.0    0.000000          0.0    0.000000  ...    0.000000   \n",
       "25%      0.0    0.000000          0.0    0.000000  ...    0.000000   \n",
       "50%      0.0    2.000000          0.0    1.000000  ...    1.000000   \n",
       "75%      0.0   25.000000          0.0    7.000000  ...    7.000000   \n",
       "max      0.0   31.000000          0.0   20.000000  ...   16.000000   \n",
       "\n",
       "             Ondo        Osun         Oyo     Plateau      Rivers      Sokoto  \\\n",
       "count  117.000000  117.000000  117.000000  117.000000  117.000000  117.000000   \n",
       "mean     1.991453    1.897436    2.435897    0.854701    5.700855    5.837607   \n",
       "std      4.067312    1.966901    2.992475    1.538388    8.821276    6.458031   \n",
       "min      0.000000    0.000000    0.000000    0.000000    0.000000    0.000000   \n",
       "25%      0.000000    0.000000    0.000000    0.000000    0.000000    0.000000   \n",
       "50%      0.000000    0.000000    1.000000    0.000000    1.000000    0.000000   \n",
       "75%      1.000000    4.000000    4.000000    1.000000    8.000000   14.000000   \n",
       "max     17.000000    5.000000    9.000000    6.000000   31.000000   14.000000   \n",
       "\n",
       "       Taraba        Yobe     Zamfara  \n",
       "count   117.0  117.000000  117.000000  \n",
       "mean      0.0    2.128205    2.008547  \n",
       "std       0.0    3.133629    2.365323  \n",
       "min       0.0    0.000000    0.000000  \n",
       "25%       0.0    0.000000    0.000000  \n",
       "50%       0.0    0.000000    0.000000  \n",
       "75%       0.0    6.000000    5.000000  \n",
       "max       0.0    8.000000    5.000000  \n",
       "\n",
       "[8 rows x 37 columns]"
      ]
     },
     "execution_count": 9,
     "metadata": {},
     "output_type": "execute_result"
    }
   ],
   "source": [
    "covid_death_nig_data.describe()"
   ]
  },
  {
   "cell_type": "code",
   "execution_count": 10,
   "metadata": {},
   "outputs": [
    {
     "data": {
      "text/html": [
       "<div>\n",
       "<style scoped>\n",
       "    .dataframe tbody tr th:only-of-type {\n",
       "        vertical-align: middle;\n",
       "    }\n",
       "\n",
       "    .dataframe tbody tr th {\n",
       "        vertical-align: top;\n",
       "    }\n",
       "\n",
       "    .dataframe thead th {\n",
       "        text-align: right;\n",
       "    }\n",
       "</style>\n",
       "<table border=\"1\" class=\"dataframe\">\n",
       "  <thead>\n",
       "    <tr style=\"text-align: right;\">\n",
       "      <th></th>\n",
       "      <th>Date</th>\n",
       "      <th>Abia</th>\n",
       "      <th>Adamawa</th>\n",
       "      <th>Akwa Ibom</th>\n",
       "      <th>Anambra</th>\n",
       "      <th>Bauchi</th>\n",
       "      <th>Bayelsa</th>\n",
       "      <th>Benue</th>\n",
       "      <th>Borno</th>\n",
       "      <th>Cross River</th>\n",
       "      <th>...</th>\n",
       "      <th>Ogun</th>\n",
       "      <th>Ondo</th>\n",
       "      <th>Osun</th>\n",
       "      <th>Oyo</th>\n",
       "      <th>Plateau</th>\n",
       "      <th>Rivers</th>\n",
       "      <th>Sokoto</th>\n",
       "      <th>Taraba</th>\n",
       "      <th>Yobe</th>\n",
       "      <th>Zamfara</th>\n",
       "    </tr>\n",
       "  </thead>\n",
       "  <tbody>\n",
       "    <tr>\n",
       "      <th>0</th>\n",
       "      <td>2/27/2020</td>\n",
       "      <td>0</td>\n",
       "      <td>0</td>\n",
       "      <td>0</td>\n",
       "      <td>0</td>\n",
       "      <td>0</td>\n",
       "      <td>0</td>\n",
       "      <td>0</td>\n",
       "      <td>0</td>\n",
       "      <td>0</td>\n",
       "      <td>...</td>\n",
       "      <td>0</td>\n",
       "      <td>0</td>\n",
       "      <td>0</td>\n",
       "      <td>0</td>\n",
       "      <td>0</td>\n",
       "      <td>0</td>\n",
       "      <td>0</td>\n",
       "      <td>0</td>\n",
       "      <td>0</td>\n",
       "      <td>0</td>\n",
       "    </tr>\n",
       "    <tr>\n",
       "      <th>1</th>\n",
       "      <td>2/28/2020</td>\n",
       "      <td>0</td>\n",
       "      <td>0</td>\n",
       "      <td>0</td>\n",
       "      <td>0</td>\n",
       "      <td>0</td>\n",
       "      <td>0</td>\n",
       "      <td>0</td>\n",
       "      <td>0</td>\n",
       "      <td>0</td>\n",
       "      <td>...</td>\n",
       "      <td>0</td>\n",
       "      <td>0</td>\n",
       "      <td>0</td>\n",
       "      <td>0</td>\n",
       "      <td>0</td>\n",
       "      <td>0</td>\n",
       "      <td>0</td>\n",
       "      <td>0</td>\n",
       "      <td>0</td>\n",
       "      <td>0</td>\n",
       "    </tr>\n",
       "    <tr>\n",
       "      <th>2</th>\n",
       "      <td>2/29/2020</td>\n",
       "      <td>0</td>\n",
       "      <td>0</td>\n",
       "      <td>0</td>\n",
       "      <td>0</td>\n",
       "      <td>0</td>\n",
       "      <td>0</td>\n",
       "      <td>0</td>\n",
       "      <td>0</td>\n",
       "      <td>0</td>\n",
       "      <td>...</td>\n",
       "      <td>0</td>\n",
       "      <td>0</td>\n",
       "      <td>0</td>\n",
       "      <td>0</td>\n",
       "      <td>0</td>\n",
       "      <td>0</td>\n",
       "      <td>0</td>\n",
       "      <td>0</td>\n",
       "      <td>0</td>\n",
       "      <td>0</td>\n",
       "    </tr>\n",
       "    <tr>\n",
       "      <th>3</th>\n",
       "      <td>03/01/2020</td>\n",
       "      <td>0</td>\n",
       "      <td>0</td>\n",
       "      <td>0</td>\n",
       "      <td>0</td>\n",
       "      <td>0</td>\n",
       "      <td>0</td>\n",
       "      <td>0</td>\n",
       "      <td>0</td>\n",
       "      <td>0</td>\n",
       "      <td>...</td>\n",
       "      <td>0</td>\n",
       "      <td>0</td>\n",
       "      <td>0</td>\n",
       "      <td>0</td>\n",
       "      <td>0</td>\n",
       "      <td>0</td>\n",
       "      <td>0</td>\n",
       "      <td>0</td>\n",
       "      <td>0</td>\n",
       "      <td>0</td>\n",
       "    </tr>\n",
       "    <tr>\n",
       "      <th>4</th>\n",
       "      <td>03/02/2020</td>\n",
       "      <td>0</td>\n",
       "      <td>0</td>\n",
       "      <td>0</td>\n",
       "      <td>0</td>\n",
       "      <td>0</td>\n",
       "      <td>0</td>\n",
       "      <td>0</td>\n",
       "      <td>0</td>\n",
       "      <td>0</td>\n",
       "      <td>...</td>\n",
       "      <td>0</td>\n",
       "      <td>0</td>\n",
       "      <td>0</td>\n",
       "      <td>0</td>\n",
       "      <td>0</td>\n",
       "      <td>0</td>\n",
       "      <td>0</td>\n",
       "      <td>0</td>\n",
       "      <td>0</td>\n",
       "      <td>0</td>\n",
       "    </tr>\n",
       "  </tbody>\n",
       "</table>\n",
       "<p>5 rows × 38 columns</p>\n",
       "</div>"
      ],
      "text/plain": [
       "         Date  Abia  Adamawa  Akwa Ibom  Anambra  Bauchi  Bayelsa  Benue  \\\n",
       "0   2/27/2020     0        0          0        0       0        0      0   \n",
       "1   2/28/2020     0        0          0        0       0        0      0   \n",
       "2   2/29/2020     0        0          0        0       0        0      0   \n",
       "3  03/01/2020     0        0          0        0       0        0      0   \n",
       "4  03/02/2020     0        0          0        0       0        0      0   \n",
       "\n",
       "   Borno  Cross River  ...  Ogun  Ondo  Osun  Oyo  Plateau  Rivers  Sokoto  \\\n",
       "0      0            0  ...     0     0     0    0        0       0       0   \n",
       "1      0            0  ...     0     0     0    0        0       0       0   \n",
       "2      0            0  ...     0     0     0    0        0       0       0   \n",
       "3      0            0  ...     0     0     0    0        0       0       0   \n",
       "4      0            0  ...     0     0     0    0        0       0       0   \n",
       "\n",
       "   Taraba  Yobe  Zamfara  \n",
       "0       0     0        0  \n",
       "1       0     0        0  \n",
       "2       0     0        0  \n",
       "3       0     0        0  \n",
       "4       0     0        0  \n",
       "\n",
       "[5 rows x 38 columns]"
      ]
     },
     "execution_count": 10,
     "metadata": {},
     "output_type": "execute_result"
    }
   ],
   "source": [
    "covid_recovered_nig_data.head()"
   ]
  },
  {
   "cell_type": "code",
   "execution_count": 11,
   "metadata": {},
   "outputs": [
    {
     "data": {
      "text/html": [
       "<div>\n",
       "<style scoped>\n",
       "    .dataframe tbody tr th:only-of-type {\n",
       "        vertical-align: middle;\n",
       "    }\n",
       "\n",
       "    .dataframe tbody tr th {\n",
       "        vertical-align: top;\n",
       "    }\n",
       "\n",
       "    .dataframe thead th {\n",
       "        text-align: right;\n",
       "    }\n",
       "</style>\n",
       "<table border=\"1\" class=\"dataframe\">\n",
       "  <thead>\n",
       "    <tr style=\"text-align: right;\">\n",
       "      <th></th>\n",
       "      <th>Abia</th>\n",
       "      <th>Adamawa</th>\n",
       "      <th>Akwa Ibom</th>\n",
       "      <th>Anambra</th>\n",
       "      <th>Bauchi</th>\n",
       "      <th>Bayelsa</th>\n",
       "      <th>Benue</th>\n",
       "      <th>Borno</th>\n",
       "      <th>Cross River</th>\n",
       "      <th>Delta</th>\n",
       "      <th>...</th>\n",
       "      <th>Ogun</th>\n",
       "      <th>Ondo</th>\n",
       "      <th>Osun</th>\n",
       "      <th>Oyo</th>\n",
       "      <th>Plateau</th>\n",
       "      <th>Rivers</th>\n",
       "      <th>Sokoto</th>\n",
       "      <th>Taraba</th>\n",
       "      <th>Yobe</th>\n",
       "      <th>Zamfara</th>\n",
       "    </tr>\n",
       "  </thead>\n",
       "  <tbody>\n",
       "    <tr>\n",
       "      <th>count</th>\n",
       "      <td>117.000000</td>\n",
       "      <td>117.000000</td>\n",
       "      <td>117.000000</td>\n",
       "      <td>117.000000</td>\n",
       "      <td>117.000000</td>\n",
       "      <td>117.000000</td>\n",
       "      <td>117.000000</td>\n",
       "      <td>117.000000</td>\n",
       "      <td>117.0</td>\n",
       "      <td>117.000000</td>\n",
       "      <td>...</td>\n",
       "      <td>117.000000</td>\n",
       "      <td>117.000000</td>\n",
       "      <td>117.000000</td>\n",
       "      <td>117.000000</td>\n",
       "      <td>117.000000</td>\n",
       "      <td>117.000000</td>\n",
       "      <td>117.000000</td>\n",
       "      <td>117.000000</td>\n",
       "      <td>117.000000</td>\n",
       "      <td>117.000000</td>\n",
       "    </tr>\n",
       "    <tr>\n",
       "      <th>mean</th>\n",
       "      <td>5.504274</td>\n",
       "      <td>8.564103</td>\n",
       "      <td>7.769231</td>\n",
       "      <td>3.948718</td>\n",
       "      <td>71.102564</td>\n",
       "      <td>4.487179</td>\n",
       "      <td>1.188034</td>\n",
       "      <td>64.811966</td>\n",
       "      <td>0.0</td>\n",
       "      <td>14.641026</td>\n",
       "      <td>...</td>\n",
       "      <td>63.606838</td>\n",
       "      <td>9.145299</td>\n",
       "      <td>18.444444</td>\n",
       "      <td>45.512821</td>\n",
       "      <td>22.495726</td>\n",
       "      <td>43.299145</td>\n",
       "      <td>32.726496</td>\n",
       "      <td>2.991453</td>\n",
       "      <td>7.504274</td>\n",
       "      <td>21.854701</td>\n",
       "    </tr>\n",
       "    <tr>\n",
       "      <th>std</th>\n",
       "      <td>17.287939</td>\n",
       "      <td>12.974368</td>\n",
       "      <td>9.450766</td>\n",
       "      <td>10.750177</td>\n",
       "      <td>105.581427</td>\n",
       "      <td>8.256257</td>\n",
       "      <td>3.285106</td>\n",
       "      <td>103.899813</td>\n",
       "      <td>0.0</td>\n",
       "      <td>29.387853</td>\n",
       "      <td>...</td>\n",
       "      <td>97.788032</td>\n",
       "      <td>12.738934</td>\n",
       "      <td>16.406708</td>\n",
       "      <td>76.592024</td>\n",
       "      <td>39.180093</td>\n",
       "      <td>88.979876</td>\n",
       "      <td>44.952010</td>\n",
       "      <td>4.513382</td>\n",
       "      <td>13.765038</td>\n",
       "      <td>31.384508</td>\n",
       "    </tr>\n",
       "    <tr>\n",
       "      <th>min</th>\n",
       "      <td>0.000000</td>\n",
       "      <td>0.000000</td>\n",
       "      <td>0.000000</td>\n",
       "      <td>0.000000</td>\n",
       "      <td>0.000000</td>\n",
       "      <td>0.000000</td>\n",
       "      <td>0.000000</td>\n",
       "      <td>0.000000</td>\n",
       "      <td>0.0</td>\n",
       "      <td>0.000000</td>\n",
       "      <td>...</td>\n",
       "      <td>0.000000</td>\n",
       "      <td>0.000000</td>\n",
       "      <td>0.000000</td>\n",
       "      <td>0.000000</td>\n",
       "      <td>0.000000</td>\n",
       "      <td>0.000000</td>\n",
       "      <td>0.000000</td>\n",
       "      <td>0.000000</td>\n",
       "      <td>0.000000</td>\n",
       "      <td>0.000000</td>\n",
       "    </tr>\n",
       "    <tr>\n",
       "      <th>25%</th>\n",
       "      <td>0.000000</td>\n",
       "      <td>0.000000</td>\n",
       "      <td>0.000000</td>\n",
       "      <td>0.000000</td>\n",
       "      <td>0.000000</td>\n",
       "      <td>0.000000</td>\n",
       "      <td>0.000000</td>\n",
       "      <td>0.000000</td>\n",
       "      <td>0.0</td>\n",
       "      <td>0.000000</td>\n",
       "      <td>...</td>\n",
       "      <td>2.000000</td>\n",
       "      <td>0.000000</td>\n",
       "      <td>0.000000</td>\n",
       "      <td>0.000000</td>\n",
       "      <td>0.000000</td>\n",
       "      <td>0.000000</td>\n",
       "      <td>0.000000</td>\n",
       "      <td>0.000000</td>\n",
       "      <td>0.000000</td>\n",
       "      <td>0.000000</td>\n",
       "    </tr>\n",
       "    <tr>\n",
       "      <th>50%</th>\n",
       "      <td>0.000000</td>\n",
       "      <td>0.000000</td>\n",
       "      <td>6.000000</td>\n",
       "      <td>1.000000</td>\n",
       "      <td>5.000000</td>\n",
       "      <td>0.000000</td>\n",
       "      <td>0.000000</td>\n",
       "      <td>0.000000</td>\n",
       "      <td>0.0</td>\n",
       "      <td>0.000000</td>\n",
       "      <td>...</td>\n",
       "      <td>5.000000</td>\n",
       "      <td>2.000000</td>\n",
       "      <td>18.000000</td>\n",
       "      <td>5.000000</td>\n",
       "      <td>0.000000</td>\n",
       "      <td>2.000000</td>\n",
       "      <td>0.000000</td>\n",
       "      <td>0.000000</td>\n",
       "      <td>0.000000</td>\n",
       "      <td>0.000000</td>\n",
       "    </tr>\n",
       "    <tr>\n",
       "      <th>75%</th>\n",
       "      <td>1.000000</td>\n",
       "      <td>18.000000</td>\n",
       "      <td>13.000000</td>\n",
       "      <td>1.000000</td>\n",
       "      <td>165.000000</td>\n",
       "      <td>6.000000</td>\n",
       "      <td>1.000000</td>\n",
       "      <td>144.000000</td>\n",
       "      <td>0.0</td>\n",
       "      <td>13.000000</td>\n",
       "      <td>...</td>\n",
       "      <td>101.000000</td>\n",
       "      <td>18.000000</td>\n",
       "      <td>33.000000</td>\n",
       "      <td>58.000000</td>\n",
       "      <td>27.000000</td>\n",
       "      <td>30.000000</td>\n",
       "      <td>90.000000</td>\n",
       "      <td>10.000000</td>\n",
       "      <td>8.000000</td>\n",
       "      <td>63.000000</td>\n",
       "    </tr>\n",
       "    <tr>\n",
       "      <th>max</th>\n",
       "      <td>93.000000</td>\n",
       "      <td>37.000000</td>\n",
       "      <td>43.000000</td>\n",
       "      <td>51.000000</td>\n",
       "      <td>324.000000</td>\n",
       "      <td>29.000000</td>\n",
       "      <td>15.000000</td>\n",
       "      <td>367.000000</td>\n",
       "      <td>0.0</td>\n",
       "      <td>130.000000</td>\n",
       "      <td>...</td>\n",
       "      <td>366.000000</td>\n",
       "      <td>56.000000</td>\n",
       "      <td>46.000000</td>\n",
       "      <td>291.000000</td>\n",
       "      <td>131.000000</td>\n",
       "      <td>409.000000</td>\n",
       "      <td>116.000000</td>\n",
       "      <td>10.000000</td>\n",
       "      <td>45.000000</td>\n",
       "      <td>71.000000</td>\n",
       "    </tr>\n",
       "  </tbody>\n",
       "</table>\n",
       "<p>8 rows × 37 columns</p>\n",
       "</div>"
      ],
      "text/plain": [
       "             Abia     Adamawa   Akwa Ibom     Anambra      Bauchi     Bayelsa  \\\n",
       "count  117.000000  117.000000  117.000000  117.000000  117.000000  117.000000   \n",
       "mean     5.504274    8.564103    7.769231    3.948718   71.102564    4.487179   \n",
       "std     17.287939   12.974368    9.450766   10.750177  105.581427    8.256257   \n",
       "min      0.000000    0.000000    0.000000    0.000000    0.000000    0.000000   \n",
       "25%      0.000000    0.000000    0.000000    0.000000    0.000000    0.000000   \n",
       "50%      0.000000    0.000000    6.000000    1.000000    5.000000    0.000000   \n",
       "75%      1.000000   18.000000   13.000000    1.000000  165.000000    6.000000   \n",
       "max     93.000000   37.000000   43.000000   51.000000  324.000000   29.000000   \n",
       "\n",
       "            Benue       Borno  Cross River       Delta  ...        Ogun  \\\n",
       "count  117.000000  117.000000        117.0  117.000000  ...  117.000000   \n",
       "mean     1.188034   64.811966          0.0   14.641026  ...   63.606838   \n",
       "std      3.285106  103.899813          0.0   29.387853  ...   97.788032   \n",
       "min      0.000000    0.000000          0.0    0.000000  ...    0.000000   \n",
       "25%      0.000000    0.000000          0.0    0.000000  ...    2.000000   \n",
       "50%      0.000000    0.000000          0.0    0.000000  ...    5.000000   \n",
       "75%      1.000000  144.000000          0.0   13.000000  ...  101.000000   \n",
       "max     15.000000  367.000000          0.0  130.000000  ...  366.000000   \n",
       "\n",
       "             Ondo        Osun         Oyo     Plateau      Rivers      Sokoto  \\\n",
       "count  117.000000  117.000000  117.000000  117.000000  117.000000  117.000000   \n",
       "mean     9.145299   18.444444   45.512821   22.495726   43.299145   32.726496   \n",
       "std     12.738934   16.406708   76.592024   39.180093   88.979876   44.952010   \n",
       "min      0.000000    0.000000    0.000000    0.000000    0.000000    0.000000   \n",
       "25%      0.000000    0.000000    0.000000    0.000000    0.000000    0.000000   \n",
       "50%      2.000000   18.000000    5.000000    0.000000    2.000000    0.000000   \n",
       "75%     18.000000   33.000000   58.000000   27.000000   30.000000   90.000000   \n",
       "max     56.000000   46.000000  291.000000  131.000000  409.000000  116.000000   \n",
       "\n",
       "           Taraba        Yobe     Zamfara  \n",
       "count  117.000000  117.000000  117.000000  \n",
       "mean     2.991453    7.504274   21.854701  \n",
       "std      4.513382   13.765038   31.384508  \n",
       "min      0.000000    0.000000    0.000000  \n",
       "25%      0.000000    0.000000    0.000000  \n",
       "50%      0.000000    0.000000    0.000000  \n",
       "75%     10.000000    8.000000   63.000000  \n",
       "max     10.000000   45.000000   71.000000  \n",
       "\n",
       "[8 rows x 37 columns]"
      ]
     },
     "execution_count": 11,
     "metadata": {},
     "output_type": "execute_result"
    }
   ],
   "source": [
    "covid_recovered_nig_data.describe()"
   ]
  },
  {
   "cell_type": "code",
   "execution_count": 12,
   "metadata": {},
   "outputs": [
    {
     "data": {
      "text/html": [
       "<div>\n",
       "<style scoped>\n",
       "    .dataframe tbody tr th:only-of-type {\n",
       "        vertical-align: middle;\n",
       "    }\n",
       "\n",
       "    .dataframe tbody tr th {\n",
       "        vertical-align: top;\n",
       "    }\n",
       "\n",
       "    .dataframe thead th {\n",
       "        text-align: right;\n",
       "    }\n",
       "</style>\n",
       "<table border=\"1\" class=\"dataframe\">\n",
       "  <thead>\n",
       "    <tr style=\"text-align: right;\">\n",
       "      <th></th>\n",
       "      <th>Date</th>\n",
       "      <th>Abia</th>\n",
       "      <th>Adamawa</th>\n",
       "      <th>Akwa Ibom</th>\n",
       "      <th>Anambra</th>\n",
       "      <th>Bauchi</th>\n",
       "      <th>Bayelsa</th>\n",
       "      <th>Benue</th>\n",
       "      <th>Borno</th>\n",
       "      <th>Cross River</th>\n",
       "      <th>...</th>\n",
       "      <th>Ogun</th>\n",
       "      <th>Ondo</th>\n",
       "      <th>Osun</th>\n",
       "      <th>Oyo</th>\n",
       "      <th>Plateau</th>\n",
       "      <th>Rivers</th>\n",
       "      <th>Sokoto</th>\n",
       "      <th>Taraba</th>\n",
       "      <th>Yobe</th>\n",
       "      <th>Zamfara</th>\n",
       "    </tr>\n",
       "  </thead>\n",
       "  <tbody>\n",
       "    <tr>\n",
       "      <th>0</th>\n",
       "      <td>2/27/2020</td>\n",
       "      <td>0</td>\n",
       "      <td>0</td>\n",
       "      <td>0</td>\n",
       "      <td>0</td>\n",
       "      <td>0</td>\n",
       "      <td>0</td>\n",
       "      <td>0</td>\n",
       "      <td>0</td>\n",
       "      <td>0</td>\n",
       "      <td>...</td>\n",
       "      <td>1</td>\n",
       "      <td>0</td>\n",
       "      <td>0</td>\n",
       "      <td>0</td>\n",
       "      <td>0</td>\n",
       "      <td>0</td>\n",
       "      <td>0</td>\n",
       "      <td>0</td>\n",
       "      <td>0</td>\n",
       "      <td>0</td>\n",
       "    </tr>\n",
       "    <tr>\n",
       "      <th>1</th>\n",
       "      <td>2/28/2020</td>\n",
       "      <td>0</td>\n",
       "      <td>0</td>\n",
       "      <td>0</td>\n",
       "      <td>0</td>\n",
       "      <td>0</td>\n",
       "      <td>0</td>\n",
       "      <td>0</td>\n",
       "      <td>0</td>\n",
       "      <td>0</td>\n",
       "      <td>...</td>\n",
       "      <td>1</td>\n",
       "      <td>0</td>\n",
       "      <td>0</td>\n",
       "      <td>0</td>\n",
       "      <td>0</td>\n",
       "      <td>0</td>\n",
       "      <td>0</td>\n",
       "      <td>0</td>\n",
       "      <td>0</td>\n",
       "      <td>0</td>\n",
       "    </tr>\n",
       "    <tr>\n",
       "      <th>2</th>\n",
       "      <td>2/29/2020</td>\n",
       "      <td>0</td>\n",
       "      <td>0</td>\n",
       "      <td>0</td>\n",
       "      <td>0</td>\n",
       "      <td>0</td>\n",
       "      <td>0</td>\n",
       "      <td>0</td>\n",
       "      <td>0</td>\n",
       "      <td>0</td>\n",
       "      <td>...</td>\n",
       "      <td>1</td>\n",
       "      <td>0</td>\n",
       "      <td>0</td>\n",
       "      <td>0</td>\n",
       "      <td>0</td>\n",
       "      <td>0</td>\n",
       "      <td>0</td>\n",
       "      <td>0</td>\n",
       "      <td>0</td>\n",
       "      <td>0</td>\n",
       "    </tr>\n",
       "    <tr>\n",
       "      <th>3</th>\n",
       "      <td>03/01/2020</td>\n",
       "      <td>0</td>\n",
       "      <td>0</td>\n",
       "      <td>0</td>\n",
       "      <td>0</td>\n",
       "      <td>0</td>\n",
       "      <td>0</td>\n",
       "      <td>0</td>\n",
       "      <td>0</td>\n",
       "      <td>0</td>\n",
       "      <td>...</td>\n",
       "      <td>1</td>\n",
       "      <td>0</td>\n",
       "      <td>0</td>\n",
       "      <td>0</td>\n",
       "      <td>0</td>\n",
       "      <td>0</td>\n",
       "      <td>0</td>\n",
       "      <td>0</td>\n",
       "      <td>0</td>\n",
       "      <td>0</td>\n",
       "    </tr>\n",
       "    <tr>\n",
       "      <th>4</th>\n",
       "      <td>03/02/2020</td>\n",
       "      <td>0</td>\n",
       "      <td>0</td>\n",
       "      <td>0</td>\n",
       "      <td>0</td>\n",
       "      <td>0</td>\n",
       "      <td>0</td>\n",
       "      <td>0</td>\n",
       "      <td>0</td>\n",
       "      <td>0</td>\n",
       "      <td>...</td>\n",
       "      <td>1</td>\n",
       "      <td>0</td>\n",
       "      <td>0</td>\n",
       "      <td>0</td>\n",
       "      <td>0</td>\n",
       "      <td>0</td>\n",
       "      <td>0</td>\n",
       "      <td>0</td>\n",
       "      <td>0</td>\n",
       "      <td>0</td>\n",
       "    </tr>\n",
       "  </tbody>\n",
       "</table>\n",
       "<p>5 rows × 38 columns</p>\n",
       "</div>"
      ],
      "text/plain": [
       "         Date  Abia  Adamawa  Akwa Ibom  Anambra  Bauchi  Bayelsa  Benue  \\\n",
       "0   2/27/2020     0        0          0        0       0        0      0   \n",
       "1   2/28/2020     0        0          0        0       0        0      0   \n",
       "2   2/29/2020     0        0          0        0       0        0      0   \n",
       "3  03/01/2020     0        0          0        0       0        0      0   \n",
       "4  03/02/2020     0        0          0        0       0        0      0   \n",
       "\n",
       "   Borno  Cross River  ...  Ogun  Ondo  Osun  Oyo  Plateau  Rivers  Sokoto  \\\n",
       "0      0            0  ...     1     0     0    0        0       0       0   \n",
       "1      0            0  ...     1     0     0    0        0       0       0   \n",
       "2      0            0  ...     1     0     0    0        0       0       0   \n",
       "3      0            0  ...     1     0     0    0        0       0       0   \n",
       "4      0            0  ...     1     0     0    0        0       0       0   \n",
       "\n",
       "   Taraba  Yobe  Zamfara  \n",
       "0       0     0        0  \n",
       "1       0     0        0  \n",
       "2       0     0        0  \n",
       "3       0     0        0  \n",
       "4       0     0        0  \n",
       "\n",
       "[5 rows x 38 columns]"
      ]
     },
     "execution_count": 12,
     "metadata": {},
     "output_type": "execute_result"
    }
   ],
   "source": [
    "covid_cases_nig_data.head()"
   ]
  },
  {
   "cell_type": "code",
   "execution_count": 13,
   "metadata": {},
   "outputs": [
    {
     "data": {
      "text/html": [
       "<div>\n",
       "<style scoped>\n",
       "    .dataframe tbody tr th:only-of-type {\n",
       "        vertical-align: middle;\n",
       "    }\n",
       "\n",
       "    .dataframe tbody tr th {\n",
       "        vertical-align: top;\n",
       "    }\n",
       "\n",
       "    .dataframe thead th {\n",
       "        text-align: right;\n",
       "    }\n",
       "</style>\n",
       "<table border=\"1\" class=\"dataframe\">\n",
       "  <thead>\n",
       "    <tr style=\"text-align: right;\">\n",
       "      <th></th>\n",
       "      <th>Abia</th>\n",
       "      <th>Adamawa</th>\n",
       "      <th>Akwa Ibom</th>\n",
       "      <th>Anambra</th>\n",
       "      <th>Bauchi</th>\n",
       "      <th>Bayelsa</th>\n",
       "      <th>Benue</th>\n",
       "      <th>Borno</th>\n",
       "      <th>Cross River</th>\n",
       "      <th>Delta</th>\n",
       "      <th>...</th>\n",
       "      <th>Ogun</th>\n",
       "      <th>Ondo</th>\n",
       "      <th>Osun</th>\n",
       "      <th>Oyo</th>\n",
       "      <th>Plateau</th>\n",
       "      <th>Rivers</th>\n",
       "      <th>Sokoto</th>\n",
       "      <th>Taraba</th>\n",
       "      <th>Yobe</th>\n",
       "      <th>Zamfara</th>\n",
       "    </tr>\n",
       "  </thead>\n",
       "  <tbody>\n",
       "    <tr>\n",
       "      <th>count</th>\n",
       "      <td>117.000000</td>\n",
       "      <td>117.000000</td>\n",
       "      <td>117.000000</td>\n",
       "      <td>117.000000</td>\n",
       "      <td>117.000000</td>\n",
       "      <td>117.000000</td>\n",
       "      <td>117.000000</td>\n",
       "      <td>117.000000</td>\n",
       "      <td>117.0</td>\n",
       "      <td>117.000000</td>\n",
       "      <td>...</td>\n",
       "      <td>117.000000</td>\n",
       "      <td>117.000000</td>\n",
       "      <td>117.000000</td>\n",
       "      <td>117.000000</td>\n",
       "      <td>117.000000</td>\n",
       "      <td>117.000000</td>\n",
       "      <td>117.000000</td>\n",
       "      <td>117.000000</td>\n",
       "      <td>117.000000</td>\n",
       "      <td>117.000000</td>\n",
       "    </tr>\n",
       "    <tr>\n",
       "      <th>mean</th>\n",
       "      <td>23.700855</td>\n",
       "      <td>13.948718</td>\n",
       "      <td>17.076923</td>\n",
       "      <td>9.974359</td>\n",
       "      <td>119.333333</td>\n",
       "      <td>13.854701</td>\n",
       "      <td>5.923077</td>\n",
       "      <td>128.598291</td>\n",
       "      <td>0.0</td>\n",
       "      <td>57.427350</td>\n",
       "      <td>...</td>\n",
       "      <td>137.222222</td>\n",
       "      <td>18.820513</td>\n",
       "      <td>26.111111</td>\n",
       "      <td>138.846154</td>\n",
       "      <td>40.632479</td>\n",
       "      <td>114.606838</td>\n",
       "      <td>51.965812</td>\n",
       "      <td>7.871795</td>\n",
       "      <td>18.008547</td>\n",
       "      <td>31.239316</td>\n",
       "    </tr>\n",
       "    <tr>\n",
       "      <th>std</th>\n",
       "      <td>56.657511</td>\n",
       "      <td>17.299515</td>\n",
       "      <td>18.756679</td>\n",
       "      <td>19.860922</td>\n",
       "      <td>148.540834</td>\n",
       "      <td>32.829829</td>\n",
       "      <td>10.608352</td>\n",
       "      <td>157.819575</td>\n",
       "      <td>0.0</td>\n",
       "      <td>114.704817</td>\n",
       "      <td>...</td>\n",
       "      <td>189.144540</td>\n",
       "      <td>30.434955</td>\n",
       "      <td>19.505869</td>\n",
       "      <td>220.402321</td>\n",
       "      <td>63.877253</td>\n",
       "      <td>215.157559</td>\n",
       "      <td>57.449068</td>\n",
       "      <td>8.375393</td>\n",
       "      <td>22.816168</td>\n",
       "      <td>36.277106</td>\n",
       "    </tr>\n",
       "    <tr>\n",
       "      <th>min</th>\n",
       "      <td>0.000000</td>\n",
       "      <td>0.000000</td>\n",
       "      <td>0.000000</td>\n",
       "      <td>0.000000</td>\n",
       "      <td>0.000000</td>\n",
       "      <td>0.000000</td>\n",
       "      <td>0.000000</td>\n",
       "      <td>0.000000</td>\n",
       "      <td>0.0</td>\n",
       "      <td>0.000000</td>\n",
       "      <td>...</td>\n",
       "      <td>1.000000</td>\n",
       "      <td>0.000000</td>\n",
       "      <td>0.000000</td>\n",
       "      <td>0.000000</td>\n",
       "      <td>0.000000</td>\n",
       "      <td>0.000000</td>\n",
       "      <td>0.000000</td>\n",
       "      <td>0.000000</td>\n",
       "      <td>0.000000</td>\n",
       "      <td>0.000000</td>\n",
       "    </tr>\n",
       "    <tr>\n",
       "      <th>25%</th>\n",
       "      <td>0.000000</td>\n",
       "      <td>0.000000</td>\n",
       "      <td>0.000000</td>\n",
       "      <td>0.000000</td>\n",
       "      <td>2.000000</td>\n",
       "      <td>0.000000</td>\n",
       "      <td>0.000000</td>\n",
       "      <td>0.000000</td>\n",
       "      <td>0.0</td>\n",
       "      <td>0.000000</td>\n",
       "      <td>...</td>\n",
       "      <td>3.000000</td>\n",
       "      <td>0.000000</td>\n",
       "      <td>1.000000</td>\n",
       "      <td>3.000000</td>\n",
       "      <td>0.000000</td>\n",
       "      <td>1.000000</td>\n",
       "      <td>0.000000</td>\n",
       "      <td>0.000000</td>\n",
       "      <td>0.000000</td>\n",
       "      <td>0.000000</td>\n",
       "    </tr>\n",
       "    <tr>\n",
       "      <th>50%</th>\n",
       "      <td>2.000000</td>\n",
       "      <td>1.000000</td>\n",
       "      <td>11.000000</td>\n",
       "      <td>1.000000</td>\n",
       "      <td>11.000000</td>\n",
       "      <td>0.000000</td>\n",
       "      <td>1.000000</td>\n",
       "      <td>30.000000</td>\n",
       "      <td>0.0</td>\n",
       "      <td>6.000000</td>\n",
       "      <td>...</td>\n",
       "      <td>35.000000</td>\n",
       "      <td>4.000000</td>\n",
       "      <td>32.000000</td>\n",
       "      <td>18.000000</td>\n",
       "      <td>1.000000</td>\n",
       "      <td>3.000000</td>\n",
       "      <td>2.000000</td>\n",
       "      <td>0.000000</td>\n",
       "      <td>0.000000</td>\n",
       "      <td>2.000000</td>\n",
       "    </tr>\n",
       "    <tr>\n",
       "      <th>75%</th>\n",
       "      <td>7.000000</td>\n",
       "      <td>27.000000</td>\n",
       "      <td>24.000000</td>\n",
       "      <td>9.000000</td>\n",
       "      <td>232.000000</td>\n",
       "      <td>11.000000</td>\n",
       "      <td>5.000000</td>\n",
       "      <td>250.000000</td>\n",
       "      <td>0.0</td>\n",
       "      <td>39.000000</td>\n",
       "      <td>...</td>\n",
       "      <td>231.000000</td>\n",
       "      <td>23.000000</td>\n",
       "      <td>42.000000</td>\n",
       "      <td>240.000000</td>\n",
       "      <td>83.000000</td>\n",
       "      <td>116.000000</td>\n",
       "      <td>115.000000</td>\n",
       "      <td>18.000000</td>\n",
       "      <td>47.000000</td>\n",
       "      <td>76.000000</td>\n",
       "    </tr>\n",
       "    <tr>\n",
       "      <th>max</th>\n",
       "      <td>232.000000</td>\n",
       "      <td>45.000000</td>\n",
       "      <td>65.000000</td>\n",
       "      <td>66.000000</td>\n",
       "      <td>467.000000</td>\n",
       "      <td>177.000000</td>\n",
       "      <td>44.000000</td>\n",
       "      <td>476.000000</td>\n",
       "      <td>0.0</td>\n",
       "      <td>532.000000</td>\n",
       "      <td>...</td>\n",
       "      <td>663.000000</td>\n",
       "      <td>154.000000</td>\n",
       "      <td>60.000000</td>\n",
       "      <td>988.000000</td>\n",
       "      <td>253.000000</td>\n",
       "      <td>930.000000</td>\n",
       "      <td>138.000000</td>\n",
       "      <td>18.000000</td>\n",
       "      <td>56.000000</td>\n",
       "      <td>76.000000</td>\n",
       "    </tr>\n",
       "  </tbody>\n",
       "</table>\n",
       "<p>8 rows × 37 columns</p>\n",
       "</div>"
      ],
      "text/plain": [
       "             Abia     Adamawa   Akwa Ibom     Anambra      Bauchi     Bayelsa  \\\n",
       "count  117.000000  117.000000  117.000000  117.000000  117.000000  117.000000   \n",
       "mean    23.700855   13.948718   17.076923    9.974359  119.333333   13.854701   \n",
       "std     56.657511   17.299515   18.756679   19.860922  148.540834   32.829829   \n",
       "min      0.000000    0.000000    0.000000    0.000000    0.000000    0.000000   \n",
       "25%      0.000000    0.000000    0.000000    0.000000    2.000000    0.000000   \n",
       "50%      2.000000    1.000000   11.000000    1.000000   11.000000    0.000000   \n",
       "75%      7.000000   27.000000   24.000000    9.000000  232.000000   11.000000   \n",
       "max    232.000000   45.000000   65.000000   66.000000  467.000000  177.000000   \n",
       "\n",
       "            Benue       Borno  Cross River       Delta  ...        Ogun  \\\n",
       "count  117.000000  117.000000        117.0  117.000000  ...  117.000000   \n",
       "mean     5.923077  128.598291          0.0   57.427350  ...  137.222222   \n",
       "std     10.608352  157.819575          0.0  114.704817  ...  189.144540   \n",
       "min      0.000000    0.000000          0.0    0.000000  ...    1.000000   \n",
       "25%      0.000000    0.000000          0.0    0.000000  ...    3.000000   \n",
       "50%      1.000000   30.000000          0.0    6.000000  ...   35.000000   \n",
       "75%      5.000000  250.000000          0.0   39.000000  ...  231.000000   \n",
       "max     44.000000  476.000000          0.0  532.000000  ...  663.000000   \n",
       "\n",
       "             Ondo        Osun         Oyo     Plateau      Rivers      Sokoto  \\\n",
       "count  117.000000  117.000000  117.000000  117.000000  117.000000  117.000000   \n",
       "mean    18.820513   26.111111  138.846154   40.632479  114.606838   51.965812   \n",
       "std     30.434955   19.505869  220.402321   63.877253  215.157559   57.449068   \n",
       "min      0.000000    0.000000    0.000000    0.000000    0.000000    0.000000   \n",
       "25%      0.000000    1.000000    3.000000    0.000000    1.000000    0.000000   \n",
       "50%      4.000000   32.000000   18.000000    1.000000    3.000000    2.000000   \n",
       "75%     23.000000   42.000000  240.000000   83.000000  116.000000  115.000000   \n",
       "max    154.000000   60.000000  988.000000  253.000000  930.000000  138.000000   \n",
       "\n",
       "           Taraba        Yobe     Zamfara  \n",
       "count  117.000000  117.000000  117.000000  \n",
       "mean     7.871795   18.008547   31.239316  \n",
       "std      8.375393   22.816168   36.277106  \n",
       "min      0.000000    0.000000    0.000000  \n",
       "25%      0.000000    0.000000    0.000000  \n",
       "50%      0.000000    0.000000    2.000000  \n",
       "75%     18.000000   47.000000   76.000000  \n",
       "max     18.000000   56.000000   76.000000  \n",
       "\n",
       "[8 rows x 37 columns]"
      ]
     },
     "execution_count": 13,
     "metadata": {},
     "output_type": "execute_result"
    }
   ],
   "source": [
    "covid_cases_nig_data.describe()"
   ]
  },
  {
   "cell_type": "code",
   "execution_count": 14,
   "metadata": {},
   "outputs": [
    {
     "data": {
      "text/html": [
       "<div>\n",
       "<style scoped>\n",
       "    .dataframe tbody tr th:only-of-type {\n",
       "        vertical-align: middle;\n",
       "    }\n",
       "\n",
       "    .dataframe tbody tr th {\n",
       "        vertical-align: top;\n",
       "    }\n",
       "\n",
       "    .dataframe thead th {\n",
       "        text-align: right;\n",
       "    }\n",
       "</style>\n",
       "<table border=\"1\" class=\"dataframe\">\n",
       "  <thead>\n",
       "    <tr style=\"text-align: right;\">\n",
       "      <th></th>\n",
       "      <th>Unnamed: 0</th>\n",
       "      <th>OBJECTID</th>\n",
       "      <th>CODE</th>\n",
       "      <th>STATE</th>\n",
       "      <th>ADMIN_NAME</th>\n",
       "      <th>GEO_ZONE</th>\n",
       "      <th>AREA_SQKM</th>\n",
       "      <th>POP_2016</th>\n",
       "      <th>LAT</th>\n",
       "      <th>LONG</th>\n",
       "      <th>CASES</th>\n",
       "      <th>DEATHS</th>\n",
       "      <th>RECOVERED</th>\n",
       "      <th>ACTIVE</th>\n",
       "      <th>SCREENED</th>\n",
       "    </tr>\n",
       "  </thead>\n",
       "  <tbody>\n",
       "    <tr>\n",
       "      <th>0</th>\n",
       "      <td>0</td>\n",
       "      <td>1</td>\n",
       "      <td>NG001</td>\n",
       "      <td>Abia</td>\n",
       "      <td>Abia State</td>\n",
       "      <td>South East</td>\n",
       "      <td>4858.882335</td>\n",
       "      <td>3644714</td>\n",
       "      <td>5.453302</td>\n",
       "      <td>7.523190</td>\n",
       "      <td>232</td>\n",
       "      <td>3</td>\n",
       "      <td>93</td>\n",
       "      <td>136</td>\n",
       "      <td>0</td>\n",
       "    </tr>\n",
       "    <tr>\n",
       "      <th>1</th>\n",
       "      <td>1</td>\n",
       "      <td>2</td>\n",
       "      <td>NG002</td>\n",
       "      <td>Adamawa</td>\n",
       "      <td>Adamawa State</td>\n",
       "      <td>North East</td>\n",
       "      <td>37924.987860</td>\n",
       "      <td>4145684</td>\n",
       "      <td>9.323227</td>\n",
       "      <td>12.400241</td>\n",
       "      <td>45</td>\n",
       "      <td>5</td>\n",
       "      <td>37</td>\n",
       "      <td>3</td>\n",
       "      <td>2</td>\n",
       "    </tr>\n",
       "    <tr>\n",
       "      <th>2</th>\n",
       "      <td>2</td>\n",
       "      <td>3</td>\n",
       "      <td>NG003</td>\n",
       "      <td>Akwa Ibom</td>\n",
       "      <td>Akwa Ibom State</td>\n",
       "      <td>South South</td>\n",
       "      <td>6723.202769</td>\n",
       "      <td>5353609</td>\n",
       "      <td>4.907245</td>\n",
       "      <td>7.846395</td>\n",
       "      <td>65</td>\n",
       "      <td>2</td>\n",
       "      <td>43</td>\n",
       "      <td>20</td>\n",
       "      <td>1</td>\n",
       "    </tr>\n",
       "    <tr>\n",
       "      <th>3</th>\n",
       "      <td>3</td>\n",
       "      <td>4</td>\n",
       "      <td>NG004</td>\n",
       "      <td>Anambra</td>\n",
       "      <td>Anambra State</td>\n",
       "      <td>South East</td>\n",
       "      <td>4807.933352</td>\n",
       "      <td>5425334</td>\n",
       "      <td>6.222776</td>\n",
       "      <td>6.932186</td>\n",
       "      <td>66</td>\n",
       "      <td>9</td>\n",
       "      <td>51</td>\n",
       "      <td>6</td>\n",
       "      <td>0</td>\n",
       "    </tr>\n",
       "    <tr>\n",
       "      <th>4</th>\n",
       "      <td>4</td>\n",
       "      <td>5</td>\n",
       "      <td>NG005</td>\n",
       "      <td>Bauchi</td>\n",
       "      <td>Bauchi State</td>\n",
       "      <td>North East</td>\n",
       "      <td>48496.400510</td>\n",
       "      <td>6386388</td>\n",
       "      <td>10.796647</td>\n",
       "      <td>9.990588</td>\n",
       "      <td>467</td>\n",
       "      <td>11</td>\n",
       "      <td>324</td>\n",
       "      <td>132</td>\n",
       "      <td>27</td>\n",
       "    </tr>\n",
       "  </tbody>\n",
       "</table>\n",
       "</div>"
      ],
      "text/plain": [
       "   Unnamed: 0  OBJECTID   CODE      STATE       ADMIN_NAME     GEO_ZONE  \\\n",
       "0           0         1  NG001       Abia       Abia State   South East   \n",
       "1           1         2  NG002    Adamawa    Adamawa State   North East   \n",
       "2           2         3  NG003  Akwa Ibom  Akwa Ibom State  South South   \n",
       "3           3         4  NG004    Anambra    Anambra State   South East   \n",
       "4           4         5  NG005     Bauchi     Bauchi State   North East   \n",
       "\n",
       "      AREA_SQKM  POP_2016        LAT       LONG  CASES  DEATHS  RECOVERED  \\\n",
       "0   4858.882335   3644714   5.453302   7.523190    232       3         93   \n",
       "1  37924.987860   4145684   9.323227  12.400241     45       5         37   \n",
       "2   6723.202769   5353609   4.907245   7.846395     65       2         43   \n",
       "3   4807.933352   5425334   6.222776   6.932186     66       9         51   \n",
       "4  48496.400510   6386388  10.796647   9.990588    467      11        324   \n",
       "\n",
       "   ACTIVE  SCREENED  \n",
       "0     136         0  \n",
       "1       3         2  \n",
       "2      20         1  \n",
       "3       6         0  \n",
       "4     132        27  "
      ]
     },
     "execution_count": 14,
     "metadata": {},
     "output_type": "execute_result"
    }
   ],
   "source": [
    "covid_states_nig_data.head()"
   ]
  },
  {
   "cell_type": "code",
   "execution_count": 15,
   "metadata": {},
   "outputs": [
    {
     "data": {
      "text/html": [
       "<div>\n",
       "<style scoped>\n",
       "    .dataframe tbody tr th:only-of-type {\n",
       "        vertical-align: middle;\n",
       "    }\n",
       "\n",
       "    .dataframe tbody tr th {\n",
       "        vertical-align: top;\n",
       "    }\n",
       "\n",
       "    .dataframe thead th {\n",
       "        text-align: right;\n",
       "    }\n",
       "</style>\n",
       "<table border=\"1\" class=\"dataframe\">\n",
       "  <thead>\n",
       "    <tr style=\"text-align: right;\">\n",
       "      <th></th>\n",
       "      <th>Unnamed: 0</th>\n",
       "      <th>OBJECTID</th>\n",
       "      <th>AREA_SQKM</th>\n",
       "      <th>POP_2016</th>\n",
       "      <th>LAT</th>\n",
       "      <th>LONG</th>\n",
       "      <th>CASES</th>\n",
       "      <th>DEATHS</th>\n",
       "      <th>RECOVERED</th>\n",
       "      <th>ACTIVE</th>\n",
       "      <th>SCREENED</th>\n",
       "    </tr>\n",
       "  </thead>\n",
       "  <tbody>\n",
       "    <tr>\n",
       "      <th>count</th>\n",
       "      <td>37.000000</td>\n",
       "      <td>37.000000</td>\n",
       "      <td>37.000000</td>\n",
       "      <td>3.700000e+01</td>\n",
       "      <td>37.000000</td>\n",
       "      <td>37.000000</td>\n",
       "      <td>37.000000</td>\n",
       "      <td>37.000000</td>\n",
       "      <td>37.000000</td>\n",
       "      <td>37.000000</td>\n",
       "      <td>37.000000</td>\n",
       "    </tr>\n",
       "    <tr>\n",
       "      <th>mean</th>\n",
       "      <td>18.000000</td>\n",
       "      <td>19.000000</td>\n",
       "      <td>24652.792986</td>\n",
       "      <td>5.075224e+06</td>\n",
       "      <td>8.477059</td>\n",
       "      <td>7.368314</td>\n",
       "      <td>565.378378</td>\n",
       "      <td>14.189189</td>\n",
       "      <td>192.135135</td>\n",
       "      <td>359.054054</td>\n",
       "      <td>9.000000</td>\n",
       "    </tr>\n",
       "    <tr>\n",
       "      <th>std</th>\n",
       "      <td>10.824355</td>\n",
       "      <td>10.824355</td>\n",
       "      <td>18344.693753</td>\n",
       "      <td>2.292310e+06</td>\n",
       "      <td>2.521534</td>\n",
       "      <td>2.452557</td>\n",
       "      <td>1449.532882</td>\n",
       "      <td>22.057800</td>\n",
       "      <td>267.449908</td>\n",
       "      <td>1192.840679</td>\n",
       "      <td>25.179357</td>\n",
       "    </tr>\n",
       "    <tr>\n",
       "      <th>min</th>\n",
       "      <td>0.000000</td>\n",
       "      <td>1.000000</td>\n",
       "      <td>3701.447550</td>\n",
       "      <td>2.228965e+06</td>\n",
       "      <td>4.766315</td>\n",
       "      <td>3.473262</td>\n",
       "      <td>0.000000</td>\n",
       "      <td>0.000000</td>\n",
       "      <td>0.000000</td>\n",
       "      <td>0.000000</td>\n",
       "      <td>0.000000</td>\n",
       "    </tr>\n",
       "    <tr>\n",
       "      <th>25%</th>\n",
       "      <td>9.000000</td>\n",
       "      <td>10.000000</td>\n",
       "      <td>8644.298164</td>\n",
       "      <td>3.644714e+06</td>\n",
       "      <td>6.522424</td>\n",
       "      <td>5.590435</td>\n",
       "      <td>66.000000</td>\n",
       "      <td>3.000000</td>\n",
       "      <td>37.000000</td>\n",
       "      <td>9.000000</td>\n",
       "      <td>0.000000</td>\n",
       "    </tr>\n",
       "    <tr>\n",
       "      <th>50%</th>\n",
       "      <td>18.000000</td>\n",
       "      <td>19.000000</td>\n",
       "      <td>21417.610880</td>\n",
       "      <td>4.541779e+06</td>\n",
       "      <td>8.023131</td>\n",
       "      <td>7.195557</td>\n",
       "      <td>200.000000</td>\n",
       "      <td>6.000000</td>\n",
       "      <td>94.000000</td>\n",
       "      <td>93.000000</td>\n",
       "      <td>1.000000</td>\n",
       "    </tr>\n",
       "    <tr>\n",
       "      <th>75%</th>\n",
       "      <td>27.000000</td>\n",
       "      <td>28.000000</td>\n",
       "      <td>33561.959140</td>\n",
       "      <td>5.568946e+06</td>\n",
       "      <td>10.392367</td>\n",
       "      <td>8.598756</td>\n",
       "      <td>479.000000</td>\n",
       "      <td>16.000000</td>\n",
       "      <td>250.000000</td>\n",
       "      <td>219.000000</td>\n",
       "      <td>5.000000</td>\n",
       "    </tr>\n",
       "    <tr>\n",
       "      <th>max</th>\n",
       "      <td>36.000000</td>\n",
       "      <td>37.000000</td>\n",
       "      <td>75949.947450</td>\n",
       "      <td>1.270678e+07</td>\n",
       "      <td>13.037993</td>\n",
       "      <td>13.098771</td>\n",
       "      <td>8864.000000</td>\n",
       "      <td>126.000000</td>\n",
       "      <td>1448.000000</td>\n",
       "      <td>7290.000000</td>\n",
       "      <td>122.000000</td>\n",
       "    </tr>\n",
       "  </tbody>\n",
       "</table>\n",
       "</div>"
      ],
      "text/plain": [
       "       Unnamed: 0   OBJECTID     AREA_SQKM      POP_2016        LAT  \\\n",
       "count   37.000000  37.000000     37.000000  3.700000e+01  37.000000   \n",
       "mean    18.000000  19.000000  24652.792986  5.075224e+06   8.477059   \n",
       "std     10.824355  10.824355  18344.693753  2.292310e+06   2.521534   \n",
       "min      0.000000   1.000000   3701.447550  2.228965e+06   4.766315   \n",
       "25%      9.000000  10.000000   8644.298164  3.644714e+06   6.522424   \n",
       "50%     18.000000  19.000000  21417.610880  4.541779e+06   8.023131   \n",
       "75%     27.000000  28.000000  33561.959140  5.568946e+06  10.392367   \n",
       "max     36.000000  37.000000  75949.947450  1.270678e+07  13.037993   \n",
       "\n",
       "            LONG        CASES      DEATHS    RECOVERED       ACTIVE  \\\n",
       "count  37.000000    37.000000   37.000000    37.000000    37.000000   \n",
       "mean    7.368314   565.378378   14.189189   192.135135   359.054054   \n",
       "std     2.452557  1449.532882   22.057800   267.449908  1192.840679   \n",
       "min     3.473262     0.000000    0.000000     0.000000     0.000000   \n",
       "25%     5.590435    66.000000    3.000000    37.000000     9.000000   \n",
       "50%     7.195557   200.000000    6.000000    94.000000    93.000000   \n",
       "75%     8.598756   479.000000   16.000000   250.000000   219.000000   \n",
       "max    13.098771  8864.000000  126.000000  1448.000000  7290.000000   \n",
       "\n",
       "         SCREENED  \n",
       "count   37.000000  \n",
       "mean     9.000000  \n",
       "std     25.179357  \n",
       "min      0.000000  \n",
       "25%      0.000000  \n",
       "50%      1.000000  \n",
       "75%      5.000000  \n",
       "max    122.000000  "
      ]
     },
     "execution_count": 15,
     "metadata": {},
     "output_type": "execute_result"
    }
   ],
   "source": [
    "covid_states_nig_data.describe()"
   ]
  },
  {
   "cell_type": "code",
   "execution_count": 16,
   "metadata": {},
   "outputs": [
    {
     "data": {
      "text/html": [
       "<div>\n",
       "<style scoped>\n",
       "    .dataframe tbody tr th:only-of-type {\n",
       "        vertical-align: middle;\n",
       "    }\n",
       "\n",
       "    .dataframe tbody tr th {\n",
       "        vertical-align: top;\n",
       "    }\n",
       "\n",
       "    .dataframe thead th {\n",
       "        text-align: right;\n",
       "    }\n",
       "</style>\n",
       "<table border=\"1\" class=\"dataframe\">\n",
       "  <thead>\n",
       "    <tr style=\"text-align: right;\">\n",
       "      <th></th>\n",
       "      <th>SN</th>\n",
       "      <th>NAME</th>\n",
       "      <th>ADDRESS</th>\n",
       "      <th>STATE</th>\n",
       "      <th>CITY</th>\n",
       "      <th>WEBSITE</th>\n",
       "      <th>STATUS</th>\n",
       "      <th>LATITUDE</th>\n",
       "      <th>LONGITUDE</th>\n",
       "    </tr>\n",
       "  </thead>\n",
       "  <tbody>\n",
       "    <tr>\n",
       "      <th>0</th>\n",
       "      <td>1</td>\n",
       "      <td>Lagos University Teaching Hospital</td>\n",
       "      <td>Ishaga Rd, Idi-Araba, Lagos, Nigeria</td>\n",
       "      <td>Lagos</td>\n",
       "      <td>Lagos</td>\n",
       "      <td>http://luth.org.ng</td>\n",
       "      <td>Active</td>\n",
       "      <td>6.517652</td>\n",
       "      <td>3.353712</td>\n",
       "    </tr>\n",
       "    <tr>\n",
       "      <th>1</th>\n",
       "      <td>2</td>\n",
       "      <td>Nigeria Institute for Medical Research (NIMR)</td>\n",
       "      <td>Medical Compound, 6 Edmund Cres, Yaba, Nigeria</td>\n",
       "      <td>Lagos</td>\n",
       "      <td>Lagos</td>\n",
       "      <td>http://nimr.gov.ng</td>\n",
       "      <td>Active</td>\n",
       "      <td>6.515177</td>\n",
       "      <td>3.370576</td>\n",
       "    </tr>\n",
       "    <tr>\n",
       "      <th>2</th>\n",
       "      <td>3</td>\n",
       "      <td>University College Hospital (UCH)</td>\n",
       "      <td>Layi Ayanniyi Street, Ibadan, Nigeria</td>\n",
       "      <td>Oyo</td>\n",
       "      <td>Ibadan</td>\n",
       "      <td>https://uch-ibadan.org.ng</td>\n",
       "      <td>Active</td>\n",
       "      <td>7.356931</td>\n",
       "      <td>3.874326</td>\n",
       "    </tr>\n",
       "    <tr>\n",
       "      <th>3</th>\n",
       "      <td>4</td>\n",
       "      <td>African Centre of Excellence for Genomics of I...</td>\n",
       "      <td>Oloki/Akoda, Nigeria</td>\n",
       "      <td>Osun</td>\n",
       "      <td>Ede</td>\n",
       "      <td>https://acegid.org/</td>\n",
       "      <td>Active</td>\n",
       "      <td>7.682692</td>\n",
       "      <td>4.458675</td>\n",
       "    </tr>\n",
       "    <tr>\n",
       "      <th>4</th>\n",
       "      <td>5</td>\n",
       "      <td>NCDC National Reference Laboratory</td>\n",
       "      <td>801 Ebitu Ukiwe St, Jabi, Abuja, Nigeria</td>\n",
       "      <td>FCT, Abuja</td>\n",
       "      <td>Abuja</td>\n",
       "      <td>http://ncdc.gov.ng</td>\n",
       "      <td>Active</td>\n",
       "      <td>9.070807</td>\n",
       "      <td>7.433299</td>\n",
       "    </tr>\n",
       "  </tbody>\n",
       "</table>\n",
       "</div>"
      ],
      "text/plain": [
       "   SN                                               NAME  \\\n",
       "0   1                 Lagos University Teaching Hospital   \n",
       "1   2      Nigeria Institute for Medical Research (NIMR)   \n",
       "2   3                  University College Hospital (UCH)   \n",
       "3   4  African Centre of Excellence for Genomics of I...   \n",
       "4   5                 NCDC National Reference Laboratory   \n",
       "\n",
       "                                          ADDRESS       STATE    CITY  \\\n",
       "0            Ishaga Rd, Idi-Araba, Lagos, Nigeria       Lagos   Lagos   \n",
       "1  Medical Compound, 6 Edmund Cres, Yaba, Nigeria       Lagos   Lagos   \n",
       "2           Layi Ayanniyi Street, Ibadan, Nigeria         Oyo  Ibadan   \n",
       "3                            Oloki/Akoda, Nigeria        Osun     Ede   \n",
       "4        801 Ebitu Ukiwe St, Jabi, Abuja, Nigeria  FCT, Abuja   Abuja   \n",
       "\n",
       "                     WEBSITE  STATUS  LATITUDE  LONGITUDE  \n",
       "0         http://luth.org.ng  Active  6.517652   3.353712  \n",
       "1         http://nimr.gov.ng  Active  6.515177   3.370576  \n",
       "2  https://uch-ibadan.org.ng  Active  7.356931   3.874326  \n",
       "3        https://acegid.org/  Active  7.682692   4.458675  \n",
       "4         http://ncdc.gov.ng  Active  9.070807   7.433299  "
      ]
     },
     "execution_count": 16,
     "metadata": {},
     "output_type": "execute_result"
    }
   ],
   "source": [
    "covid_molecular_lab_data.head()"
   ]
  },
  {
   "cell_type": "code",
   "execution_count": 17,
   "metadata": {},
   "outputs": [
    {
     "data": {
      "text/html": [
       "<div>\n",
       "<style scoped>\n",
       "    .dataframe tbody tr th:only-of-type {\n",
       "        vertical-align: middle;\n",
       "    }\n",
       "\n",
       "    .dataframe tbody tr th {\n",
       "        vertical-align: top;\n",
       "    }\n",
       "\n",
       "    .dataframe thead th {\n",
       "        text-align: right;\n",
       "    }\n",
       "</style>\n",
       "<table border=\"1\" class=\"dataframe\">\n",
       "  <thead>\n",
       "    <tr style=\"text-align: right;\">\n",
       "      <th></th>\n",
       "      <th>DATE</th>\n",
       "      <th>TOTAL CONFIRMED</th>\n",
       "      <th>NEW CASES</th>\n",
       "      <th>ACTIVE CASES</th>\n",
       "      <th>DEATHS</th>\n",
       "      <th>RECOVERED</th>\n",
       "      <th>DAILY DEATHS</th>\n",
       "      <th>DAILY RECOVERED</th>\n",
       "    </tr>\n",
       "  </thead>\n",
       "  <tbody>\n",
       "    <tr>\n",
       "      <th>0</th>\n",
       "      <td>2/27/2020</td>\n",
       "      <td>1</td>\n",
       "      <td>1</td>\n",
       "      <td>1</td>\n",
       "      <td>0</td>\n",
       "      <td>0</td>\n",
       "      <td>0</td>\n",
       "      <td>0</td>\n",
       "    </tr>\n",
       "    <tr>\n",
       "      <th>1</th>\n",
       "      <td>2/28/2020</td>\n",
       "      <td>1</td>\n",
       "      <td>0</td>\n",
       "      <td>1</td>\n",
       "      <td>0</td>\n",
       "      <td>0</td>\n",
       "      <td>0</td>\n",
       "      <td>0</td>\n",
       "    </tr>\n",
       "    <tr>\n",
       "      <th>2</th>\n",
       "      <td>2/29/2020</td>\n",
       "      <td>1</td>\n",
       "      <td>0</td>\n",
       "      <td>1</td>\n",
       "      <td>0</td>\n",
       "      <td>0</td>\n",
       "      <td>0</td>\n",
       "      <td>0</td>\n",
       "    </tr>\n",
       "    <tr>\n",
       "      <th>3</th>\n",
       "      <td>03/01/2020</td>\n",
       "      <td>1</td>\n",
       "      <td>0</td>\n",
       "      <td>1</td>\n",
       "      <td>0</td>\n",
       "      <td>0</td>\n",
       "      <td>0</td>\n",
       "      <td>0</td>\n",
       "    </tr>\n",
       "    <tr>\n",
       "      <th>4</th>\n",
       "      <td>03/02/2020</td>\n",
       "      <td>1</td>\n",
       "      <td>0</td>\n",
       "      <td>1</td>\n",
       "      <td>0</td>\n",
       "      <td>0</td>\n",
       "      <td>0</td>\n",
       "      <td>0</td>\n",
       "    </tr>\n",
       "  </tbody>\n",
       "</table>\n",
       "</div>"
      ],
      "text/plain": [
       "         DATE  TOTAL CONFIRMED  NEW CASES  ACTIVE CASES  DEATHS  RECOVERED  \\\n",
       "0   2/27/2020                1          1             1       0          0   \n",
       "1   2/28/2020                1          0             1       0          0   \n",
       "2   2/29/2020                1          0             1       0          0   \n",
       "3  03/01/2020                1          0             1       0          0   \n",
       "4  03/02/2020                1          0             1       0          0   \n",
       "\n",
       "   DAILY DEATHS  DAILY RECOVERED  \n",
       "0             0                0  \n",
       "1             0                0  \n",
       "2             0                0  \n",
       "3             0                0  \n",
       "4             0                0  "
      ]
     },
     "execution_count": 17,
     "metadata": {},
     "output_type": "execute_result"
    }
   ],
   "source": [
    "covid_daily_updates_data.head()"
   ]
  },
  {
   "cell_type": "code",
   "execution_count": 18,
   "metadata": {},
   "outputs": [
    {
     "data": {
      "text/html": [
       "<div>\n",
       "<style scoped>\n",
       "    .dataframe tbody tr th:only-of-type {\n",
       "        vertical-align: middle;\n",
       "    }\n",
       "\n",
       "    .dataframe tbody tr th {\n",
       "        vertical-align: top;\n",
       "    }\n",
       "\n",
       "    .dataframe thead th {\n",
       "        text-align: right;\n",
       "    }\n",
       "</style>\n",
       "<table border=\"1\" class=\"dataframe\">\n",
       "  <thead>\n",
       "    <tr style=\"text-align: right;\">\n",
       "      <th></th>\n",
       "      <th>TOTAL CONFIRMED</th>\n",
       "      <th>NEW CASES</th>\n",
       "      <th>ACTIVE CASES</th>\n",
       "      <th>DEATHS</th>\n",
       "      <th>RECOVERED</th>\n",
       "      <th>DAILY DEATHS</th>\n",
       "      <th>DAILY RECOVERED</th>\n",
       "    </tr>\n",
       "  </thead>\n",
       "  <tbody>\n",
       "    <tr>\n",
       "      <th>count</th>\n",
       "      <td>117.000000</td>\n",
       "      <td>117.000000</td>\n",
       "      <td>117.000000</td>\n",
       "      <td>117.000000</td>\n",
       "      <td>117.000000</td>\n",
       "      <td>117.000000</td>\n",
       "      <td>117.000000</td>\n",
       "    </tr>\n",
       "    <tr>\n",
       "      <th>mean</th>\n",
       "      <td>4561.974359</td>\n",
       "      <td>178.811966</td>\n",
       "      <td>3088.743590</td>\n",
       "      <td>127.564103</td>\n",
       "      <td>1345.666667</td>\n",
       "      <td>4.487179</td>\n",
       "      <td>60.760684</td>\n",
       "    </tr>\n",
       "    <tr>\n",
       "      <th>std</th>\n",
       "      <td>5913.872547</td>\n",
       "      <td>200.397189</td>\n",
       "      <td>3830.124296</td>\n",
       "      <td>157.440048</td>\n",
       "      <td>1943.024500</td>\n",
       "      <td>5.532997</td>\n",
       "      <td>82.613522</td>\n",
       "    </tr>\n",
       "    <tr>\n",
       "      <th>min</th>\n",
       "      <td>1.000000</td>\n",
       "      <td>0.000000</td>\n",
       "      <td>1.000000</td>\n",
       "      <td>0.000000</td>\n",
       "      <td>0.000000</td>\n",
       "      <td>0.000000</td>\n",
       "      <td>0.000000</td>\n",
       "    </tr>\n",
       "    <tr>\n",
       "      <th>25%</th>\n",
       "      <td>81.000000</td>\n",
       "      <td>8.000000</td>\n",
       "      <td>77.000000</td>\n",
       "      <td>1.000000</td>\n",
       "      <td>3.000000</td>\n",
       "      <td>0.000000</td>\n",
       "      <td>0.000000</td>\n",
       "    </tr>\n",
       "    <tr>\n",
       "      <th>50%</th>\n",
       "      <td>1182.000000</td>\n",
       "      <td>108.000000</td>\n",
       "      <td>925.000000</td>\n",
       "      <td>35.000000</td>\n",
       "      <td>222.000000</td>\n",
       "      <td>2.000000</td>\n",
       "      <td>15.000000</td>\n",
       "    </tr>\n",
       "    <tr>\n",
       "      <th>75%</th>\n",
       "      <td>7839.000000</td>\n",
       "      <td>288.000000</td>\n",
       "      <td>5350.000000</td>\n",
       "      <td>226.000000</td>\n",
       "      <td>2263.000000</td>\n",
       "      <td>7.000000</td>\n",
       "      <td>111.000000</td>\n",
       "    </tr>\n",
       "    <tr>\n",
       "      <th>max</th>\n",
       "      <td>20919.000000</td>\n",
       "      <td>745.000000</td>\n",
       "      <td>13285.000000</td>\n",
       "      <td>525.000000</td>\n",
       "      <td>7109.000000</td>\n",
       "      <td>31.000000</td>\n",
       "      <td>397.000000</td>\n",
       "    </tr>\n",
       "  </tbody>\n",
       "</table>\n",
       "</div>"
      ],
      "text/plain": [
       "       TOTAL CONFIRMED   NEW CASES  ACTIVE CASES      DEATHS    RECOVERED  \\\n",
       "count       117.000000  117.000000    117.000000  117.000000   117.000000   \n",
       "mean       4561.974359  178.811966   3088.743590  127.564103  1345.666667   \n",
       "std        5913.872547  200.397189   3830.124296  157.440048  1943.024500   \n",
       "min           1.000000    0.000000      1.000000    0.000000     0.000000   \n",
       "25%          81.000000    8.000000     77.000000    1.000000     3.000000   \n",
       "50%        1182.000000  108.000000    925.000000   35.000000   222.000000   \n",
       "75%        7839.000000  288.000000   5350.000000  226.000000  2263.000000   \n",
       "max       20919.000000  745.000000  13285.000000  525.000000  7109.000000   \n",
       "\n",
       "       DAILY DEATHS  DAILY RECOVERED  \n",
       "count    117.000000       117.000000  \n",
       "mean       4.487179        60.760684  \n",
       "std        5.532997        82.613522  \n",
       "min        0.000000         0.000000  \n",
       "25%        0.000000         0.000000  \n",
       "50%        2.000000        15.000000  \n",
       "75%        7.000000       111.000000  \n",
       "max       31.000000       397.000000  "
      ]
     },
     "execution_count": 18,
     "metadata": {},
     "output_type": "execute_result"
    }
   ],
   "source": [
    "covid_daily_updates_data.describe()"
   ]
  },
  {
   "cell_type": "markdown",
   "metadata": {},
   "source": [
    "## Data Preparation: Cleaning the data"
   ]
  },
  {
   "cell_type": "code",
   "execution_count": 19,
   "metadata": {},
   "outputs": [],
   "source": [
    "# we want all of our columns to be in uppercase\n",
    "covid_death_nig_data.columns = map(str.upper, covid_death_nig_data.columns)\n",
    "covid_recovered_nig_data.columns = map(str.upper, covid_recovered_nig_data.columns)\n",
    "covid_cases_nig_data.columns = map(str.upper, covid_cases_nig_data.columns)"
   ]
  },
  {
   "cell_type": "code",
   "execution_count": 85,
   "metadata": {},
   "outputs": [],
   "source": [
    "confirmed_total = int(covid_states_nig_data['CASES'].sum())\n",
    "deaths_total = int(covid_states_nig_data['DEATHS'].sum())\n",
    "recovered_total = int(covid_states_nig_data['RECOVERED'].sum())\n",
    "active_total = int(covid_states_nig_data['ACTIVE'].sum())"
   ]
  },
  {
   "cell_type": "code",
   "execution_count": 20,
   "metadata": {},
   "outputs": [],
   "source": [
    "sorted_covid_states_nig_data = covid_states_nig_data.sort_values('STATE', ascending=False).head(13)"
   ]
  },
  {
   "cell_type": "code",
   "execution_count": 21,
   "metadata": {},
   "outputs": [],
   "source": [
    "sorted_covid_daily_updates_data = covid_daily_updates_data.sort_values('TOTAL CONFIRMED', ascending=False).head(10)"
   ]
  },
  {
   "cell_type": "code",
   "execution_count": 22,
   "metadata": {},
   "outputs": [
    {
     "data": {
      "text/html": [
       "<div>\n",
       "<style scoped>\n",
       "    .dataframe tbody tr th:only-of-type {\n",
       "        vertical-align: middle;\n",
       "    }\n",
       "\n",
       "    .dataframe tbody tr th {\n",
       "        vertical-align: top;\n",
       "    }\n",
       "\n",
       "    .dataframe thead th {\n",
       "        text-align: right;\n",
       "    }\n",
       "</style>\n",
       "<table border=\"1\" class=\"dataframe\">\n",
       "  <thead>\n",
       "    <tr style=\"text-align: right;\">\n",
       "      <th></th>\n",
       "      <th>Unnamed: 0</th>\n",
       "      <th>OBJECTID</th>\n",
       "      <th>CODE</th>\n",
       "      <th>STATE</th>\n",
       "      <th>ADMIN_NAME</th>\n",
       "      <th>GEO_ZONE</th>\n",
       "      <th>AREA_SQKM</th>\n",
       "      <th>POP_2016</th>\n",
       "      <th>LAT</th>\n",
       "      <th>LONG</th>\n",
       "      <th>CASES</th>\n",
       "      <th>DEATHS</th>\n",
       "      <th>RECOVERED</th>\n",
       "      <th>ACTIVE</th>\n",
       "      <th>SCREENED</th>\n",
       "    </tr>\n",
       "  </thead>\n",
       "  <tbody>\n",
       "    <tr>\n",
       "      <th>36</th>\n",
       "      <td>36</td>\n",
       "      <td>37</td>\n",
       "      <td>NG037</td>\n",
       "      <td>Zamfara</td>\n",
       "      <td>Zamfara State</td>\n",
       "      <td>North West</td>\n",
       "      <td>33561.959140</td>\n",
       "      <td>4376911</td>\n",
       "      <td>12.101505</td>\n",
       "      <td>6.246535</td>\n",
       "      <td>76</td>\n",
       "      <td>5</td>\n",
       "      <td>71</td>\n",
       "      <td>0</td>\n",
       "      <td>0</td>\n",
       "    </tr>\n",
       "    <tr>\n",
       "      <th>35</th>\n",
       "      <td>35</td>\n",
       "      <td>36</td>\n",
       "      <td>NG036</td>\n",
       "      <td>Yobe</td>\n",
       "      <td>Yobe State</td>\n",
       "      <td>North East</td>\n",
       "      <td>41414.373580</td>\n",
       "      <td>3197296</td>\n",
       "      <td>12.376215</td>\n",
       "      <td>11.393266</td>\n",
       "      <td>56</td>\n",
       "      <td>8</td>\n",
       "      <td>45</td>\n",
       "      <td>3</td>\n",
       "      <td>1</td>\n",
       "    </tr>\n",
       "    <tr>\n",
       "      <th>34</th>\n",
       "      <td>34</td>\n",
       "      <td>35</td>\n",
       "      <td>NG035</td>\n",
       "      <td>Taraba</td>\n",
       "      <td>Taraba State</td>\n",
       "      <td>North East</td>\n",
       "      <td>58561.232360</td>\n",
       "      <td>2984174</td>\n",
       "      <td>8.023131</td>\n",
       "      <td>10.786479</td>\n",
       "      <td>18</td>\n",
       "      <td>0</td>\n",
       "      <td>10</td>\n",
       "      <td>8</td>\n",
       "      <td>0</td>\n",
       "    </tr>\n",
       "    <tr>\n",
       "      <th>33</th>\n",
       "      <td>33</td>\n",
       "      <td>34</td>\n",
       "      <td>NG034</td>\n",
       "      <td>Sokoto</td>\n",
       "      <td>Sokoto State</td>\n",
       "      <td>North West</td>\n",
       "      <td>32257.590270</td>\n",
       "      <td>4879641</td>\n",
       "      <td>13.037993</td>\n",
       "      <td>5.318810</td>\n",
       "      <td>138</td>\n",
       "      <td>14</td>\n",
       "      <td>116</td>\n",
       "      <td>8</td>\n",
       "      <td>1</td>\n",
       "    </tr>\n",
       "    <tr>\n",
       "      <th>32</th>\n",
       "      <td>32</td>\n",
       "      <td>33</td>\n",
       "      <td>NG033</td>\n",
       "      <td>Rivers</td>\n",
       "      <td>Rivers State</td>\n",
       "      <td>South South</td>\n",
       "      <td>10188.803810</td>\n",
       "      <td>7081412</td>\n",
       "      <td>4.845392</td>\n",
       "      <td>6.918181</td>\n",
       "      <td>930</td>\n",
       "      <td>31</td>\n",
       "      <td>409</td>\n",
       "      <td>490</td>\n",
       "      <td>8</td>\n",
       "    </tr>\n",
       "    <tr>\n",
       "      <th>31</th>\n",
       "      <td>31</td>\n",
       "      <td>32</td>\n",
       "      <td>NG032</td>\n",
       "      <td>Plateau</td>\n",
       "      <td>Plateau State</td>\n",
       "      <td>North Central</td>\n",
       "      <td>26489.782860</td>\n",
       "      <td>4088038</td>\n",
       "      <td>9.232416</td>\n",
       "      <td>9.512050</td>\n",
       "      <td>253</td>\n",
       "      <td>6</td>\n",
       "      <td>131</td>\n",
       "      <td>116</td>\n",
       "      <td>4</td>\n",
       "    </tr>\n",
       "    <tr>\n",
       "      <th>30</th>\n",
       "      <td>30</td>\n",
       "      <td>31</td>\n",
       "      <td>NG031</td>\n",
       "      <td>Oyo</td>\n",
       "      <td>Oyo State</td>\n",
       "      <td>South West</td>\n",
       "      <td>27824.833950</td>\n",
       "      <td>7636122</td>\n",
       "      <td>8.158827</td>\n",
       "      <td>3.612912</td>\n",
       "      <td>988</td>\n",
       "      <td>9</td>\n",
       "      <td>291</td>\n",
       "      <td>688</td>\n",
       "      <td>4</td>\n",
       "    </tr>\n",
       "    <tr>\n",
       "      <th>29</th>\n",
       "      <td>29</td>\n",
       "      <td>30</td>\n",
       "      <td>NG030</td>\n",
       "      <td>Osun</td>\n",
       "      <td>Osun State</td>\n",
       "      <td>South West</td>\n",
       "      <td>8644.298164</td>\n",
       "      <td>4596693</td>\n",
       "      <td>7.562919</td>\n",
       "      <td>4.517762</td>\n",
       "      <td>60</td>\n",
       "      <td>5</td>\n",
       "      <td>46</td>\n",
       "      <td>9</td>\n",
       "      <td>1</td>\n",
       "    </tr>\n",
       "    <tr>\n",
       "      <th>28</th>\n",
       "      <td>28</td>\n",
       "      <td>29</td>\n",
       "      <td>NG029</td>\n",
       "      <td>Ondo</td>\n",
       "      <td>Ondo State</td>\n",
       "      <td>South West</td>\n",
       "      <td>15132.200910</td>\n",
       "      <td>4541779</td>\n",
       "      <td>6.917995</td>\n",
       "      <td>5.150609</td>\n",
       "      <td>154</td>\n",
       "      <td>17</td>\n",
       "      <td>56</td>\n",
       "      <td>81</td>\n",
       "      <td>5</td>\n",
       "    </tr>\n",
       "    <tr>\n",
       "      <th>27</th>\n",
       "      <td>27</td>\n",
       "      <td>28</td>\n",
       "      <td>NG028</td>\n",
       "      <td>Ogun</td>\n",
       "      <td>Ogun State</td>\n",
       "      <td>South West</td>\n",
       "      <td>16810.673680</td>\n",
       "      <td>5048351</td>\n",
       "      <td>6.995135</td>\n",
       "      <td>3.473262</td>\n",
       "      <td>663</td>\n",
       "      <td>16</td>\n",
       "      <td>366</td>\n",
       "      <td>281</td>\n",
       "      <td>5</td>\n",
       "    </tr>\n",
       "    <tr>\n",
       "      <th>26</th>\n",
       "      <td>26</td>\n",
       "      <td>27</td>\n",
       "      <td>NG027</td>\n",
       "      <td>Niger</td>\n",
       "      <td>Niger State</td>\n",
       "      <td>North Central</td>\n",
       "      <td>72143.467800</td>\n",
       "      <td>5394631</td>\n",
       "      <td>9.933226</td>\n",
       "      <td>5.590435</td>\n",
       "      <td>66</td>\n",
       "      <td>3</td>\n",
       "      <td>37</td>\n",
       "      <td>26</td>\n",
       "      <td>0</td>\n",
       "    </tr>\n",
       "    <tr>\n",
       "      <th>25</th>\n",
       "      <td>25</td>\n",
       "      <td>26</td>\n",
       "      <td>NG026</td>\n",
       "      <td>Nasarawa</td>\n",
       "      <td>Nasarawa State</td>\n",
       "      <td>North Central</td>\n",
       "      <td>26750.458860</td>\n",
       "      <td>2459321</td>\n",
       "      <td>8.510446</td>\n",
       "      <td>8.197962</td>\n",
       "      <td>193</td>\n",
       "      <td>6</td>\n",
       "      <td>94</td>\n",
       "      <td>93</td>\n",
       "      <td>9</td>\n",
       "    </tr>\n",
       "    <tr>\n",
       "      <th>24</th>\n",
       "      <td>24</td>\n",
       "      <td>25</td>\n",
       "      <td>NG025</td>\n",
       "      <td>Lagos</td>\n",
       "      <td>Lagos State</td>\n",
       "      <td>South West</td>\n",
       "      <td>3701.447550</td>\n",
       "      <td>12102238</td>\n",
       "      <td>6.522424</td>\n",
       "      <td>3.586975</td>\n",
       "      <td>8864</td>\n",
       "      <td>126</td>\n",
       "      <td>1448</td>\n",
       "      <td>7290</td>\n",
       "      <td>122</td>\n",
       "    </tr>\n",
       "  </tbody>\n",
       "</table>\n",
       "</div>"
      ],
      "text/plain": [
       "    Unnamed: 0  OBJECTID   CODE     STATE      ADMIN_NAME       GEO_ZONE  \\\n",
       "36          36        37  NG037   Zamfara   Zamfara State     North West   \n",
       "35          35        36  NG036      Yobe      Yobe State     North East   \n",
       "34          34        35  NG035    Taraba    Taraba State     North East   \n",
       "33          33        34  NG034    Sokoto    Sokoto State     North West   \n",
       "32          32        33  NG033    Rivers    Rivers State    South South   \n",
       "31          31        32  NG032   Plateau   Plateau State  North Central   \n",
       "30          30        31  NG031       Oyo       Oyo State     South West   \n",
       "29          29        30  NG030      Osun      Osun State     South West   \n",
       "28          28        29  NG029      Ondo      Ondo State     South West   \n",
       "27          27        28  NG028      Ogun      Ogun State     South West   \n",
       "26          26        27  NG027     Niger     Niger State  North Central   \n",
       "25          25        26  NG026  Nasarawa  Nasarawa State  North Central   \n",
       "24          24        25  NG025     Lagos     Lagos State     South West   \n",
       "\n",
       "       AREA_SQKM  POP_2016        LAT       LONG  CASES  DEATHS  RECOVERED  \\\n",
       "36  33561.959140   4376911  12.101505   6.246535     76       5         71   \n",
       "35  41414.373580   3197296  12.376215  11.393266     56       8         45   \n",
       "34  58561.232360   2984174   8.023131  10.786479     18       0         10   \n",
       "33  32257.590270   4879641  13.037993   5.318810    138      14        116   \n",
       "32  10188.803810   7081412   4.845392   6.918181    930      31        409   \n",
       "31  26489.782860   4088038   9.232416   9.512050    253       6        131   \n",
       "30  27824.833950   7636122   8.158827   3.612912    988       9        291   \n",
       "29   8644.298164   4596693   7.562919   4.517762     60       5         46   \n",
       "28  15132.200910   4541779   6.917995   5.150609    154      17         56   \n",
       "27  16810.673680   5048351   6.995135   3.473262    663      16        366   \n",
       "26  72143.467800   5394631   9.933226   5.590435     66       3         37   \n",
       "25  26750.458860   2459321   8.510446   8.197962    193       6         94   \n",
       "24   3701.447550  12102238   6.522424   3.586975   8864     126       1448   \n",
       "\n",
       "    ACTIVE  SCREENED  \n",
       "36       0         0  \n",
       "35       3         1  \n",
       "34       8         0  \n",
       "33       8         1  \n",
       "32     490         8  \n",
       "31     116         4  \n",
       "30     688         4  \n",
       "29       9         1  \n",
       "28      81         5  \n",
       "27     281         5  \n",
       "26      26         0  \n",
       "25      93         9  \n",
       "24    7290       122  "
      ]
     },
     "execution_count": 22,
     "metadata": {},
     "output_type": "execute_result"
    }
   ],
   "source": [
    "sorted_covid_states_nig_data"
   ]
  },
  {
   "cell_type": "code",
   "execution_count": 23,
   "metadata": {},
   "outputs": [
    {
     "data": {
      "text/html": [
       "<div>\n",
       "<style scoped>\n",
       "    .dataframe tbody tr th:only-of-type {\n",
       "        vertical-align: middle;\n",
       "    }\n",
       "\n",
       "    .dataframe tbody tr th {\n",
       "        vertical-align: top;\n",
       "    }\n",
       "\n",
       "    .dataframe thead th {\n",
       "        text-align: right;\n",
       "    }\n",
       "</style>\n",
       "<table border=\"1\" class=\"dataframe\">\n",
       "  <thead>\n",
       "    <tr style=\"text-align: right;\">\n",
       "      <th></th>\n",
       "      <th>DATE</th>\n",
       "      <th>TOTAL CONFIRMED</th>\n",
       "      <th>NEW CASES</th>\n",
       "      <th>ACTIVE CASES</th>\n",
       "      <th>DEATHS</th>\n",
       "      <th>RECOVERED</th>\n",
       "      <th>DAILY DEATHS</th>\n",
       "      <th>DAILY RECOVERED</th>\n",
       "    </tr>\n",
       "  </thead>\n",
       "  <tbody>\n",
       "    <tr>\n",
       "      <th>116</th>\n",
       "      <td>06/22/2020</td>\n",
       "      <td>20919</td>\n",
       "      <td>675</td>\n",
       "      <td>13285</td>\n",
       "      <td>525</td>\n",
       "      <td>7109</td>\n",
       "      <td>7</td>\n",
       "      <td>230</td>\n",
       "    </tr>\n",
       "    <tr>\n",
       "      <th>115</th>\n",
       "      <td>06/21/2020</td>\n",
       "      <td>20244</td>\n",
       "      <td>436</td>\n",
       "      <td>12847</td>\n",
       "      <td>518</td>\n",
       "      <td>6879</td>\n",
       "      <td>12</td>\n",
       "      <td>161</td>\n",
       "    </tr>\n",
       "    <tr>\n",
       "      <th>114</th>\n",
       "      <td>06/20/2020</td>\n",
       "      <td>19808</td>\n",
       "      <td>661</td>\n",
       "      <td>12584</td>\n",
       "      <td>506</td>\n",
       "      <td>6718</td>\n",
       "      <td>19</td>\n",
       "      <td>137</td>\n",
       "    </tr>\n",
       "    <tr>\n",
       "      <th>113</th>\n",
       "      <td>06/19/2020</td>\n",
       "      <td>19147</td>\n",
       "      <td>667</td>\n",
       "      <td>12079</td>\n",
       "      <td>487</td>\n",
       "      <td>6581</td>\n",
       "      <td>12</td>\n",
       "      <td>274</td>\n",
       "    </tr>\n",
       "    <tr>\n",
       "      <th>112</th>\n",
       "      <td>06/18/2020</td>\n",
       "      <td>18480</td>\n",
       "      <td>745</td>\n",
       "      <td>11698</td>\n",
       "      <td>475</td>\n",
       "      <td>6307</td>\n",
       "      <td>6</td>\n",
       "      <td>340</td>\n",
       "    </tr>\n",
       "    <tr>\n",
       "      <th>111</th>\n",
       "      <td>06/17/2020</td>\n",
       "      <td>17735</td>\n",
       "      <td>587</td>\n",
       "      <td>11299</td>\n",
       "      <td>469</td>\n",
       "      <td>5967</td>\n",
       "      <td>14</td>\n",
       "      <td>344</td>\n",
       "    </tr>\n",
       "    <tr>\n",
       "      <th>110</th>\n",
       "      <td>06/16/2020</td>\n",
       "      <td>17148</td>\n",
       "      <td>490</td>\n",
       "      <td>11070</td>\n",
       "      <td>455</td>\n",
       "      <td>5623</td>\n",
       "      <td>31</td>\n",
       "      <td>274</td>\n",
       "    </tr>\n",
       "    <tr>\n",
       "      <th>109</th>\n",
       "      <td>06/15/2020</td>\n",
       "      <td>16658</td>\n",
       "      <td>573</td>\n",
       "      <td>10885</td>\n",
       "      <td>424</td>\n",
       "      <td>5349</td>\n",
       "      <td>4</td>\n",
       "      <td>129</td>\n",
       "    </tr>\n",
       "    <tr>\n",
       "      <th>108</th>\n",
       "      <td>06/14/2020</td>\n",
       "      <td>16085</td>\n",
       "      <td>403</td>\n",
       "      <td>10445</td>\n",
       "      <td>420</td>\n",
       "      <td>5220</td>\n",
       "      <td>13</td>\n",
       "      <td>119</td>\n",
       "    </tr>\n",
       "    <tr>\n",
       "      <th>107</th>\n",
       "      <td>06/13/2020</td>\n",
       "      <td>15682</td>\n",
       "      <td>501</td>\n",
       "      <td>10174</td>\n",
       "      <td>407</td>\n",
       "      <td>5101</td>\n",
       "      <td>8</td>\n",
       "      <td>210</td>\n",
       "    </tr>\n",
       "  </tbody>\n",
       "</table>\n",
       "</div>"
      ],
      "text/plain": [
       "           DATE  TOTAL CONFIRMED  NEW CASES  ACTIVE CASES  DEATHS  RECOVERED  \\\n",
       "116  06/22/2020            20919        675         13285     525       7109   \n",
       "115  06/21/2020            20244        436         12847     518       6879   \n",
       "114  06/20/2020            19808        661         12584     506       6718   \n",
       "113  06/19/2020            19147        667         12079     487       6581   \n",
       "112  06/18/2020            18480        745         11698     475       6307   \n",
       "111  06/17/2020            17735        587         11299     469       5967   \n",
       "110  06/16/2020            17148        490         11070     455       5623   \n",
       "109  06/15/2020            16658        573         10885     424       5349   \n",
       "108  06/14/2020            16085        403         10445     420       5220   \n",
       "107  06/13/2020            15682        501         10174     407       5101   \n",
       "\n",
       "     DAILY DEATHS  DAILY RECOVERED  \n",
       "116             7              230  \n",
       "115            12              161  \n",
       "114            19              137  \n",
       "113            12              274  \n",
       "112             6              340  \n",
       "111            14              344  \n",
       "110            31              274  \n",
       "109             4              129  \n",
       "108            13              119  \n",
       "107             8              210  "
      ]
     },
     "execution_count": 23,
     "metadata": {},
     "output_type": "execute_result"
    }
   ],
   "source": [
    "sorted_covid_daily_updates_data"
   ]
  },
  {
   "cell_type": "markdown",
   "metadata": {},
   "source": [
    "## Data Visualization"
   ]
  },
  {
   "cell_type": "code",
   "execution_count": 24,
   "metadata": {},
   "outputs": [
    {
     "data": {
      "text/html": [
       "<style  type=\"text/css\" >\n",
       "    #T_81acb874_b575_11ea_8390_d07e35122383row0_col3 {\n",
       "            background-color:  grey;\n",
       "        }    #T_81acb874_b575_11ea_8390_d07e35122383row0_col10 {\n",
       "            background-color:  yellow;\n",
       "        }    #T_81acb874_b575_11ea_8390_d07e35122383row0_col11 {\n",
       "            background-color:  red;\n",
       "        }    #T_81acb874_b575_11ea_8390_d07e35122383row0_col12 {\n",
       "            background-color:  orange;\n",
       "        }    #T_81acb874_b575_11ea_8390_d07e35122383row1_col3 {\n",
       "            background-color:  grey;\n",
       "        }    #T_81acb874_b575_11ea_8390_d07e35122383row1_col10 {\n",
       "            background-color:  yellow;\n",
       "        }    #T_81acb874_b575_11ea_8390_d07e35122383row1_col11 {\n",
       "            background-color:  red;\n",
       "        }    #T_81acb874_b575_11ea_8390_d07e35122383row1_col12 {\n",
       "            background-color:  orange;\n",
       "        }    #T_81acb874_b575_11ea_8390_d07e35122383row2_col3 {\n",
       "            background-color:  grey;\n",
       "        }    #T_81acb874_b575_11ea_8390_d07e35122383row2_col10 {\n",
       "            background-color:  yellow;\n",
       "        }    #T_81acb874_b575_11ea_8390_d07e35122383row2_col11 {\n",
       "            background-color:  red;\n",
       "        }    #T_81acb874_b575_11ea_8390_d07e35122383row2_col12 {\n",
       "            background-color:  orange;\n",
       "        }    #T_81acb874_b575_11ea_8390_d07e35122383row3_col3 {\n",
       "            background-color:  grey;\n",
       "        }    #T_81acb874_b575_11ea_8390_d07e35122383row3_col10 {\n",
       "            background-color:  yellow;\n",
       "        }    #T_81acb874_b575_11ea_8390_d07e35122383row3_col11 {\n",
       "            background-color:  red;\n",
       "        }    #T_81acb874_b575_11ea_8390_d07e35122383row3_col12 {\n",
       "            background-color:  orange;\n",
       "        }    #T_81acb874_b575_11ea_8390_d07e35122383row4_col3 {\n",
       "            background-color:  grey;\n",
       "        }    #T_81acb874_b575_11ea_8390_d07e35122383row4_col10 {\n",
       "            background-color:  yellow;\n",
       "        }    #T_81acb874_b575_11ea_8390_d07e35122383row4_col11 {\n",
       "            background-color:  red;\n",
       "        }    #T_81acb874_b575_11ea_8390_d07e35122383row4_col12 {\n",
       "            background-color:  orange;\n",
       "        }    #T_81acb874_b575_11ea_8390_d07e35122383row5_col3 {\n",
       "            background-color:  grey;\n",
       "        }    #T_81acb874_b575_11ea_8390_d07e35122383row5_col10 {\n",
       "            background-color:  yellow;\n",
       "        }    #T_81acb874_b575_11ea_8390_d07e35122383row5_col11 {\n",
       "            background-color:  red;\n",
       "        }    #T_81acb874_b575_11ea_8390_d07e35122383row5_col12 {\n",
       "            background-color:  orange;\n",
       "        }    #T_81acb874_b575_11ea_8390_d07e35122383row6_col3 {\n",
       "            background-color:  grey;\n",
       "        }    #T_81acb874_b575_11ea_8390_d07e35122383row6_col10 {\n",
       "            background-color:  yellow;\n",
       "        }    #T_81acb874_b575_11ea_8390_d07e35122383row6_col11 {\n",
       "            background-color:  red;\n",
       "        }    #T_81acb874_b575_11ea_8390_d07e35122383row6_col12 {\n",
       "            background-color:  orange;\n",
       "        }    #T_81acb874_b575_11ea_8390_d07e35122383row7_col3 {\n",
       "            background-color:  grey;\n",
       "        }    #T_81acb874_b575_11ea_8390_d07e35122383row7_col10 {\n",
       "            background-color:  yellow;\n",
       "        }    #T_81acb874_b575_11ea_8390_d07e35122383row7_col11 {\n",
       "            background-color:  red;\n",
       "        }    #T_81acb874_b575_11ea_8390_d07e35122383row7_col12 {\n",
       "            background-color:  orange;\n",
       "        }    #T_81acb874_b575_11ea_8390_d07e35122383row8_col3 {\n",
       "            background-color:  grey;\n",
       "        }    #T_81acb874_b575_11ea_8390_d07e35122383row8_col10 {\n",
       "            background-color:  yellow;\n",
       "        }    #T_81acb874_b575_11ea_8390_d07e35122383row8_col11 {\n",
       "            background-color:  red;\n",
       "        }    #T_81acb874_b575_11ea_8390_d07e35122383row8_col12 {\n",
       "            background-color:  orange;\n",
       "        }    #T_81acb874_b575_11ea_8390_d07e35122383row9_col3 {\n",
       "            background-color:  grey;\n",
       "        }    #T_81acb874_b575_11ea_8390_d07e35122383row9_col10 {\n",
       "            background-color:  yellow;\n",
       "        }    #T_81acb874_b575_11ea_8390_d07e35122383row9_col11 {\n",
       "            background-color:  red;\n",
       "        }    #T_81acb874_b575_11ea_8390_d07e35122383row9_col12 {\n",
       "            background-color:  orange;\n",
       "        }    #T_81acb874_b575_11ea_8390_d07e35122383row10_col3 {\n",
       "            background-color:  grey;\n",
       "        }    #T_81acb874_b575_11ea_8390_d07e35122383row10_col10 {\n",
       "            background-color:  yellow;\n",
       "        }    #T_81acb874_b575_11ea_8390_d07e35122383row10_col11 {\n",
       "            background-color:  red;\n",
       "        }    #T_81acb874_b575_11ea_8390_d07e35122383row10_col12 {\n",
       "            background-color:  orange;\n",
       "        }    #T_81acb874_b575_11ea_8390_d07e35122383row11_col3 {\n",
       "            background-color:  grey;\n",
       "        }    #T_81acb874_b575_11ea_8390_d07e35122383row11_col10 {\n",
       "            background-color:  yellow;\n",
       "        }    #T_81acb874_b575_11ea_8390_d07e35122383row11_col11 {\n",
       "            background-color:  red;\n",
       "        }    #T_81acb874_b575_11ea_8390_d07e35122383row11_col12 {\n",
       "            background-color:  orange;\n",
       "        }    #T_81acb874_b575_11ea_8390_d07e35122383row12_col3 {\n",
       "            background-color:  grey;\n",
       "        }    #T_81acb874_b575_11ea_8390_d07e35122383row12_col10 {\n",
       "            background-color:  yellow;\n",
       "        }    #T_81acb874_b575_11ea_8390_d07e35122383row12_col11 {\n",
       "            background-color:  red;\n",
       "        }    #T_81acb874_b575_11ea_8390_d07e35122383row12_col12 {\n",
       "            background-color:  orange;\n",
       "        }</style><table id=\"T_81acb874_b575_11ea_8390_d07e35122383\" ><thead>    <tr>        <th class=\"blank level0\" ></th>        <th class=\"col_heading level0 col0\" >Unnamed: 0</th>        <th class=\"col_heading level0 col1\" >OBJECTID</th>        <th class=\"col_heading level0 col2\" >CODE</th>        <th class=\"col_heading level0 col3\" >STATE</th>        <th class=\"col_heading level0 col4\" >ADMIN_NAME</th>        <th class=\"col_heading level0 col5\" >GEO_ZONE</th>        <th class=\"col_heading level0 col6\" >AREA_SQKM</th>        <th class=\"col_heading level0 col7\" >POP_2016</th>        <th class=\"col_heading level0 col8\" >LAT</th>        <th class=\"col_heading level0 col9\" >LONG</th>        <th class=\"col_heading level0 col10\" >CASES</th>        <th class=\"col_heading level0 col11\" >DEATHS</th>        <th class=\"col_heading level0 col12\" >RECOVERED</th>        <th class=\"col_heading level0 col13\" >ACTIVE</th>        <th class=\"col_heading level0 col14\" >SCREENED</th>    </tr></thead><tbody>\n",
       "                <tr>\n",
       "                        <th id=\"T_81acb874_b575_11ea_8390_d07e35122383level0_row0\" class=\"row_heading level0 row0\" >36</th>\n",
       "                        <td id=\"T_81acb874_b575_11ea_8390_d07e35122383row0_col0\" class=\"data row0 col0\" >36</td>\n",
       "                        <td id=\"T_81acb874_b575_11ea_8390_d07e35122383row0_col1\" class=\"data row0 col1\" >37</td>\n",
       "                        <td id=\"T_81acb874_b575_11ea_8390_d07e35122383row0_col2\" class=\"data row0 col2\" >NG037</td>\n",
       "                        <td id=\"T_81acb874_b575_11ea_8390_d07e35122383row0_col3\" class=\"data row0 col3\" >Zamfara</td>\n",
       "                        <td id=\"T_81acb874_b575_11ea_8390_d07e35122383row0_col4\" class=\"data row0 col4\" >Zamfara State</td>\n",
       "                        <td id=\"T_81acb874_b575_11ea_8390_d07e35122383row0_col5\" class=\"data row0 col5\" >North West</td>\n",
       "                        <td id=\"T_81acb874_b575_11ea_8390_d07e35122383row0_col6\" class=\"data row0 col6\" >33562</td>\n",
       "                        <td id=\"T_81acb874_b575_11ea_8390_d07e35122383row0_col7\" class=\"data row0 col7\" >4376911</td>\n",
       "                        <td id=\"T_81acb874_b575_11ea_8390_d07e35122383row0_col8\" class=\"data row0 col8\" >12.1015</td>\n",
       "                        <td id=\"T_81acb874_b575_11ea_8390_d07e35122383row0_col9\" class=\"data row0 col9\" >6.24653</td>\n",
       "                        <td id=\"T_81acb874_b575_11ea_8390_d07e35122383row0_col10\" class=\"data row0 col10\" >76</td>\n",
       "                        <td id=\"T_81acb874_b575_11ea_8390_d07e35122383row0_col11\" class=\"data row0 col11\" >5</td>\n",
       "                        <td id=\"T_81acb874_b575_11ea_8390_d07e35122383row0_col12\" class=\"data row0 col12\" >71</td>\n",
       "                        <td id=\"T_81acb874_b575_11ea_8390_d07e35122383row0_col13\" class=\"data row0 col13\" >0</td>\n",
       "                        <td id=\"T_81acb874_b575_11ea_8390_d07e35122383row0_col14\" class=\"data row0 col14\" >0</td>\n",
       "            </tr>\n",
       "            <tr>\n",
       "                        <th id=\"T_81acb874_b575_11ea_8390_d07e35122383level0_row1\" class=\"row_heading level0 row1\" >35</th>\n",
       "                        <td id=\"T_81acb874_b575_11ea_8390_d07e35122383row1_col0\" class=\"data row1 col0\" >35</td>\n",
       "                        <td id=\"T_81acb874_b575_11ea_8390_d07e35122383row1_col1\" class=\"data row1 col1\" >36</td>\n",
       "                        <td id=\"T_81acb874_b575_11ea_8390_d07e35122383row1_col2\" class=\"data row1 col2\" >NG036</td>\n",
       "                        <td id=\"T_81acb874_b575_11ea_8390_d07e35122383row1_col3\" class=\"data row1 col3\" >Yobe</td>\n",
       "                        <td id=\"T_81acb874_b575_11ea_8390_d07e35122383row1_col4\" class=\"data row1 col4\" >Yobe State</td>\n",
       "                        <td id=\"T_81acb874_b575_11ea_8390_d07e35122383row1_col5\" class=\"data row1 col5\" >North East</td>\n",
       "                        <td id=\"T_81acb874_b575_11ea_8390_d07e35122383row1_col6\" class=\"data row1 col6\" >41414.4</td>\n",
       "                        <td id=\"T_81acb874_b575_11ea_8390_d07e35122383row1_col7\" class=\"data row1 col7\" >3197296</td>\n",
       "                        <td id=\"T_81acb874_b575_11ea_8390_d07e35122383row1_col8\" class=\"data row1 col8\" >12.3762</td>\n",
       "                        <td id=\"T_81acb874_b575_11ea_8390_d07e35122383row1_col9\" class=\"data row1 col9\" >11.3933</td>\n",
       "                        <td id=\"T_81acb874_b575_11ea_8390_d07e35122383row1_col10\" class=\"data row1 col10\" >56</td>\n",
       "                        <td id=\"T_81acb874_b575_11ea_8390_d07e35122383row1_col11\" class=\"data row1 col11\" >8</td>\n",
       "                        <td id=\"T_81acb874_b575_11ea_8390_d07e35122383row1_col12\" class=\"data row1 col12\" >45</td>\n",
       "                        <td id=\"T_81acb874_b575_11ea_8390_d07e35122383row1_col13\" class=\"data row1 col13\" >3</td>\n",
       "                        <td id=\"T_81acb874_b575_11ea_8390_d07e35122383row1_col14\" class=\"data row1 col14\" >1</td>\n",
       "            </tr>\n",
       "            <tr>\n",
       "                        <th id=\"T_81acb874_b575_11ea_8390_d07e35122383level0_row2\" class=\"row_heading level0 row2\" >34</th>\n",
       "                        <td id=\"T_81acb874_b575_11ea_8390_d07e35122383row2_col0\" class=\"data row2 col0\" >34</td>\n",
       "                        <td id=\"T_81acb874_b575_11ea_8390_d07e35122383row2_col1\" class=\"data row2 col1\" >35</td>\n",
       "                        <td id=\"T_81acb874_b575_11ea_8390_d07e35122383row2_col2\" class=\"data row2 col2\" >NG035</td>\n",
       "                        <td id=\"T_81acb874_b575_11ea_8390_d07e35122383row2_col3\" class=\"data row2 col3\" >Taraba</td>\n",
       "                        <td id=\"T_81acb874_b575_11ea_8390_d07e35122383row2_col4\" class=\"data row2 col4\" >Taraba State</td>\n",
       "                        <td id=\"T_81acb874_b575_11ea_8390_d07e35122383row2_col5\" class=\"data row2 col5\" >North East</td>\n",
       "                        <td id=\"T_81acb874_b575_11ea_8390_d07e35122383row2_col6\" class=\"data row2 col6\" >58561.2</td>\n",
       "                        <td id=\"T_81acb874_b575_11ea_8390_d07e35122383row2_col7\" class=\"data row2 col7\" >2984174</td>\n",
       "                        <td id=\"T_81acb874_b575_11ea_8390_d07e35122383row2_col8\" class=\"data row2 col8\" >8.02313</td>\n",
       "                        <td id=\"T_81acb874_b575_11ea_8390_d07e35122383row2_col9\" class=\"data row2 col9\" >10.7865</td>\n",
       "                        <td id=\"T_81acb874_b575_11ea_8390_d07e35122383row2_col10\" class=\"data row2 col10\" >18</td>\n",
       "                        <td id=\"T_81acb874_b575_11ea_8390_d07e35122383row2_col11\" class=\"data row2 col11\" >0</td>\n",
       "                        <td id=\"T_81acb874_b575_11ea_8390_d07e35122383row2_col12\" class=\"data row2 col12\" >10</td>\n",
       "                        <td id=\"T_81acb874_b575_11ea_8390_d07e35122383row2_col13\" class=\"data row2 col13\" >8</td>\n",
       "                        <td id=\"T_81acb874_b575_11ea_8390_d07e35122383row2_col14\" class=\"data row2 col14\" >0</td>\n",
       "            </tr>\n",
       "            <tr>\n",
       "                        <th id=\"T_81acb874_b575_11ea_8390_d07e35122383level0_row3\" class=\"row_heading level0 row3\" >33</th>\n",
       "                        <td id=\"T_81acb874_b575_11ea_8390_d07e35122383row3_col0\" class=\"data row3 col0\" >33</td>\n",
       "                        <td id=\"T_81acb874_b575_11ea_8390_d07e35122383row3_col1\" class=\"data row3 col1\" >34</td>\n",
       "                        <td id=\"T_81acb874_b575_11ea_8390_d07e35122383row3_col2\" class=\"data row3 col2\" >NG034</td>\n",
       "                        <td id=\"T_81acb874_b575_11ea_8390_d07e35122383row3_col3\" class=\"data row3 col3\" >Sokoto</td>\n",
       "                        <td id=\"T_81acb874_b575_11ea_8390_d07e35122383row3_col4\" class=\"data row3 col4\" >Sokoto State</td>\n",
       "                        <td id=\"T_81acb874_b575_11ea_8390_d07e35122383row3_col5\" class=\"data row3 col5\" >North West</td>\n",
       "                        <td id=\"T_81acb874_b575_11ea_8390_d07e35122383row3_col6\" class=\"data row3 col6\" >32257.6</td>\n",
       "                        <td id=\"T_81acb874_b575_11ea_8390_d07e35122383row3_col7\" class=\"data row3 col7\" >4879641</td>\n",
       "                        <td id=\"T_81acb874_b575_11ea_8390_d07e35122383row3_col8\" class=\"data row3 col8\" >13.038</td>\n",
       "                        <td id=\"T_81acb874_b575_11ea_8390_d07e35122383row3_col9\" class=\"data row3 col9\" >5.31881</td>\n",
       "                        <td id=\"T_81acb874_b575_11ea_8390_d07e35122383row3_col10\" class=\"data row3 col10\" >138</td>\n",
       "                        <td id=\"T_81acb874_b575_11ea_8390_d07e35122383row3_col11\" class=\"data row3 col11\" >14</td>\n",
       "                        <td id=\"T_81acb874_b575_11ea_8390_d07e35122383row3_col12\" class=\"data row3 col12\" >116</td>\n",
       "                        <td id=\"T_81acb874_b575_11ea_8390_d07e35122383row3_col13\" class=\"data row3 col13\" >8</td>\n",
       "                        <td id=\"T_81acb874_b575_11ea_8390_d07e35122383row3_col14\" class=\"data row3 col14\" >1</td>\n",
       "            </tr>\n",
       "            <tr>\n",
       "                        <th id=\"T_81acb874_b575_11ea_8390_d07e35122383level0_row4\" class=\"row_heading level0 row4\" >32</th>\n",
       "                        <td id=\"T_81acb874_b575_11ea_8390_d07e35122383row4_col0\" class=\"data row4 col0\" >32</td>\n",
       "                        <td id=\"T_81acb874_b575_11ea_8390_d07e35122383row4_col1\" class=\"data row4 col1\" >33</td>\n",
       "                        <td id=\"T_81acb874_b575_11ea_8390_d07e35122383row4_col2\" class=\"data row4 col2\" >NG033</td>\n",
       "                        <td id=\"T_81acb874_b575_11ea_8390_d07e35122383row4_col3\" class=\"data row4 col3\" >Rivers</td>\n",
       "                        <td id=\"T_81acb874_b575_11ea_8390_d07e35122383row4_col4\" class=\"data row4 col4\" >Rivers State</td>\n",
       "                        <td id=\"T_81acb874_b575_11ea_8390_d07e35122383row4_col5\" class=\"data row4 col5\" >South South</td>\n",
       "                        <td id=\"T_81acb874_b575_11ea_8390_d07e35122383row4_col6\" class=\"data row4 col6\" >10188.8</td>\n",
       "                        <td id=\"T_81acb874_b575_11ea_8390_d07e35122383row4_col7\" class=\"data row4 col7\" >7081412</td>\n",
       "                        <td id=\"T_81acb874_b575_11ea_8390_d07e35122383row4_col8\" class=\"data row4 col8\" >4.84539</td>\n",
       "                        <td id=\"T_81acb874_b575_11ea_8390_d07e35122383row4_col9\" class=\"data row4 col9\" >6.91818</td>\n",
       "                        <td id=\"T_81acb874_b575_11ea_8390_d07e35122383row4_col10\" class=\"data row4 col10\" >930</td>\n",
       "                        <td id=\"T_81acb874_b575_11ea_8390_d07e35122383row4_col11\" class=\"data row4 col11\" >31</td>\n",
       "                        <td id=\"T_81acb874_b575_11ea_8390_d07e35122383row4_col12\" class=\"data row4 col12\" >409</td>\n",
       "                        <td id=\"T_81acb874_b575_11ea_8390_d07e35122383row4_col13\" class=\"data row4 col13\" >490</td>\n",
       "                        <td id=\"T_81acb874_b575_11ea_8390_d07e35122383row4_col14\" class=\"data row4 col14\" >8</td>\n",
       "            </tr>\n",
       "            <tr>\n",
       "                        <th id=\"T_81acb874_b575_11ea_8390_d07e35122383level0_row5\" class=\"row_heading level0 row5\" >31</th>\n",
       "                        <td id=\"T_81acb874_b575_11ea_8390_d07e35122383row5_col0\" class=\"data row5 col0\" >31</td>\n",
       "                        <td id=\"T_81acb874_b575_11ea_8390_d07e35122383row5_col1\" class=\"data row5 col1\" >32</td>\n",
       "                        <td id=\"T_81acb874_b575_11ea_8390_d07e35122383row5_col2\" class=\"data row5 col2\" >NG032</td>\n",
       "                        <td id=\"T_81acb874_b575_11ea_8390_d07e35122383row5_col3\" class=\"data row5 col3\" >Plateau</td>\n",
       "                        <td id=\"T_81acb874_b575_11ea_8390_d07e35122383row5_col4\" class=\"data row5 col4\" >Plateau State</td>\n",
       "                        <td id=\"T_81acb874_b575_11ea_8390_d07e35122383row5_col5\" class=\"data row5 col5\" >North Central</td>\n",
       "                        <td id=\"T_81acb874_b575_11ea_8390_d07e35122383row5_col6\" class=\"data row5 col6\" >26489.8</td>\n",
       "                        <td id=\"T_81acb874_b575_11ea_8390_d07e35122383row5_col7\" class=\"data row5 col7\" >4088038</td>\n",
       "                        <td id=\"T_81acb874_b575_11ea_8390_d07e35122383row5_col8\" class=\"data row5 col8\" >9.23242</td>\n",
       "                        <td id=\"T_81acb874_b575_11ea_8390_d07e35122383row5_col9\" class=\"data row5 col9\" >9.51205</td>\n",
       "                        <td id=\"T_81acb874_b575_11ea_8390_d07e35122383row5_col10\" class=\"data row5 col10\" >253</td>\n",
       "                        <td id=\"T_81acb874_b575_11ea_8390_d07e35122383row5_col11\" class=\"data row5 col11\" >6</td>\n",
       "                        <td id=\"T_81acb874_b575_11ea_8390_d07e35122383row5_col12\" class=\"data row5 col12\" >131</td>\n",
       "                        <td id=\"T_81acb874_b575_11ea_8390_d07e35122383row5_col13\" class=\"data row5 col13\" >116</td>\n",
       "                        <td id=\"T_81acb874_b575_11ea_8390_d07e35122383row5_col14\" class=\"data row5 col14\" >4</td>\n",
       "            </tr>\n",
       "            <tr>\n",
       "                        <th id=\"T_81acb874_b575_11ea_8390_d07e35122383level0_row6\" class=\"row_heading level0 row6\" >30</th>\n",
       "                        <td id=\"T_81acb874_b575_11ea_8390_d07e35122383row6_col0\" class=\"data row6 col0\" >30</td>\n",
       "                        <td id=\"T_81acb874_b575_11ea_8390_d07e35122383row6_col1\" class=\"data row6 col1\" >31</td>\n",
       "                        <td id=\"T_81acb874_b575_11ea_8390_d07e35122383row6_col2\" class=\"data row6 col2\" >NG031</td>\n",
       "                        <td id=\"T_81acb874_b575_11ea_8390_d07e35122383row6_col3\" class=\"data row6 col3\" >Oyo</td>\n",
       "                        <td id=\"T_81acb874_b575_11ea_8390_d07e35122383row6_col4\" class=\"data row6 col4\" >Oyo State</td>\n",
       "                        <td id=\"T_81acb874_b575_11ea_8390_d07e35122383row6_col5\" class=\"data row6 col5\" >South West</td>\n",
       "                        <td id=\"T_81acb874_b575_11ea_8390_d07e35122383row6_col6\" class=\"data row6 col6\" >27824.8</td>\n",
       "                        <td id=\"T_81acb874_b575_11ea_8390_d07e35122383row6_col7\" class=\"data row6 col7\" >7636122</td>\n",
       "                        <td id=\"T_81acb874_b575_11ea_8390_d07e35122383row6_col8\" class=\"data row6 col8\" >8.15883</td>\n",
       "                        <td id=\"T_81acb874_b575_11ea_8390_d07e35122383row6_col9\" class=\"data row6 col9\" >3.61291</td>\n",
       "                        <td id=\"T_81acb874_b575_11ea_8390_d07e35122383row6_col10\" class=\"data row6 col10\" >988</td>\n",
       "                        <td id=\"T_81acb874_b575_11ea_8390_d07e35122383row6_col11\" class=\"data row6 col11\" >9</td>\n",
       "                        <td id=\"T_81acb874_b575_11ea_8390_d07e35122383row6_col12\" class=\"data row6 col12\" >291</td>\n",
       "                        <td id=\"T_81acb874_b575_11ea_8390_d07e35122383row6_col13\" class=\"data row6 col13\" >688</td>\n",
       "                        <td id=\"T_81acb874_b575_11ea_8390_d07e35122383row6_col14\" class=\"data row6 col14\" >4</td>\n",
       "            </tr>\n",
       "            <tr>\n",
       "                        <th id=\"T_81acb874_b575_11ea_8390_d07e35122383level0_row7\" class=\"row_heading level0 row7\" >29</th>\n",
       "                        <td id=\"T_81acb874_b575_11ea_8390_d07e35122383row7_col0\" class=\"data row7 col0\" >29</td>\n",
       "                        <td id=\"T_81acb874_b575_11ea_8390_d07e35122383row7_col1\" class=\"data row7 col1\" >30</td>\n",
       "                        <td id=\"T_81acb874_b575_11ea_8390_d07e35122383row7_col2\" class=\"data row7 col2\" >NG030</td>\n",
       "                        <td id=\"T_81acb874_b575_11ea_8390_d07e35122383row7_col3\" class=\"data row7 col3\" >Osun</td>\n",
       "                        <td id=\"T_81acb874_b575_11ea_8390_d07e35122383row7_col4\" class=\"data row7 col4\" >Osun State</td>\n",
       "                        <td id=\"T_81acb874_b575_11ea_8390_d07e35122383row7_col5\" class=\"data row7 col5\" >South West</td>\n",
       "                        <td id=\"T_81acb874_b575_11ea_8390_d07e35122383row7_col6\" class=\"data row7 col6\" >8644.3</td>\n",
       "                        <td id=\"T_81acb874_b575_11ea_8390_d07e35122383row7_col7\" class=\"data row7 col7\" >4596693</td>\n",
       "                        <td id=\"T_81acb874_b575_11ea_8390_d07e35122383row7_col8\" class=\"data row7 col8\" >7.56292</td>\n",
       "                        <td id=\"T_81acb874_b575_11ea_8390_d07e35122383row7_col9\" class=\"data row7 col9\" >4.51776</td>\n",
       "                        <td id=\"T_81acb874_b575_11ea_8390_d07e35122383row7_col10\" class=\"data row7 col10\" >60</td>\n",
       "                        <td id=\"T_81acb874_b575_11ea_8390_d07e35122383row7_col11\" class=\"data row7 col11\" >5</td>\n",
       "                        <td id=\"T_81acb874_b575_11ea_8390_d07e35122383row7_col12\" class=\"data row7 col12\" >46</td>\n",
       "                        <td id=\"T_81acb874_b575_11ea_8390_d07e35122383row7_col13\" class=\"data row7 col13\" >9</td>\n",
       "                        <td id=\"T_81acb874_b575_11ea_8390_d07e35122383row7_col14\" class=\"data row7 col14\" >1</td>\n",
       "            </tr>\n",
       "            <tr>\n",
       "                        <th id=\"T_81acb874_b575_11ea_8390_d07e35122383level0_row8\" class=\"row_heading level0 row8\" >28</th>\n",
       "                        <td id=\"T_81acb874_b575_11ea_8390_d07e35122383row8_col0\" class=\"data row8 col0\" >28</td>\n",
       "                        <td id=\"T_81acb874_b575_11ea_8390_d07e35122383row8_col1\" class=\"data row8 col1\" >29</td>\n",
       "                        <td id=\"T_81acb874_b575_11ea_8390_d07e35122383row8_col2\" class=\"data row8 col2\" >NG029</td>\n",
       "                        <td id=\"T_81acb874_b575_11ea_8390_d07e35122383row8_col3\" class=\"data row8 col3\" >Ondo</td>\n",
       "                        <td id=\"T_81acb874_b575_11ea_8390_d07e35122383row8_col4\" class=\"data row8 col4\" >Ondo State</td>\n",
       "                        <td id=\"T_81acb874_b575_11ea_8390_d07e35122383row8_col5\" class=\"data row8 col5\" >South West</td>\n",
       "                        <td id=\"T_81acb874_b575_11ea_8390_d07e35122383row8_col6\" class=\"data row8 col6\" >15132.2</td>\n",
       "                        <td id=\"T_81acb874_b575_11ea_8390_d07e35122383row8_col7\" class=\"data row8 col7\" >4541779</td>\n",
       "                        <td id=\"T_81acb874_b575_11ea_8390_d07e35122383row8_col8\" class=\"data row8 col8\" >6.918</td>\n",
       "                        <td id=\"T_81acb874_b575_11ea_8390_d07e35122383row8_col9\" class=\"data row8 col9\" >5.15061</td>\n",
       "                        <td id=\"T_81acb874_b575_11ea_8390_d07e35122383row8_col10\" class=\"data row8 col10\" >154</td>\n",
       "                        <td id=\"T_81acb874_b575_11ea_8390_d07e35122383row8_col11\" class=\"data row8 col11\" >17</td>\n",
       "                        <td id=\"T_81acb874_b575_11ea_8390_d07e35122383row8_col12\" class=\"data row8 col12\" >56</td>\n",
       "                        <td id=\"T_81acb874_b575_11ea_8390_d07e35122383row8_col13\" class=\"data row8 col13\" >81</td>\n",
       "                        <td id=\"T_81acb874_b575_11ea_8390_d07e35122383row8_col14\" class=\"data row8 col14\" >5</td>\n",
       "            </tr>\n",
       "            <tr>\n",
       "                        <th id=\"T_81acb874_b575_11ea_8390_d07e35122383level0_row9\" class=\"row_heading level0 row9\" >27</th>\n",
       "                        <td id=\"T_81acb874_b575_11ea_8390_d07e35122383row9_col0\" class=\"data row9 col0\" >27</td>\n",
       "                        <td id=\"T_81acb874_b575_11ea_8390_d07e35122383row9_col1\" class=\"data row9 col1\" >28</td>\n",
       "                        <td id=\"T_81acb874_b575_11ea_8390_d07e35122383row9_col2\" class=\"data row9 col2\" >NG028</td>\n",
       "                        <td id=\"T_81acb874_b575_11ea_8390_d07e35122383row9_col3\" class=\"data row9 col3\" >Ogun</td>\n",
       "                        <td id=\"T_81acb874_b575_11ea_8390_d07e35122383row9_col4\" class=\"data row9 col4\" >Ogun State</td>\n",
       "                        <td id=\"T_81acb874_b575_11ea_8390_d07e35122383row9_col5\" class=\"data row9 col5\" >South West</td>\n",
       "                        <td id=\"T_81acb874_b575_11ea_8390_d07e35122383row9_col6\" class=\"data row9 col6\" >16810.7</td>\n",
       "                        <td id=\"T_81acb874_b575_11ea_8390_d07e35122383row9_col7\" class=\"data row9 col7\" >5048351</td>\n",
       "                        <td id=\"T_81acb874_b575_11ea_8390_d07e35122383row9_col8\" class=\"data row9 col8\" >6.99514</td>\n",
       "                        <td id=\"T_81acb874_b575_11ea_8390_d07e35122383row9_col9\" class=\"data row9 col9\" >3.47326</td>\n",
       "                        <td id=\"T_81acb874_b575_11ea_8390_d07e35122383row9_col10\" class=\"data row9 col10\" >663</td>\n",
       "                        <td id=\"T_81acb874_b575_11ea_8390_d07e35122383row9_col11\" class=\"data row9 col11\" >16</td>\n",
       "                        <td id=\"T_81acb874_b575_11ea_8390_d07e35122383row9_col12\" class=\"data row9 col12\" >366</td>\n",
       "                        <td id=\"T_81acb874_b575_11ea_8390_d07e35122383row9_col13\" class=\"data row9 col13\" >281</td>\n",
       "                        <td id=\"T_81acb874_b575_11ea_8390_d07e35122383row9_col14\" class=\"data row9 col14\" >5</td>\n",
       "            </tr>\n",
       "            <tr>\n",
       "                        <th id=\"T_81acb874_b575_11ea_8390_d07e35122383level0_row10\" class=\"row_heading level0 row10\" >26</th>\n",
       "                        <td id=\"T_81acb874_b575_11ea_8390_d07e35122383row10_col0\" class=\"data row10 col0\" >26</td>\n",
       "                        <td id=\"T_81acb874_b575_11ea_8390_d07e35122383row10_col1\" class=\"data row10 col1\" >27</td>\n",
       "                        <td id=\"T_81acb874_b575_11ea_8390_d07e35122383row10_col2\" class=\"data row10 col2\" >NG027</td>\n",
       "                        <td id=\"T_81acb874_b575_11ea_8390_d07e35122383row10_col3\" class=\"data row10 col3\" >Niger</td>\n",
       "                        <td id=\"T_81acb874_b575_11ea_8390_d07e35122383row10_col4\" class=\"data row10 col4\" >Niger State</td>\n",
       "                        <td id=\"T_81acb874_b575_11ea_8390_d07e35122383row10_col5\" class=\"data row10 col5\" >North Central</td>\n",
       "                        <td id=\"T_81acb874_b575_11ea_8390_d07e35122383row10_col6\" class=\"data row10 col6\" >72143.5</td>\n",
       "                        <td id=\"T_81acb874_b575_11ea_8390_d07e35122383row10_col7\" class=\"data row10 col7\" >5394631</td>\n",
       "                        <td id=\"T_81acb874_b575_11ea_8390_d07e35122383row10_col8\" class=\"data row10 col8\" >9.93323</td>\n",
       "                        <td id=\"T_81acb874_b575_11ea_8390_d07e35122383row10_col9\" class=\"data row10 col9\" >5.59043</td>\n",
       "                        <td id=\"T_81acb874_b575_11ea_8390_d07e35122383row10_col10\" class=\"data row10 col10\" >66</td>\n",
       "                        <td id=\"T_81acb874_b575_11ea_8390_d07e35122383row10_col11\" class=\"data row10 col11\" >3</td>\n",
       "                        <td id=\"T_81acb874_b575_11ea_8390_d07e35122383row10_col12\" class=\"data row10 col12\" >37</td>\n",
       "                        <td id=\"T_81acb874_b575_11ea_8390_d07e35122383row10_col13\" class=\"data row10 col13\" >26</td>\n",
       "                        <td id=\"T_81acb874_b575_11ea_8390_d07e35122383row10_col14\" class=\"data row10 col14\" >0</td>\n",
       "            </tr>\n",
       "            <tr>\n",
       "                        <th id=\"T_81acb874_b575_11ea_8390_d07e35122383level0_row11\" class=\"row_heading level0 row11\" >25</th>\n",
       "                        <td id=\"T_81acb874_b575_11ea_8390_d07e35122383row11_col0\" class=\"data row11 col0\" >25</td>\n",
       "                        <td id=\"T_81acb874_b575_11ea_8390_d07e35122383row11_col1\" class=\"data row11 col1\" >26</td>\n",
       "                        <td id=\"T_81acb874_b575_11ea_8390_d07e35122383row11_col2\" class=\"data row11 col2\" >NG026</td>\n",
       "                        <td id=\"T_81acb874_b575_11ea_8390_d07e35122383row11_col3\" class=\"data row11 col3\" >Nasarawa</td>\n",
       "                        <td id=\"T_81acb874_b575_11ea_8390_d07e35122383row11_col4\" class=\"data row11 col4\" >Nasarawa State</td>\n",
       "                        <td id=\"T_81acb874_b575_11ea_8390_d07e35122383row11_col5\" class=\"data row11 col5\" >North Central</td>\n",
       "                        <td id=\"T_81acb874_b575_11ea_8390_d07e35122383row11_col6\" class=\"data row11 col6\" >26750.5</td>\n",
       "                        <td id=\"T_81acb874_b575_11ea_8390_d07e35122383row11_col7\" class=\"data row11 col7\" >2459321</td>\n",
       "                        <td id=\"T_81acb874_b575_11ea_8390_d07e35122383row11_col8\" class=\"data row11 col8\" >8.51045</td>\n",
       "                        <td id=\"T_81acb874_b575_11ea_8390_d07e35122383row11_col9\" class=\"data row11 col9\" >8.19796</td>\n",
       "                        <td id=\"T_81acb874_b575_11ea_8390_d07e35122383row11_col10\" class=\"data row11 col10\" >193</td>\n",
       "                        <td id=\"T_81acb874_b575_11ea_8390_d07e35122383row11_col11\" class=\"data row11 col11\" >6</td>\n",
       "                        <td id=\"T_81acb874_b575_11ea_8390_d07e35122383row11_col12\" class=\"data row11 col12\" >94</td>\n",
       "                        <td id=\"T_81acb874_b575_11ea_8390_d07e35122383row11_col13\" class=\"data row11 col13\" >93</td>\n",
       "                        <td id=\"T_81acb874_b575_11ea_8390_d07e35122383row11_col14\" class=\"data row11 col14\" >9</td>\n",
       "            </tr>\n",
       "            <tr>\n",
       "                        <th id=\"T_81acb874_b575_11ea_8390_d07e35122383level0_row12\" class=\"row_heading level0 row12\" >24</th>\n",
       "                        <td id=\"T_81acb874_b575_11ea_8390_d07e35122383row12_col0\" class=\"data row12 col0\" >24</td>\n",
       "                        <td id=\"T_81acb874_b575_11ea_8390_d07e35122383row12_col1\" class=\"data row12 col1\" >25</td>\n",
       "                        <td id=\"T_81acb874_b575_11ea_8390_d07e35122383row12_col2\" class=\"data row12 col2\" >NG025</td>\n",
       "                        <td id=\"T_81acb874_b575_11ea_8390_d07e35122383row12_col3\" class=\"data row12 col3\" >Lagos</td>\n",
       "                        <td id=\"T_81acb874_b575_11ea_8390_d07e35122383row12_col4\" class=\"data row12 col4\" >Lagos State</td>\n",
       "                        <td id=\"T_81acb874_b575_11ea_8390_d07e35122383row12_col5\" class=\"data row12 col5\" >South West</td>\n",
       "                        <td id=\"T_81acb874_b575_11ea_8390_d07e35122383row12_col6\" class=\"data row12 col6\" >3701.45</td>\n",
       "                        <td id=\"T_81acb874_b575_11ea_8390_d07e35122383row12_col7\" class=\"data row12 col7\" >12102238</td>\n",
       "                        <td id=\"T_81acb874_b575_11ea_8390_d07e35122383row12_col8\" class=\"data row12 col8\" >6.52242</td>\n",
       "                        <td id=\"T_81acb874_b575_11ea_8390_d07e35122383row12_col9\" class=\"data row12 col9\" >3.58697</td>\n",
       "                        <td id=\"T_81acb874_b575_11ea_8390_d07e35122383row12_col10\" class=\"data row12 col10\" >8864</td>\n",
       "                        <td id=\"T_81acb874_b575_11ea_8390_d07e35122383row12_col11\" class=\"data row12 col11\" >126</td>\n",
       "                        <td id=\"T_81acb874_b575_11ea_8390_d07e35122383row12_col12\" class=\"data row12 col12\" >1448</td>\n",
       "                        <td id=\"T_81acb874_b575_11ea_8390_d07e35122383row12_col13\" class=\"data row12 col13\" >7290</td>\n",
       "                        <td id=\"T_81acb874_b575_11ea_8390_d07e35122383row12_col14\" class=\"data row12 col14\" >122</td>\n",
       "            </tr>\n",
       "    </tbody></table>"
      ],
      "text/plain": [
       "<pandas.io.formats.style.Styler at 0x25d69e65a08>"
      ]
     },
     "execution_count": 24,
     "metadata": {},
     "output_type": "execute_result"
    }
   ],
   "source": [
    "def highlights_col(x):\n",
    "    a = 'background-color: grey'\n",
    "    b = 'background-color: yellow'\n",
    "    c = 'background-color: red'\n",
    "    d = 'background-color: orange'\n",
    "    temp_df = pd.DataFrame('', index = x.index, columns = x.columns)\n",
    "    temp_df.iloc[:,3] = a\n",
    "    temp_df.iloc[:,10] = b\n",
    "    temp_df.iloc[:,11] = c\n",
    "    temp_df.iloc[:,12] = d\n",
    "    return temp_df\n",
    "\n",
    "sorted_covid_states_nig_data.style.apply(highlights_col, axis=None)"
   ]
  },
  {
   "cell_type": "code",
   "execution_count": 95,
   "metadata": {},
   "outputs": [
    {
     "data": {
      "text/html": [
       "<style  type=\"text/css\" >\n",
       "    #T_7e338cae_b588_11ea_a9a9_d07e35122383row0_col1 {\n",
       "            background-color:  orange;\n",
       "        }    #T_7e338cae_b588_11ea_a9a9_d07e35122383row0_col4 {\n",
       "            background-color:  yellow;\n",
       "        }    #T_7e338cae_b588_11ea_a9a9_d07e35122383row0_col5 {\n",
       "            background-color:  green;\n",
       "        }    #T_7e338cae_b588_11ea_a9a9_d07e35122383row1_col1 {\n",
       "            background-color:  orange;\n",
       "        }    #T_7e338cae_b588_11ea_a9a9_d07e35122383row1_col4 {\n",
       "            background-color:  yellow;\n",
       "        }    #T_7e338cae_b588_11ea_a9a9_d07e35122383row1_col5 {\n",
       "            background-color:  green;\n",
       "        }    #T_7e338cae_b588_11ea_a9a9_d07e35122383row2_col1 {\n",
       "            background-color:  orange;\n",
       "        }    #T_7e338cae_b588_11ea_a9a9_d07e35122383row2_col4 {\n",
       "            background-color:  yellow;\n",
       "        }    #T_7e338cae_b588_11ea_a9a9_d07e35122383row2_col5 {\n",
       "            background-color:  green;\n",
       "        }    #T_7e338cae_b588_11ea_a9a9_d07e35122383row3_col1 {\n",
       "            background-color:  orange;\n",
       "        }    #T_7e338cae_b588_11ea_a9a9_d07e35122383row3_col4 {\n",
       "            background-color:  yellow;\n",
       "        }    #T_7e338cae_b588_11ea_a9a9_d07e35122383row3_col5 {\n",
       "            background-color:  green;\n",
       "        }    #T_7e338cae_b588_11ea_a9a9_d07e35122383row4_col1 {\n",
       "            background-color:  orange;\n",
       "        }    #T_7e338cae_b588_11ea_a9a9_d07e35122383row4_col4 {\n",
       "            background-color:  yellow;\n",
       "        }    #T_7e338cae_b588_11ea_a9a9_d07e35122383row4_col5 {\n",
       "            background-color:  green;\n",
       "        }    #T_7e338cae_b588_11ea_a9a9_d07e35122383row5_col1 {\n",
       "            background-color:  orange;\n",
       "        }    #T_7e338cae_b588_11ea_a9a9_d07e35122383row5_col4 {\n",
       "            background-color:  yellow;\n",
       "        }    #T_7e338cae_b588_11ea_a9a9_d07e35122383row5_col5 {\n",
       "            background-color:  green;\n",
       "        }    #T_7e338cae_b588_11ea_a9a9_d07e35122383row6_col1 {\n",
       "            background-color:  orange;\n",
       "        }    #T_7e338cae_b588_11ea_a9a9_d07e35122383row6_col4 {\n",
       "            background-color:  yellow;\n",
       "        }    #T_7e338cae_b588_11ea_a9a9_d07e35122383row6_col5 {\n",
       "            background-color:  green;\n",
       "        }    #T_7e338cae_b588_11ea_a9a9_d07e35122383row7_col1 {\n",
       "            background-color:  orange;\n",
       "        }    #T_7e338cae_b588_11ea_a9a9_d07e35122383row7_col4 {\n",
       "            background-color:  yellow;\n",
       "        }    #T_7e338cae_b588_11ea_a9a9_d07e35122383row7_col5 {\n",
       "            background-color:  green;\n",
       "        }    #T_7e338cae_b588_11ea_a9a9_d07e35122383row8_col1 {\n",
       "            background-color:  orange;\n",
       "        }    #T_7e338cae_b588_11ea_a9a9_d07e35122383row8_col4 {\n",
       "            background-color:  yellow;\n",
       "        }    #T_7e338cae_b588_11ea_a9a9_d07e35122383row8_col5 {\n",
       "            background-color:  green;\n",
       "        }    #T_7e338cae_b588_11ea_a9a9_d07e35122383row9_col1 {\n",
       "            background-color:  orange;\n",
       "        }    #T_7e338cae_b588_11ea_a9a9_d07e35122383row9_col4 {\n",
       "            background-color:  yellow;\n",
       "        }    #T_7e338cae_b588_11ea_a9a9_d07e35122383row9_col5 {\n",
       "            background-color:  green;\n",
       "        }</style><table id=\"T_7e338cae_b588_11ea_a9a9_d07e35122383\" ><thead>    <tr>        <th class=\"blank level0\" ></th>        <th class=\"col_heading level0 col0\" >DATE</th>        <th class=\"col_heading level0 col1\" >TOTAL CONFIRMED</th>        <th class=\"col_heading level0 col2\" >NEW CASES</th>        <th class=\"col_heading level0 col3\" >ACTIVE CASES</th>        <th class=\"col_heading level0 col4\" >DEATHS</th>        <th class=\"col_heading level0 col5\" >RECOVERED</th>        <th class=\"col_heading level0 col6\" >DAILY DEATHS</th>        <th class=\"col_heading level0 col7\" >DAILY RECOVERED</th>    </tr></thead><tbody>\n",
       "                <tr>\n",
       "                        <th id=\"T_7e338cae_b588_11ea_a9a9_d07e35122383level0_row0\" class=\"row_heading level0 row0\" >116</th>\n",
       "                        <td id=\"T_7e338cae_b588_11ea_a9a9_d07e35122383row0_col0\" class=\"data row0 col0\" >06/22/2020</td>\n",
       "                        <td id=\"T_7e338cae_b588_11ea_a9a9_d07e35122383row0_col1\" class=\"data row0 col1\" >20919</td>\n",
       "                        <td id=\"T_7e338cae_b588_11ea_a9a9_d07e35122383row0_col2\" class=\"data row0 col2\" >675</td>\n",
       "                        <td id=\"T_7e338cae_b588_11ea_a9a9_d07e35122383row0_col3\" class=\"data row0 col3\" >13285</td>\n",
       "                        <td id=\"T_7e338cae_b588_11ea_a9a9_d07e35122383row0_col4\" class=\"data row0 col4\" >525</td>\n",
       "                        <td id=\"T_7e338cae_b588_11ea_a9a9_d07e35122383row0_col5\" class=\"data row0 col5\" >7109</td>\n",
       "                        <td id=\"T_7e338cae_b588_11ea_a9a9_d07e35122383row0_col6\" class=\"data row0 col6\" >7</td>\n",
       "                        <td id=\"T_7e338cae_b588_11ea_a9a9_d07e35122383row0_col7\" class=\"data row0 col7\" >230</td>\n",
       "            </tr>\n",
       "            <tr>\n",
       "                        <th id=\"T_7e338cae_b588_11ea_a9a9_d07e35122383level0_row1\" class=\"row_heading level0 row1\" >115</th>\n",
       "                        <td id=\"T_7e338cae_b588_11ea_a9a9_d07e35122383row1_col0\" class=\"data row1 col0\" >06/21/2020</td>\n",
       "                        <td id=\"T_7e338cae_b588_11ea_a9a9_d07e35122383row1_col1\" class=\"data row1 col1\" >20244</td>\n",
       "                        <td id=\"T_7e338cae_b588_11ea_a9a9_d07e35122383row1_col2\" class=\"data row1 col2\" >436</td>\n",
       "                        <td id=\"T_7e338cae_b588_11ea_a9a9_d07e35122383row1_col3\" class=\"data row1 col3\" >12847</td>\n",
       "                        <td id=\"T_7e338cae_b588_11ea_a9a9_d07e35122383row1_col4\" class=\"data row1 col4\" >518</td>\n",
       "                        <td id=\"T_7e338cae_b588_11ea_a9a9_d07e35122383row1_col5\" class=\"data row1 col5\" >6879</td>\n",
       "                        <td id=\"T_7e338cae_b588_11ea_a9a9_d07e35122383row1_col6\" class=\"data row1 col6\" >12</td>\n",
       "                        <td id=\"T_7e338cae_b588_11ea_a9a9_d07e35122383row1_col7\" class=\"data row1 col7\" >161</td>\n",
       "            </tr>\n",
       "            <tr>\n",
       "                        <th id=\"T_7e338cae_b588_11ea_a9a9_d07e35122383level0_row2\" class=\"row_heading level0 row2\" >114</th>\n",
       "                        <td id=\"T_7e338cae_b588_11ea_a9a9_d07e35122383row2_col0\" class=\"data row2 col0\" >06/20/2020</td>\n",
       "                        <td id=\"T_7e338cae_b588_11ea_a9a9_d07e35122383row2_col1\" class=\"data row2 col1\" >19808</td>\n",
       "                        <td id=\"T_7e338cae_b588_11ea_a9a9_d07e35122383row2_col2\" class=\"data row2 col2\" >661</td>\n",
       "                        <td id=\"T_7e338cae_b588_11ea_a9a9_d07e35122383row2_col3\" class=\"data row2 col3\" >12584</td>\n",
       "                        <td id=\"T_7e338cae_b588_11ea_a9a9_d07e35122383row2_col4\" class=\"data row2 col4\" >506</td>\n",
       "                        <td id=\"T_7e338cae_b588_11ea_a9a9_d07e35122383row2_col5\" class=\"data row2 col5\" >6718</td>\n",
       "                        <td id=\"T_7e338cae_b588_11ea_a9a9_d07e35122383row2_col6\" class=\"data row2 col6\" >19</td>\n",
       "                        <td id=\"T_7e338cae_b588_11ea_a9a9_d07e35122383row2_col7\" class=\"data row2 col7\" >137</td>\n",
       "            </tr>\n",
       "            <tr>\n",
       "                        <th id=\"T_7e338cae_b588_11ea_a9a9_d07e35122383level0_row3\" class=\"row_heading level0 row3\" >113</th>\n",
       "                        <td id=\"T_7e338cae_b588_11ea_a9a9_d07e35122383row3_col0\" class=\"data row3 col0\" >06/19/2020</td>\n",
       "                        <td id=\"T_7e338cae_b588_11ea_a9a9_d07e35122383row3_col1\" class=\"data row3 col1\" >19147</td>\n",
       "                        <td id=\"T_7e338cae_b588_11ea_a9a9_d07e35122383row3_col2\" class=\"data row3 col2\" >667</td>\n",
       "                        <td id=\"T_7e338cae_b588_11ea_a9a9_d07e35122383row3_col3\" class=\"data row3 col3\" >12079</td>\n",
       "                        <td id=\"T_7e338cae_b588_11ea_a9a9_d07e35122383row3_col4\" class=\"data row3 col4\" >487</td>\n",
       "                        <td id=\"T_7e338cae_b588_11ea_a9a9_d07e35122383row3_col5\" class=\"data row3 col5\" >6581</td>\n",
       "                        <td id=\"T_7e338cae_b588_11ea_a9a9_d07e35122383row3_col6\" class=\"data row3 col6\" >12</td>\n",
       "                        <td id=\"T_7e338cae_b588_11ea_a9a9_d07e35122383row3_col7\" class=\"data row3 col7\" >274</td>\n",
       "            </tr>\n",
       "            <tr>\n",
       "                        <th id=\"T_7e338cae_b588_11ea_a9a9_d07e35122383level0_row4\" class=\"row_heading level0 row4\" >112</th>\n",
       "                        <td id=\"T_7e338cae_b588_11ea_a9a9_d07e35122383row4_col0\" class=\"data row4 col0\" >06/18/2020</td>\n",
       "                        <td id=\"T_7e338cae_b588_11ea_a9a9_d07e35122383row4_col1\" class=\"data row4 col1\" >18480</td>\n",
       "                        <td id=\"T_7e338cae_b588_11ea_a9a9_d07e35122383row4_col2\" class=\"data row4 col2\" >745</td>\n",
       "                        <td id=\"T_7e338cae_b588_11ea_a9a9_d07e35122383row4_col3\" class=\"data row4 col3\" >11698</td>\n",
       "                        <td id=\"T_7e338cae_b588_11ea_a9a9_d07e35122383row4_col4\" class=\"data row4 col4\" >475</td>\n",
       "                        <td id=\"T_7e338cae_b588_11ea_a9a9_d07e35122383row4_col5\" class=\"data row4 col5\" >6307</td>\n",
       "                        <td id=\"T_7e338cae_b588_11ea_a9a9_d07e35122383row4_col6\" class=\"data row4 col6\" >6</td>\n",
       "                        <td id=\"T_7e338cae_b588_11ea_a9a9_d07e35122383row4_col7\" class=\"data row4 col7\" >340</td>\n",
       "            </tr>\n",
       "            <tr>\n",
       "                        <th id=\"T_7e338cae_b588_11ea_a9a9_d07e35122383level0_row5\" class=\"row_heading level0 row5\" >111</th>\n",
       "                        <td id=\"T_7e338cae_b588_11ea_a9a9_d07e35122383row5_col0\" class=\"data row5 col0\" >06/17/2020</td>\n",
       "                        <td id=\"T_7e338cae_b588_11ea_a9a9_d07e35122383row5_col1\" class=\"data row5 col1\" >17735</td>\n",
       "                        <td id=\"T_7e338cae_b588_11ea_a9a9_d07e35122383row5_col2\" class=\"data row5 col2\" >587</td>\n",
       "                        <td id=\"T_7e338cae_b588_11ea_a9a9_d07e35122383row5_col3\" class=\"data row5 col3\" >11299</td>\n",
       "                        <td id=\"T_7e338cae_b588_11ea_a9a9_d07e35122383row5_col4\" class=\"data row5 col4\" >469</td>\n",
       "                        <td id=\"T_7e338cae_b588_11ea_a9a9_d07e35122383row5_col5\" class=\"data row5 col5\" >5967</td>\n",
       "                        <td id=\"T_7e338cae_b588_11ea_a9a9_d07e35122383row5_col6\" class=\"data row5 col6\" >14</td>\n",
       "                        <td id=\"T_7e338cae_b588_11ea_a9a9_d07e35122383row5_col7\" class=\"data row5 col7\" >344</td>\n",
       "            </tr>\n",
       "            <tr>\n",
       "                        <th id=\"T_7e338cae_b588_11ea_a9a9_d07e35122383level0_row6\" class=\"row_heading level0 row6\" >110</th>\n",
       "                        <td id=\"T_7e338cae_b588_11ea_a9a9_d07e35122383row6_col0\" class=\"data row6 col0\" >06/16/2020</td>\n",
       "                        <td id=\"T_7e338cae_b588_11ea_a9a9_d07e35122383row6_col1\" class=\"data row6 col1\" >17148</td>\n",
       "                        <td id=\"T_7e338cae_b588_11ea_a9a9_d07e35122383row6_col2\" class=\"data row6 col2\" >490</td>\n",
       "                        <td id=\"T_7e338cae_b588_11ea_a9a9_d07e35122383row6_col3\" class=\"data row6 col3\" >11070</td>\n",
       "                        <td id=\"T_7e338cae_b588_11ea_a9a9_d07e35122383row6_col4\" class=\"data row6 col4\" >455</td>\n",
       "                        <td id=\"T_7e338cae_b588_11ea_a9a9_d07e35122383row6_col5\" class=\"data row6 col5\" >5623</td>\n",
       "                        <td id=\"T_7e338cae_b588_11ea_a9a9_d07e35122383row6_col6\" class=\"data row6 col6\" >31</td>\n",
       "                        <td id=\"T_7e338cae_b588_11ea_a9a9_d07e35122383row6_col7\" class=\"data row6 col7\" >274</td>\n",
       "            </tr>\n",
       "            <tr>\n",
       "                        <th id=\"T_7e338cae_b588_11ea_a9a9_d07e35122383level0_row7\" class=\"row_heading level0 row7\" >109</th>\n",
       "                        <td id=\"T_7e338cae_b588_11ea_a9a9_d07e35122383row7_col0\" class=\"data row7 col0\" >06/15/2020</td>\n",
       "                        <td id=\"T_7e338cae_b588_11ea_a9a9_d07e35122383row7_col1\" class=\"data row7 col1\" >16658</td>\n",
       "                        <td id=\"T_7e338cae_b588_11ea_a9a9_d07e35122383row7_col2\" class=\"data row7 col2\" >573</td>\n",
       "                        <td id=\"T_7e338cae_b588_11ea_a9a9_d07e35122383row7_col3\" class=\"data row7 col3\" >10885</td>\n",
       "                        <td id=\"T_7e338cae_b588_11ea_a9a9_d07e35122383row7_col4\" class=\"data row7 col4\" >424</td>\n",
       "                        <td id=\"T_7e338cae_b588_11ea_a9a9_d07e35122383row7_col5\" class=\"data row7 col5\" >5349</td>\n",
       "                        <td id=\"T_7e338cae_b588_11ea_a9a9_d07e35122383row7_col6\" class=\"data row7 col6\" >4</td>\n",
       "                        <td id=\"T_7e338cae_b588_11ea_a9a9_d07e35122383row7_col7\" class=\"data row7 col7\" >129</td>\n",
       "            </tr>\n",
       "            <tr>\n",
       "                        <th id=\"T_7e338cae_b588_11ea_a9a9_d07e35122383level0_row8\" class=\"row_heading level0 row8\" >108</th>\n",
       "                        <td id=\"T_7e338cae_b588_11ea_a9a9_d07e35122383row8_col0\" class=\"data row8 col0\" >06/14/2020</td>\n",
       "                        <td id=\"T_7e338cae_b588_11ea_a9a9_d07e35122383row8_col1\" class=\"data row8 col1\" >16085</td>\n",
       "                        <td id=\"T_7e338cae_b588_11ea_a9a9_d07e35122383row8_col2\" class=\"data row8 col2\" >403</td>\n",
       "                        <td id=\"T_7e338cae_b588_11ea_a9a9_d07e35122383row8_col3\" class=\"data row8 col3\" >10445</td>\n",
       "                        <td id=\"T_7e338cae_b588_11ea_a9a9_d07e35122383row8_col4\" class=\"data row8 col4\" >420</td>\n",
       "                        <td id=\"T_7e338cae_b588_11ea_a9a9_d07e35122383row8_col5\" class=\"data row8 col5\" >5220</td>\n",
       "                        <td id=\"T_7e338cae_b588_11ea_a9a9_d07e35122383row8_col6\" class=\"data row8 col6\" >13</td>\n",
       "                        <td id=\"T_7e338cae_b588_11ea_a9a9_d07e35122383row8_col7\" class=\"data row8 col7\" >119</td>\n",
       "            </tr>\n",
       "            <tr>\n",
       "                        <th id=\"T_7e338cae_b588_11ea_a9a9_d07e35122383level0_row9\" class=\"row_heading level0 row9\" >107</th>\n",
       "                        <td id=\"T_7e338cae_b588_11ea_a9a9_d07e35122383row9_col0\" class=\"data row9 col0\" >06/13/2020</td>\n",
       "                        <td id=\"T_7e338cae_b588_11ea_a9a9_d07e35122383row9_col1\" class=\"data row9 col1\" >15682</td>\n",
       "                        <td id=\"T_7e338cae_b588_11ea_a9a9_d07e35122383row9_col2\" class=\"data row9 col2\" >501</td>\n",
       "                        <td id=\"T_7e338cae_b588_11ea_a9a9_d07e35122383row9_col3\" class=\"data row9 col3\" >10174</td>\n",
       "                        <td id=\"T_7e338cae_b588_11ea_a9a9_d07e35122383row9_col4\" class=\"data row9 col4\" >407</td>\n",
       "                        <td id=\"T_7e338cae_b588_11ea_a9a9_d07e35122383row9_col5\" class=\"data row9 col5\" >5101</td>\n",
       "                        <td id=\"T_7e338cae_b588_11ea_a9a9_d07e35122383row9_col6\" class=\"data row9 col6\" >8</td>\n",
       "                        <td id=\"T_7e338cae_b588_11ea_a9a9_d07e35122383row9_col7\" class=\"data row9 col7\" >210</td>\n",
       "            </tr>\n",
       "    </tbody></table>"
      ],
      "text/plain": [
       "<pandas.io.formats.style.Styler at 0x25d66678288>"
      ]
     },
     "execution_count": 95,
     "metadata": {},
     "output_type": "execute_result"
    }
   ],
   "source": [
    "# for easy access\n",
    "def highlight_col(x):\n",
    "    a = 'background-color: green'\n",
    "    b = 'background-color: yellow'\n",
    "    c = 'background-color: orange'\n",
    "    temp_df = pd.DataFrame('', index = x.index, columns = x.columns)\n",
    "    temp_df.iloc[:,5] = a\n",
    "    temp_df.iloc[:,4] = b\n",
    "    temp_df.iloc[:,1] = c\n",
    "    return temp_df\n",
    "\n",
    "sorted_covid_daily_updates_data.style.apply(highlight_col, axis=None)"
   ]
  },
  {
   "cell_type": "markdown",
   "metadata": {},
   "source": [
    " ## Checking the cases rate for the state in Nigeria"
   ]
  },
  {
   "cell_type": "code",
   "execution_count": 70,
   "metadata": {},
   "outputs": [],
   "source": [
    "fig1 = px.scatter(sorted_covid_states_nig_data.head(13), x='STATE', y='CASES', size = 'CASES', \n",
    "                color = 'STATE', hover_name = 'STATE', size_max = 60)"
   ]
  },
  {
   "cell_type": "code",
   "execution_count": 71,
   "metadata": {},
   "outputs": [
    {
     "data": {
      "application/vnd.plotly.v1+json": {
       "config": {
        "plotlyServerURL": "https://plot.ly"
       },
       "data": [
        {
         "hovertemplate": "<b>%{hovertext}</b><br><br>STATE=%{x}<br>CASES=%{marker.size}<extra></extra>",
         "hovertext": [
          "Zamfara"
         ],
         "legendgroup": "Zamfara",
         "marker": {
          "color": "#636efa",
          "size": [
           76
          ],
          "sizemode": "area",
          "sizeref": 2.462222222222222,
          "symbol": "circle"
         },
         "mode": "markers",
         "name": "Zamfara",
         "orientation": "v",
         "showlegend": true,
         "type": "scatter",
         "x": [
          "Zamfara"
         ],
         "xaxis": "x",
         "y": [
          76
         ],
         "yaxis": "y"
        },
        {
         "hovertemplate": "<b>%{hovertext}</b><br><br>STATE=%{x}<br>CASES=%{marker.size}<extra></extra>",
         "hovertext": [
          "Yobe"
         ],
         "legendgroup": "Yobe",
         "marker": {
          "color": "#EF553B",
          "size": [
           56
          ],
          "sizemode": "area",
          "sizeref": 2.462222222222222,
          "symbol": "circle"
         },
         "mode": "markers",
         "name": "Yobe",
         "orientation": "v",
         "showlegend": true,
         "type": "scatter",
         "x": [
          "Yobe"
         ],
         "xaxis": "x",
         "y": [
          56
         ],
         "yaxis": "y"
        },
        {
         "hovertemplate": "<b>%{hovertext}</b><br><br>STATE=%{x}<br>CASES=%{marker.size}<extra></extra>",
         "hovertext": [
          "Taraba"
         ],
         "legendgroup": "Taraba",
         "marker": {
          "color": "#00cc96",
          "size": [
           18
          ],
          "sizemode": "area",
          "sizeref": 2.462222222222222,
          "symbol": "circle"
         },
         "mode": "markers",
         "name": "Taraba",
         "orientation": "v",
         "showlegend": true,
         "type": "scatter",
         "x": [
          "Taraba"
         ],
         "xaxis": "x",
         "y": [
          18
         ],
         "yaxis": "y"
        },
        {
         "hovertemplate": "<b>%{hovertext}</b><br><br>STATE=%{x}<br>CASES=%{marker.size}<extra></extra>",
         "hovertext": [
          "Sokoto"
         ],
         "legendgroup": "Sokoto",
         "marker": {
          "color": "#ab63fa",
          "size": [
           138
          ],
          "sizemode": "area",
          "sizeref": 2.462222222222222,
          "symbol": "circle"
         },
         "mode": "markers",
         "name": "Sokoto",
         "orientation": "v",
         "showlegend": true,
         "type": "scatter",
         "x": [
          "Sokoto"
         ],
         "xaxis": "x",
         "y": [
          138
         ],
         "yaxis": "y"
        },
        {
         "hovertemplate": "<b>%{hovertext}</b><br><br>STATE=%{x}<br>CASES=%{marker.size}<extra></extra>",
         "hovertext": [
          "Rivers"
         ],
         "legendgroup": "Rivers",
         "marker": {
          "color": "#FFA15A",
          "size": [
           930
          ],
          "sizemode": "area",
          "sizeref": 2.462222222222222,
          "symbol": "circle"
         },
         "mode": "markers",
         "name": "Rivers",
         "orientation": "v",
         "showlegend": true,
         "type": "scatter",
         "x": [
          "Rivers"
         ],
         "xaxis": "x",
         "y": [
          930
         ],
         "yaxis": "y"
        },
        {
         "hovertemplate": "<b>%{hovertext}</b><br><br>STATE=%{x}<br>CASES=%{marker.size}<extra></extra>",
         "hovertext": [
          "Plateau"
         ],
         "legendgroup": "Plateau",
         "marker": {
          "color": "#19d3f3",
          "size": [
           253
          ],
          "sizemode": "area",
          "sizeref": 2.462222222222222,
          "symbol": "circle"
         },
         "mode": "markers",
         "name": "Plateau",
         "orientation": "v",
         "showlegend": true,
         "type": "scatter",
         "x": [
          "Plateau"
         ],
         "xaxis": "x",
         "y": [
          253
         ],
         "yaxis": "y"
        },
        {
         "hovertemplate": "<b>%{hovertext}</b><br><br>STATE=%{x}<br>CASES=%{marker.size}<extra></extra>",
         "hovertext": [
          "Oyo"
         ],
         "legendgroup": "Oyo",
         "marker": {
          "color": "#FF6692",
          "size": [
           988
          ],
          "sizemode": "area",
          "sizeref": 2.462222222222222,
          "symbol": "circle"
         },
         "mode": "markers",
         "name": "Oyo",
         "orientation": "v",
         "showlegend": true,
         "type": "scatter",
         "x": [
          "Oyo"
         ],
         "xaxis": "x",
         "y": [
          988
         ],
         "yaxis": "y"
        },
        {
         "hovertemplate": "<b>%{hovertext}</b><br><br>STATE=%{x}<br>CASES=%{marker.size}<extra></extra>",
         "hovertext": [
          "Osun"
         ],
         "legendgroup": "Osun",
         "marker": {
          "color": "#B6E880",
          "size": [
           60
          ],
          "sizemode": "area",
          "sizeref": 2.462222222222222,
          "symbol": "circle"
         },
         "mode": "markers",
         "name": "Osun",
         "orientation": "v",
         "showlegend": true,
         "type": "scatter",
         "x": [
          "Osun"
         ],
         "xaxis": "x",
         "y": [
          60
         ],
         "yaxis": "y"
        },
        {
         "hovertemplate": "<b>%{hovertext}</b><br><br>STATE=%{x}<br>CASES=%{marker.size}<extra></extra>",
         "hovertext": [
          "Ondo"
         ],
         "legendgroup": "Ondo",
         "marker": {
          "color": "#FF97FF",
          "size": [
           154
          ],
          "sizemode": "area",
          "sizeref": 2.462222222222222,
          "symbol": "circle"
         },
         "mode": "markers",
         "name": "Ondo",
         "orientation": "v",
         "showlegend": true,
         "type": "scatter",
         "x": [
          "Ondo"
         ],
         "xaxis": "x",
         "y": [
          154
         ],
         "yaxis": "y"
        },
        {
         "hovertemplate": "<b>%{hovertext}</b><br><br>STATE=%{x}<br>CASES=%{marker.size}<extra></extra>",
         "hovertext": [
          "Ogun"
         ],
         "legendgroup": "Ogun",
         "marker": {
          "color": "#FECB52",
          "size": [
           663
          ],
          "sizemode": "area",
          "sizeref": 2.462222222222222,
          "symbol": "circle"
         },
         "mode": "markers",
         "name": "Ogun",
         "orientation": "v",
         "showlegend": true,
         "type": "scatter",
         "x": [
          "Ogun"
         ],
         "xaxis": "x",
         "y": [
          663
         ],
         "yaxis": "y"
        },
        {
         "hovertemplate": "<b>%{hovertext}</b><br><br>STATE=%{x}<br>CASES=%{marker.size}<extra></extra>",
         "hovertext": [
          "Niger"
         ],
         "legendgroup": "Niger",
         "marker": {
          "color": "#636efa",
          "size": [
           66
          ],
          "sizemode": "area",
          "sizeref": 2.462222222222222,
          "symbol": "circle"
         },
         "mode": "markers",
         "name": "Niger",
         "orientation": "v",
         "showlegend": true,
         "type": "scatter",
         "x": [
          "Niger"
         ],
         "xaxis": "x",
         "y": [
          66
         ],
         "yaxis": "y"
        },
        {
         "hovertemplate": "<b>%{hovertext}</b><br><br>STATE=%{x}<br>CASES=%{marker.size}<extra></extra>",
         "hovertext": [
          "Nasarawa"
         ],
         "legendgroup": "Nasarawa",
         "marker": {
          "color": "#EF553B",
          "size": [
           193
          ],
          "sizemode": "area",
          "sizeref": 2.462222222222222,
          "symbol": "circle"
         },
         "mode": "markers",
         "name": "Nasarawa",
         "orientation": "v",
         "showlegend": true,
         "type": "scatter",
         "x": [
          "Nasarawa"
         ],
         "xaxis": "x",
         "y": [
          193
         ],
         "yaxis": "y"
        },
        {
         "hovertemplate": "<b>%{hovertext}</b><br><br>STATE=%{x}<br>CASES=%{marker.size}<extra></extra>",
         "hovertext": [
          "Lagos"
         ],
         "legendgroup": "Lagos",
         "marker": {
          "color": "#00cc96",
          "size": [
           8864
          ],
          "sizemode": "area",
          "sizeref": 2.462222222222222,
          "symbol": "circle"
         },
         "mode": "markers",
         "name": "Lagos",
         "orientation": "v",
         "showlegend": true,
         "type": "scatter",
         "x": [
          "Lagos"
         ],
         "xaxis": "x",
         "y": [
          8864
         ],
         "yaxis": "y"
        }
       ],
       "layout": {
        "legend": {
         "itemsizing": "constant",
         "title": {
          "text": "STATE"
         },
         "tracegroupgap": 0
        },
        "margin": {
         "t": 60
        },
        "template": {
         "data": {
          "bar": [
           {
            "error_x": {
             "color": "#2a3f5f"
            },
            "error_y": {
             "color": "#2a3f5f"
            },
            "marker": {
             "line": {
              "color": "#E5ECF6",
              "width": 0.5
             }
            },
            "type": "bar"
           }
          ],
          "barpolar": [
           {
            "marker": {
             "line": {
              "color": "#E5ECF6",
              "width": 0.5
             }
            },
            "type": "barpolar"
           }
          ],
          "carpet": [
           {
            "aaxis": {
             "endlinecolor": "#2a3f5f",
             "gridcolor": "white",
             "linecolor": "white",
             "minorgridcolor": "white",
             "startlinecolor": "#2a3f5f"
            },
            "baxis": {
             "endlinecolor": "#2a3f5f",
             "gridcolor": "white",
             "linecolor": "white",
             "minorgridcolor": "white",
             "startlinecolor": "#2a3f5f"
            },
            "type": "carpet"
           }
          ],
          "choropleth": [
           {
            "colorbar": {
             "outlinewidth": 0,
             "ticks": ""
            },
            "type": "choropleth"
           }
          ],
          "contour": [
           {
            "colorbar": {
             "outlinewidth": 0,
             "ticks": ""
            },
            "colorscale": [
             [
              0,
              "#0d0887"
             ],
             [
              0.1111111111111111,
              "#46039f"
             ],
             [
              0.2222222222222222,
              "#7201a8"
             ],
             [
              0.3333333333333333,
              "#9c179e"
             ],
             [
              0.4444444444444444,
              "#bd3786"
             ],
             [
              0.5555555555555556,
              "#d8576b"
             ],
             [
              0.6666666666666666,
              "#ed7953"
             ],
             [
              0.7777777777777778,
              "#fb9f3a"
             ],
             [
              0.8888888888888888,
              "#fdca26"
             ],
             [
              1,
              "#f0f921"
             ]
            ],
            "type": "contour"
           }
          ],
          "contourcarpet": [
           {
            "colorbar": {
             "outlinewidth": 0,
             "ticks": ""
            },
            "type": "contourcarpet"
           }
          ],
          "heatmap": [
           {
            "colorbar": {
             "outlinewidth": 0,
             "ticks": ""
            },
            "colorscale": [
             [
              0,
              "#0d0887"
             ],
             [
              0.1111111111111111,
              "#46039f"
             ],
             [
              0.2222222222222222,
              "#7201a8"
             ],
             [
              0.3333333333333333,
              "#9c179e"
             ],
             [
              0.4444444444444444,
              "#bd3786"
             ],
             [
              0.5555555555555556,
              "#d8576b"
             ],
             [
              0.6666666666666666,
              "#ed7953"
             ],
             [
              0.7777777777777778,
              "#fb9f3a"
             ],
             [
              0.8888888888888888,
              "#fdca26"
             ],
             [
              1,
              "#f0f921"
             ]
            ],
            "type": "heatmap"
           }
          ],
          "heatmapgl": [
           {
            "colorbar": {
             "outlinewidth": 0,
             "ticks": ""
            },
            "colorscale": [
             [
              0,
              "#0d0887"
             ],
             [
              0.1111111111111111,
              "#46039f"
             ],
             [
              0.2222222222222222,
              "#7201a8"
             ],
             [
              0.3333333333333333,
              "#9c179e"
             ],
             [
              0.4444444444444444,
              "#bd3786"
             ],
             [
              0.5555555555555556,
              "#d8576b"
             ],
             [
              0.6666666666666666,
              "#ed7953"
             ],
             [
              0.7777777777777778,
              "#fb9f3a"
             ],
             [
              0.8888888888888888,
              "#fdca26"
             ],
             [
              1,
              "#f0f921"
             ]
            ],
            "type": "heatmapgl"
           }
          ],
          "histogram": [
           {
            "marker": {
             "colorbar": {
              "outlinewidth": 0,
              "ticks": ""
             }
            },
            "type": "histogram"
           }
          ],
          "histogram2d": [
           {
            "colorbar": {
             "outlinewidth": 0,
             "ticks": ""
            },
            "colorscale": [
             [
              0,
              "#0d0887"
             ],
             [
              0.1111111111111111,
              "#46039f"
             ],
             [
              0.2222222222222222,
              "#7201a8"
             ],
             [
              0.3333333333333333,
              "#9c179e"
             ],
             [
              0.4444444444444444,
              "#bd3786"
             ],
             [
              0.5555555555555556,
              "#d8576b"
             ],
             [
              0.6666666666666666,
              "#ed7953"
             ],
             [
              0.7777777777777778,
              "#fb9f3a"
             ],
             [
              0.8888888888888888,
              "#fdca26"
             ],
             [
              1,
              "#f0f921"
             ]
            ],
            "type": "histogram2d"
           }
          ],
          "histogram2dcontour": [
           {
            "colorbar": {
             "outlinewidth": 0,
             "ticks": ""
            },
            "colorscale": [
             [
              0,
              "#0d0887"
             ],
             [
              0.1111111111111111,
              "#46039f"
             ],
             [
              0.2222222222222222,
              "#7201a8"
             ],
             [
              0.3333333333333333,
              "#9c179e"
             ],
             [
              0.4444444444444444,
              "#bd3786"
             ],
             [
              0.5555555555555556,
              "#d8576b"
             ],
             [
              0.6666666666666666,
              "#ed7953"
             ],
             [
              0.7777777777777778,
              "#fb9f3a"
             ],
             [
              0.8888888888888888,
              "#fdca26"
             ],
             [
              1,
              "#f0f921"
             ]
            ],
            "type": "histogram2dcontour"
           }
          ],
          "mesh3d": [
           {
            "colorbar": {
             "outlinewidth": 0,
             "ticks": ""
            },
            "type": "mesh3d"
           }
          ],
          "parcoords": [
           {
            "line": {
             "colorbar": {
              "outlinewidth": 0,
              "ticks": ""
             }
            },
            "type": "parcoords"
           }
          ],
          "pie": [
           {
            "automargin": true,
            "type": "pie"
           }
          ],
          "scatter": [
           {
            "marker": {
             "colorbar": {
              "outlinewidth": 0,
              "ticks": ""
             }
            },
            "type": "scatter"
           }
          ],
          "scatter3d": [
           {
            "line": {
             "colorbar": {
              "outlinewidth": 0,
              "ticks": ""
             }
            },
            "marker": {
             "colorbar": {
              "outlinewidth": 0,
              "ticks": ""
             }
            },
            "type": "scatter3d"
           }
          ],
          "scattercarpet": [
           {
            "marker": {
             "colorbar": {
              "outlinewidth": 0,
              "ticks": ""
             }
            },
            "type": "scattercarpet"
           }
          ],
          "scattergeo": [
           {
            "marker": {
             "colorbar": {
              "outlinewidth": 0,
              "ticks": ""
             }
            },
            "type": "scattergeo"
           }
          ],
          "scattergl": [
           {
            "marker": {
             "colorbar": {
              "outlinewidth": 0,
              "ticks": ""
             }
            },
            "type": "scattergl"
           }
          ],
          "scattermapbox": [
           {
            "marker": {
             "colorbar": {
              "outlinewidth": 0,
              "ticks": ""
             }
            },
            "type": "scattermapbox"
           }
          ],
          "scatterpolar": [
           {
            "marker": {
             "colorbar": {
              "outlinewidth": 0,
              "ticks": ""
             }
            },
            "type": "scatterpolar"
           }
          ],
          "scatterpolargl": [
           {
            "marker": {
             "colorbar": {
              "outlinewidth": 0,
              "ticks": ""
             }
            },
            "type": "scatterpolargl"
           }
          ],
          "scatterternary": [
           {
            "marker": {
             "colorbar": {
              "outlinewidth": 0,
              "ticks": ""
             }
            },
            "type": "scatterternary"
           }
          ],
          "surface": [
           {
            "colorbar": {
             "outlinewidth": 0,
             "ticks": ""
            },
            "colorscale": [
             [
              0,
              "#0d0887"
             ],
             [
              0.1111111111111111,
              "#46039f"
             ],
             [
              0.2222222222222222,
              "#7201a8"
             ],
             [
              0.3333333333333333,
              "#9c179e"
             ],
             [
              0.4444444444444444,
              "#bd3786"
             ],
             [
              0.5555555555555556,
              "#d8576b"
             ],
             [
              0.6666666666666666,
              "#ed7953"
             ],
             [
              0.7777777777777778,
              "#fb9f3a"
             ],
             [
              0.8888888888888888,
              "#fdca26"
             ],
             [
              1,
              "#f0f921"
             ]
            ],
            "type": "surface"
           }
          ],
          "table": [
           {
            "cells": {
             "fill": {
              "color": "#EBF0F8"
             },
             "line": {
              "color": "white"
             }
            },
            "header": {
             "fill": {
              "color": "#C8D4E3"
             },
             "line": {
              "color": "white"
             }
            },
            "type": "table"
           }
          ]
         },
         "layout": {
          "annotationdefaults": {
           "arrowcolor": "#2a3f5f",
           "arrowhead": 0,
           "arrowwidth": 1
          },
          "coloraxis": {
           "colorbar": {
            "outlinewidth": 0,
            "ticks": ""
           }
          },
          "colorscale": {
           "diverging": [
            [
             0,
             "#8e0152"
            ],
            [
             0.1,
             "#c51b7d"
            ],
            [
             0.2,
             "#de77ae"
            ],
            [
             0.3,
             "#f1b6da"
            ],
            [
             0.4,
             "#fde0ef"
            ],
            [
             0.5,
             "#f7f7f7"
            ],
            [
             0.6,
             "#e6f5d0"
            ],
            [
             0.7,
             "#b8e186"
            ],
            [
             0.8,
             "#7fbc41"
            ],
            [
             0.9,
             "#4d9221"
            ],
            [
             1,
             "#276419"
            ]
           ],
           "sequential": [
            [
             0,
             "#0d0887"
            ],
            [
             0.1111111111111111,
             "#46039f"
            ],
            [
             0.2222222222222222,
             "#7201a8"
            ],
            [
             0.3333333333333333,
             "#9c179e"
            ],
            [
             0.4444444444444444,
             "#bd3786"
            ],
            [
             0.5555555555555556,
             "#d8576b"
            ],
            [
             0.6666666666666666,
             "#ed7953"
            ],
            [
             0.7777777777777778,
             "#fb9f3a"
            ],
            [
             0.8888888888888888,
             "#fdca26"
            ],
            [
             1,
             "#f0f921"
            ]
           ],
           "sequentialminus": [
            [
             0,
             "#0d0887"
            ],
            [
             0.1111111111111111,
             "#46039f"
            ],
            [
             0.2222222222222222,
             "#7201a8"
            ],
            [
             0.3333333333333333,
             "#9c179e"
            ],
            [
             0.4444444444444444,
             "#bd3786"
            ],
            [
             0.5555555555555556,
             "#d8576b"
            ],
            [
             0.6666666666666666,
             "#ed7953"
            ],
            [
             0.7777777777777778,
             "#fb9f3a"
            ],
            [
             0.8888888888888888,
             "#fdca26"
            ],
            [
             1,
             "#f0f921"
            ]
           ]
          },
          "colorway": [
           "#636efa",
           "#EF553B",
           "#00cc96",
           "#ab63fa",
           "#FFA15A",
           "#19d3f3",
           "#FF6692",
           "#B6E880",
           "#FF97FF",
           "#FECB52"
          ],
          "font": {
           "color": "#2a3f5f"
          },
          "geo": {
           "bgcolor": "white",
           "lakecolor": "white",
           "landcolor": "#E5ECF6",
           "showlakes": true,
           "showland": true,
           "subunitcolor": "white"
          },
          "hoverlabel": {
           "align": "left"
          },
          "hovermode": "closest",
          "mapbox": {
           "style": "light"
          },
          "paper_bgcolor": "white",
          "plot_bgcolor": "#E5ECF6",
          "polar": {
           "angularaxis": {
            "gridcolor": "white",
            "linecolor": "white",
            "ticks": ""
           },
           "bgcolor": "#E5ECF6",
           "radialaxis": {
            "gridcolor": "white",
            "linecolor": "white",
            "ticks": ""
           }
          },
          "scene": {
           "xaxis": {
            "backgroundcolor": "#E5ECF6",
            "gridcolor": "white",
            "gridwidth": 2,
            "linecolor": "white",
            "showbackground": true,
            "ticks": "",
            "zerolinecolor": "white"
           },
           "yaxis": {
            "backgroundcolor": "#E5ECF6",
            "gridcolor": "white",
            "gridwidth": 2,
            "linecolor": "white",
            "showbackground": true,
            "ticks": "",
            "zerolinecolor": "white"
           },
           "zaxis": {
            "backgroundcolor": "#E5ECF6",
            "gridcolor": "white",
            "gridwidth": 2,
            "linecolor": "white",
            "showbackground": true,
            "ticks": "",
            "zerolinecolor": "white"
           }
          },
          "shapedefaults": {
           "line": {
            "color": "#2a3f5f"
           }
          },
          "ternary": {
           "aaxis": {
            "gridcolor": "white",
            "linecolor": "white",
            "ticks": ""
           },
           "baxis": {
            "gridcolor": "white",
            "linecolor": "white",
            "ticks": ""
           },
           "bgcolor": "#E5ECF6",
           "caxis": {
            "gridcolor": "white",
            "linecolor": "white",
            "ticks": ""
           }
          },
          "title": {
           "x": 0.05
          },
          "xaxis": {
           "automargin": true,
           "gridcolor": "white",
           "linecolor": "white",
           "ticks": "",
           "title": {
            "standoff": 15
           },
           "zerolinecolor": "white",
           "zerolinewidth": 2
          },
          "yaxis": {
           "automargin": true,
           "gridcolor": "white",
           "linecolor": "white",
           "ticks": "",
           "title": {
            "standoff": 15
           },
           "zerolinecolor": "white",
           "zerolinewidth": 2
          }
         }
        },
        "xaxis": {
         "anchor": "y",
         "categoryarray": [
          "Zamfara",
          "Yobe",
          "Taraba",
          "Sokoto",
          "Rivers",
          "Plateau",
          "Oyo",
          "Osun",
          "Ondo",
          "Ogun",
          "Niger",
          "Nasarawa",
          "Lagos"
         ],
         "categoryorder": "array",
         "domain": [
          0,
          1
         ],
         "title": {
          "text": "STATE"
         }
        },
        "yaxis": {
         "anchor": "x",
         "domain": [
          0,
          1
         ],
         "title": {
          "text": "CASES"
         }
        }
       }
      },
      "text/html": [
       "<div>\n",
       "        \n",
       "        \n",
       "            <div id=\"5bd7a20c-8ba7-4a37-9cb5-6ae0b64f0540\" class=\"plotly-graph-div\" style=\"height:525px; width:100%;\"></div>\n",
       "            <script type=\"text/javascript\">\n",
       "                require([\"plotly\"], function(Plotly) {\n",
       "                    window.PLOTLYENV=window.PLOTLYENV || {};\n",
       "                    \n",
       "                if (document.getElementById(\"5bd7a20c-8ba7-4a37-9cb5-6ae0b64f0540\")) {\n",
       "                    Plotly.newPlot(\n",
       "                        '5bd7a20c-8ba7-4a37-9cb5-6ae0b64f0540',\n",
       "                        [{\"hovertemplate\": \"<b>%{hovertext}</b><br><br>STATE=%{x}<br>CASES=%{marker.size}<extra></extra>\", \"hovertext\": [\"Zamfara\"], \"legendgroup\": \"Zamfara\", \"marker\": {\"color\": \"#636efa\", \"size\": [76], \"sizemode\": \"area\", \"sizeref\": 2.462222222222222, \"symbol\": \"circle\"}, \"mode\": \"markers\", \"name\": \"Zamfara\", \"orientation\": \"v\", \"showlegend\": true, \"type\": \"scatter\", \"x\": [\"Zamfara\"], \"xaxis\": \"x\", \"y\": [76], \"yaxis\": \"y\"}, {\"hovertemplate\": \"<b>%{hovertext}</b><br><br>STATE=%{x}<br>CASES=%{marker.size}<extra></extra>\", \"hovertext\": [\"Yobe\"], \"legendgroup\": \"Yobe\", \"marker\": {\"color\": \"#EF553B\", \"size\": [56], \"sizemode\": \"area\", \"sizeref\": 2.462222222222222, \"symbol\": \"circle\"}, \"mode\": \"markers\", \"name\": \"Yobe\", \"orientation\": \"v\", \"showlegend\": true, \"type\": \"scatter\", \"x\": [\"Yobe\"], \"xaxis\": \"x\", \"y\": [56], \"yaxis\": \"y\"}, {\"hovertemplate\": \"<b>%{hovertext}</b><br><br>STATE=%{x}<br>CASES=%{marker.size}<extra></extra>\", \"hovertext\": [\"Taraba\"], \"legendgroup\": \"Taraba\", \"marker\": {\"color\": \"#00cc96\", \"size\": [18], \"sizemode\": \"area\", \"sizeref\": 2.462222222222222, \"symbol\": \"circle\"}, \"mode\": \"markers\", \"name\": \"Taraba\", \"orientation\": \"v\", \"showlegend\": true, \"type\": \"scatter\", \"x\": [\"Taraba\"], \"xaxis\": \"x\", \"y\": [18], \"yaxis\": \"y\"}, {\"hovertemplate\": \"<b>%{hovertext}</b><br><br>STATE=%{x}<br>CASES=%{marker.size}<extra></extra>\", \"hovertext\": [\"Sokoto\"], \"legendgroup\": \"Sokoto\", \"marker\": {\"color\": \"#ab63fa\", \"size\": [138], \"sizemode\": \"area\", \"sizeref\": 2.462222222222222, \"symbol\": \"circle\"}, \"mode\": \"markers\", \"name\": \"Sokoto\", \"orientation\": \"v\", \"showlegend\": true, \"type\": \"scatter\", \"x\": [\"Sokoto\"], \"xaxis\": \"x\", \"y\": [138], \"yaxis\": \"y\"}, {\"hovertemplate\": \"<b>%{hovertext}</b><br><br>STATE=%{x}<br>CASES=%{marker.size}<extra></extra>\", \"hovertext\": [\"Rivers\"], \"legendgroup\": \"Rivers\", \"marker\": {\"color\": \"#FFA15A\", \"size\": [930], \"sizemode\": \"area\", \"sizeref\": 2.462222222222222, \"symbol\": \"circle\"}, \"mode\": \"markers\", \"name\": \"Rivers\", \"orientation\": \"v\", \"showlegend\": true, \"type\": \"scatter\", \"x\": [\"Rivers\"], \"xaxis\": \"x\", \"y\": [930], \"yaxis\": \"y\"}, {\"hovertemplate\": \"<b>%{hovertext}</b><br><br>STATE=%{x}<br>CASES=%{marker.size}<extra></extra>\", \"hovertext\": [\"Plateau\"], \"legendgroup\": \"Plateau\", \"marker\": {\"color\": \"#19d3f3\", \"size\": [253], \"sizemode\": \"area\", \"sizeref\": 2.462222222222222, \"symbol\": \"circle\"}, \"mode\": \"markers\", \"name\": \"Plateau\", \"orientation\": \"v\", \"showlegend\": true, \"type\": \"scatter\", \"x\": [\"Plateau\"], \"xaxis\": \"x\", \"y\": [253], \"yaxis\": \"y\"}, {\"hovertemplate\": \"<b>%{hovertext}</b><br><br>STATE=%{x}<br>CASES=%{marker.size}<extra></extra>\", \"hovertext\": [\"Oyo\"], \"legendgroup\": \"Oyo\", \"marker\": {\"color\": \"#FF6692\", \"size\": [988], \"sizemode\": \"area\", \"sizeref\": 2.462222222222222, \"symbol\": \"circle\"}, \"mode\": \"markers\", \"name\": \"Oyo\", \"orientation\": \"v\", \"showlegend\": true, \"type\": \"scatter\", \"x\": [\"Oyo\"], \"xaxis\": \"x\", \"y\": [988], \"yaxis\": \"y\"}, {\"hovertemplate\": \"<b>%{hovertext}</b><br><br>STATE=%{x}<br>CASES=%{marker.size}<extra></extra>\", \"hovertext\": [\"Osun\"], \"legendgroup\": \"Osun\", \"marker\": {\"color\": \"#B6E880\", \"size\": [60], \"sizemode\": \"area\", \"sizeref\": 2.462222222222222, \"symbol\": \"circle\"}, \"mode\": \"markers\", \"name\": \"Osun\", \"orientation\": \"v\", \"showlegend\": true, \"type\": \"scatter\", \"x\": [\"Osun\"], \"xaxis\": \"x\", \"y\": [60], \"yaxis\": \"y\"}, {\"hovertemplate\": \"<b>%{hovertext}</b><br><br>STATE=%{x}<br>CASES=%{marker.size}<extra></extra>\", \"hovertext\": [\"Ondo\"], \"legendgroup\": \"Ondo\", \"marker\": {\"color\": \"#FF97FF\", \"size\": [154], \"sizemode\": \"area\", \"sizeref\": 2.462222222222222, \"symbol\": \"circle\"}, \"mode\": \"markers\", \"name\": \"Ondo\", \"orientation\": \"v\", \"showlegend\": true, \"type\": \"scatter\", \"x\": [\"Ondo\"], \"xaxis\": \"x\", \"y\": [154], \"yaxis\": \"y\"}, {\"hovertemplate\": \"<b>%{hovertext}</b><br><br>STATE=%{x}<br>CASES=%{marker.size}<extra></extra>\", \"hovertext\": [\"Ogun\"], \"legendgroup\": \"Ogun\", \"marker\": {\"color\": \"#FECB52\", \"size\": [663], \"sizemode\": \"area\", \"sizeref\": 2.462222222222222, \"symbol\": \"circle\"}, \"mode\": \"markers\", \"name\": \"Ogun\", \"orientation\": \"v\", \"showlegend\": true, \"type\": \"scatter\", \"x\": [\"Ogun\"], \"xaxis\": \"x\", \"y\": [663], \"yaxis\": \"y\"}, {\"hovertemplate\": \"<b>%{hovertext}</b><br><br>STATE=%{x}<br>CASES=%{marker.size}<extra></extra>\", \"hovertext\": [\"Niger\"], \"legendgroup\": \"Niger\", \"marker\": {\"color\": \"#636efa\", \"size\": [66], \"sizemode\": \"area\", \"sizeref\": 2.462222222222222, \"symbol\": \"circle\"}, \"mode\": \"markers\", \"name\": \"Niger\", \"orientation\": \"v\", \"showlegend\": true, \"type\": \"scatter\", \"x\": [\"Niger\"], \"xaxis\": \"x\", \"y\": [66], \"yaxis\": \"y\"}, {\"hovertemplate\": \"<b>%{hovertext}</b><br><br>STATE=%{x}<br>CASES=%{marker.size}<extra></extra>\", \"hovertext\": [\"Nasarawa\"], \"legendgroup\": \"Nasarawa\", \"marker\": {\"color\": \"#EF553B\", \"size\": [193], \"sizemode\": \"area\", \"sizeref\": 2.462222222222222, \"symbol\": \"circle\"}, \"mode\": \"markers\", \"name\": \"Nasarawa\", \"orientation\": \"v\", \"showlegend\": true, \"type\": \"scatter\", \"x\": [\"Nasarawa\"], \"xaxis\": \"x\", \"y\": [193], \"yaxis\": \"y\"}, {\"hovertemplate\": \"<b>%{hovertext}</b><br><br>STATE=%{x}<br>CASES=%{marker.size}<extra></extra>\", \"hovertext\": [\"Lagos\"], \"legendgroup\": \"Lagos\", \"marker\": {\"color\": \"#00cc96\", \"size\": [8864], \"sizemode\": \"area\", \"sizeref\": 2.462222222222222, \"symbol\": \"circle\"}, \"mode\": \"markers\", \"name\": \"Lagos\", \"orientation\": \"v\", \"showlegend\": true, \"type\": \"scatter\", \"x\": [\"Lagos\"], \"xaxis\": \"x\", \"y\": [8864], \"yaxis\": \"y\"}],\n",
       "                        {\"legend\": {\"itemsizing\": \"constant\", \"title\": {\"text\": \"STATE\"}, \"tracegroupgap\": 0}, \"margin\": {\"t\": 60}, \"template\": {\"data\": {\"bar\": [{\"error_x\": {\"color\": \"#2a3f5f\"}, \"error_y\": {\"color\": \"#2a3f5f\"}, \"marker\": {\"line\": {\"color\": \"#E5ECF6\", \"width\": 0.5}}, \"type\": \"bar\"}], \"barpolar\": [{\"marker\": {\"line\": {\"color\": \"#E5ECF6\", \"width\": 0.5}}, \"type\": \"barpolar\"}], \"carpet\": [{\"aaxis\": {\"endlinecolor\": \"#2a3f5f\", \"gridcolor\": \"white\", \"linecolor\": \"white\", \"minorgridcolor\": \"white\", \"startlinecolor\": \"#2a3f5f\"}, \"baxis\": {\"endlinecolor\": \"#2a3f5f\", \"gridcolor\": \"white\", \"linecolor\": \"white\", \"minorgridcolor\": \"white\", \"startlinecolor\": \"#2a3f5f\"}, \"type\": \"carpet\"}], \"choropleth\": [{\"colorbar\": {\"outlinewidth\": 0, \"ticks\": \"\"}, \"type\": \"choropleth\"}], \"contour\": [{\"colorbar\": {\"outlinewidth\": 0, \"ticks\": \"\"}, \"colorscale\": [[0.0, \"#0d0887\"], [0.1111111111111111, \"#46039f\"], [0.2222222222222222, \"#7201a8\"], [0.3333333333333333, \"#9c179e\"], [0.4444444444444444, \"#bd3786\"], [0.5555555555555556, \"#d8576b\"], [0.6666666666666666, \"#ed7953\"], [0.7777777777777778, \"#fb9f3a\"], [0.8888888888888888, \"#fdca26\"], [1.0, \"#f0f921\"]], \"type\": \"contour\"}], \"contourcarpet\": [{\"colorbar\": {\"outlinewidth\": 0, \"ticks\": \"\"}, \"type\": \"contourcarpet\"}], \"heatmap\": [{\"colorbar\": {\"outlinewidth\": 0, \"ticks\": \"\"}, \"colorscale\": [[0.0, \"#0d0887\"], [0.1111111111111111, \"#46039f\"], [0.2222222222222222, \"#7201a8\"], [0.3333333333333333, \"#9c179e\"], [0.4444444444444444, \"#bd3786\"], [0.5555555555555556, \"#d8576b\"], [0.6666666666666666, \"#ed7953\"], [0.7777777777777778, \"#fb9f3a\"], [0.8888888888888888, \"#fdca26\"], [1.0, \"#f0f921\"]], \"type\": \"heatmap\"}], \"heatmapgl\": [{\"colorbar\": {\"outlinewidth\": 0, \"ticks\": \"\"}, \"colorscale\": [[0.0, \"#0d0887\"], [0.1111111111111111, \"#46039f\"], [0.2222222222222222, \"#7201a8\"], [0.3333333333333333, \"#9c179e\"], [0.4444444444444444, \"#bd3786\"], [0.5555555555555556, \"#d8576b\"], [0.6666666666666666, \"#ed7953\"], [0.7777777777777778, \"#fb9f3a\"], [0.8888888888888888, \"#fdca26\"], [1.0, \"#f0f921\"]], \"type\": \"heatmapgl\"}], \"histogram\": [{\"marker\": {\"colorbar\": {\"outlinewidth\": 0, \"ticks\": \"\"}}, \"type\": \"histogram\"}], \"histogram2d\": [{\"colorbar\": {\"outlinewidth\": 0, \"ticks\": \"\"}, \"colorscale\": [[0.0, \"#0d0887\"], [0.1111111111111111, \"#46039f\"], [0.2222222222222222, \"#7201a8\"], [0.3333333333333333, \"#9c179e\"], [0.4444444444444444, \"#bd3786\"], [0.5555555555555556, \"#d8576b\"], [0.6666666666666666, \"#ed7953\"], [0.7777777777777778, \"#fb9f3a\"], [0.8888888888888888, \"#fdca26\"], [1.0, \"#f0f921\"]], \"type\": \"histogram2d\"}], \"histogram2dcontour\": [{\"colorbar\": {\"outlinewidth\": 0, \"ticks\": \"\"}, \"colorscale\": [[0.0, \"#0d0887\"], [0.1111111111111111, \"#46039f\"], [0.2222222222222222, \"#7201a8\"], [0.3333333333333333, \"#9c179e\"], [0.4444444444444444, \"#bd3786\"], [0.5555555555555556, \"#d8576b\"], [0.6666666666666666, \"#ed7953\"], [0.7777777777777778, \"#fb9f3a\"], [0.8888888888888888, \"#fdca26\"], [1.0, \"#f0f921\"]], \"type\": \"histogram2dcontour\"}], \"mesh3d\": [{\"colorbar\": {\"outlinewidth\": 0, \"ticks\": \"\"}, \"type\": \"mesh3d\"}], \"parcoords\": [{\"line\": {\"colorbar\": {\"outlinewidth\": 0, \"ticks\": \"\"}}, \"type\": \"parcoords\"}], \"pie\": [{\"automargin\": true, \"type\": \"pie\"}], \"scatter\": [{\"marker\": {\"colorbar\": {\"outlinewidth\": 0, \"ticks\": \"\"}}, \"type\": \"scatter\"}], \"scatter3d\": [{\"line\": {\"colorbar\": {\"outlinewidth\": 0, \"ticks\": \"\"}}, \"marker\": {\"colorbar\": {\"outlinewidth\": 0, \"ticks\": \"\"}}, \"type\": \"scatter3d\"}], \"scattercarpet\": [{\"marker\": {\"colorbar\": {\"outlinewidth\": 0, \"ticks\": \"\"}}, \"type\": \"scattercarpet\"}], \"scattergeo\": [{\"marker\": {\"colorbar\": {\"outlinewidth\": 0, \"ticks\": \"\"}}, \"type\": \"scattergeo\"}], \"scattergl\": [{\"marker\": {\"colorbar\": {\"outlinewidth\": 0, \"ticks\": \"\"}}, \"type\": \"scattergl\"}], \"scattermapbox\": [{\"marker\": {\"colorbar\": {\"outlinewidth\": 0, \"ticks\": \"\"}}, \"type\": \"scattermapbox\"}], \"scatterpolar\": [{\"marker\": {\"colorbar\": {\"outlinewidth\": 0, \"ticks\": \"\"}}, \"type\": \"scatterpolar\"}], \"scatterpolargl\": [{\"marker\": {\"colorbar\": {\"outlinewidth\": 0, \"ticks\": \"\"}}, \"type\": \"scatterpolargl\"}], \"scatterternary\": [{\"marker\": {\"colorbar\": {\"outlinewidth\": 0, \"ticks\": \"\"}}, \"type\": \"scatterternary\"}], \"surface\": [{\"colorbar\": {\"outlinewidth\": 0, \"ticks\": \"\"}, \"colorscale\": [[0.0, \"#0d0887\"], [0.1111111111111111, \"#46039f\"], [0.2222222222222222, \"#7201a8\"], [0.3333333333333333, \"#9c179e\"], [0.4444444444444444, \"#bd3786\"], [0.5555555555555556, \"#d8576b\"], [0.6666666666666666, \"#ed7953\"], [0.7777777777777778, \"#fb9f3a\"], [0.8888888888888888, \"#fdca26\"], [1.0, \"#f0f921\"]], \"type\": \"surface\"}], \"table\": [{\"cells\": {\"fill\": {\"color\": \"#EBF0F8\"}, \"line\": {\"color\": \"white\"}}, \"header\": {\"fill\": {\"color\": \"#C8D4E3\"}, \"line\": {\"color\": \"white\"}}, \"type\": \"table\"}]}, \"layout\": {\"annotationdefaults\": {\"arrowcolor\": \"#2a3f5f\", \"arrowhead\": 0, \"arrowwidth\": 1}, \"coloraxis\": {\"colorbar\": {\"outlinewidth\": 0, \"ticks\": \"\"}}, \"colorscale\": {\"diverging\": [[0, \"#8e0152\"], [0.1, \"#c51b7d\"], [0.2, \"#de77ae\"], [0.3, \"#f1b6da\"], [0.4, \"#fde0ef\"], [0.5, \"#f7f7f7\"], [0.6, \"#e6f5d0\"], [0.7, \"#b8e186\"], [0.8, \"#7fbc41\"], [0.9, \"#4d9221\"], [1, \"#276419\"]], \"sequential\": [[0.0, \"#0d0887\"], [0.1111111111111111, \"#46039f\"], [0.2222222222222222, \"#7201a8\"], [0.3333333333333333, \"#9c179e\"], [0.4444444444444444, \"#bd3786\"], [0.5555555555555556, \"#d8576b\"], [0.6666666666666666, \"#ed7953\"], [0.7777777777777778, \"#fb9f3a\"], [0.8888888888888888, \"#fdca26\"], [1.0, \"#f0f921\"]], \"sequentialminus\": [[0.0, \"#0d0887\"], [0.1111111111111111, \"#46039f\"], [0.2222222222222222, \"#7201a8\"], [0.3333333333333333, \"#9c179e\"], [0.4444444444444444, \"#bd3786\"], [0.5555555555555556, \"#d8576b\"], [0.6666666666666666, \"#ed7953\"], [0.7777777777777778, \"#fb9f3a\"], [0.8888888888888888, \"#fdca26\"], [1.0, \"#f0f921\"]]}, \"colorway\": [\"#636efa\", \"#EF553B\", \"#00cc96\", \"#ab63fa\", \"#FFA15A\", \"#19d3f3\", \"#FF6692\", \"#B6E880\", \"#FF97FF\", \"#FECB52\"], \"font\": {\"color\": \"#2a3f5f\"}, \"geo\": {\"bgcolor\": \"white\", \"lakecolor\": \"white\", \"landcolor\": \"#E5ECF6\", \"showlakes\": true, \"showland\": true, \"subunitcolor\": \"white\"}, \"hoverlabel\": {\"align\": \"left\"}, \"hovermode\": \"closest\", \"mapbox\": {\"style\": \"light\"}, \"paper_bgcolor\": \"white\", \"plot_bgcolor\": \"#E5ECF6\", \"polar\": {\"angularaxis\": {\"gridcolor\": \"white\", \"linecolor\": \"white\", \"ticks\": \"\"}, \"bgcolor\": \"#E5ECF6\", \"radialaxis\": {\"gridcolor\": \"white\", \"linecolor\": \"white\", \"ticks\": \"\"}}, \"scene\": {\"xaxis\": {\"backgroundcolor\": \"#E5ECF6\", \"gridcolor\": \"white\", \"gridwidth\": 2, \"linecolor\": \"white\", \"showbackground\": true, \"ticks\": \"\", \"zerolinecolor\": \"white\"}, \"yaxis\": {\"backgroundcolor\": \"#E5ECF6\", \"gridcolor\": \"white\", \"gridwidth\": 2, \"linecolor\": \"white\", \"showbackground\": true, \"ticks\": \"\", \"zerolinecolor\": \"white\"}, \"zaxis\": {\"backgroundcolor\": \"#E5ECF6\", \"gridcolor\": \"white\", \"gridwidth\": 2, \"linecolor\": \"white\", \"showbackground\": true, \"ticks\": \"\", \"zerolinecolor\": \"white\"}}, \"shapedefaults\": {\"line\": {\"color\": \"#2a3f5f\"}}, \"ternary\": {\"aaxis\": {\"gridcolor\": \"white\", \"linecolor\": \"white\", \"ticks\": \"\"}, \"baxis\": {\"gridcolor\": \"white\", \"linecolor\": \"white\", \"ticks\": \"\"}, \"bgcolor\": \"#E5ECF6\", \"caxis\": {\"gridcolor\": \"white\", \"linecolor\": \"white\", \"ticks\": \"\"}}, \"title\": {\"x\": 0.05}, \"xaxis\": {\"automargin\": true, \"gridcolor\": \"white\", \"linecolor\": \"white\", \"ticks\": \"\", \"title\": {\"standoff\": 15}, \"zerolinecolor\": \"white\", \"zerolinewidth\": 2}, \"yaxis\": {\"automargin\": true, \"gridcolor\": \"white\", \"linecolor\": \"white\", \"ticks\": \"\", \"title\": {\"standoff\": 15}, \"zerolinecolor\": \"white\", \"zerolinewidth\": 2}}}, \"xaxis\": {\"anchor\": \"y\", \"categoryarray\": [\"Zamfara\", \"Yobe\", \"Taraba\", \"Sokoto\", \"Rivers\", \"Plateau\", \"Oyo\", \"Osun\", \"Ondo\", \"Ogun\", \"Niger\", \"Nasarawa\", \"Lagos\"], \"categoryorder\": \"array\", \"domain\": [0.0, 1.0], \"title\": {\"text\": \"STATE\"}}, \"yaxis\": {\"anchor\": \"x\", \"domain\": [0.0, 1.0], \"title\": {\"text\": \"CASES\"}}},\n",
       "                        {\"responsive\": true}\n",
       "                    ).then(function(){\n",
       "                            \n",
       "var gd = document.getElementById('5bd7a20c-8ba7-4a37-9cb5-6ae0b64f0540');\n",
       "var x = new MutationObserver(function (mutations, observer) {{\n",
       "        var display = window.getComputedStyle(gd).display;\n",
       "        if (!display || display === 'none') {{\n",
       "            console.log([gd, 'removed!']);\n",
       "            Plotly.purge(gd);\n",
       "            observer.disconnect();\n",
       "        }}\n",
       "}});\n",
       "\n",
       "// Listen for the removal of the full notebook cells\n",
       "var notebookContainer = gd.closest('#notebook-container');\n",
       "if (notebookContainer) {{\n",
       "    x.observe(notebookContainer, {childList: true});\n",
       "}}\n",
       "\n",
       "// Listen for the clearing of the current output cell\n",
       "var outputEl = gd.closest('.output');\n",
       "if (outputEl) {{\n",
       "    x.observe(outputEl, {childList: true});\n",
       "}}\n",
       "\n",
       "                        })\n",
       "                };\n",
       "                });\n",
       "            </script>\n",
       "        </div>"
      ]
     },
     "metadata": {},
     "output_type": "display_data"
    }
   ],
   "source": [
    "fig1.show()"
   ]
  },
  {
   "cell_type": "markdown",
   "metadata": {},
   "source": [
    "## Checking the death rate for the state in Nigeria"
   ]
  },
  {
   "cell_type": "code",
   "execution_count": 28,
   "metadata": {},
   "outputs": [],
   "source": [
    "fig2 = px.scatter(sorted_covid_states_nig_data.head(13), x='STATE', y='DEATHS', size = 'DEATHS', \n",
    "                color = 'STATE', hover_name = 'STATE', size_max = 60)"
   ]
  },
  {
   "cell_type": "code",
   "execution_count": 29,
   "metadata": {},
   "outputs": [
    {
     "data": {
      "application/vnd.plotly.v1+json": {
       "config": {
        "plotlyServerURL": "https://plot.ly"
       },
       "data": [
        {
         "hovertemplate": "<b>%{hovertext}</b><br><br>STATE=%{x}<br>DEATHS=%{marker.size}<extra></extra>",
         "hovertext": [
          "Zamfara"
         ],
         "legendgroup": "Zamfara",
         "marker": {
          "color": "#636efa",
          "size": [
           5
          ],
          "sizemode": "area",
          "sizeref": 0.035,
          "symbol": "circle"
         },
         "mode": "markers",
         "name": "Zamfara",
         "orientation": "v",
         "showlegend": true,
         "type": "scatter",
         "x": [
          "Zamfara"
         ],
         "xaxis": "x",
         "y": [
          5
         ],
         "yaxis": "y"
        },
        {
         "hovertemplate": "<b>%{hovertext}</b><br><br>STATE=%{x}<br>DEATHS=%{marker.size}<extra></extra>",
         "hovertext": [
          "Yobe"
         ],
         "legendgroup": "Yobe",
         "marker": {
          "color": "#EF553B",
          "size": [
           8
          ],
          "sizemode": "area",
          "sizeref": 0.035,
          "symbol": "circle"
         },
         "mode": "markers",
         "name": "Yobe",
         "orientation": "v",
         "showlegend": true,
         "type": "scatter",
         "x": [
          "Yobe"
         ],
         "xaxis": "x",
         "y": [
          8
         ],
         "yaxis": "y"
        },
        {
         "hovertemplate": "<b>%{hovertext}</b><br><br>STATE=%{x}<br>DEATHS=%{marker.size}<extra></extra>",
         "hovertext": [
          "Taraba"
         ],
         "legendgroup": "Taraba",
         "marker": {
          "color": "#00cc96",
          "size": [
           0
          ],
          "sizemode": "area",
          "sizeref": 0.035,
          "symbol": "circle"
         },
         "mode": "markers",
         "name": "Taraba",
         "orientation": "v",
         "showlegend": true,
         "type": "scatter",
         "x": [
          "Taraba"
         ],
         "xaxis": "x",
         "y": [
          0
         ],
         "yaxis": "y"
        },
        {
         "hovertemplate": "<b>%{hovertext}</b><br><br>STATE=%{x}<br>DEATHS=%{marker.size}<extra></extra>",
         "hovertext": [
          "Sokoto"
         ],
         "legendgroup": "Sokoto",
         "marker": {
          "color": "#ab63fa",
          "size": [
           14
          ],
          "sizemode": "area",
          "sizeref": 0.035,
          "symbol": "circle"
         },
         "mode": "markers",
         "name": "Sokoto",
         "orientation": "v",
         "showlegend": true,
         "type": "scatter",
         "x": [
          "Sokoto"
         ],
         "xaxis": "x",
         "y": [
          14
         ],
         "yaxis": "y"
        },
        {
         "hovertemplate": "<b>%{hovertext}</b><br><br>STATE=%{x}<br>DEATHS=%{marker.size}<extra></extra>",
         "hovertext": [
          "Rivers"
         ],
         "legendgroup": "Rivers",
         "marker": {
          "color": "#FFA15A",
          "size": [
           31
          ],
          "sizemode": "area",
          "sizeref": 0.035,
          "symbol": "circle"
         },
         "mode": "markers",
         "name": "Rivers",
         "orientation": "v",
         "showlegend": true,
         "type": "scatter",
         "x": [
          "Rivers"
         ],
         "xaxis": "x",
         "y": [
          31
         ],
         "yaxis": "y"
        },
        {
         "hovertemplate": "<b>%{hovertext}</b><br><br>STATE=%{x}<br>DEATHS=%{marker.size}<extra></extra>",
         "hovertext": [
          "Plateau"
         ],
         "legendgroup": "Plateau",
         "marker": {
          "color": "#19d3f3",
          "size": [
           6
          ],
          "sizemode": "area",
          "sizeref": 0.035,
          "symbol": "circle"
         },
         "mode": "markers",
         "name": "Plateau",
         "orientation": "v",
         "showlegend": true,
         "type": "scatter",
         "x": [
          "Plateau"
         ],
         "xaxis": "x",
         "y": [
          6
         ],
         "yaxis": "y"
        },
        {
         "hovertemplate": "<b>%{hovertext}</b><br><br>STATE=%{x}<br>DEATHS=%{marker.size}<extra></extra>",
         "hovertext": [
          "Oyo"
         ],
         "legendgroup": "Oyo",
         "marker": {
          "color": "#FF6692",
          "size": [
           9
          ],
          "sizemode": "area",
          "sizeref": 0.035,
          "symbol": "circle"
         },
         "mode": "markers",
         "name": "Oyo",
         "orientation": "v",
         "showlegend": true,
         "type": "scatter",
         "x": [
          "Oyo"
         ],
         "xaxis": "x",
         "y": [
          9
         ],
         "yaxis": "y"
        },
        {
         "hovertemplate": "<b>%{hovertext}</b><br><br>STATE=%{x}<br>DEATHS=%{marker.size}<extra></extra>",
         "hovertext": [
          "Osun"
         ],
         "legendgroup": "Osun",
         "marker": {
          "color": "#B6E880",
          "size": [
           5
          ],
          "sizemode": "area",
          "sizeref": 0.035,
          "symbol": "circle"
         },
         "mode": "markers",
         "name": "Osun",
         "orientation": "v",
         "showlegend": true,
         "type": "scatter",
         "x": [
          "Osun"
         ],
         "xaxis": "x",
         "y": [
          5
         ],
         "yaxis": "y"
        },
        {
         "hovertemplate": "<b>%{hovertext}</b><br><br>STATE=%{x}<br>DEATHS=%{marker.size}<extra></extra>",
         "hovertext": [
          "Ondo"
         ],
         "legendgroup": "Ondo",
         "marker": {
          "color": "#FF97FF",
          "size": [
           17
          ],
          "sizemode": "area",
          "sizeref": 0.035,
          "symbol": "circle"
         },
         "mode": "markers",
         "name": "Ondo",
         "orientation": "v",
         "showlegend": true,
         "type": "scatter",
         "x": [
          "Ondo"
         ],
         "xaxis": "x",
         "y": [
          17
         ],
         "yaxis": "y"
        },
        {
         "hovertemplate": "<b>%{hovertext}</b><br><br>STATE=%{x}<br>DEATHS=%{marker.size}<extra></extra>",
         "hovertext": [
          "Ogun"
         ],
         "legendgroup": "Ogun",
         "marker": {
          "color": "#FECB52",
          "size": [
           16
          ],
          "sizemode": "area",
          "sizeref": 0.035,
          "symbol": "circle"
         },
         "mode": "markers",
         "name": "Ogun",
         "orientation": "v",
         "showlegend": true,
         "type": "scatter",
         "x": [
          "Ogun"
         ],
         "xaxis": "x",
         "y": [
          16
         ],
         "yaxis": "y"
        },
        {
         "hovertemplate": "<b>%{hovertext}</b><br><br>STATE=%{x}<br>DEATHS=%{marker.size}<extra></extra>",
         "hovertext": [
          "Niger"
         ],
         "legendgroup": "Niger",
         "marker": {
          "color": "#636efa",
          "size": [
           3
          ],
          "sizemode": "area",
          "sizeref": 0.035,
          "symbol": "circle"
         },
         "mode": "markers",
         "name": "Niger",
         "orientation": "v",
         "showlegend": true,
         "type": "scatter",
         "x": [
          "Niger"
         ],
         "xaxis": "x",
         "y": [
          3
         ],
         "yaxis": "y"
        },
        {
         "hovertemplate": "<b>%{hovertext}</b><br><br>STATE=%{x}<br>DEATHS=%{marker.size}<extra></extra>",
         "hovertext": [
          "Nasarawa"
         ],
         "legendgroup": "Nasarawa",
         "marker": {
          "color": "#EF553B",
          "size": [
           6
          ],
          "sizemode": "area",
          "sizeref": 0.035,
          "symbol": "circle"
         },
         "mode": "markers",
         "name": "Nasarawa",
         "orientation": "v",
         "showlegend": true,
         "type": "scatter",
         "x": [
          "Nasarawa"
         ],
         "xaxis": "x",
         "y": [
          6
         ],
         "yaxis": "y"
        },
        {
         "hovertemplate": "<b>%{hovertext}</b><br><br>STATE=%{x}<br>DEATHS=%{marker.size}<extra></extra>",
         "hovertext": [
          "Lagos"
         ],
         "legendgroup": "Lagos",
         "marker": {
          "color": "#00cc96",
          "size": [
           126
          ],
          "sizemode": "area",
          "sizeref": 0.035,
          "symbol": "circle"
         },
         "mode": "markers",
         "name": "Lagos",
         "orientation": "v",
         "showlegend": true,
         "type": "scatter",
         "x": [
          "Lagos"
         ],
         "xaxis": "x",
         "y": [
          126
         ],
         "yaxis": "y"
        }
       ],
       "layout": {
        "legend": {
         "itemsizing": "constant",
         "title": {
          "text": "STATE"
         },
         "tracegroupgap": 0
        },
        "margin": {
         "t": 60
        },
        "template": {
         "data": {
          "bar": [
           {
            "error_x": {
             "color": "#2a3f5f"
            },
            "error_y": {
             "color": "#2a3f5f"
            },
            "marker": {
             "line": {
              "color": "#E5ECF6",
              "width": 0.5
             }
            },
            "type": "bar"
           }
          ],
          "barpolar": [
           {
            "marker": {
             "line": {
              "color": "#E5ECF6",
              "width": 0.5
             }
            },
            "type": "barpolar"
           }
          ],
          "carpet": [
           {
            "aaxis": {
             "endlinecolor": "#2a3f5f",
             "gridcolor": "white",
             "linecolor": "white",
             "minorgridcolor": "white",
             "startlinecolor": "#2a3f5f"
            },
            "baxis": {
             "endlinecolor": "#2a3f5f",
             "gridcolor": "white",
             "linecolor": "white",
             "minorgridcolor": "white",
             "startlinecolor": "#2a3f5f"
            },
            "type": "carpet"
           }
          ],
          "choropleth": [
           {
            "colorbar": {
             "outlinewidth": 0,
             "ticks": ""
            },
            "type": "choropleth"
           }
          ],
          "contour": [
           {
            "colorbar": {
             "outlinewidth": 0,
             "ticks": ""
            },
            "colorscale": [
             [
              0,
              "#0d0887"
             ],
             [
              0.1111111111111111,
              "#46039f"
             ],
             [
              0.2222222222222222,
              "#7201a8"
             ],
             [
              0.3333333333333333,
              "#9c179e"
             ],
             [
              0.4444444444444444,
              "#bd3786"
             ],
             [
              0.5555555555555556,
              "#d8576b"
             ],
             [
              0.6666666666666666,
              "#ed7953"
             ],
             [
              0.7777777777777778,
              "#fb9f3a"
             ],
             [
              0.8888888888888888,
              "#fdca26"
             ],
             [
              1,
              "#f0f921"
             ]
            ],
            "type": "contour"
           }
          ],
          "contourcarpet": [
           {
            "colorbar": {
             "outlinewidth": 0,
             "ticks": ""
            },
            "type": "contourcarpet"
           }
          ],
          "heatmap": [
           {
            "colorbar": {
             "outlinewidth": 0,
             "ticks": ""
            },
            "colorscale": [
             [
              0,
              "#0d0887"
             ],
             [
              0.1111111111111111,
              "#46039f"
             ],
             [
              0.2222222222222222,
              "#7201a8"
             ],
             [
              0.3333333333333333,
              "#9c179e"
             ],
             [
              0.4444444444444444,
              "#bd3786"
             ],
             [
              0.5555555555555556,
              "#d8576b"
             ],
             [
              0.6666666666666666,
              "#ed7953"
             ],
             [
              0.7777777777777778,
              "#fb9f3a"
             ],
             [
              0.8888888888888888,
              "#fdca26"
             ],
             [
              1,
              "#f0f921"
             ]
            ],
            "type": "heatmap"
           }
          ],
          "heatmapgl": [
           {
            "colorbar": {
             "outlinewidth": 0,
             "ticks": ""
            },
            "colorscale": [
             [
              0,
              "#0d0887"
             ],
             [
              0.1111111111111111,
              "#46039f"
             ],
             [
              0.2222222222222222,
              "#7201a8"
             ],
             [
              0.3333333333333333,
              "#9c179e"
             ],
             [
              0.4444444444444444,
              "#bd3786"
             ],
             [
              0.5555555555555556,
              "#d8576b"
             ],
             [
              0.6666666666666666,
              "#ed7953"
             ],
             [
              0.7777777777777778,
              "#fb9f3a"
             ],
             [
              0.8888888888888888,
              "#fdca26"
             ],
             [
              1,
              "#f0f921"
             ]
            ],
            "type": "heatmapgl"
           }
          ],
          "histogram": [
           {
            "marker": {
             "colorbar": {
              "outlinewidth": 0,
              "ticks": ""
             }
            },
            "type": "histogram"
           }
          ],
          "histogram2d": [
           {
            "colorbar": {
             "outlinewidth": 0,
             "ticks": ""
            },
            "colorscale": [
             [
              0,
              "#0d0887"
             ],
             [
              0.1111111111111111,
              "#46039f"
             ],
             [
              0.2222222222222222,
              "#7201a8"
             ],
             [
              0.3333333333333333,
              "#9c179e"
             ],
             [
              0.4444444444444444,
              "#bd3786"
             ],
             [
              0.5555555555555556,
              "#d8576b"
             ],
             [
              0.6666666666666666,
              "#ed7953"
             ],
             [
              0.7777777777777778,
              "#fb9f3a"
             ],
             [
              0.8888888888888888,
              "#fdca26"
             ],
             [
              1,
              "#f0f921"
             ]
            ],
            "type": "histogram2d"
           }
          ],
          "histogram2dcontour": [
           {
            "colorbar": {
             "outlinewidth": 0,
             "ticks": ""
            },
            "colorscale": [
             [
              0,
              "#0d0887"
             ],
             [
              0.1111111111111111,
              "#46039f"
             ],
             [
              0.2222222222222222,
              "#7201a8"
             ],
             [
              0.3333333333333333,
              "#9c179e"
             ],
             [
              0.4444444444444444,
              "#bd3786"
             ],
             [
              0.5555555555555556,
              "#d8576b"
             ],
             [
              0.6666666666666666,
              "#ed7953"
             ],
             [
              0.7777777777777778,
              "#fb9f3a"
             ],
             [
              0.8888888888888888,
              "#fdca26"
             ],
             [
              1,
              "#f0f921"
             ]
            ],
            "type": "histogram2dcontour"
           }
          ],
          "mesh3d": [
           {
            "colorbar": {
             "outlinewidth": 0,
             "ticks": ""
            },
            "type": "mesh3d"
           }
          ],
          "parcoords": [
           {
            "line": {
             "colorbar": {
              "outlinewidth": 0,
              "ticks": ""
             }
            },
            "type": "parcoords"
           }
          ],
          "pie": [
           {
            "automargin": true,
            "type": "pie"
           }
          ],
          "scatter": [
           {
            "marker": {
             "colorbar": {
              "outlinewidth": 0,
              "ticks": ""
             }
            },
            "type": "scatter"
           }
          ],
          "scatter3d": [
           {
            "line": {
             "colorbar": {
              "outlinewidth": 0,
              "ticks": ""
             }
            },
            "marker": {
             "colorbar": {
              "outlinewidth": 0,
              "ticks": ""
             }
            },
            "type": "scatter3d"
           }
          ],
          "scattercarpet": [
           {
            "marker": {
             "colorbar": {
              "outlinewidth": 0,
              "ticks": ""
             }
            },
            "type": "scattercarpet"
           }
          ],
          "scattergeo": [
           {
            "marker": {
             "colorbar": {
              "outlinewidth": 0,
              "ticks": ""
             }
            },
            "type": "scattergeo"
           }
          ],
          "scattergl": [
           {
            "marker": {
             "colorbar": {
              "outlinewidth": 0,
              "ticks": ""
             }
            },
            "type": "scattergl"
           }
          ],
          "scattermapbox": [
           {
            "marker": {
             "colorbar": {
              "outlinewidth": 0,
              "ticks": ""
             }
            },
            "type": "scattermapbox"
           }
          ],
          "scatterpolar": [
           {
            "marker": {
             "colorbar": {
              "outlinewidth": 0,
              "ticks": ""
             }
            },
            "type": "scatterpolar"
           }
          ],
          "scatterpolargl": [
           {
            "marker": {
             "colorbar": {
              "outlinewidth": 0,
              "ticks": ""
             }
            },
            "type": "scatterpolargl"
           }
          ],
          "scatterternary": [
           {
            "marker": {
             "colorbar": {
              "outlinewidth": 0,
              "ticks": ""
             }
            },
            "type": "scatterternary"
           }
          ],
          "surface": [
           {
            "colorbar": {
             "outlinewidth": 0,
             "ticks": ""
            },
            "colorscale": [
             [
              0,
              "#0d0887"
             ],
             [
              0.1111111111111111,
              "#46039f"
             ],
             [
              0.2222222222222222,
              "#7201a8"
             ],
             [
              0.3333333333333333,
              "#9c179e"
             ],
             [
              0.4444444444444444,
              "#bd3786"
             ],
             [
              0.5555555555555556,
              "#d8576b"
             ],
             [
              0.6666666666666666,
              "#ed7953"
             ],
             [
              0.7777777777777778,
              "#fb9f3a"
             ],
             [
              0.8888888888888888,
              "#fdca26"
             ],
             [
              1,
              "#f0f921"
             ]
            ],
            "type": "surface"
           }
          ],
          "table": [
           {
            "cells": {
             "fill": {
              "color": "#EBF0F8"
             },
             "line": {
              "color": "white"
             }
            },
            "header": {
             "fill": {
              "color": "#C8D4E3"
             },
             "line": {
              "color": "white"
             }
            },
            "type": "table"
           }
          ]
         },
         "layout": {
          "annotationdefaults": {
           "arrowcolor": "#2a3f5f",
           "arrowhead": 0,
           "arrowwidth": 1
          },
          "coloraxis": {
           "colorbar": {
            "outlinewidth": 0,
            "ticks": ""
           }
          },
          "colorscale": {
           "diverging": [
            [
             0,
             "#8e0152"
            ],
            [
             0.1,
             "#c51b7d"
            ],
            [
             0.2,
             "#de77ae"
            ],
            [
             0.3,
             "#f1b6da"
            ],
            [
             0.4,
             "#fde0ef"
            ],
            [
             0.5,
             "#f7f7f7"
            ],
            [
             0.6,
             "#e6f5d0"
            ],
            [
             0.7,
             "#b8e186"
            ],
            [
             0.8,
             "#7fbc41"
            ],
            [
             0.9,
             "#4d9221"
            ],
            [
             1,
             "#276419"
            ]
           ],
           "sequential": [
            [
             0,
             "#0d0887"
            ],
            [
             0.1111111111111111,
             "#46039f"
            ],
            [
             0.2222222222222222,
             "#7201a8"
            ],
            [
             0.3333333333333333,
             "#9c179e"
            ],
            [
             0.4444444444444444,
             "#bd3786"
            ],
            [
             0.5555555555555556,
             "#d8576b"
            ],
            [
             0.6666666666666666,
             "#ed7953"
            ],
            [
             0.7777777777777778,
             "#fb9f3a"
            ],
            [
             0.8888888888888888,
             "#fdca26"
            ],
            [
             1,
             "#f0f921"
            ]
           ],
           "sequentialminus": [
            [
             0,
             "#0d0887"
            ],
            [
             0.1111111111111111,
             "#46039f"
            ],
            [
             0.2222222222222222,
             "#7201a8"
            ],
            [
             0.3333333333333333,
             "#9c179e"
            ],
            [
             0.4444444444444444,
             "#bd3786"
            ],
            [
             0.5555555555555556,
             "#d8576b"
            ],
            [
             0.6666666666666666,
             "#ed7953"
            ],
            [
             0.7777777777777778,
             "#fb9f3a"
            ],
            [
             0.8888888888888888,
             "#fdca26"
            ],
            [
             1,
             "#f0f921"
            ]
           ]
          },
          "colorway": [
           "#636efa",
           "#EF553B",
           "#00cc96",
           "#ab63fa",
           "#FFA15A",
           "#19d3f3",
           "#FF6692",
           "#B6E880",
           "#FF97FF",
           "#FECB52"
          ],
          "font": {
           "color": "#2a3f5f"
          },
          "geo": {
           "bgcolor": "white",
           "lakecolor": "white",
           "landcolor": "#E5ECF6",
           "showlakes": true,
           "showland": true,
           "subunitcolor": "white"
          },
          "hoverlabel": {
           "align": "left"
          },
          "hovermode": "closest",
          "mapbox": {
           "style": "light"
          },
          "paper_bgcolor": "white",
          "plot_bgcolor": "#E5ECF6",
          "polar": {
           "angularaxis": {
            "gridcolor": "white",
            "linecolor": "white",
            "ticks": ""
           },
           "bgcolor": "#E5ECF6",
           "radialaxis": {
            "gridcolor": "white",
            "linecolor": "white",
            "ticks": ""
           }
          },
          "scene": {
           "xaxis": {
            "backgroundcolor": "#E5ECF6",
            "gridcolor": "white",
            "gridwidth": 2,
            "linecolor": "white",
            "showbackground": true,
            "ticks": "",
            "zerolinecolor": "white"
           },
           "yaxis": {
            "backgroundcolor": "#E5ECF6",
            "gridcolor": "white",
            "gridwidth": 2,
            "linecolor": "white",
            "showbackground": true,
            "ticks": "",
            "zerolinecolor": "white"
           },
           "zaxis": {
            "backgroundcolor": "#E5ECF6",
            "gridcolor": "white",
            "gridwidth": 2,
            "linecolor": "white",
            "showbackground": true,
            "ticks": "",
            "zerolinecolor": "white"
           }
          },
          "shapedefaults": {
           "line": {
            "color": "#2a3f5f"
           }
          },
          "ternary": {
           "aaxis": {
            "gridcolor": "white",
            "linecolor": "white",
            "ticks": ""
           },
           "baxis": {
            "gridcolor": "white",
            "linecolor": "white",
            "ticks": ""
           },
           "bgcolor": "#E5ECF6",
           "caxis": {
            "gridcolor": "white",
            "linecolor": "white",
            "ticks": ""
           }
          },
          "title": {
           "x": 0.05
          },
          "xaxis": {
           "automargin": true,
           "gridcolor": "white",
           "linecolor": "white",
           "ticks": "",
           "title": {
            "standoff": 15
           },
           "zerolinecolor": "white",
           "zerolinewidth": 2
          },
          "yaxis": {
           "automargin": true,
           "gridcolor": "white",
           "linecolor": "white",
           "ticks": "",
           "title": {
            "standoff": 15
           },
           "zerolinecolor": "white",
           "zerolinewidth": 2
          }
         }
        },
        "xaxis": {
         "anchor": "y",
         "categoryarray": [
          "Zamfara",
          "Yobe",
          "Taraba",
          "Sokoto",
          "Rivers",
          "Plateau",
          "Oyo",
          "Osun",
          "Ondo",
          "Ogun",
          "Niger",
          "Nasarawa",
          "Lagos"
         ],
         "categoryorder": "array",
         "domain": [
          0,
          1
         ],
         "title": {
          "text": "STATE"
         }
        },
        "yaxis": {
         "anchor": "x",
         "domain": [
          0,
          1
         ],
         "title": {
          "text": "DEATHS"
         }
        }
       }
      },
      "text/html": [
       "<div>\n",
       "        \n",
       "        \n",
       "            <div id=\"48c78393-afe5-4dff-a215-62660c3e1584\" class=\"plotly-graph-div\" style=\"height:525px; width:100%;\"></div>\n",
       "            <script type=\"text/javascript\">\n",
       "                require([\"plotly\"], function(Plotly) {\n",
       "                    window.PLOTLYENV=window.PLOTLYENV || {};\n",
       "                    \n",
       "                if (document.getElementById(\"48c78393-afe5-4dff-a215-62660c3e1584\")) {\n",
       "                    Plotly.newPlot(\n",
       "                        '48c78393-afe5-4dff-a215-62660c3e1584',\n",
       "                        [{\"hovertemplate\": \"<b>%{hovertext}</b><br><br>STATE=%{x}<br>DEATHS=%{marker.size}<extra></extra>\", \"hovertext\": [\"Zamfara\"], \"legendgroup\": \"Zamfara\", \"marker\": {\"color\": \"#636efa\", \"size\": [5], \"sizemode\": \"area\", \"sizeref\": 0.035, \"symbol\": \"circle\"}, \"mode\": \"markers\", \"name\": \"Zamfara\", \"orientation\": \"v\", \"showlegend\": true, \"type\": \"scatter\", \"x\": [\"Zamfara\"], \"xaxis\": \"x\", \"y\": [5], \"yaxis\": \"y\"}, {\"hovertemplate\": \"<b>%{hovertext}</b><br><br>STATE=%{x}<br>DEATHS=%{marker.size}<extra></extra>\", \"hovertext\": [\"Yobe\"], \"legendgroup\": \"Yobe\", \"marker\": {\"color\": \"#EF553B\", \"size\": [8], \"sizemode\": \"area\", \"sizeref\": 0.035, \"symbol\": \"circle\"}, \"mode\": \"markers\", \"name\": \"Yobe\", \"orientation\": \"v\", \"showlegend\": true, \"type\": \"scatter\", \"x\": [\"Yobe\"], \"xaxis\": \"x\", \"y\": [8], \"yaxis\": \"y\"}, {\"hovertemplate\": \"<b>%{hovertext}</b><br><br>STATE=%{x}<br>DEATHS=%{marker.size}<extra></extra>\", \"hovertext\": [\"Taraba\"], \"legendgroup\": \"Taraba\", \"marker\": {\"color\": \"#00cc96\", \"size\": [0], \"sizemode\": \"area\", \"sizeref\": 0.035, \"symbol\": \"circle\"}, \"mode\": \"markers\", \"name\": \"Taraba\", \"orientation\": \"v\", \"showlegend\": true, \"type\": \"scatter\", \"x\": [\"Taraba\"], \"xaxis\": \"x\", \"y\": [0], \"yaxis\": \"y\"}, {\"hovertemplate\": \"<b>%{hovertext}</b><br><br>STATE=%{x}<br>DEATHS=%{marker.size}<extra></extra>\", \"hovertext\": [\"Sokoto\"], \"legendgroup\": \"Sokoto\", \"marker\": {\"color\": \"#ab63fa\", \"size\": [14], \"sizemode\": \"area\", \"sizeref\": 0.035, \"symbol\": \"circle\"}, \"mode\": \"markers\", \"name\": \"Sokoto\", \"orientation\": \"v\", \"showlegend\": true, \"type\": \"scatter\", \"x\": [\"Sokoto\"], \"xaxis\": \"x\", \"y\": [14], \"yaxis\": \"y\"}, {\"hovertemplate\": \"<b>%{hovertext}</b><br><br>STATE=%{x}<br>DEATHS=%{marker.size}<extra></extra>\", \"hovertext\": [\"Rivers\"], \"legendgroup\": \"Rivers\", \"marker\": {\"color\": \"#FFA15A\", \"size\": [31], \"sizemode\": \"area\", \"sizeref\": 0.035, \"symbol\": \"circle\"}, \"mode\": \"markers\", \"name\": \"Rivers\", \"orientation\": \"v\", \"showlegend\": true, \"type\": \"scatter\", \"x\": [\"Rivers\"], \"xaxis\": \"x\", \"y\": [31], \"yaxis\": \"y\"}, {\"hovertemplate\": \"<b>%{hovertext}</b><br><br>STATE=%{x}<br>DEATHS=%{marker.size}<extra></extra>\", \"hovertext\": [\"Plateau\"], \"legendgroup\": \"Plateau\", \"marker\": {\"color\": \"#19d3f3\", \"size\": [6], \"sizemode\": \"area\", \"sizeref\": 0.035, \"symbol\": \"circle\"}, \"mode\": \"markers\", \"name\": \"Plateau\", \"orientation\": \"v\", \"showlegend\": true, \"type\": \"scatter\", \"x\": [\"Plateau\"], \"xaxis\": \"x\", \"y\": [6], \"yaxis\": \"y\"}, {\"hovertemplate\": \"<b>%{hovertext}</b><br><br>STATE=%{x}<br>DEATHS=%{marker.size}<extra></extra>\", \"hovertext\": [\"Oyo\"], \"legendgroup\": \"Oyo\", \"marker\": {\"color\": \"#FF6692\", \"size\": [9], \"sizemode\": \"area\", \"sizeref\": 0.035, \"symbol\": \"circle\"}, \"mode\": \"markers\", \"name\": \"Oyo\", \"orientation\": \"v\", \"showlegend\": true, \"type\": \"scatter\", \"x\": [\"Oyo\"], \"xaxis\": \"x\", \"y\": [9], \"yaxis\": \"y\"}, {\"hovertemplate\": \"<b>%{hovertext}</b><br><br>STATE=%{x}<br>DEATHS=%{marker.size}<extra></extra>\", \"hovertext\": [\"Osun\"], \"legendgroup\": \"Osun\", \"marker\": {\"color\": \"#B6E880\", \"size\": [5], \"sizemode\": \"area\", \"sizeref\": 0.035, \"symbol\": \"circle\"}, \"mode\": \"markers\", \"name\": \"Osun\", \"orientation\": \"v\", \"showlegend\": true, \"type\": \"scatter\", \"x\": [\"Osun\"], \"xaxis\": \"x\", \"y\": [5], \"yaxis\": \"y\"}, {\"hovertemplate\": \"<b>%{hovertext}</b><br><br>STATE=%{x}<br>DEATHS=%{marker.size}<extra></extra>\", \"hovertext\": [\"Ondo\"], \"legendgroup\": \"Ondo\", \"marker\": {\"color\": \"#FF97FF\", \"size\": [17], \"sizemode\": \"area\", \"sizeref\": 0.035, \"symbol\": \"circle\"}, \"mode\": \"markers\", \"name\": \"Ondo\", \"orientation\": \"v\", \"showlegend\": true, \"type\": \"scatter\", \"x\": [\"Ondo\"], \"xaxis\": \"x\", \"y\": [17], \"yaxis\": \"y\"}, {\"hovertemplate\": \"<b>%{hovertext}</b><br><br>STATE=%{x}<br>DEATHS=%{marker.size}<extra></extra>\", \"hovertext\": [\"Ogun\"], \"legendgroup\": \"Ogun\", \"marker\": {\"color\": \"#FECB52\", \"size\": [16], \"sizemode\": \"area\", \"sizeref\": 0.035, \"symbol\": \"circle\"}, \"mode\": \"markers\", \"name\": \"Ogun\", \"orientation\": \"v\", \"showlegend\": true, \"type\": \"scatter\", \"x\": [\"Ogun\"], \"xaxis\": \"x\", \"y\": [16], \"yaxis\": \"y\"}, {\"hovertemplate\": \"<b>%{hovertext}</b><br><br>STATE=%{x}<br>DEATHS=%{marker.size}<extra></extra>\", \"hovertext\": [\"Niger\"], \"legendgroup\": \"Niger\", \"marker\": {\"color\": \"#636efa\", \"size\": [3], \"sizemode\": \"area\", \"sizeref\": 0.035, \"symbol\": \"circle\"}, \"mode\": \"markers\", \"name\": \"Niger\", \"orientation\": \"v\", \"showlegend\": true, \"type\": \"scatter\", \"x\": [\"Niger\"], \"xaxis\": \"x\", \"y\": [3], \"yaxis\": \"y\"}, {\"hovertemplate\": \"<b>%{hovertext}</b><br><br>STATE=%{x}<br>DEATHS=%{marker.size}<extra></extra>\", \"hovertext\": [\"Nasarawa\"], \"legendgroup\": \"Nasarawa\", \"marker\": {\"color\": \"#EF553B\", \"size\": [6], \"sizemode\": \"area\", \"sizeref\": 0.035, \"symbol\": \"circle\"}, \"mode\": \"markers\", \"name\": \"Nasarawa\", \"orientation\": \"v\", \"showlegend\": true, \"type\": \"scatter\", \"x\": [\"Nasarawa\"], \"xaxis\": \"x\", \"y\": [6], \"yaxis\": \"y\"}, {\"hovertemplate\": \"<b>%{hovertext}</b><br><br>STATE=%{x}<br>DEATHS=%{marker.size}<extra></extra>\", \"hovertext\": [\"Lagos\"], \"legendgroup\": \"Lagos\", \"marker\": {\"color\": \"#00cc96\", \"size\": [126], \"sizemode\": \"area\", \"sizeref\": 0.035, \"symbol\": \"circle\"}, \"mode\": \"markers\", \"name\": \"Lagos\", \"orientation\": \"v\", \"showlegend\": true, \"type\": \"scatter\", \"x\": [\"Lagos\"], \"xaxis\": \"x\", \"y\": [126], \"yaxis\": \"y\"}],\n",
       "                        {\"legend\": {\"itemsizing\": \"constant\", \"title\": {\"text\": \"STATE\"}, \"tracegroupgap\": 0}, \"margin\": {\"t\": 60}, \"template\": {\"data\": {\"bar\": [{\"error_x\": {\"color\": \"#2a3f5f\"}, \"error_y\": {\"color\": \"#2a3f5f\"}, \"marker\": {\"line\": {\"color\": \"#E5ECF6\", \"width\": 0.5}}, \"type\": \"bar\"}], \"barpolar\": [{\"marker\": {\"line\": {\"color\": \"#E5ECF6\", \"width\": 0.5}}, \"type\": \"barpolar\"}], \"carpet\": [{\"aaxis\": {\"endlinecolor\": \"#2a3f5f\", \"gridcolor\": \"white\", \"linecolor\": \"white\", \"minorgridcolor\": \"white\", \"startlinecolor\": \"#2a3f5f\"}, \"baxis\": {\"endlinecolor\": \"#2a3f5f\", \"gridcolor\": \"white\", \"linecolor\": \"white\", \"minorgridcolor\": \"white\", \"startlinecolor\": \"#2a3f5f\"}, \"type\": \"carpet\"}], \"choropleth\": [{\"colorbar\": {\"outlinewidth\": 0, \"ticks\": \"\"}, \"type\": \"choropleth\"}], \"contour\": [{\"colorbar\": {\"outlinewidth\": 0, \"ticks\": \"\"}, \"colorscale\": [[0.0, \"#0d0887\"], [0.1111111111111111, \"#46039f\"], [0.2222222222222222, \"#7201a8\"], [0.3333333333333333, \"#9c179e\"], [0.4444444444444444, \"#bd3786\"], [0.5555555555555556, \"#d8576b\"], [0.6666666666666666, \"#ed7953\"], [0.7777777777777778, \"#fb9f3a\"], [0.8888888888888888, \"#fdca26\"], [1.0, \"#f0f921\"]], \"type\": \"contour\"}], \"contourcarpet\": [{\"colorbar\": {\"outlinewidth\": 0, \"ticks\": \"\"}, \"type\": \"contourcarpet\"}], \"heatmap\": [{\"colorbar\": {\"outlinewidth\": 0, \"ticks\": \"\"}, \"colorscale\": [[0.0, \"#0d0887\"], [0.1111111111111111, \"#46039f\"], [0.2222222222222222, \"#7201a8\"], [0.3333333333333333, \"#9c179e\"], [0.4444444444444444, \"#bd3786\"], [0.5555555555555556, \"#d8576b\"], [0.6666666666666666, \"#ed7953\"], [0.7777777777777778, \"#fb9f3a\"], [0.8888888888888888, \"#fdca26\"], [1.0, \"#f0f921\"]], \"type\": \"heatmap\"}], \"heatmapgl\": [{\"colorbar\": {\"outlinewidth\": 0, \"ticks\": \"\"}, \"colorscale\": [[0.0, \"#0d0887\"], [0.1111111111111111, \"#46039f\"], [0.2222222222222222, \"#7201a8\"], [0.3333333333333333, \"#9c179e\"], [0.4444444444444444, \"#bd3786\"], [0.5555555555555556, \"#d8576b\"], [0.6666666666666666, \"#ed7953\"], [0.7777777777777778, \"#fb9f3a\"], [0.8888888888888888, \"#fdca26\"], [1.0, \"#f0f921\"]], \"type\": \"heatmapgl\"}], \"histogram\": [{\"marker\": {\"colorbar\": {\"outlinewidth\": 0, \"ticks\": \"\"}}, \"type\": \"histogram\"}], \"histogram2d\": [{\"colorbar\": {\"outlinewidth\": 0, \"ticks\": \"\"}, \"colorscale\": [[0.0, \"#0d0887\"], [0.1111111111111111, \"#46039f\"], [0.2222222222222222, \"#7201a8\"], [0.3333333333333333, \"#9c179e\"], [0.4444444444444444, \"#bd3786\"], [0.5555555555555556, \"#d8576b\"], [0.6666666666666666, \"#ed7953\"], [0.7777777777777778, \"#fb9f3a\"], [0.8888888888888888, \"#fdca26\"], [1.0, \"#f0f921\"]], \"type\": \"histogram2d\"}], \"histogram2dcontour\": [{\"colorbar\": {\"outlinewidth\": 0, \"ticks\": \"\"}, \"colorscale\": [[0.0, \"#0d0887\"], [0.1111111111111111, \"#46039f\"], [0.2222222222222222, \"#7201a8\"], [0.3333333333333333, \"#9c179e\"], [0.4444444444444444, \"#bd3786\"], [0.5555555555555556, \"#d8576b\"], [0.6666666666666666, \"#ed7953\"], [0.7777777777777778, \"#fb9f3a\"], [0.8888888888888888, \"#fdca26\"], [1.0, \"#f0f921\"]], \"type\": \"histogram2dcontour\"}], \"mesh3d\": [{\"colorbar\": {\"outlinewidth\": 0, \"ticks\": \"\"}, \"type\": \"mesh3d\"}], \"parcoords\": [{\"line\": {\"colorbar\": {\"outlinewidth\": 0, \"ticks\": \"\"}}, \"type\": \"parcoords\"}], \"pie\": [{\"automargin\": true, \"type\": \"pie\"}], \"scatter\": [{\"marker\": {\"colorbar\": {\"outlinewidth\": 0, \"ticks\": \"\"}}, \"type\": \"scatter\"}], \"scatter3d\": [{\"line\": {\"colorbar\": {\"outlinewidth\": 0, \"ticks\": \"\"}}, \"marker\": {\"colorbar\": {\"outlinewidth\": 0, \"ticks\": \"\"}}, \"type\": \"scatter3d\"}], \"scattercarpet\": [{\"marker\": {\"colorbar\": {\"outlinewidth\": 0, \"ticks\": \"\"}}, \"type\": \"scattercarpet\"}], \"scattergeo\": [{\"marker\": {\"colorbar\": {\"outlinewidth\": 0, \"ticks\": \"\"}}, \"type\": \"scattergeo\"}], \"scattergl\": [{\"marker\": {\"colorbar\": {\"outlinewidth\": 0, \"ticks\": \"\"}}, \"type\": \"scattergl\"}], \"scattermapbox\": [{\"marker\": {\"colorbar\": {\"outlinewidth\": 0, \"ticks\": \"\"}}, \"type\": \"scattermapbox\"}], \"scatterpolar\": [{\"marker\": {\"colorbar\": {\"outlinewidth\": 0, \"ticks\": \"\"}}, \"type\": \"scatterpolar\"}], \"scatterpolargl\": [{\"marker\": {\"colorbar\": {\"outlinewidth\": 0, \"ticks\": \"\"}}, \"type\": \"scatterpolargl\"}], \"scatterternary\": [{\"marker\": {\"colorbar\": {\"outlinewidth\": 0, \"ticks\": \"\"}}, \"type\": \"scatterternary\"}], \"surface\": [{\"colorbar\": {\"outlinewidth\": 0, \"ticks\": \"\"}, \"colorscale\": [[0.0, \"#0d0887\"], [0.1111111111111111, \"#46039f\"], [0.2222222222222222, \"#7201a8\"], [0.3333333333333333, \"#9c179e\"], [0.4444444444444444, \"#bd3786\"], [0.5555555555555556, \"#d8576b\"], [0.6666666666666666, \"#ed7953\"], [0.7777777777777778, \"#fb9f3a\"], [0.8888888888888888, \"#fdca26\"], [1.0, \"#f0f921\"]], \"type\": \"surface\"}], \"table\": [{\"cells\": {\"fill\": {\"color\": \"#EBF0F8\"}, \"line\": {\"color\": \"white\"}}, \"header\": {\"fill\": {\"color\": \"#C8D4E3\"}, \"line\": {\"color\": \"white\"}}, \"type\": \"table\"}]}, \"layout\": {\"annotationdefaults\": {\"arrowcolor\": \"#2a3f5f\", \"arrowhead\": 0, \"arrowwidth\": 1}, \"coloraxis\": {\"colorbar\": {\"outlinewidth\": 0, \"ticks\": \"\"}}, \"colorscale\": {\"diverging\": [[0, \"#8e0152\"], [0.1, \"#c51b7d\"], [0.2, \"#de77ae\"], [0.3, \"#f1b6da\"], [0.4, \"#fde0ef\"], [0.5, \"#f7f7f7\"], [0.6, \"#e6f5d0\"], [0.7, \"#b8e186\"], [0.8, \"#7fbc41\"], [0.9, \"#4d9221\"], [1, \"#276419\"]], \"sequential\": [[0.0, \"#0d0887\"], [0.1111111111111111, \"#46039f\"], [0.2222222222222222, \"#7201a8\"], [0.3333333333333333, \"#9c179e\"], [0.4444444444444444, \"#bd3786\"], [0.5555555555555556, \"#d8576b\"], [0.6666666666666666, \"#ed7953\"], [0.7777777777777778, \"#fb9f3a\"], [0.8888888888888888, \"#fdca26\"], [1.0, \"#f0f921\"]], \"sequentialminus\": [[0.0, \"#0d0887\"], [0.1111111111111111, \"#46039f\"], [0.2222222222222222, \"#7201a8\"], [0.3333333333333333, \"#9c179e\"], [0.4444444444444444, \"#bd3786\"], [0.5555555555555556, \"#d8576b\"], [0.6666666666666666, \"#ed7953\"], [0.7777777777777778, \"#fb9f3a\"], [0.8888888888888888, \"#fdca26\"], [1.0, \"#f0f921\"]]}, \"colorway\": [\"#636efa\", \"#EF553B\", \"#00cc96\", \"#ab63fa\", \"#FFA15A\", \"#19d3f3\", \"#FF6692\", \"#B6E880\", \"#FF97FF\", \"#FECB52\"], \"font\": {\"color\": \"#2a3f5f\"}, \"geo\": {\"bgcolor\": \"white\", \"lakecolor\": \"white\", \"landcolor\": \"#E5ECF6\", \"showlakes\": true, \"showland\": true, \"subunitcolor\": \"white\"}, \"hoverlabel\": {\"align\": \"left\"}, \"hovermode\": \"closest\", \"mapbox\": {\"style\": \"light\"}, \"paper_bgcolor\": \"white\", \"plot_bgcolor\": \"#E5ECF6\", \"polar\": {\"angularaxis\": {\"gridcolor\": \"white\", \"linecolor\": \"white\", \"ticks\": \"\"}, \"bgcolor\": \"#E5ECF6\", \"radialaxis\": {\"gridcolor\": \"white\", \"linecolor\": \"white\", \"ticks\": \"\"}}, \"scene\": {\"xaxis\": {\"backgroundcolor\": \"#E5ECF6\", \"gridcolor\": \"white\", \"gridwidth\": 2, \"linecolor\": \"white\", \"showbackground\": true, \"ticks\": \"\", \"zerolinecolor\": \"white\"}, \"yaxis\": {\"backgroundcolor\": \"#E5ECF6\", \"gridcolor\": \"white\", \"gridwidth\": 2, \"linecolor\": \"white\", \"showbackground\": true, \"ticks\": \"\", \"zerolinecolor\": \"white\"}, \"zaxis\": {\"backgroundcolor\": \"#E5ECF6\", \"gridcolor\": \"white\", \"gridwidth\": 2, \"linecolor\": \"white\", \"showbackground\": true, \"ticks\": \"\", \"zerolinecolor\": \"white\"}}, \"shapedefaults\": {\"line\": {\"color\": \"#2a3f5f\"}}, \"ternary\": {\"aaxis\": {\"gridcolor\": \"white\", \"linecolor\": \"white\", \"ticks\": \"\"}, \"baxis\": {\"gridcolor\": \"white\", \"linecolor\": \"white\", \"ticks\": \"\"}, \"bgcolor\": \"#E5ECF6\", \"caxis\": {\"gridcolor\": \"white\", \"linecolor\": \"white\", \"ticks\": \"\"}}, \"title\": {\"x\": 0.05}, \"xaxis\": {\"automargin\": true, \"gridcolor\": \"white\", \"linecolor\": \"white\", \"ticks\": \"\", \"title\": {\"standoff\": 15}, \"zerolinecolor\": \"white\", \"zerolinewidth\": 2}, \"yaxis\": {\"automargin\": true, \"gridcolor\": \"white\", \"linecolor\": \"white\", \"ticks\": \"\", \"title\": {\"standoff\": 15}, \"zerolinecolor\": \"white\", \"zerolinewidth\": 2}}}, \"xaxis\": {\"anchor\": \"y\", \"categoryarray\": [\"Zamfara\", \"Yobe\", \"Taraba\", \"Sokoto\", \"Rivers\", \"Plateau\", \"Oyo\", \"Osun\", \"Ondo\", \"Ogun\", \"Niger\", \"Nasarawa\", \"Lagos\"], \"categoryorder\": \"array\", \"domain\": [0.0, 1.0], \"title\": {\"text\": \"STATE\"}}, \"yaxis\": {\"anchor\": \"x\", \"domain\": [0.0, 1.0], \"title\": {\"text\": \"DEATHS\"}}},\n",
       "                        {\"responsive\": true}\n",
       "                    ).then(function(){\n",
       "                            \n",
       "var gd = document.getElementById('48c78393-afe5-4dff-a215-62660c3e1584');\n",
       "var x = new MutationObserver(function (mutations, observer) {{\n",
       "        var display = window.getComputedStyle(gd).display;\n",
       "        if (!display || display === 'none') {{\n",
       "            console.log([gd, 'removed!']);\n",
       "            Plotly.purge(gd);\n",
       "            observer.disconnect();\n",
       "        }}\n",
       "}});\n",
       "\n",
       "// Listen for the removal of the full notebook cells\n",
       "var notebookContainer = gd.closest('#notebook-container');\n",
       "if (notebookContainer) {{\n",
       "    x.observe(notebookContainer, {childList: true});\n",
       "}}\n",
       "\n",
       "// Listen for the clearing of the current output cell\n",
       "var outputEl = gd.closest('.output');\n",
       "if (outputEl) {{\n",
       "    x.observe(outputEl, {childList: true});\n",
       "}}\n",
       "\n",
       "                        })\n",
       "                };\n",
       "                });\n",
       "            </script>\n",
       "        </div>"
      ]
     },
     "metadata": {},
     "output_type": "display_data"
    }
   ],
   "source": [
    "fig2.show()"
   ]
  },
  {
   "cell_type": "markdown",
   "metadata": {},
   "source": [
    "## Checking the recovery rate for the state in Nigeria"
   ]
  },
  {
   "cell_type": "code",
   "execution_count": 30,
   "metadata": {},
   "outputs": [],
   "source": [
    "fig3 = px.scatter(sorted_covid_states_nig_data.head(13), x='STATE', y='RECOVERED', size = 'RECOVERED', \n",
    "                color = 'STATE', hover_name = 'STATE', size_max = 60)"
   ]
  },
  {
   "cell_type": "code",
   "execution_count": 31,
   "metadata": {
    "scrolled": false
   },
   "outputs": [
    {
     "data": {
      "application/vnd.plotly.v1+json": {
       "config": {
        "plotlyServerURL": "https://plot.ly"
       },
       "data": [
        {
         "hovertemplate": "<b>%{hovertext}</b><br><br>STATE=%{x}<br>RECOVERED=%{marker.size}<extra></extra>",
         "hovertext": [
          "Zamfara"
         ],
         "legendgroup": "Zamfara",
         "marker": {
          "color": "#636efa",
          "size": [
           71
          ],
          "sizemode": "area",
          "sizeref": 0.4022222222222222,
          "symbol": "circle"
         },
         "mode": "markers",
         "name": "Zamfara",
         "orientation": "v",
         "showlegend": true,
         "type": "scatter",
         "x": [
          "Zamfara"
         ],
         "xaxis": "x",
         "y": [
          71
         ],
         "yaxis": "y"
        },
        {
         "hovertemplate": "<b>%{hovertext}</b><br><br>STATE=%{x}<br>RECOVERED=%{marker.size}<extra></extra>",
         "hovertext": [
          "Yobe"
         ],
         "legendgroup": "Yobe",
         "marker": {
          "color": "#EF553B",
          "size": [
           45
          ],
          "sizemode": "area",
          "sizeref": 0.4022222222222222,
          "symbol": "circle"
         },
         "mode": "markers",
         "name": "Yobe",
         "orientation": "v",
         "showlegend": true,
         "type": "scatter",
         "x": [
          "Yobe"
         ],
         "xaxis": "x",
         "y": [
          45
         ],
         "yaxis": "y"
        },
        {
         "hovertemplate": "<b>%{hovertext}</b><br><br>STATE=%{x}<br>RECOVERED=%{marker.size}<extra></extra>",
         "hovertext": [
          "Taraba"
         ],
         "legendgroup": "Taraba",
         "marker": {
          "color": "#00cc96",
          "size": [
           10
          ],
          "sizemode": "area",
          "sizeref": 0.4022222222222222,
          "symbol": "circle"
         },
         "mode": "markers",
         "name": "Taraba",
         "orientation": "v",
         "showlegend": true,
         "type": "scatter",
         "x": [
          "Taraba"
         ],
         "xaxis": "x",
         "y": [
          10
         ],
         "yaxis": "y"
        },
        {
         "hovertemplate": "<b>%{hovertext}</b><br><br>STATE=%{x}<br>RECOVERED=%{marker.size}<extra></extra>",
         "hovertext": [
          "Sokoto"
         ],
         "legendgroup": "Sokoto",
         "marker": {
          "color": "#ab63fa",
          "size": [
           116
          ],
          "sizemode": "area",
          "sizeref": 0.4022222222222222,
          "symbol": "circle"
         },
         "mode": "markers",
         "name": "Sokoto",
         "orientation": "v",
         "showlegend": true,
         "type": "scatter",
         "x": [
          "Sokoto"
         ],
         "xaxis": "x",
         "y": [
          116
         ],
         "yaxis": "y"
        },
        {
         "hovertemplate": "<b>%{hovertext}</b><br><br>STATE=%{x}<br>RECOVERED=%{marker.size}<extra></extra>",
         "hovertext": [
          "Rivers"
         ],
         "legendgroup": "Rivers",
         "marker": {
          "color": "#FFA15A",
          "size": [
           409
          ],
          "sizemode": "area",
          "sizeref": 0.4022222222222222,
          "symbol": "circle"
         },
         "mode": "markers",
         "name": "Rivers",
         "orientation": "v",
         "showlegend": true,
         "type": "scatter",
         "x": [
          "Rivers"
         ],
         "xaxis": "x",
         "y": [
          409
         ],
         "yaxis": "y"
        },
        {
         "hovertemplate": "<b>%{hovertext}</b><br><br>STATE=%{x}<br>RECOVERED=%{marker.size}<extra></extra>",
         "hovertext": [
          "Plateau"
         ],
         "legendgroup": "Plateau",
         "marker": {
          "color": "#19d3f3",
          "size": [
           131
          ],
          "sizemode": "area",
          "sizeref": 0.4022222222222222,
          "symbol": "circle"
         },
         "mode": "markers",
         "name": "Plateau",
         "orientation": "v",
         "showlegend": true,
         "type": "scatter",
         "x": [
          "Plateau"
         ],
         "xaxis": "x",
         "y": [
          131
         ],
         "yaxis": "y"
        },
        {
         "hovertemplate": "<b>%{hovertext}</b><br><br>STATE=%{x}<br>RECOVERED=%{marker.size}<extra></extra>",
         "hovertext": [
          "Oyo"
         ],
         "legendgroup": "Oyo",
         "marker": {
          "color": "#FF6692",
          "size": [
           291
          ],
          "sizemode": "area",
          "sizeref": 0.4022222222222222,
          "symbol": "circle"
         },
         "mode": "markers",
         "name": "Oyo",
         "orientation": "v",
         "showlegend": true,
         "type": "scatter",
         "x": [
          "Oyo"
         ],
         "xaxis": "x",
         "y": [
          291
         ],
         "yaxis": "y"
        },
        {
         "hovertemplate": "<b>%{hovertext}</b><br><br>STATE=%{x}<br>RECOVERED=%{marker.size}<extra></extra>",
         "hovertext": [
          "Osun"
         ],
         "legendgroup": "Osun",
         "marker": {
          "color": "#B6E880",
          "size": [
           46
          ],
          "sizemode": "area",
          "sizeref": 0.4022222222222222,
          "symbol": "circle"
         },
         "mode": "markers",
         "name": "Osun",
         "orientation": "v",
         "showlegend": true,
         "type": "scatter",
         "x": [
          "Osun"
         ],
         "xaxis": "x",
         "y": [
          46
         ],
         "yaxis": "y"
        },
        {
         "hovertemplate": "<b>%{hovertext}</b><br><br>STATE=%{x}<br>RECOVERED=%{marker.size}<extra></extra>",
         "hovertext": [
          "Ondo"
         ],
         "legendgroup": "Ondo",
         "marker": {
          "color": "#FF97FF",
          "size": [
           56
          ],
          "sizemode": "area",
          "sizeref": 0.4022222222222222,
          "symbol": "circle"
         },
         "mode": "markers",
         "name": "Ondo",
         "orientation": "v",
         "showlegend": true,
         "type": "scatter",
         "x": [
          "Ondo"
         ],
         "xaxis": "x",
         "y": [
          56
         ],
         "yaxis": "y"
        },
        {
         "hovertemplate": "<b>%{hovertext}</b><br><br>STATE=%{x}<br>RECOVERED=%{marker.size}<extra></extra>",
         "hovertext": [
          "Ogun"
         ],
         "legendgroup": "Ogun",
         "marker": {
          "color": "#FECB52",
          "size": [
           366
          ],
          "sizemode": "area",
          "sizeref": 0.4022222222222222,
          "symbol": "circle"
         },
         "mode": "markers",
         "name": "Ogun",
         "orientation": "v",
         "showlegend": true,
         "type": "scatter",
         "x": [
          "Ogun"
         ],
         "xaxis": "x",
         "y": [
          366
         ],
         "yaxis": "y"
        },
        {
         "hovertemplate": "<b>%{hovertext}</b><br><br>STATE=%{x}<br>RECOVERED=%{marker.size}<extra></extra>",
         "hovertext": [
          "Niger"
         ],
         "legendgroup": "Niger",
         "marker": {
          "color": "#636efa",
          "size": [
           37
          ],
          "sizemode": "area",
          "sizeref": 0.4022222222222222,
          "symbol": "circle"
         },
         "mode": "markers",
         "name": "Niger",
         "orientation": "v",
         "showlegend": true,
         "type": "scatter",
         "x": [
          "Niger"
         ],
         "xaxis": "x",
         "y": [
          37
         ],
         "yaxis": "y"
        },
        {
         "hovertemplate": "<b>%{hovertext}</b><br><br>STATE=%{x}<br>RECOVERED=%{marker.size}<extra></extra>",
         "hovertext": [
          "Nasarawa"
         ],
         "legendgroup": "Nasarawa",
         "marker": {
          "color": "#EF553B",
          "size": [
           94
          ],
          "sizemode": "area",
          "sizeref": 0.4022222222222222,
          "symbol": "circle"
         },
         "mode": "markers",
         "name": "Nasarawa",
         "orientation": "v",
         "showlegend": true,
         "type": "scatter",
         "x": [
          "Nasarawa"
         ],
         "xaxis": "x",
         "y": [
          94
         ],
         "yaxis": "y"
        },
        {
         "hovertemplate": "<b>%{hovertext}</b><br><br>STATE=%{x}<br>RECOVERED=%{marker.size}<extra></extra>",
         "hovertext": [
          "Lagos"
         ],
         "legendgroup": "Lagos",
         "marker": {
          "color": "#00cc96",
          "size": [
           1448
          ],
          "sizemode": "area",
          "sizeref": 0.4022222222222222,
          "symbol": "circle"
         },
         "mode": "markers",
         "name": "Lagos",
         "orientation": "v",
         "showlegend": true,
         "type": "scatter",
         "x": [
          "Lagos"
         ],
         "xaxis": "x",
         "y": [
          1448
         ],
         "yaxis": "y"
        }
       ],
       "layout": {
        "legend": {
         "itemsizing": "constant",
         "title": {
          "text": "STATE"
         },
         "tracegroupgap": 0
        },
        "margin": {
         "t": 60
        },
        "template": {
         "data": {
          "bar": [
           {
            "error_x": {
             "color": "#2a3f5f"
            },
            "error_y": {
             "color": "#2a3f5f"
            },
            "marker": {
             "line": {
              "color": "#E5ECF6",
              "width": 0.5
             }
            },
            "type": "bar"
           }
          ],
          "barpolar": [
           {
            "marker": {
             "line": {
              "color": "#E5ECF6",
              "width": 0.5
             }
            },
            "type": "barpolar"
           }
          ],
          "carpet": [
           {
            "aaxis": {
             "endlinecolor": "#2a3f5f",
             "gridcolor": "white",
             "linecolor": "white",
             "minorgridcolor": "white",
             "startlinecolor": "#2a3f5f"
            },
            "baxis": {
             "endlinecolor": "#2a3f5f",
             "gridcolor": "white",
             "linecolor": "white",
             "minorgridcolor": "white",
             "startlinecolor": "#2a3f5f"
            },
            "type": "carpet"
           }
          ],
          "choropleth": [
           {
            "colorbar": {
             "outlinewidth": 0,
             "ticks": ""
            },
            "type": "choropleth"
           }
          ],
          "contour": [
           {
            "colorbar": {
             "outlinewidth": 0,
             "ticks": ""
            },
            "colorscale": [
             [
              0,
              "#0d0887"
             ],
             [
              0.1111111111111111,
              "#46039f"
             ],
             [
              0.2222222222222222,
              "#7201a8"
             ],
             [
              0.3333333333333333,
              "#9c179e"
             ],
             [
              0.4444444444444444,
              "#bd3786"
             ],
             [
              0.5555555555555556,
              "#d8576b"
             ],
             [
              0.6666666666666666,
              "#ed7953"
             ],
             [
              0.7777777777777778,
              "#fb9f3a"
             ],
             [
              0.8888888888888888,
              "#fdca26"
             ],
             [
              1,
              "#f0f921"
             ]
            ],
            "type": "contour"
           }
          ],
          "contourcarpet": [
           {
            "colorbar": {
             "outlinewidth": 0,
             "ticks": ""
            },
            "type": "contourcarpet"
           }
          ],
          "heatmap": [
           {
            "colorbar": {
             "outlinewidth": 0,
             "ticks": ""
            },
            "colorscale": [
             [
              0,
              "#0d0887"
             ],
             [
              0.1111111111111111,
              "#46039f"
             ],
             [
              0.2222222222222222,
              "#7201a8"
             ],
             [
              0.3333333333333333,
              "#9c179e"
             ],
             [
              0.4444444444444444,
              "#bd3786"
             ],
             [
              0.5555555555555556,
              "#d8576b"
             ],
             [
              0.6666666666666666,
              "#ed7953"
             ],
             [
              0.7777777777777778,
              "#fb9f3a"
             ],
             [
              0.8888888888888888,
              "#fdca26"
             ],
             [
              1,
              "#f0f921"
             ]
            ],
            "type": "heatmap"
           }
          ],
          "heatmapgl": [
           {
            "colorbar": {
             "outlinewidth": 0,
             "ticks": ""
            },
            "colorscale": [
             [
              0,
              "#0d0887"
             ],
             [
              0.1111111111111111,
              "#46039f"
             ],
             [
              0.2222222222222222,
              "#7201a8"
             ],
             [
              0.3333333333333333,
              "#9c179e"
             ],
             [
              0.4444444444444444,
              "#bd3786"
             ],
             [
              0.5555555555555556,
              "#d8576b"
             ],
             [
              0.6666666666666666,
              "#ed7953"
             ],
             [
              0.7777777777777778,
              "#fb9f3a"
             ],
             [
              0.8888888888888888,
              "#fdca26"
             ],
             [
              1,
              "#f0f921"
             ]
            ],
            "type": "heatmapgl"
           }
          ],
          "histogram": [
           {
            "marker": {
             "colorbar": {
              "outlinewidth": 0,
              "ticks": ""
             }
            },
            "type": "histogram"
           }
          ],
          "histogram2d": [
           {
            "colorbar": {
             "outlinewidth": 0,
             "ticks": ""
            },
            "colorscale": [
             [
              0,
              "#0d0887"
             ],
             [
              0.1111111111111111,
              "#46039f"
             ],
             [
              0.2222222222222222,
              "#7201a8"
             ],
             [
              0.3333333333333333,
              "#9c179e"
             ],
             [
              0.4444444444444444,
              "#bd3786"
             ],
             [
              0.5555555555555556,
              "#d8576b"
             ],
             [
              0.6666666666666666,
              "#ed7953"
             ],
             [
              0.7777777777777778,
              "#fb9f3a"
             ],
             [
              0.8888888888888888,
              "#fdca26"
             ],
             [
              1,
              "#f0f921"
             ]
            ],
            "type": "histogram2d"
           }
          ],
          "histogram2dcontour": [
           {
            "colorbar": {
             "outlinewidth": 0,
             "ticks": ""
            },
            "colorscale": [
             [
              0,
              "#0d0887"
             ],
             [
              0.1111111111111111,
              "#46039f"
             ],
             [
              0.2222222222222222,
              "#7201a8"
             ],
             [
              0.3333333333333333,
              "#9c179e"
             ],
             [
              0.4444444444444444,
              "#bd3786"
             ],
             [
              0.5555555555555556,
              "#d8576b"
             ],
             [
              0.6666666666666666,
              "#ed7953"
             ],
             [
              0.7777777777777778,
              "#fb9f3a"
             ],
             [
              0.8888888888888888,
              "#fdca26"
             ],
             [
              1,
              "#f0f921"
             ]
            ],
            "type": "histogram2dcontour"
           }
          ],
          "mesh3d": [
           {
            "colorbar": {
             "outlinewidth": 0,
             "ticks": ""
            },
            "type": "mesh3d"
           }
          ],
          "parcoords": [
           {
            "line": {
             "colorbar": {
              "outlinewidth": 0,
              "ticks": ""
             }
            },
            "type": "parcoords"
           }
          ],
          "pie": [
           {
            "automargin": true,
            "type": "pie"
           }
          ],
          "scatter": [
           {
            "marker": {
             "colorbar": {
              "outlinewidth": 0,
              "ticks": ""
             }
            },
            "type": "scatter"
           }
          ],
          "scatter3d": [
           {
            "line": {
             "colorbar": {
              "outlinewidth": 0,
              "ticks": ""
             }
            },
            "marker": {
             "colorbar": {
              "outlinewidth": 0,
              "ticks": ""
             }
            },
            "type": "scatter3d"
           }
          ],
          "scattercarpet": [
           {
            "marker": {
             "colorbar": {
              "outlinewidth": 0,
              "ticks": ""
             }
            },
            "type": "scattercarpet"
           }
          ],
          "scattergeo": [
           {
            "marker": {
             "colorbar": {
              "outlinewidth": 0,
              "ticks": ""
             }
            },
            "type": "scattergeo"
           }
          ],
          "scattergl": [
           {
            "marker": {
             "colorbar": {
              "outlinewidth": 0,
              "ticks": ""
             }
            },
            "type": "scattergl"
           }
          ],
          "scattermapbox": [
           {
            "marker": {
             "colorbar": {
              "outlinewidth": 0,
              "ticks": ""
             }
            },
            "type": "scattermapbox"
           }
          ],
          "scatterpolar": [
           {
            "marker": {
             "colorbar": {
              "outlinewidth": 0,
              "ticks": ""
             }
            },
            "type": "scatterpolar"
           }
          ],
          "scatterpolargl": [
           {
            "marker": {
             "colorbar": {
              "outlinewidth": 0,
              "ticks": ""
             }
            },
            "type": "scatterpolargl"
           }
          ],
          "scatterternary": [
           {
            "marker": {
             "colorbar": {
              "outlinewidth": 0,
              "ticks": ""
             }
            },
            "type": "scatterternary"
           }
          ],
          "surface": [
           {
            "colorbar": {
             "outlinewidth": 0,
             "ticks": ""
            },
            "colorscale": [
             [
              0,
              "#0d0887"
             ],
             [
              0.1111111111111111,
              "#46039f"
             ],
             [
              0.2222222222222222,
              "#7201a8"
             ],
             [
              0.3333333333333333,
              "#9c179e"
             ],
             [
              0.4444444444444444,
              "#bd3786"
             ],
             [
              0.5555555555555556,
              "#d8576b"
             ],
             [
              0.6666666666666666,
              "#ed7953"
             ],
             [
              0.7777777777777778,
              "#fb9f3a"
             ],
             [
              0.8888888888888888,
              "#fdca26"
             ],
             [
              1,
              "#f0f921"
             ]
            ],
            "type": "surface"
           }
          ],
          "table": [
           {
            "cells": {
             "fill": {
              "color": "#EBF0F8"
             },
             "line": {
              "color": "white"
             }
            },
            "header": {
             "fill": {
              "color": "#C8D4E3"
             },
             "line": {
              "color": "white"
             }
            },
            "type": "table"
           }
          ]
         },
         "layout": {
          "annotationdefaults": {
           "arrowcolor": "#2a3f5f",
           "arrowhead": 0,
           "arrowwidth": 1
          },
          "coloraxis": {
           "colorbar": {
            "outlinewidth": 0,
            "ticks": ""
           }
          },
          "colorscale": {
           "diverging": [
            [
             0,
             "#8e0152"
            ],
            [
             0.1,
             "#c51b7d"
            ],
            [
             0.2,
             "#de77ae"
            ],
            [
             0.3,
             "#f1b6da"
            ],
            [
             0.4,
             "#fde0ef"
            ],
            [
             0.5,
             "#f7f7f7"
            ],
            [
             0.6,
             "#e6f5d0"
            ],
            [
             0.7,
             "#b8e186"
            ],
            [
             0.8,
             "#7fbc41"
            ],
            [
             0.9,
             "#4d9221"
            ],
            [
             1,
             "#276419"
            ]
           ],
           "sequential": [
            [
             0,
             "#0d0887"
            ],
            [
             0.1111111111111111,
             "#46039f"
            ],
            [
             0.2222222222222222,
             "#7201a8"
            ],
            [
             0.3333333333333333,
             "#9c179e"
            ],
            [
             0.4444444444444444,
             "#bd3786"
            ],
            [
             0.5555555555555556,
             "#d8576b"
            ],
            [
             0.6666666666666666,
             "#ed7953"
            ],
            [
             0.7777777777777778,
             "#fb9f3a"
            ],
            [
             0.8888888888888888,
             "#fdca26"
            ],
            [
             1,
             "#f0f921"
            ]
           ],
           "sequentialminus": [
            [
             0,
             "#0d0887"
            ],
            [
             0.1111111111111111,
             "#46039f"
            ],
            [
             0.2222222222222222,
             "#7201a8"
            ],
            [
             0.3333333333333333,
             "#9c179e"
            ],
            [
             0.4444444444444444,
             "#bd3786"
            ],
            [
             0.5555555555555556,
             "#d8576b"
            ],
            [
             0.6666666666666666,
             "#ed7953"
            ],
            [
             0.7777777777777778,
             "#fb9f3a"
            ],
            [
             0.8888888888888888,
             "#fdca26"
            ],
            [
             1,
             "#f0f921"
            ]
           ]
          },
          "colorway": [
           "#636efa",
           "#EF553B",
           "#00cc96",
           "#ab63fa",
           "#FFA15A",
           "#19d3f3",
           "#FF6692",
           "#B6E880",
           "#FF97FF",
           "#FECB52"
          ],
          "font": {
           "color": "#2a3f5f"
          },
          "geo": {
           "bgcolor": "white",
           "lakecolor": "white",
           "landcolor": "#E5ECF6",
           "showlakes": true,
           "showland": true,
           "subunitcolor": "white"
          },
          "hoverlabel": {
           "align": "left"
          },
          "hovermode": "closest",
          "mapbox": {
           "style": "light"
          },
          "paper_bgcolor": "white",
          "plot_bgcolor": "#E5ECF6",
          "polar": {
           "angularaxis": {
            "gridcolor": "white",
            "linecolor": "white",
            "ticks": ""
           },
           "bgcolor": "#E5ECF6",
           "radialaxis": {
            "gridcolor": "white",
            "linecolor": "white",
            "ticks": ""
           }
          },
          "scene": {
           "xaxis": {
            "backgroundcolor": "#E5ECF6",
            "gridcolor": "white",
            "gridwidth": 2,
            "linecolor": "white",
            "showbackground": true,
            "ticks": "",
            "zerolinecolor": "white"
           },
           "yaxis": {
            "backgroundcolor": "#E5ECF6",
            "gridcolor": "white",
            "gridwidth": 2,
            "linecolor": "white",
            "showbackground": true,
            "ticks": "",
            "zerolinecolor": "white"
           },
           "zaxis": {
            "backgroundcolor": "#E5ECF6",
            "gridcolor": "white",
            "gridwidth": 2,
            "linecolor": "white",
            "showbackground": true,
            "ticks": "",
            "zerolinecolor": "white"
           }
          },
          "shapedefaults": {
           "line": {
            "color": "#2a3f5f"
           }
          },
          "ternary": {
           "aaxis": {
            "gridcolor": "white",
            "linecolor": "white",
            "ticks": ""
           },
           "baxis": {
            "gridcolor": "white",
            "linecolor": "white",
            "ticks": ""
           },
           "bgcolor": "#E5ECF6",
           "caxis": {
            "gridcolor": "white",
            "linecolor": "white",
            "ticks": ""
           }
          },
          "title": {
           "x": 0.05
          },
          "xaxis": {
           "automargin": true,
           "gridcolor": "white",
           "linecolor": "white",
           "ticks": "",
           "title": {
            "standoff": 15
           },
           "zerolinecolor": "white",
           "zerolinewidth": 2
          },
          "yaxis": {
           "automargin": true,
           "gridcolor": "white",
           "linecolor": "white",
           "ticks": "",
           "title": {
            "standoff": 15
           },
           "zerolinecolor": "white",
           "zerolinewidth": 2
          }
         }
        },
        "xaxis": {
         "anchor": "y",
         "categoryarray": [
          "Zamfara",
          "Yobe",
          "Taraba",
          "Sokoto",
          "Rivers",
          "Plateau",
          "Oyo",
          "Osun",
          "Ondo",
          "Ogun",
          "Niger",
          "Nasarawa",
          "Lagos"
         ],
         "categoryorder": "array",
         "domain": [
          0,
          1
         ],
         "title": {
          "text": "STATE"
         }
        },
        "yaxis": {
         "anchor": "x",
         "domain": [
          0,
          1
         ],
         "title": {
          "text": "RECOVERED"
         }
        }
       }
      },
      "text/html": [
       "<div>\n",
       "        \n",
       "        \n",
       "            <div id=\"7abd526b-a998-4f50-9321-5a9c75a151fc\" class=\"plotly-graph-div\" style=\"height:525px; width:100%;\"></div>\n",
       "            <script type=\"text/javascript\">\n",
       "                require([\"plotly\"], function(Plotly) {\n",
       "                    window.PLOTLYENV=window.PLOTLYENV || {};\n",
       "                    \n",
       "                if (document.getElementById(\"7abd526b-a998-4f50-9321-5a9c75a151fc\")) {\n",
       "                    Plotly.newPlot(\n",
       "                        '7abd526b-a998-4f50-9321-5a9c75a151fc',\n",
       "                        [{\"hovertemplate\": \"<b>%{hovertext}</b><br><br>STATE=%{x}<br>RECOVERED=%{marker.size}<extra></extra>\", \"hovertext\": [\"Zamfara\"], \"legendgroup\": \"Zamfara\", \"marker\": {\"color\": \"#636efa\", \"size\": [71], \"sizemode\": \"area\", \"sizeref\": 0.4022222222222222, \"symbol\": \"circle\"}, \"mode\": \"markers\", \"name\": \"Zamfara\", \"orientation\": \"v\", \"showlegend\": true, \"type\": \"scatter\", \"x\": [\"Zamfara\"], \"xaxis\": \"x\", \"y\": [71], \"yaxis\": \"y\"}, {\"hovertemplate\": \"<b>%{hovertext}</b><br><br>STATE=%{x}<br>RECOVERED=%{marker.size}<extra></extra>\", \"hovertext\": [\"Yobe\"], \"legendgroup\": \"Yobe\", \"marker\": {\"color\": \"#EF553B\", \"size\": [45], \"sizemode\": \"area\", \"sizeref\": 0.4022222222222222, \"symbol\": \"circle\"}, \"mode\": \"markers\", \"name\": \"Yobe\", \"orientation\": \"v\", \"showlegend\": true, \"type\": \"scatter\", \"x\": [\"Yobe\"], \"xaxis\": \"x\", \"y\": [45], \"yaxis\": \"y\"}, {\"hovertemplate\": \"<b>%{hovertext}</b><br><br>STATE=%{x}<br>RECOVERED=%{marker.size}<extra></extra>\", \"hovertext\": [\"Taraba\"], \"legendgroup\": \"Taraba\", \"marker\": {\"color\": \"#00cc96\", \"size\": [10], \"sizemode\": \"area\", \"sizeref\": 0.4022222222222222, \"symbol\": \"circle\"}, \"mode\": \"markers\", \"name\": \"Taraba\", \"orientation\": \"v\", \"showlegend\": true, \"type\": \"scatter\", \"x\": [\"Taraba\"], \"xaxis\": \"x\", \"y\": [10], \"yaxis\": \"y\"}, {\"hovertemplate\": \"<b>%{hovertext}</b><br><br>STATE=%{x}<br>RECOVERED=%{marker.size}<extra></extra>\", \"hovertext\": [\"Sokoto\"], \"legendgroup\": \"Sokoto\", \"marker\": {\"color\": \"#ab63fa\", \"size\": [116], \"sizemode\": \"area\", \"sizeref\": 0.4022222222222222, \"symbol\": \"circle\"}, \"mode\": \"markers\", \"name\": \"Sokoto\", \"orientation\": \"v\", \"showlegend\": true, \"type\": \"scatter\", \"x\": [\"Sokoto\"], \"xaxis\": \"x\", \"y\": [116], \"yaxis\": \"y\"}, {\"hovertemplate\": \"<b>%{hovertext}</b><br><br>STATE=%{x}<br>RECOVERED=%{marker.size}<extra></extra>\", \"hovertext\": [\"Rivers\"], \"legendgroup\": \"Rivers\", \"marker\": {\"color\": \"#FFA15A\", \"size\": [409], \"sizemode\": \"area\", \"sizeref\": 0.4022222222222222, \"symbol\": \"circle\"}, \"mode\": \"markers\", \"name\": \"Rivers\", \"orientation\": \"v\", \"showlegend\": true, \"type\": \"scatter\", \"x\": [\"Rivers\"], \"xaxis\": \"x\", \"y\": [409], \"yaxis\": \"y\"}, {\"hovertemplate\": \"<b>%{hovertext}</b><br><br>STATE=%{x}<br>RECOVERED=%{marker.size}<extra></extra>\", \"hovertext\": [\"Plateau\"], \"legendgroup\": \"Plateau\", \"marker\": {\"color\": \"#19d3f3\", \"size\": [131], \"sizemode\": \"area\", \"sizeref\": 0.4022222222222222, \"symbol\": \"circle\"}, \"mode\": \"markers\", \"name\": \"Plateau\", \"orientation\": \"v\", \"showlegend\": true, \"type\": \"scatter\", \"x\": [\"Plateau\"], \"xaxis\": \"x\", \"y\": [131], \"yaxis\": \"y\"}, {\"hovertemplate\": \"<b>%{hovertext}</b><br><br>STATE=%{x}<br>RECOVERED=%{marker.size}<extra></extra>\", \"hovertext\": [\"Oyo\"], \"legendgroup\": \"Oyo\", \"marker\": {\"color\": \"#FF6692\", \"size\": [291], \"sizemode\": \"area\", \"sizeref\": 0.4022222222222222, \"symbol\": \"circle\"}, \"mode\": \"markers\", \"name\": \"Oyo\", \"orientation\": \"v\", \"showlegend\": true, \"type\": \"scatter\", \"x\": [\"Oyo\"], \"xaxis\": \"x\", \"y\": [291], \"yaxis\": \"y\"}, {\"hovertemplate\": \"<b>%{hovertext}</b><br><br>STATE=%{x}<br>RECOVERED=%{marker.size}<extra></extra>\", \"hovertext\": [\"Osun\"], \"legendgroup\": \"Osun\", \"marker\": {\"color\": \"#B6E880\", \"size\": [46], \"sizemode\": \"area\", \"sizeref\": 0.4022222222222222, \"symbol\": \"circle\"}, \"mode\": \"markers\", \"name\": \"Osun\", \"orientation\": \"v\", \"showlegend\": true, \"type\": \"scatter\", \"x\": [\"Osun\"], \"xaxis\": \"x\", \"y\": [46], \"yaxis\": \"y\"}, {\"hovertemplate\": \"<b>%{hovertext}</b><br><br>STATE=%{x}<br>RECOVERED=%{marker.size}<extra></extra>\", \"hovertext\": [\"Ondo\"], \"legendgroup\": \"Ondo\", \"marker\": {\"color\": \"#FF97FF\", \"size\": [56], \"sizemode\": \"area\", \"sizeref\": 0.4022222222222222, \"symbol\": \"circle\"}, \"mode\": \"markers\", \"name\": \"Ondo\", \"orientation\": \"v\", \"showlegend\": true, \"type\": \"scatter\", \"x\": [\"Ondo\"], \"xaxis\": \"x\", \"y\": [56], \"yaxis\": \"y\"}, {\"hovertemplate\": \"<b>%{hovertext}</b><br><br>STATE=%{x}<br>RECOVERED=%{marker.size}<extra></extra>\", \"hovertext\": [\"Ogun\"], \"legendgroup\": \"Ogun\", \"marker\": {\"color\": \"#FECB52\", \"size\": [366], \"sizemode\": \"area\", \"sizeref\": 0.4022222222222222, \"symbol\": \"circle\"}, \"mode\": \"markers\", \"name\": \"Ogun\", \"orientation\": \"v\", \"showlegend\": true, \"type\": \"scatter\", \"x\": [\"Ogun\"], \"xaxis\": \"x\", \"y\": [366], \"yaxis\": \"y\"}, {\"hovertemplate\": \"<b>%{hovertext}</b><br><br>STATE=%{x}<br>RECOVERED=%{marker.size}<extra></extra>\", \"hovertext\": [\"Niger\"], \"legendgroup\": \"Niger\", \"marker\": {\"color\": \"#636efa\", \"size\": [37], \"sizemode\": \"area\", \"sizeref\": 0.4022222222222222, \"symbol\": \"circle\"}, \"mode\": \"markers\", \"name\": \"Niger\", \"orientation\": \"v\", \"showlegend\": true, \"type\": \"scatter\", \"x\": [\"Niger\"], \"xaxis\": \"x\", \"y\": [37], \"yaxis\": \"y\"}, {\"hovertemplate\": \"<b>%{hovertext}</b><br><br>STATE=%{x}<br>RECOVERED=%{marker.size}<extra></extra>\", \"hovertext\": [\"Nasarawa\"], \"legendgroup\": \"Nasarawa\", \"marker\": {\"color\": \"#EF553B\", \"size\": [94], \"sizemode\": \"area\", \"sizeref\": 0.4022222222222222, \"symbol\": \"circle\"}, \"mode\": \"markers\", \"name\": \"Nasarawa\", \"orientation\": \"v\", \"showlegend\": true, \"type\": \"scatter\", \"x\": [\"Nasarawa\"], \"xaxis\": \"x\", \"y\": [94], \"yaxis\": \"y\"}, {\"hovertemplate\": \"<b>%{hovertext}</b><br><br>STATE=%{x}<br>RECOVERED=%{marker.size}<extra></extra>\", \"hovertext\": [\"Lagos\"], \"legendgroup\": \"Lagos\", \"marker\": {\"color\": \"#00cc96\", \"size\": [1448], \"sizemode\": \"area\", \"sizeref\": 0.4022222222222222, \"symbol\": \"circle\"}, \"mode\": \"markers\", \"name\": \"Lagos\", \"orientation\": \"v\", \"showlegend\": true, \"type\": \"scatter\", \"x\": [\"Lagos\"], \"xaxis\": \"x\", \"y\": [1448], \"yaxis\": \"y\"}],\n",
       "                        {\"legend\": {\"itemsizing\": \"constant\", \"title\": {\"text\": \"STATE\"}, \"tracegroupgap\": 0}, \"margin\": {\"t\": 60}, \"template\": {\"data\": {\"bar\": [{\"error_x\": {\"color\": \"#2a3f5f\"}, \"error_y\": {\"color\": \"#2a3f5f\"}, \"marker\": {\"line\": {\"color\": \"#E5ECF6\", \"width\": 0.5}}, \"type\": \"bar\"}], \"barpolar\": [{\"marker\": {\"line\": {\"color\": \"#E5ECF6\", \"width\": 0.5}}, \"type\": \"barpolar\"}], \"carpet\": [{\"aaxis\": {\"endlinecolor\": \"#2a3f5f\", \"gridcolor\": \"white\", \"linecolor\": \"white\", \"minorgridcolor\": \"white\", \"startlinecolor\": \"#2a3f5f\"}, \"baxis\": {\"endlinecolor\": \"#2a3f5f\", \"gridcolor\": \"white\", \"linecolor\": \"white\", \"minorgridcolor\": \"white\", \"startlinecolor\": \"#2a3f5f\"}, \"type\": \"carpet\"}], \"choropleth\": [{\"colorbar\": {\"outlinewidth\": 0, \"ticks\": \"\"}, \"type\": \"choropleth\"}], \"contour\": [{\"colorbar\": {\"outlinewidth\": 0, \"ticks\": \"\"}, \"colorscale\": [[0.0, \"#0d0887\"], [0.1111111111111111, \"#46039f\"], [0.2222222222222222, \"#7201a8\"], [0.3333333333333333, \"#9c179e\"], [0.4444444444444444, \"#bd3786\"], [0.5555555555555556, \"#d8576b\"], [0.6666666666666666, \"#ed7953\"], [0.7777777777777778, \"#fb9f3a\"], [0.8888888888888888, \"#fdca26\"], [1.0, \"#f0f921\"]], \"type\": \"contour\"}], \"contourcarpet\": [{\"colorbar\": {\"outlinewidth\": 0, \"ticks\": \"\"}, \"type\": \"contourcarpet\"}], \"heatmap\": [{\"colorbar\": {\"outlinewidth\": 0, \"ticks\": \"\"}, \"colorscale\": [[0.0, \"#0d0887\"], [0.1111111111111111, \"#46039f\"], [0.2222222222222222, \"#7201a8\"], [0.3333333333333333, \"#9c179e\"], [0.4444444444444444, \"#bd3786\"], [0.5555555555555556, \"#d8576b\"], [0.6666666666666666, \"#ed7953\"], [0.7777777777777778, \"#fb9f3a\"], [0.8888888888888888, \"#fdca26\"], [1.0, \"#f0f921\"]], \"type\": \"heatmap\"}], \"heatmapgl\": [{\"colorbar\": {\"outlinewidth\": 0, \"ticks\": \"\"}, \"colorscale\": [[0.0, \"#0d0887\"], [0.1111111111111111, \"#46039f\"], [0.2222222222222222, \"#7201a8\"], [0.3333333333333333, \"#9c179e\"], [0.4444444444444444, \"#bd3786\"], [0.5555555555555556, \"#d8576b\"], [0.6666666666666666, \"#ed7953\"], [0.7777777777777778, \"#fb9f3a\"], [0.8888888888888888, \"#fdca26\"], [1.0, \"#f0f921\"]], \"type\": \"heatmapgl\"}], \"histogram\": [{\"marker\": {\"colorbar\": {\"outlinewidth\": 0, \"ticks\": \"\"}}, \"type\": \"histogram\"}], \"histogram2d\": [{\"colorbar\": {\"outlinewidth\": 0, \"ticks\": \"\"}, \"colorscale\": [[0.0, \"#0d0887\"], [0.1111111111111111, \"#46039f\"], [0.2222222222222222, \"#7201a8\"], [0.3333333333333333, \"#9c179e\"], [0.4444444444444444, \"#bd3786\"], [0.5555555555555556, \"#d8576b\"], [0.6666666666666666, \"#ed7953\"], [0.7777777777777778, \"#fb9f3a\"], [0.8888888888888888, \"#fdca26\"], [1.0, \"#f0f921\"]], \"type\": \"histogram2d\"}], \"histogram2dcontour\": [{\"colorbar\": {\"outlinewidth\": 0, \"ticks\": \"\"}, \"colorscale\": [[0.0, \"#0d0887\"], [0.1111111111111111, \"#46039f\"], [0.2222222222222222, \"#7201a8\"], [0.3333333333333333, \"#9c179e\"], [0.4444444444444444, \"#bd3786\"], [0.5555555555555556, \"#d8576b\"], [0.6666666666666666, \"#ed7953\"], [0.7777777777777778, \"#fb9f3a\"], [0.8888888888888888, \"#fdca26\"], [1.0, \"#f0f921\"]], \"type\": \"histogram2dcontour\"}], \"mesh3d\": [{\"colorbar\": {\"outlinewidth\": 0, \"ticks\": \"\"}, \"type\": \"mesh3d\"}], \"parcoords\": [{\"line\": {\"colorbar\": {\"outlinewidth\": 0, \"ticks\": \"\"}}, \"type\": \"parcoords\"}], \"pie\": [{\"automargin\": true, \"type\": \"pie\"}], \"scatter\": [{\"marker\": {\"colorbar\": {\"outlinewidth\": 0, \"ticks\": \"\"}}, \"type\": \"scatter\"}], \"scatter3d\": [{\"line\": {\"colorbar\": {\"outlinewidth\": 0, \"ticks\": \"\"}}, \"marker\": {\"colorbar\": {\"outlinewidth\": 0, \"ticks\": \"\"}}, \"type\": \"scatter3d\"}], \"scattercarpet\": [{\"marker\": {\"colorbar\": {\"outlinewidth\": 0, \"ticks\": \"\"}}, \"type\": \"scattercarpet\"}], \"scattergeo\": [{\"marker\": {\"colorbar\": {\"outlinewidth\": 0, \"ticks\": \"\"}}, \"type\": \"scattergeo\"}], \"scattergl\": [{\"marker\": {\"colorbar\": {\"outlinewidth\": 0, \"ticks\": \"\"}}, \"type\": \"scattergl\"}], \"scattermapbox\": [{\"marker\": {\"colorbar\": {\"outlinewidth\": 0, \"ticks\": \"\"}}, \"type\": \"scattermapbox\"}], \"scatterpolar\": [{\"marker\": {\"colorbar\": {\"outlinewidth\": 0, \"ticks\": \"\"}}, \"type\": \"scatterpolar\"}], \"scatterpolargl\": [{\"marker\": {\"colorbar\": {\"outlinewidth\": 0, \"ticks\": \"\"}}, \"type\": \"scatterpolargl\"}], \"scatterternary\": [{\"marker\": {\"colorbar\": {\"outlinewidth\": 0, \"ticks\": \"\"}}, \"type\": \"scatterternary\"}], \"surface\": [{\"colorbar\": {\"outlinewidth\": 0, \"ticks\": \"\"}, \"colorscale\": [[0.0, \"#0d0887\"], [0.1111111111111111, \"#46039f\"], [0.2222222222222222, \"#7201a8\"], [0.3333333333333333, \"#9c179e\"], [0.4444444444444444, \"#bd3786\"], [0.5555555555555556, \"#d8576b\"], [0.6666666666666666, \"#ed7953\"], [0.7777777777777778, \"#fb9f3a\"], [0.8888888888888888, \"#fdca26\"], [1.0, \"#f0f921\"]], \"type\": \"surface\"}], \"table\": [{\"cells\": {\"fill\": {\"color\": \"#EBF0F8\"}, \"line\": {\"color\": \"white\"}}, \"header\": {\"fill\": {\"color\": \"#C8D4E3\"}, \"line\": {\"color\": \"white\"}}, \"type\": \"table\"}]}, \"layout\": {\"annotationdefaults\": {\"arrowcolor\": \"#2a3f5f\", \"arrowhead\": 0, \"arrowwidth\": 1}, \"coloraxis\": {\"colorbar\": {\"outlinewidth\": 0, \"ticks\": \"\"}}, \"colorscale\": {\"diverging\": [[0, \"#8e0152\"], [0.1, \"#c51b7d\"], [0.2, \"#de77ae\"], [0.3, \"#f1b6da\"], [0.4, \"#fde0ef\"], [0.5, \"#f7f7f7\"], [0.6, \"#e6f5d0\"], [0.7, \"#b8e186\"], [0.8, \"#7fbc41\"], [0.9, \"#4d9221\"], [1, \"#276419\"]], \"sequential\": [[0.0, \"#0d0887\"], [0.1111111111111111, \"#46039f\"], [0.2222222222222222, \"#7201a8\"], [0.3333333333333333, \"#9c179e\"], [0.4444444444444444, \"#bd3786\"], [0.5555555555555556, \"#d8576b\"], [0.6666666666666666, \"#ed7953\"], [0.7777777777777778, \"#fb9f3a\"], [0.8888888888888888, \"#fdca26\"], [1.0, \"#f0f921\"]], \"sequentialminus\": [[0.0, \"#0d0887\"], [0.1111111111111111, \"#46039f\"], [0.2222222222222222, \"#7201a8\"], [0.3333333333333333, \"#9c179e\"], [0.4444444444444444, \"#bd3786\"], [0.5555555555555556, \"#d8576b\"], [0.6666666666666666, \"#ed7953\"], [0.7777777777777778, \"#fb9f3a\"], [0.8888888888888888, \"#fdca26\"], [1.0, \"#f0f921\"]]}, \"colorway\": [\"#636efa\", \"#EF553B\", \"#00cc96\", \"#ab63fa\", \"#FFA15A\", \"#19d3f3\", \"#FF6692\", \"#B6E880\", \"#FF97FF\", \"#FECB52\"], \"font\": {\"color\": \"#2a3f5f\"}, \"geo\": {\"bgcolor\": \"white\", \"lakecolor\": \"white\", \"landcolor\": \"#E5ECF6\", \"showlakes\": true, \"showland\": true, \"subunitcolor\": \"white\"}, \"hoverlabel\": {\"align\": \"left\"}, \"hovermode\": \"closest\", \"mapbox\": {\"style\": \"light\"}, \"paper_bgcolor\": \"white\", \"plot_bgcolor\": \"#E5ECF6\", \"polar\": {\"angularaxis\": {\"gridcolor\": \"white\", \"linecolor\": \"white\", \"ticks\": \"\"}, \"bgcolor\": \"#E5ECF6\", \"radialaxis\": {\"gridcolor\": \"white\", \"linecolor\": \"white\", \"ticks\": \"\"}}, \"scene\": {\"xaxis\": {\"backgroundcolor\": \"#E5ECF6\", \"gridcolor\": \"white\", \"gridwidth\": 2, \"linecolor\": \"white\", \"showbackground\": true, \"ticks\": \"\", \"zerolinecolor\": \"white\"}, \"yaxis\": {\"backgroundcolor\": \"#E5ECF6\", \"gridcolor\": \"white\", \"gridwidth\": 2, \"linecolor\": \"white\", \"showbackground\": true, \"ticks\": \"\", \"zerolinecolor\": \"white\"}, \"zaxis\": {\"backgroundcolor\": \"#E5ECF6\", \"gridcolor\": \"white\", \"gridwidth\": 2, \"linecolor\": \"white\", \"showbackground\": true, \"ticks\": \"\", \"zerolinecolor\": \"white\"}}, \"shapedefaults\": {\"line\": {\"color\": \"#2a3f5f\"}}, \"ternary\": {\"aaxis\": {\"gridcolor\": \"white\", \"linecolor\": \"white\", \"ticks\": \"\"}, \"baxis\": {\"gridcolor\": \"white\", \"linecolor\": \"white\", \"ticks\": \"\"}, \"bgcolor\": \"#E5ECF6\", \"caxis\": {\"gridcolor\": \"white\", \"linecolor\": \"white\", \"ticks\": \"\"}}, \"title\": {\"x\": 0.05}, \"xaxis\": {\"automargin\": true, \"gridcolor\": \"white\", \"linecolor\": \"white\", \"ticks\": \"\", \"title\": {\"standoff\": 15}, \"zerolinecolor\": \"white\", \"zerolinewidth\": 2}, \"yaxis\": {\"automargin\": true, \"gridcolor\": \"white\", \"linecolor\": \"white\", \"ticks\": \"\", \"title\": {\"standoff\": 15}, \"zerolinecolor\": \"white\", \"zerolinewidth\": 2}}}, \"xaxis\": {\"anchor\": \"y\", \"categoryarray\": [\"Zamfara\", \"Yobe\", \"Taraba\", \"Sokoto\", \"Rivers\", \"Plateau\", \"Oyo\", \"Osun\", \"Ondo\", \"Ogun\", \"Niger\", \"Nasarawa\", \"Lagos\"], \"categoryorder\": \"array\", \"domain\": [0.0, 1.0], \"title\": {\"text\": \"STATE\"}}, \"yaxis\": {\"anchor\": \"x\", \"domain\": [0.0, 1.0], \"title\": {\"text\": \"RECOVERED\"}}},\n",
       "                        {\"responsive\": true}\n",
       "                    ).then(function(){\n",
       "                            \n",
       "var gd = document.getElementById('7abd526b-a998-4f50-9321-5a9c75a151fc');\n",
       "var x = new MutationObserver(function (mutations, observer) {{\n",
       "        var display = window.getComputedStyle(gd).display;\n",
       "        if (!display || display === 'none') {{\n",
       "            console.log([gd, 'removed!']);\n",
       "            Plotly.purge(gd);\n",
       "            observer.disconnect();\n",
       "        }}\n",
       "}});\n",
       "\n",
       "// Listen for the removal of the full notebook cells\n",
       "var notebookContainer = gd.closest('#notebook-container');\n",
       "if (notebookContainer) {{\n",
       "    x.observe(notebookContainer, {childList: true});\n",
       "}}\n",
       "\n",
       "// Listen for the clearing of the current output cell\n",
       "var outputEl = gd.closest('.output');\n",
       "if (outputEl) {{\n",
       "    x.observe(outputEl, {childList: true});\n",
       "}}\n",
       "\n",
       "                        })\n",
       "                };\n",
       "                });\n",
       "            </script>\n",
       "        </div>"
      ]
     },
     "metadata": {},
     "output_type": "display_data"
    }
   ],
   "source": [
    "fig3.show()"
   ]
  },
  {
   "cell_type": "markdown",
   "metadata": {},
   "source": [
    "## Checking the active cases for the state in Nigeria"
   ]
  },
  {
   "cell_type": "code",
   "execution_count": 53,
   "metadata": {},
   "outputs": [],
   "source": [
    "fig4 = px.scatter(sorted_covid_states_nig_data.head(13), x='STATE', y='ACTIVE', size = 'ACTIVE', \n",
    "                color = 'STATE', hover_name = 'STATE', size_max = 60)"
   ]
  },
  {
   "cell_type": "code",
   "execution_count": 54,
   "metadata": {
    "scrolled": false
   },
   "outputs": [
    {
     "data": {
      "application/vnd.plotly.v1+json": {
       "config": {
        "plotlyServerURL": "https://plot.ly"
       },
       "data": [
        {
         "hovertemplate": "<b>%{hovertext}</b><br><br>STATE=%{x}<br>ACTIVE=%{marker.size}<extra></extra>",
         "hovertext": [
          "Zamfara"
         ],
         "legendgroup": "Zamfara",
         "marker": {
          "color": "#636efa",
          "size": [
           0
          ],
          "sizemode": "area",
          "sizeref": 2.025,
          "symbol": "circle"
         },
         "mode": "markers",
         "name": "Zamfara",
         "orientation": "v",
         "showlegend": true,
         "type": "scatter",
         "x": [
          "Zamfara"
         ],
         "xaxis": "x",
         "y": [
          0
         ],
         "yaxis": "y"
        },
        {
         "hovertemplate": "<b>%{hovertext}</b><br><br>STATE=%{x}<br>ACTIVE=%{marker.size}<extra></extra>",
         "hovertext": [
          "Yobe"
         ],
         "legendgroup": "Yobe",
         "marker": {
          "color": "#EF553B",
          "size": [
           3
          ],
          "sizemode": "area",
          "sizeref": 2.025,
          "symbol": "circle"
         },
         "mode": "markers",
         "name": "Yobe",
         "orientation": "v",
         "showlegend": true,
         "type": "scatter",
         "x": [
          "Yobe"
         ],
         "xaxis": "x",
         "y": [
          3
         ],
         "yaxis": "y"
        },
        {
         "hovertemplate": "<b>%{hovertext}</b><br><br>STATE=%{x}<br>ACTIVE=%{marker.size}<extra></extra>",
         "hovertext": [
          "Taraba"
         ],
         "legendgroup": "Taraba",
         "marker": {
          "color": "#00cc96",
          "size": [
           8
          ],
          "sizemode": "area",
          "sizeref": 2.025,
          "symbol": "circle"
         },
         "mode": "markers",
         "name": "Taraba",
         "orientation": "v",
         "showlegend": true,
         "type": "scatter",
         "x": [
          "Taraba"
         ],
         "xaxis": "x",
         "y": [
          8
         ],
         "yaxis": "y"
        },
        {
         "hovertemplate": "<b>%{hovertext}</b><br><br>STATE=%{x}<br>ACTIVE=%{marker.size}<extra></extra>",
         "hovertext": [
          "Sokoto"
         ],
         "legendgroup": "Sokoto",
         "marker": {
          "color": "#ab63fa",
          "size": [
           8
          ],
          "sizemode": "area",
          "sizeref": 2.025,
          "symbol": "circle"
         },
         "mode": "markers",
         "name": "Sokoto",
         "orientation": "v",
         "showlegend": true,
         "type": "scatter",
         "x": [
          "Sokoto"
         ],
         "xaxis": "x",
         "y": [
          8
         ],
         "yaxis": "y"
        },
        {
         "hovertemplate": "<b>%{hovertext}</b><br><br>STATE=%{x}<br>ACTIVE=%{marker.size}<extra></extra>",
         "hovertext": [
          "Rivers"
         ],
         "legendgroup": "Rivers",
         "marker": {
          "color": "#FFA15A",
          "size": [
           490
          ],
          "sizemode": "area",
          "sizeref": 2.025,
          "symbol": "circle"
         },
         "mode": "markers",
         "name": "Rivers",
         "orientation": "v",
         "showlegend": true,
         "type": "scatter",
         "x": [
          "Rivers"
         ],
         "xaxis": "x",
         "y": [
          490
         ],
         "yaxis": "y"
        },
        {
         "hovertemplate": "<b>%{hovertext}</b><br><br>STATE=%{x}<br>ACTIVE=%{marker.size}<extra></extra>",
         "hovertext": [
          "Plateau"
         ],
         "legendgroup": "Plateau",
         "marker": {
          "color": "#19d3f3",
          "size": [
           116
          ],
          "sizemode": "area",
          "sizeref": 2.025,
          "symbol": "circle"
         },
         "mode": "markers",
         "name": "Plateau",
         "orientation": "v",
         "showlegend": true,
         "type": "scatter",
         "x": [
          "Plateau"
         ],
         "xaxis": "x",
         "y": [
          116
         ],
         "yaxis": "y"
        },
        {
         "hovertemplate": "<b>%{hovertext}</b><br><br>STATE=%{x}<br>ACTIVE=%{marker.size}<extra></extra>",
         "hovertext": [
          "Oyo"
         ],
         "legendgroup": "Oyo",
         "marker": {
          "color": "#FF6692",
          "size": [
           688
          ],
          "sizemode": "area",
          "sizeref": 2.025,
          "symbol": "circle"
         },
         "mode": "markers",
         "name": "Oyo",
         "orientation": "v",
         "showlegend": true,
         "type": "scatter",
         "x": [
          "Oyo"
         ],
         "xaxis": "x",
         "y": [
          688
         ],
         "yaxis": "y"
        },
        {
         "hovertemplate": "<b>%{hovertext}</b><br><br>STATE=%{x}<br>ACTIVE=%{marker.size}<extra></extra>",
         "hovertext": [
          "Osun"
         ],
         "legendgroup": "Osun",
         "marker": {
          "color": "#B6E880",
          "size": [
           9
          ],
          "sizemode": "area",
          "sizeref": 2.025,
          "symbol": "circle"
         },
         "mode": "markers",
         "name": "Osun",
         "orientation": "v",
         "showlegend": true,
         "type": "scatter",
         "x": [
          "Osun"
         ],
         "xaxis": "x",
         "y": [
          9
         ],
         "yaxis": "y"
        },
        {
         "hovertemplate": "<b>%{hovertext}</b><br><br>STATE=%{x}<br>ACTIVE=%{marker.size}<extra></extra>",
         "hovertext": [
          "Ondo"
         ],
         "legendgroup": "Ondo",
         "marker": {
          "color": "#FF97FF",
          "size": [
           81
          ],
          "sizemode": "area",
          "sizeref": 2.025,
          "symbol": "circle"
         },
         "mode": "markers",
         "name": "Ondo",
         "orientation": "v",
         "showlegend": true,
         "type": "scatter",
         "x": [
          "Ondo"
         ],
         "xaxis": "x",
         "y": [
          81
         ],
         "yaxis": "y"
        },
        {
         "hovertemplate": "<b>%{hovertext}</b><br><br>STATE=%{x}<br>ACTIVE=%{marker.size}<extra></extra>",
         "hovertext": [
          "Ogun"
         ],
         "legendgroup": "Ogun",
         "marker": {
          "color": "#FECB52",
          "size": [
           281
          ],
          "sizemode": "area",
          "sizeref": 2.025,
          "symbol": "circle"
         },
         "mode": "markers",
         "name": "Ogun",
         "orientation": "v",
         "showlegend": true,
         "type": "scatter",
         "x": [
          "Ogun"
         ],
         "xaxis": "x",
         "y": [
          281
         ],
         "yaxis": "y"
        },
        {
         "hovertemplate": "<b>%{hovertext}</b><br><br>STATE=%{x}<br>ACTIVE=%{marker.size}<extra></extra>",
         "hovertext": [
          "Niger"
         ],
         "legendgroup": "Niger",
         "marker": {
          "color": "#636efa",
          "size": [
           26
          ],
          "sizemode": "area",
          "sizeref": 2.025,
          "symbol": "circle"
         },
         "mode": "markers",
         "name": "Niger",
         "orientation": "v",
         "showlegend": true,
         "type": "scatter",
         "x": [
          "Niger"
         ],
         "xaxis": "x",
         "y": [
          26
         ],
         "yaxis": "y"
        },
        {
         "hovertemplate": "<b>%{hovertext}</b><br><br>STATE=%{x}<br>ACTIVE=%{marker.size}<extra></extra>",
         "hovertext": [
          "Nasarawa"
         ],
         "legendgroup": "Nasarawa",
         "marker": {
          "color": "#EF553B",
          "size": [
           93
          ],
          "sizemode": "area",
          "sizeref": 2.025,
          "symbol": "circle"
         },
         "mode": "markers",
         "name": "Nasarawa",
         "orientation": "v",
         "showlegend": true,
         "type": "scatter",
         "x": [
          "Nasarawa"
         ],
         "xaxis": "x",
         "y": [
          93
         ],
         "yaxis": "y"
        },
        {
         "hovertemplate": "<b>%{hovertext}</b><br><br>STATE=%{x}<br>ACTIVE=%{marker.size}<extra></extra>",
         "hovertext": [
          "Lagos"
         ],
         "legendgroup": "Lagos",
         "marker": {
          "color": "#00cc96",
          "size": [
           7290
          ],
          "sizemode": "area",
          "sizeref": 2.025,
          "symbol": "circle"
         },
         "mode": "markers",
         "name": "Lagos",
         "orientation": "v",
         "showlegend": true,
         "type": "scatter",
         "x": [
          "Lagos"
         ],
         "xaxis": "x",
         "y": [
          7290
         ],
         "yaxis": "y"
        }
       ],
       "layout": {
        "legend": {
         "itemsizing": "constant",
         "title": {
          "text": "STATE"
         },
         "tracegroupgap": 0
        },
        "margin": {
         "t": 60
        },
        "template": {
         "data": {
          "bar": [
           {
            "error_x": {
             "color": "#2a3f5f"
            },
            "error_y": {
             "color": "#2a3f5f"
            },
            "marker": {
             "line": {
              "color": "#E5ECF6",
              "width": 0.5
             }
            },
            "type": "bar"
           }
          ],
          "barpolar": [
           {
            "marker": {
             "line": {
              "color": "#E5ECF6",
              "width": 0.5
             }
            },
            "type": "barpolar"
           }
          ],
          "carpet": [
           {
            "aaxis": {
             "endlinecolor": "#2a3f5f",
             "gridcolor": "white",
             "linecolor": "white",
             "minorgridcolor": "white",
             "startlinecolor": "#2a3f5f"
            },
            "baxis": {
             "endlinecolor": "#2a3f5f",
             "gridcolor": "white",
             "linecolor": "white",
             "minorgridcolor": "white",
             "startlinecolor": "#2a3f5f"
            },
            "type": "carpet"
           }
          ],
          "choropleth": [
           {
            "colorbar": {
             "outlinewidth": 0,
             "ticks": ""
            },
            "type": "choropleth"
           }
          ],
          "contour": [
           {
            "colorbar": {
             "outlinewidth": 0,
             "ticks": ""
            },
            "colorscale": [
             [
              0,
              "#0d0887"
             ],
             [
              0.1111111111111111,
              "#46039f"
             ],
             [
              0.2222222222222222,
              "#7201a8"
             ],
             [
              0.3333333333333333,
              "#9c179e"
             ],
             [
              0.4444444444444444,
              "#bd3786"
             ],
             [
              0.5555555555555556,
              "#d8576b"
             ],
             [
              0.6666666666666666,
              "#ed7953"
             ],
             [
              0.7777777777777778,
              "#fb9f3a"
             ],
             [
              0.8888888888888888,
              "#fdca26"
             ],
             [
              1,
              "#f0f921"
             ]
            ],
            "type": "contour"
           }
          ],
          "contourcarpet": [
           {
            "colorbar": {
             "outlinewidth": 0,
             "ticks": ""
            },
            "type": "contourcarpet"
           }
          ],
          "heatmap": [
           {
            "colorbar": {
             "outlinewidth": 0,
             "ticks": ""
            },
            "colorscale": [
             [
              0,
              "#0d0887"
             ],
             [
              0.1111111111111111,
              "#46039f"
             ],
             [
              0.2222222222222222,
              "#7201a8"
             ],
             [
              0.3333333333333333,
              "#9c179e"
             ],
             [
              0.4444444444444444,
              "#bd3786"
             ],
             [
              0.5555555555555556,
              "#d8576b"
             ],
             [
              0.6666666666666666,
              "#ed7953"
             ],
             [
              0.7777777777777778,
              "#fb9f3a"
             ],
             [
              0.8888888888888888,
              "#fdca26"
             ],
             [
              1,
              "#f0f921"
             ]
            ],
            "type": "heatmap"
           }
          ],
          "heatmapgl": [
           {
            "colorbar": {
             "outlinewidth": 0,
             "ticks": ""
            },
            "colorscale": [
             [
              0,
              "#0d0887"
             ],
             [
              0.1111111111111111,
              "#46039f"
             ],
             [
              0.2222222222222222,
              "#7201a8"
             ],
             [
              0.3333333333333333,
              "#9c179e"
             ],
             [
              0.4444444444444444,
              "#bd3786"
             ],
             [
              0.5555555555555556,
              "#d8576b"
             ],
             [
              0.6666666666666666,
              "#ed7953"
             ],
             [
              0.7777777777777778,
              "#fb9f3a"
             ],
             [
              0.8888888888888888,
              "#fdca26"
             ],
             [
              1,
              "#f0f921"
             ]
            ],
            "type": "heatmapgl"
           }
          ],
          "histogram": [
           {
            "marker": {
             "colorbar": {
              "outlinewidth": 0,
              "ticks": ""
             }
            },
            "type": "histogram"
           }
          ],
          "histogram2d": [
           {
            "colorbar": {
             "outlinewidth": 0,
             "ticks": ""
            },
            "colorscale": [
             [
              0,
              "#0d0887"
             ],
             [
              0.1111111111111111,
              "#46039f"
             ],
             [
              0.2222222222222222,
              "#7201a8"
             ],
             [
              0.3333333333333333,
              "#9c179e"
             ],
             [
              0.4444444444444444,
              "#bd3786"
             ],
             [
              0.5555555555555556,
              "#d8576b"
             ],
             [
              0.6666666666666666,
              "#ed7953"
             ],
             [
              0.7777777777777778,
              "#fb9f3a"
             ],
             [
              0.8888888888888888,
              "#fdca26"
             ],
             [
              1,
              "#f0f921"
             ]
            ],
            "type": "histogram2d"
           }
          ],
          "histogram2dcontour": [
           {
            "colorbar": {
             "outlinewidth": 0,
             "ticks": ""
            },
            "colorscale": [
             [
              0,
              "#0d0887"
             ],
             [
              0.1111111111111111,
              "#46039f"
             ],
             [
              0.2222222222222222,
              "#7201a8"
             ],
             [
              0.3333333333333333,
              "#9c179e"
             ],
             [
              0.4444444444444444,
              "#bd3786"
             ],
             [
              0.5555555555555556,
              "#d8576b"
             ],
             [
              0.6666666666666666,
              "#ed7953"
             ],
             [
              0.7777777777777778,
              "#fb9f3a"
             ],
             [
              0.8888888888888888,
              "#fdca26"
             ],
             [
              1,
              "#f0f921"
             ]
            ],
            "type": "histogram2dcontour"
           }
          ],
          "mesh3d": [
           {
            "colorbar": {
             "outlinewidth": 0,
             "ticks": ""
            },
            "type": "mesh3d"
           }
          ],
          "parcoords": [
           {
            "line": {
             "colorbar": {
              "outlinewidth": 0,
              "ticks": ""
             }
            },
            "type": "parcoords"
           }
          ],
          "pie": [
           {
            "automargin": true,
            "type": "pie"
           }
          ],
          "scatter": [
           {
            "marker": {
             "colorbar": {
              "outlinewidth": 0,
              "ticks": ""
             }
            },
            "type": "scatter"
           }
          ],
          "scatter3d": [
           {
            "line": {
             "colorbar": {
              "outlinewidth": 0,
              "ticks": ""
             }
            },
            "marker": {
             "colorbar": {
              "outlinewidth": 0,
              "ticks": ""
             }
            },
            "type": "scatter3d"
           }
          ],
          "scattercarpet": [
           {
            "marker": {
             "colorbar": {
              "outlinewidth": 0,
              "ticks": ""
             }
            },
            "type": "scattercarpet"
           }
          ],
          "scattergeo": [
           {
            "marker": {
             "colorbar": {
              "outlinewidth": 0,
              "ticks": ""
             }
            },
            "type": "scattergeo"
           }
          ],
          "scattergl": [
           {
            "marker": {
             "colorbar": {
              "outlinewidth": 0,
              "ticks": ""
             }
            },
            "type": "scattergl"
           }
          ],
          "scattermapbox": [
           {
            "marker": {
             "colorbar": {
              "outlinewidth": 0,
              "ticks": ""
             }
            },
            "type": "scattermapbox"
           }
          ],
          "scatterpolar": [
           {
            "marker": {
             "colorbar": {
              "outlinewidth": 0,
              "ticks": ""
             }
            },
            "type": "scatterpolar"
           }
          ],
          "scatterpolargl": [
           {
            "marker": {
             "colorbar": {
              "outlinewidth": 0,
              "ticks": ""
             }
            },
            "type": "scatterpolargl"
           }
          ],
          "scatterternary": [
           {
            "marker": {
             "colorbar": {
              "outlinewidth": 0,
              "ticks": ""
             }
            },
            "type": "scatterternary"
           }
          ],
          "surface": [
           {
            "colorbar": {
             "outlinewidth": 0,
             "ticks": ""
            },
            "colorscale": [
             [
              0,
              "#0d0887"
             ],
             [
              0.1111111111111111,
              "#46039f"
             ],
             [
              0.2222222222222222,
              "#7201a8"
             ],
             [
              0.3333333333333333,
              "#9c179e"
             ],
             [
              0.4444444444444444,
              "#bd3786"
             ],
             [
              0.5555555555555556,
              "#d8576b"
             ],
             [
              0.6666666666666666,
              "#ed7953"
             ],
             [
              0.7777777777777778,
              "#fb9f3a"
             ],
             [
              0.8888888888888888,
              "#fdca26"
             ],
             [
              1,
              "#f0f921"
             ]
            ],
            "type": "surface"
           }
          ],
          "table": [
           {
            "cells": {
             "fill": {
              "color": "#EBF0F8"
             },
             "line": {
              "color": "white"
             }
            },
            "header": {
             "fill": {
              "color": "#C8D4E3"
             },
             "line": {
              "color": "white"
             }
            },
            "type": "table"
           }
          ]
         },
         "layout": {
          "annotationdefaults": {
           "arrowcolor": "#2a3f5f",
           "arrowhead": 0,
           "arrowwidth": 1
          },
          "coloraxis": {
           "colorbar": {
            "outlinewidth": 0,
            "ticks": ""
           }
          },
          "colorscale": {
           "diverging": [
            [
             0,
             "#8e0152"
            ],
            [
             0.1,
             "#c51b7d"
            ],
            [
             0.2,
             "#de77ae"
            ],
            [
             0.3,
             "#f1b6da"
            ],
            [
             0.4,
             "#fde0ef"
            ],
            [
             0.5,
             "#f7f7f7"
            ],
            [
             0.6,
             "#e6f5d0"
            ],
            [
             0.7,
             "#b8e186"
            ],
            [
             0.8,
             "#7fbc41"
            ],
            [
             0.9,
             "#4d9221"
            ],
            [
             1,
             "#276419"
            ]
           ],
           "sequential": [
            [
             0,
             "#0d0887"
            ],
            [
             0.1111111111111111,
             "#46039f"
            ],
            [
             0.2222222222222222,
             "#7201a8"
            ],
            [
             0.3333333333333333,
             "#9c179e"
            ],
            [
             0.4444444444444444,
             "#bd3786"
            ],
            [
             0.5555555555555556,
             "#d8576b"
            ],
            [
             0.6666666666666666,
             "#ed7953"
            ],
            [
             0.7777777777777778,
             "#fb9f3a"
            ],
            [
             0.8888888888888888,
             "#fdca26"
            ],
            [
             1,
             "#f0f921"
            ]
           ],
           "sequentialminus": [
            [
             0,
             "#0d0887"
            ],
            [
             0.1111111111111111,
             "#46039f"
            ],
            [
             0.2222222222222222,
             "#7201a8"
            ],
            [
             0.3333333333333333,
             "#9c179e"
            ],
            [
             0.4444444444444444,
             "#bd3786"
            ],
            [
             0.5555555555555556,
             "#d8576b"
            ],
            [
             0.6666666666666666,
             "#ed7953"
            ],
            [
             0.7777777777777778,
             "#fb9f3a"
            ],
            [
             0.8888888888888888,
             "#fdca26"
            ],
            [
             1,
             "#f0f921"
            ]
           ]
          },
          "colorway": [
           "#636efa",
           "#EF553B",
           "#00cc96",
           "#ab63fa",
           "#FFA15A",
           "#19d3f3",
           "#FF6692",
           "#B6E880",
           "#FF97FF",
           "#FECB52"
          ],
          "font": {
           "color": "#2a3f5f"
          },
          "geo": {
           "bgcolor": "white",
           "lakecolor": "white",
           "landcolor": "#E5ECF6",
           "showlakes": true,
           "showland": true,
           "subunitcolor": "white"
          },
          "hoverlabel": {
           "align": "left"
          },
          "hovermode": "closest",
          "mapbox": {
           "style": "light"
          },
          "paper_bgcolor": "white",
          "plot_bgcolor": "#E5ECF6",
          "polar": {
           "angularaxis": {
            "gridcolor": "white",
            "linecolor": "white",
            "ticks": ""
           },
           "bgcolor": "#E5ECF6",
           "radialaxis": {
            "gridcolor": "white",
            "linecolor": "white",
            "ticks": ""
           }
          },
          "scene": {
           "xaxis": {
            "backgroundcolor": "#E5ECF6",
            "gridcolor": "white",
            "gridwidth": 2,
            "linecolor": "white",
            "showbackground": true,
            "ticks": "",
            "zerolinecolor": "white"
           },
           "yaxis": {
            "backgroundcolor": "#E5ECF6",
            "gridcolor": "white",
            "gridwidth": 2,
            "linecolor": "white",
            "showbackground": true,
            "ticks": "",
            "zerolinecolor": "white"
           },
           "zaxis": {
            "backgroundcolor": "#E5ECF6",
            "gridcolor": "white",
            "gridwidth": 2,
            "linecolor": "white",
            "showbackground": true,
            "ticks": "",
            "zerolinecolor": "white"
           }
          },
          "shapedefaults": {
           "line": {
            "color": "#2a3f5f"
           }
          },
          "ternary": {
           "aaxis": {
            "gridcolor": "white",
            "linecolor": "white",
            "ticks": ""
           },
           "baxis": {
            "gridcolor": "white",
            "linecolor": "white",
            "ticks": ""
           },
           "bgcolor": "#E5ECF6",
           "caxis": {
            "gridcolor": "white",
            "linecolor": "white",
            "ticks": ""
           }
          },
          "title": {
           "x": 0.05
          },
          "xaxis": {
           "automargin": true,
           "gridcolor": "white",
           "linecolor": "white",
           "ticks": "",
           "title": {
            "standoff": 15
           },
           "zerolinecolor": "white",
           "zerolinewidth": 2
          },
          "yaxis": {
           "automargin": true,
           "gridcolor": "white",
           "linecolor": "white",
           "ticks": "",
           "title": {
            "standoff": 15
           },
           "zerolinecolor": "white",
           "zerolinewidth": 2
          }
         }
        },
        "xaxis": {
         "anchor": "y",
         "categoryarray": [
          "Zamfara",
          "Yobe",
          "Taraba",
          "Sokoto",
          "Rivers",
          "Plateau",
          "Oyo",
          "Osun",
          "Ondo",
          "Ogun",
          "Niger",
          "Nasarawa",
          "Lagos"
         ],
         "categoryorder": "array",
         "domain": [
          0,
          1
         ],
         "title": {
          "text": "STATE"
         }
        },
        "yaxis": {
         "anchor": "x",
         "domain": [
          0,
          1
         ],
         "title": {
          "text": "ACTIVE"
         }
        }
       }
      },
      "text/html": [
       "<div>\n",
       "        \n",
       "        \n",
       "            <div id=\"d1970564-2b82-4ebf-9fda-be8537ac2597\" class=\"plotly-graph-div\" style=\"height:525px; width:100%;\"></div>\n",
       "            <script type=\"text/javascript\">\n",
       "                require([\"plotly\"], function(Plotly) {\n",
       "                    window.PLOTLYENV=window.PLOTLYENV || {};\n",
       "                    \n",
       "                if (document.getElementById(\"d1970564-2b82-4ebf-9fda-be8537ac2597\")) {\n",
       "                    Plotly.newPlot(\n",
       "                        'd1970564-2b82-4ebf-9fda-be8537ac2597',\n",
       "                        [{\"hovertemplate\": \"<b>%{hovertext}</b><br><br>STATE=%{x}<br>ACTIVE=%{marker.size}<extra></extra>\", \"hovertext\": [\"Zamfara\"], \"legendgroup\": \"Zamfara\", \"marker\": {\"color\": \"#636efa\", \"size\": [0], \"sizemode\": \"area\", \"sizeref\": 2.025, \"symbol\": \"circle\"}, \"mode\": \"markers\", \"name\": \"Zamfara\", \"orientation\": \"v\", \"showlegend\": true, \"type\": \"scatter\", \"x\": [\"Zamfara\"], \"xaxis\": \"x\", \"y\": [0], \"yaxis\": \"y\"}, {\"hovertemplate\": \"<b>%{hovertext}</b><br><br>STATE=%{x}<br>ACTIVE=%{marker.size}<extra></extra>\", \"hovertext\": [\"Yobe\"], \"legendgroup\": \"Yobe\", \"marker\": {\"color\": \"#EF553B\", \"size\": [3], \"sizemode\": \"area\", \"sizeref\": 2.025, \"symbol\": \"circle\"}, \"mode\": \"markers\", \"name\": \"Yobe\", \"orientation\": \"v\", \"showlegend\": true, \"type\": \"scatter\", \"x\": [\"Yobe\"], \"xaxis\": \"x\", \"y\": [3], \"yaxis\": \"y\"}, {\"hovertemplate\": \"<b>%{hovertext}</b><br><br>STATE=%{x}<br>ACTIVE=%{marker.size}<extra></extra>\", \"hovertext\": [\"Taraba\"], \"legendgroup\": \"Taraba\", \"marker\": {\"color\": \"#00cc96\", \"size\": [8], \"sizemode\": \"area\", \"sizeref\": 2.025, \"symbol\": \"circle\"}, \"mode\": \"markers\", \"name\": \"Taraba\", \"orientation\": \"v\", \"showlegend\": true, \"type\": \"scatter\", \"x\": [\"Taraba\"], \"xaxis\": \"x\", \"y\": [8], \"yaxis\": \"y\"}, {\"hovertemplate\": \"<b>%{hovertext}</b><br><br>STATE=%{x}<br>ACTIVE=%{marker.size}<extra></extra>\", \"hovertext\": [\"Sokoto\"], \"legendgroup\": \"Sokoto\", \"marker\": {\"color\": \"#ab63fa\", \"size\": [8], \"sizemode\": \"area\", \"sizeref\": 2.025, \"symbol\": \"circle\"}, \"mode\": \"markers\", \"name\": \"Sokoto\", \"orientation\": \"v\", \"showlegend\": true, \"type\": \"scatter\", \"x\": [\"Sokoto\"], \"xaxis\": \"x\", \"y\": [8], \"yaxis\": \"y\"}, {\"hovertemplate\": \"<b>%{hovertext}</b><br><br>STATE=%{x}<br>ACTIVE=%{marker.size}<extra></extra>\", \"hovertext\": [\"Rivers\"], \"legendgroup\": \"Rivers\", \"marker\": {\"color\": \"#FFA15A\", \"size\": [490], \"sizemode\": \"area\", \"sizeref\": 2.025, \"symbol\": \"circle\"}, \"mode\": \"markers\", \"name\": \"Rivers\", \"orientation\": \"v\", \"showlegend\": true, \"type\": \"scatter\", \"x\": [\"Rivers\"], \"xaxis\": \"x\", \"y\": [490], \"yaxis\": \"y\"}, {\"hovertemplate\": \"<b>%{hovertext}</b><br><br>STATE=%{x}<br>ACTIVE=%{marker.size}<extra></extra>\", \"hovertext\": [\"Plateau\"], \"legendgroup\": \"Plateau\", \"marker\": {\"color\": \"#19d3f3\", \"size\": [116], \"sizemode\": \"area\", \"sizeref\": 2.025, \"symbol\": \"circle\"}, \"mode\": \"markers\", \"name\": \"Plateau\", \"orientation\": \"v\", \"showlegend\": true, \"type\": \"scatter\", \"x\": [\"Plateau\"], \"xaxis\": \"x\", \"y\": [116], \"yaxis\": \"y\"}, {\"hovertemplate\": \"<b>%{hovertext}</b><br><br>STATE=%{x}<br>ACTIVE=%{marker.size}<extra></extra>\", \"hovertext\": [\"Oyo\"], \"legendgroup\": \"Oyo\", \"marker\": {\"color\": \"#FF6692\", \"size\": [688], \"sizemode\": \"area\", \"sizeref\": 2.025, \"symbol\": \"circle\"}, \"mode\": \"markers\", \"name\": \"Oyo\", \"orientation\": \"v\", \"showlegend\": true, \"type\": \"scatter\", \"x\": [\"Oyo\"], \"xaxis\": \"x\", \"y\": [688], \"yaxis\": \"y\"}, {\"hovertemplate\": \"<b>%{hovertext}</b><br><br>STATE=%{x}<br>ACTIVE=%{marker.size}<extra></extra>\", \"hovertext\": [\"Osun\"], \"legendgroup\": \"Osun\", \"marker\": {\"color\": \"#B6E880\", \"size\": [9], \"sizemode\": \"area\", \"sizeref\": 2.025, \"symbol\": \"circle\"}, \"mode\": \"markers\", \"name\": \"Osun\", \"orientation\": \"v\", \"showlegend\": true, \"type\": \"scatter\", \"x\": [\"Osun\"], \"xaxis\": \"x\", \"y\": [9], \"yaxis\": \"y\"}, {\"hovertemplate\": \"<b>%{hovertext}</b><br><br>STATE=%{x}<br>ACTIVE=%{marker.size}<extra></extra>\", \"hovertext\": [\"Ondo\"], \"legendgroup\": \"Ondo\", \"marker\": {\"color\": \"#FF97FF\", \"size\": [81], \"sizemode\": \"area\", \"sizeref\": 2.025, \"symbol\": \"circle\"}, \"mode\": \"markers\", \"name\": \"Ondo\", \"orientation\": \"v\", \"showlegend\": true, \"type\": \"scatter\", \"x\": [\"Ondo\"], \"xaxis\": \"x\", \"y\": [81], \"yaxis\": \"y\"}, {\"hovertemplate\": \"<b>%{hovertext}</b><br><br>STATE=%{x}<br>ACTIVE=%{marker.size}<extra></extra>\", \"hovertext\": [\"Ogun\"], \"legendgroup\": \"Ogun\", \"marker\": {\"color\": \"#FECB52\", \"size\": [281], \"sizemode\": \"area\", \"sizeref\": 2.025, \"symbol\": \"circle\"}, \"mode\": \"markers\", \"name\": \"Ogun\", \"orientation\": \"v\", \"showlegend\": true, \"type\": \"scatter\", \"x\": [\"Ogun\"], \"xaxis\": \"x\", \"y\": [281], \"yaxis\": \"y\"}, {\"hovertemplate\": \"<b>%{hovertext}</b><br><br>STATE=%{x}<br>ACTIVE=%{marker.size}<extra></extra>\", \"hovertext\": [\"Niger\"], \"legendgroup\": \"Niger\", \"marker\": {\"color\": \"#636efa\", \"size\": [26], \"sizemode\": \"area\", \"sizeref\": 2.025, \"symbol\": \"circle\"}, \"mode\": \"markers\", \"name\": \"Niger\", \"orientation\": \"v\", \"showlegend\": true, \"type\": \"scatter\", \"x\": [\"Niger\"], \"xaxis\": \"x\", \"y\": [26], \"yaxis\": \"y\"}, {\"hovertemplate\": \"<b>%{hovertext}</b><br><br>STATE=%{x}<br>ACTIVE=%{marker.size}<extra></extra>\", \"hovertext\": [\"Nasarawa\"], \"legendgroup\": \"Nasarawa\", \"marker\": {\"color\": \"#EF553B\", \"size\": [93], \"sizemode\": \"area\", \"sizeref\": 2.025, \"symbol\": \"circle\"}, \"mode\": \"markers\", \"name\": \"Nasarawa\", \"orientation\": \"v\", \"showlegend\": true, \"type\": \"scatter\", \"x\": [\"Nasarawa\"], \"xaxis\": \"x\", \"y\": [93], \"yaxis\": \"y\"}, {\"hovertemplate\": \"<b>%{hovertext}</b><br><br>STATE=%{x}<br>ACTIVE=%{marker.size}<extra></extra>\", \"hovertext\": [\"Lagos\"], \"legendgroup\": \"Lagos\", \"marker\": {\"color\": \"#00cc96\", \"size\": [7290], \"sizemode\": \"area\", \"sizeref\": 2.025, \"symbol\": \"circle\"}, \"mode\": \"markers\", \"name\": \"Lagos\", \"orientation\": \"v\", \"showlegend\": true, \"type\": \"scatter\", \"x\": [\"Lagos\"], \"xaxis\": \"x\", \"y\": [7290], \"yaxis\": \"y\"}],\n",
       "                        {\"legend\": {\"itemsizing\": \"constant\", \"title\": {\"text\": \"STATE\"}, \"tracegroupgap\": 0}, \"margin\": {\"t\": 60}, \"template\": {\"data\": {\"bar\": [{\"error_x\": {\"color\": \"#2a3f5f\"}, \"error_y\": {\"color\": \"#2a3f5f\"}, \"marker\": {\"line\": {\"color\": \"#E5ECF6\", \"width\": 0.5}}, \"type\": \"bar\"}], \"barpolar\": [{\"marker\": {\"line\": {\"color\": \"#E5ECF6\", \"width\": 0.5}}, \"type\": \"barpolar\"}], \"carpet\": [{\"aaxis\": {\"endlinecolor\": \"#2a3f5f\", \"gridcolor\": \"white\", \"linecolor\": \"white\", \"minorgridcolor\": \"white\", \"startlinecolor\": \"#2a3f5f\"}, \"baxis\": {\"endlinecolor\": \"#2a3f5f\", \"gridcolor\": \"white\", \"linecolor\": \"white\", \"minorgridcolor\": \"white\", \"startlinecolor\": \"#2a3f5f\"}, \"type\": \"carpet\"}], \"choropleth\": [{\"colorbar\": {\"outlinewidth\": 0, \"ticks\": \"\"}, \"type\": \"choropleth\"}], \"contour\": [{\"colorbar\": {\"outlinewidth\": 0, \"ticks\": \"\"}, \"colorscale\": [[0.0, \"#0d0887\"], [0.1111111111111111, \"#46039f\"], [0.2222222222222222, \"#7201a8\"], [0.3333333333333333, \"#9c179e\"], [0.4444444444444444, \"#bd3786\"], [0.5555555555555556, \"#d8576b\"], [0.6666666666666666, \"#ed7953\"], [0.7777777777777778, \"#fb9f3a\"], [0.8888888888888888, \"#fdca26\"], [1.0, \"#f0f921\"]], \"type\": \"contour\"}], \"contourcarpet\": [{\"colorbar\": {\"outlinewidth\": 0, \"ticks\": \"\"}, \"type\": \"contourcarpet\"}], \"heatmap\": [{\"colorbar\": {\"outlinewidth\": 0, \"ticks\": \"\"}, \"colorscale\": [[0.0, \"#0d0887\"], [0.1111111111111111, \"#46039f\"], [0.2222222222222222, \"#7201a8\"], [0.3333333333333333, \"#9c179e\"], [0.4444444444444444, \"#bd3786\"], [0.5555555555555556, \"#d8576b\"], [0.6666666666666666, \"#ed7953\"], [0.7777777777777778, \"#fb9f3a\"], [0.8888888888888888, \"#fdca26\"], [1.0, \"#f0f921\"]], \"type\": \"heatmap\"}], \"heatmapgl\": [{\"colorbar\": {\"outlinewidth\": 0, \"ticks\": \"\"}, \"colorscale\": [[0.0, \"#0d0887\"], [0.1111111111111111, \"#46039f\"], [0.2222222222222222, \"#7201a8\"], [0.3333333333333333, \"#9c179e\"], [0.4444444444444444, \"#bd3786\"], [0.5555555555555556, \"#d8576b\"], [0.6666666666666666, \"#ed7953\"], [0.7777777777777778, \"#fb9f3a\"], [0.8888888888888888, \"#fdca26\"], [1.0, \"#f0f921\"]], \"type\": \"heatmapgl\"}], \"histogram\": [{\"marker\": {\"colorbar\": {\"outlinewidth\": 0, \"ticks\": \"\"}}, \"type\": \"histogram\"}], \"histogram2d\": [{\"colorbar\": {\"outlinewidth\": 0, \"ticks\": \"\"}, \"colorscale\": [[0.0, \"#0d0887\"], [0.1111111111111111, \"#46039f\"], [0.2222222222222222, \"#7201a8\"], [0.3333333333333333, \"#9c179e\"], [0.4444444444444444, \"#bd3786\"], [0.5555555555555556, \"#d8576b\"], [0.6666666666666666, \"#ed7953\"], [0.7777777777777778, \"#fb9f3a\"], [0.8888888888888888, \"#fdca26\"], [1.0, \"#f0f921\"]], \"type\": \"histogram2d\"}], \"histogram2dcontour\": [{\"colorbar\": {\"outlinewidth\": 0, \"ticks\": \"\"}, \"colorscale\": [[0.0, \"#0d0887\"], [0.1111111111111111, \"#46039f\"], [0.2222222222222222, \"#7201a8\"], [0.3333333333333333, \"#9c179e\"], [0.4444444444444444, \"#bd3786\"], [0.5555555555555556, \"#d8576b\"], [0.6666666666666666, \"#ed7953\"], [0.7777777777777778, \"#fb9f3a\"], [0.8888888888888888, \"#fdca26\"], [1.0, \"#f0f921\"]], \"type\": \"histogram2dcontour\"}], \"mesh3d\": [{\"colorbar\": {\"outlinewidth\": 0, \"ticks\": \"\"}, \"type\": \"mesh3d\"}], \"parcoords\": [{\"line\": {\"colorbar\": {\"outlinewidth\": 0, \"ticks\": \"\"}}, \"type\": \"parcoords\"}], \"pie\": [{\"automargin\": true, \"type\": \"pie\"}], \"scatter\": [{\"marker\": {\"colorbar\": {\"outlinewidth\": 0, \"ticks\": \"\"}}, \"type\": \"scatter\"}], \"scatter3d\": [{\"line\": {\"colorbar\": {\"outlinewidth\": 0, \"ticks\": \"\"}}, \"marker\": {\"colorbar\": {\"outlinewidth\": 0, \"ticks\": \"\"}}, \"type\": \"scatter3d\"}], \"scattercarpet\": [{\"marker\": {\"colorbar\": {\"outlinewidth\": 0, \"ticks\": \"\"}}, \"type\": \"scattercarpet\"}], \"scattergeo\": [{\"marker\": {\"colorbar\": {\"outlinewidth\": 0, \"ticks\": \"\"}}, \"type\": \"scattergeo\"}], \"scattergl\": [{\"marker\": {\"colorbar\": {\"outlinewidth\": 0, \"ticks\": \"\"}}, \"type\": \"scattergl\"}], \"scattermapbox\": [{\"marker\": {\"colorbar\": {\"outlinewidth\": 0, \"ticks\": \"\"}}, \"type\": \"scattermapbox\"}], \"scatterpolar\": [{\"marker\": {\"colorbar\": {\"outlinewidth\": 0, \"ticks\": \"\"}}, \"type\": \"scatterpolar\"}], \"scatterpolargl\": [{\"marker\": {\"colorbar\": {\"outlinewidth\": 0, \"ticks\": \"\"}}, \"type\": \"scatterpolargl\"}], \"scatterternary\": [{\"marker\": {\"colorbar\": {\"outlinewidth\": 0, \"ticks\": \"\"}}, \"type\": \"scatterternary\"}], \"surface\": [{\"colorbar\": {\"outlinewidth\": 0, \"ticks\": \"\"}, \"colorscale\": [[0.0, \"#0d0887\"], [0.1111111111111111, \"#46039f\"], [0.2222222222222222, \"#7201a8\"], [0.3333333333333333, \"#9c179e\"], [0.4444444444444444, \"#bd3786\"], [0.5555555555555556, \"#d8576b\"], [0.6666666666666666, \"#ed7953\"], [0.7777777777777778, \"#fb9f3a\"], [0.8888888888888888, \"#fdca26\"], [1.0, \"#f0f921\"]], \"type\": \"surface\"}], \"table\": [{\"cells\": {\"fill\": {\"color\": \"#EBF0F8\"}, \"line\": {\"color\": \"white\"}}, \"header\": {\"fill\": {\"color\": \"#C8D4E3\"}, \"line\": {\"color\": \"white\"}}, \"type\": \"table\"}]}, \"layout\": {\"annotationdefaults\": {\"arrowcolor\": \"#2a3f5f\", \"arrowhead\": 0, \"arrowwidth\": 1}, \"coloraxis\": {\"colorbar\": {\"outlinewidth\": 0, \"ticks\": \"\"}}, \"colorscale\": {\"diverging\": [[0, \"#8e0152\"], [0.1, \"#c51b7d\"], [0.2, \"#de77ae\"], [0.3, \"#f1b6da\"], [0.4, \"#fde0ef\"], [0.5, \"#f7f7f7\"], [0.6, \"#e6f5d0\"], [0.7, \"#b8e186\"], [0.8, \"#7fbc41\"], [0.9, \"#4d9221\"], [1, \"#276419\"]], \"sequential\": [[0.0, \"#0d0887\"], [0.1111111111111111, \"#46039f\"], [0.2222222222222222, \"#7201a8\"], [0.3333333333333333, \"#9c179e\"], [0.4444444444444444, \"#bd3786\"], [0.5555555555555556, \"#d8576b\"], [0.6666666666666666, \"#ed7953\"], [0.7777777777777778, \"#fb9f3a\"], [0.8888888888888888, \"#fdca26\"], [1.0, \"#f0f921\"]], \"sequentialminus\": [[0.0, \"#0d0887\"], [0.1111111111111111, \"#46039f\"], [0.2222222222222222, \"#7201a8\"], [0.3333333333333333, \"#9c179e\"], [0.4444444444444444, \"#bd3786\"], [0.5555555555555556, \"#d8576b\"], [0.6666666666666666, \"#ed7953\"], [0.7777777777777778, \"#fb9f3a\"], [0.8888888888888888, \"#fdca26\"], [1.0, \"#f0f921\"]]}, \"colorway\": [\"#636efa\", \"#EF553B\", \"#00cc96\", \"#ab63fa\", \"#FFA15A\", \"#19d3f3\", \"#FF6692\", \"#B6E880\", \"#FF97FF\", \"#FECB52\"], \"font\": {\"color\": \"#2a3f5f\"}, \"geo\": {\"bgcolor\": \"white\", \"lakecolor\": \"white\", \"landcolor\": \"#E5ECF6\", \"showlakes\": true, \"showland\": true, \"subunitcolor\": \"white\"}, \"hoverlabel\": {\"align\": \"left\"}, \"hovermode\": \"closest\", \"mapbox\": {\"style\": \"light\"}, \"paper_bgcolor\": \"white\", \"plot_bgcolor\": \"#E5ECF6\", \"polar\": {\"angularaxis\": {\"gridcolor\": \"white\", \"linecolor\": \"white\", \"ticks\": \"\"}, \"bgcolor\": \"#E5ECF6\", \"radialaxis\": {\"gridcolor\": \"white\", \"linecolor\": \"white\", \"ticks\": \"\"}}, \"scene\": {\"xaxis\": {\"backgroundcolor\": \"#E5ECF6\", \"gridcolor\": \"white\", \"gridwidth\": 2, \"linecolor\": \"white\", \"showbackground\": true, \"ticks\": \"\", \"zerolinecolor\": \"white\"}, \"yaxis\": {\"backgroundcolor\": \"#E5ECF6\", \"gridcolor\": \"white\", \"gridwidth\": 2, \"linecolor\": \"white\", \"showbackground\": true, \"ticks\": \"\", \"zerolinecolor\": \"white\"}, \"zaxis\": {\"backgroundcolor\": \"#E5ECF6\", \"gridcolor\": \"white\", \"gridwidth\": 2, \"linecolor\": \"white\", \"showbackground\": true, \"ticks\": \"\", \"zerolinecolor\": \"white\"}}, \"shapedefaults\": {\"line\": {\"color\": \"#2a3f5f\"}}, \"ternary\": {\"aaxis\": {\"gridcolor\": \"white\", \"linecolor\": \"white\", \"ticks\": \"\"}, \"baxis\": {\"gridcolor\": \"white\", \"linecolor\": \"white\", \"ticks\": \"\"}, \"bgcolor\": \"#E5ECF6\", \"caxis\": {\"gridcolor\": \"white\", \"linecolor\": \"white\", \"ticks\": \"\"}}, \"title\": {\"x\": 0.05}, \"xaxis\": {\"automargin\": true, \"gridcolor\": \"white\", \"linecolor\": \"white\", \"ticks\": \"\", \"title\": {\"standoff\": 15}, \"zerolinecolor\": \"white\", \"zerolinewidth\": 2}, \"yaxis\": {\"automargin\": true, \"gridcolor\": \"white\", \"linecolor\": \"white\", \"ticks\": \"\", \"title\": {\"standoff\": 15}, \"zerolinecolor\": \"white\", \"zerolinewidth\": 2}}}, \"xaxis\": {\"anchor\": \"y\", \"categoryarray\": [\"Zamfara\", \"Yobe\", \"Taraba\", \"Sokoto\", \"Rivers\", \"Plateau\", \"Oyo\", \"Osun\", \"Ondo\", \"Ogun\", \"Niger\", \"Nasarawa\", \"Lagos\"], \"categoryorder\": \"array\", \"domain\": [0.0, 1.0], \"title\": {\"text\": \"STATE\"}}, \"yaxis\": {\"anchor\": \"x\", \"domain\": [0.0, 1.0], \"title\": {\"text\": \"ACTIVE\"}}},\n",
       "                        {\"responsive\": true}\n",
       "                    ).then(function(){\n",
       "                            \n",
       "var gd = document.getElementById('d1970564-2b82-4ebf-9fda-be8537ac2597');\n",
       "var x = new MutationObserver(function (mutations, observer) {{\n",
       "        var display = window.getComputedStyle(gd).display;\n",
       "        if (!display || display === 'none') {{\n",
       "            console.log([gd, 'removed!']);\n",
       "            Plotly.purge(gd);\n",
       "            observer.disconnect();\n",
       "        }}\n",
       "}});\n",
       "\n",
       "// Listen for the removal of the full notebook cells\n",
       "var notebookContainer = gd.closest('#notebook-container');\n",
       "if (notebookContainer) {{\n",
       "    x.observe(notebookContainer, {childList: true});\n",
       "}}\n",
       "\n",
       "// Listen for the clearing of the current output cell\n",
       "var outputEl = gd.closest('.output');\n",
       "if (outputEl) {{\n",
       "    x.observe(outputEl, {childList: true});\n",
       "}}\n",
       "\n",
       "                        })\n",
       "                };\n",
       "                });\n",
       "            </script>\n",
       "        </div>"
      ]
     },
     "metadata": {},
     "output_type": "display_data"
    }
   ],
   "source": [
    "fig4.show()"
   ]
  },
  {
   "cell_type": "markdown",
   "metadata": {},
   "source": [
    "## Checking the screening for the state in Nigeria"
   ]
  },
  {
   "cell_type": "code",
   "execution_count": 56,
   "metadata": {},
   "outputs": [],
   "source": [
    "fig5 = px.scatter(sorted_covid_states_nig_data.head(13), x='STATE', y='SCREENED', size = 'SCREENED', \n",
    "                color = 'STATE', hover_name = 'STATE', size_max = 60)"
   ]
  },
  {
   "cell_type": "code",
   "execution_count": 57,
   "metadata": {},
   "outputs": [
    {
     "data": {
      "application/vnd.plotly.v1+json": {
       "config": {
        "plotlyServerURL": "https://plot.ly"
       },
       "data": [
        {
         "hovertemplate": "<b>%{hovertext}</b><br><br>STATE=%{x}<br>SCREENED=%{marker.size}<extra></extra>",
         "hovertext": [
          "Zamfara"
         ],
         "legendgroup": "Zamfara",
         "marker": {
          "color": "#636efa",
          "size": [
           0
          ],
          "sizemode": "area",
          "sizeref": 0.03388888888888889,
          "symbol": "circle"
         },
         "mode": "markers",
         "name": "Zamfara",
         "orientation": "v",
         "showlegend": true,
         "type": "scatter",
         "x": [
          "Zamfara"
         ],
         "xaxis": "x",
         "y": [
          0
         ],
         "yaxis": "y"
        },
        {
         "hovertemplate": "<b>%{hovertext}</b><br><br>STATE=%{x}<br>SCREENED=%{marker.size}<extra></extra>",
         "hovertext": [
          "Yobe"
         ],
         "legendgroup": "Yobe",
         "marker": {
          "color": "#EF553B",
          "size": [
           1
          ],
          "sizemode": "area",
          "sizeref": 0.03388888888888889,
          "symbol": "circle"
         },
         "mode": "markers",
         "name": "Yobe",
         "orientation": "v",
         "showlegend": true,
         "type": "scatter",
         "x": [
          "Yobe"
         ],
         "xaxis": "x",
         "y": [
          1
         ],
         "yaxis": "y"
        },
        {
         "hovertemplate": "<b>%{hovertext}</b><br><br>STATE=%{x}<br>SCREENED=%{marker.size}<extra></extra>",
         "hovertext": [
          "Taraba"
         ],
         "legendgroup": "Taraba",
         "marker": {
          "color": "#00cc96",
          "size": [
           0
          ],
          "sizemode": "area",
          "sizeref": 0.03388888888888889,
          "symbol": "circle"
         },
         "mode": "markers",
         "name": "Taraba",
         "orientation": "v",
         "showlegend": true,
         "type": "scatter",
         "x": [
          "Taraba"
         ],
         "xaxis": "x",
         "y": [
          0
         ],
         "yaxis": "y"
        },
        {
         "hovertemplate": "<b>%{hovertext}</b><br><br>STATE=%{x}<br>SCREENED=%{marker.size}<extra></extra>",
         "hovertext": [
          "Sokoto"
         ],
         "legendgroup": "Sokoto",
         "marker": {
          "color": "#ab63fa",
          "size": [
           1
          ],
          "sizemode": "area",
          "sizeref": 0.03388888888888889,
          "symbol": "circle"
         },
         "mode": "markers",
         "name": "Sokoto",
         "orientation": "v",
         "showlegend": true,
         "type": "scatter",
         "x": [
          "Sokoto"
         ],
         "xaxis": "x",
         "y": [
          1
         ],
         "yaxis": "y"
        },
        {
         "hovertemplate": "<b>%{hovertext}</b><br><br>STATE=%{x}<br>SCREENED=%{marker.size}<extra></extra>",
         "hovertext": [
          "Rivers"
         ],
         "legendgroup": "Rivers",
         "marker": {
          "color": "#FFA15A",
          "size": [
           8
          ],
          "sizemode": "area",
          "sizeref": 0.03388888888888889,
          "symbol": "circle"
         },
         "mode": "markers",
         "name": "Rivers",
         "orientation": "v",
         "showlegend": true,
         "type": "scatter",
         "x": [
          "Rivers"
         ],
         "xaxis": "x",
         "y": [
          8
         ],
         "yaxis": "y"
        },
        {
         "hovertemplate": "<b>%{hovertext}</b><br><br>STATE=%{x}<br>SCREENED=%{marker.size}<extra></extra>",
         "hovertext": [
          "Plateau"
         ],
         "legendgroup": "Plateau",
         "marker": {
          "color": "#19d3f3",
          "size": [
           4
          ],
          "sizemode": "area",
          "sizeref": 0.03388888888888889,
          "symbol": "circle"
         },
         "mode": "markers",
         "name": "Plateau",
         "orientation": "v",
         "showlegend": true,
         "type": "scatter",
         "x": [
          "Plateau"
         ],
         "xaxis": "x",
         "y": [
          4
         ],
         "yaxis": "y"
        },
        {
         "hovertemplate": "<b>%{hovertext}</b><br><br>STATE=%{x}<br>SCREENED=%{marker.size}<extra></extra>",
         "hovertext": [
          "Oyo"
         ],
         "legendgroup": "Oyo",
         "marker": {
          "color": "#FF6692",
          "size": [
           4
          ],
          "sizemode": "area",
          "sizeref": 0.03388888888888889,
          "symbol": "circle"
         },
         "mode": "markers",
         "name": "Oyo",
         "orientation": "v",
         "showlegend": true,
         "type": "scatter",
         "x": [
          "Oyo"
         ],
         "xaxis": "x",
         "y": [
          4
         ],
         "yaxis": "y"
        },
        {
         "hovertemplate": "<b>%{hovertext}</b><br><br>STATE=%{x}<br>SCREENED=%{marker.size}<extra></extra>",
         "hovertext": [
          "Osun"
         ],
         "legendgroup": "Osun",
         "marker": {
          "color": "#B6E880",
          "size": [
           1
          ],
          "sizemode": "area",
          "sizeref": 0.03388888888888889,
          "symbol": "circle"
         },
         "mode": "markers",
         "name": "Osun",
         "orientation": "v",
         "showlegend": true,
         "type": "scatter",
         "x": [
          "Osun"
         ],
         "xaxis": "x",
         "y": [
          1
         ],
         "yaxis": "y"
        },
        {
         "hovertemplate": "<b>%{hovertext}</b><br><br>STATE=%{x}<br>SCREENED=%{marker.size}<extra></extra>",
         "hovertext": [
          "Ondo"
         ],
         "legendgroup": "Ondo",
         "marker": {
          "color": "#FF97FF",
          "size": [
           5
          ],
          "sizemode": "area",
          "sizeref": 0.03388888888888889,
          "symbol": "circle"
         },
         "mode": "markers",
         "name": "Ondo",
         "orientation": "v",
         "showlegend": true,
         "type": "scatter",
         "x": [
          "Ondo"
         ],
         "xaxis": "x",
         "y": [
          5
         ],
         "yaxis": "y"
        },
        {
         "hovertemplate": "<b>%{hovertext}</b><br><br>STATE=%{x}<br>SCREENED=%{marker.size}<extra></extra>",
         "hovertext": [
          "Ogun"
         ],
         "legendgroup": "Ogun",
         "marker": {
          "color": "#FECB52",
          "size": [
           5
          ],
          "sizemode": "area",
          "sizeref": 0.03388888888888889,
          "symbol": "circle"
         },
         "mode": "markers",
         "name": "Ogun",
         "orientation": "v",
         "showlegend": true,
         "type": "scatter",
         "x": [
          "Ogun"
         ],
         "xaxis": "x",
         "y": [
          5
         ],
         "yaxis": "y"
        },
        {
         "hovertemplate": "<b>%{hovertext}</b><br><br>STATE=%{x}<br>SCREENED=%{marker.size}<extra></extra>",
         "hovertext": [
          "Niger"
         ],
         "legendgroup": "Niger",
         "marker": {
          "color": "#636efa",
          "size": [
           0
          ],
          "sizemode": "area",
          "sizeref": 0.03388888888888889,
          "symbol": "circle"
         },
         "mode": "markers",
         "name": "Niger",
         "orientation": "v",
         "showlegend": true,
         "type": "scatter",
         "x": [
          "Niger"
         ],
         "xaxis": "x",
         "y": [
          0
         ],
         "yaxis": "y"
        },
        {
         "hovertemplate": "<b>%{hovertext}</b><br><br>STATE=%{x}<br>SCREENED=%{marker.size}<extra></extra>",
         "hovertext": [
          "Nasarawa"
         ],
         "legendgroup": "Nasarawa",
         "marker": {
          "color": "#EF553B",
          "size": [
           9
          ],
          "sizemode": "area",
          "sizeref": 0.03388888888888889,
          "symbol": "circle"
         },
         "mode": "markers",
         "name": "Nasarawa",
         "orientation": "v",
         "showlegend": true,
         "type": "scatter",
         "x": [
          "Nasarawa"
         ],
         "xaxis": "x",
         "y": [
          9
         ],
         "yaxis": "y"
        },
        {
         "hovertemplate": "<b>%{hovertext}</b><br><br>STATE=%{x}<br>SCREENED=%{marker.size}<extra></extra>",
         "hovertext": [
          "Lagos"
         ],
         "legendgroup": "Lagos",
         "marker": {
          "color": "#00cc96",
          "size": [
           122
          ],
          "sizemode": "area",
          "sizeref": 0.03388888888888889,
          "symbol": "circle"
         },
         "mode": "markers",
         "name": "Lagos",
         "orientation": "v",
         "showlegend": true,
         "type": "scatter",
         "x": [
          "Lagos"
         ],
         "xaxis": "x",
         "y": [
          122
         ],
         "yaxis": "y"
        }
       ],
       "layout": {
        "legend": {
         "itemsizing": "constant",
         "title": {
          "text": "STATE"
         },
         "tracegroupgap": 0
        },
        "margin": {
         "t": 60
        },
        "template": {
         "data": {
          "bar": [
           {
            "error_x": {
             "color": "#2a3f5f"
            },
            "error_y": {
             "color": "#2a3f5f"
            },
            "marker": {
             "line": {
              "color": "#E5ECF6",
              "width": 0.5
             }
            },
            "type": "bar"
           }
          ],
          "barpolar": [
           {
            "marker": {
             "line": {
              "color": "#E5ECF6",
              "width": 0.5
             }
            },
            "type": "barpolar"
           }
          ],
          "carpet": [
           {
            "aaxis": {
             "endlinecolor": "#2a3f5f",
             "gridcolor": "white",
             "linecolor": "white",
             "minorgridcolor": "white",
             "startlinecolor": "#2a3f5f"
            },
            "baxis": {
             "endlinecolor": "#2a3f5f",
             "gridcolor": "white",
             "linecolor": "white",
             "minorgridcolor": "white",
             "startlinecolor": "#2a3f5f"
            },
            "type": "carpet"
           }
          ],
          "choropleth": [
           {
            "colorbar": {
             "outlinewidth": 0,
             "ticks": ""
            },
            "type": "choropleth"
           }
          ],
          "contour": [
           {
            "colorbar": {
             "outlinewidth": 0,
             "ticks": ""
            },
            "colorscale": [
             [
              0,
              "#0d0887"
             ],
             [
              0.1111111111111111,
              "#46039f"
             ],
             [
              0.2222222222222222,
              "#7201a8"
             ],
             [
              0.3333333333333333,
              "#9c179e"
             ],
             [
              0.4444444444444444,
              "#bd3786"
             ],
             [
              0.5555555555555556,
              "#d8576b"
             ],
             [
              0.6666666666666666,
              "#ed7953"
             ],
             [
              0.7777777777777778,
              "#fb9f3a"
             ],
             [
              0.8888888888888888,
              "#fdca26"
             ],
             [
              1,
              "#f0f921"
             ]
            ],
            "type": "contour"
           }
          ],
          "contourcarpet": [
           {
            "colorbar": {
             "outlinewidth": 0,
             "ticks": ""
            },
            "type": "contourcarpet"
           }
          ],
          "heatmap": [
           {
            "colorbar": {
             "outlinewidth": 0,
             "ticks": ""
            },
            "colorscale": [
             [
              0,
              "#0d0887"
             ],
             [
              0.1111111111111111,
              "#46039f"
             ],
             [
              0.2222222222222222,
              "#7201a8"
             ],
             [
              0.3333333333333333,
              "#9c179e"
             ],
             [
              0.4444444444444444,
              "#bd3786"
             ],
             [
              0.5555555555555556,
              "#d8576b"
             ],
             [
              0.6666666666666666,
              "#ed7953"
             ],
             [
              0.7777777777777778,
              "#fb9f3a"
             ],
             [
              0.8888888888888888,
              "#fdca26"
             ],
             [
              1,
              "#f0f921"
             ]
            ],
            "type": "heatmap"
           }
          ],
          "heatmapgl": [
           {
            "colorbar": {
             "outlinewidth": 0,
             "ticks": ""
            },
            "colorscale": [
             [
              0,
              "#0d0887"
             ],
             [
              0.1111111111111111,
              "#46039f"
             ],
             [
              0.2222222222222222,
              "#7201a8"
             ],
             [
              0.3333333333333333,
              "#9c179e"
             ],
             [
              0.4444444444444444,
              "#bd3786"
             ],
             [
              0.5555555555555556,
              "#d8576b"
             ],
             [
              0.6666666666666666,
              "#ed7953"
             ],
             [
              0.7777777777777778,
              "#fb9f3a"
             ],
             [
              0.8888888888888888,
              "#fdca26"
             ],
             [
              1,
              "#f0f921"
             ]
            ],
            "type": "heatmapgl"
           }
          ],
          "histogram": [
           {
            "marker": {
             "colorbar": {
              "outlinewidth": 0,
              "ticks": ""
             }
            },
            "type": "histogram"
           }
          ],
          "histogram2d": [
           {
            "colorbar": {
             "outlinewidth": 0,
             "ticks": ""
            },
            "colorscale": [
             [
              0,
              "#0d0887"
             ],
             [
              0.1111111111111111,
              "#46039f"
             ],
             [
              0.2222222222222222,
              "#7201a8"
             ],
             [
              0.3333333333333333,
              "#9c179e"
             ],
             [
              0.4444444444444444,
              "#bd3786"
             ],
             [
              0.5555555555555556,
              "#d8576b"
             ],
             [
              0.6666666666666666,
              "#ed7953"
             ],
             [
              0.7777777777777778,
              "#fb9f3a"
             ],
             [
              0.8888888888888888,
              "#fdca26"
             ],
             [
              1,
              "#f0f921"
             ]
            ],
            "type": "histogram2d"
           }
          ],
          "histogram2dcontour": [
           {
            "colorbar": {
             "outlinewidth": 0,
             "ticks": ""
            },
            "colorscale": [
             [
              0,
              "#0d0887"
             ],
             [
              0.1111111111111111,
              "#46039f"
             ],
             [
              0.2222222222222222,
              "#7201a8"
             ],
             [
              0.3333333333333333,
              "#9c179e"
             ],
             [
              0.4444444444444444,
              "#bd3786"
             ],
             [
              0.5555555555555556,
              "#d8576b"
             ],
             [
              0.6666666666666666,
              "#ed7953"
             ],
             [
              0.7777777777777778,
              "#fb9f3a"
             ],
             [
              0.8888888888888888,
              "#fdca26"
             ],
             [
              1,
              "#f0f921"
             ]
            ],
            "type": "histogram2dcontour"
           }
          ],
          "mesh3d": [
           {
            "colorbar": {
             "outlinewidth": 0,
             "ticks": ""
            },
            "type": "mesh3d"
           }
          ],
          "parcoords": [
           {
            "line": {
             "colorbar": {
              "outlinewidth": 0,
              "ticks": ""
             }
            },
            "type": "parcoords"
           }
          ],
          "pie": [
           {
            "automargin": true,
            "type": "pie"
           }
          ],
          "scatter": [
           {
            "marker": {
             "colorbar": {
              "outlinewidth": 0,
              "ticks": ""
             }
            },
            "type": "scatter"
           }
          ],
          "scatter3d": [
           {
            "line": {
             "colorbar": {
              "outlinewidth": 0,
              "ticks": ""
             }
            },
            "marker": {
             "colorbar": {
              "outlinewidth": 0,
              "ticks": ""
             }
            },
            "type": "scatter3d"
           }
          ],
          "scattercarpet": [
           {
            "marker": {
             "colorbar": {
              "outlinewidth": 0,
              "ticks": ""
             }
            },
            "type": "scattercarpet"
           }
          ],
          "scattergeo": [
           {
            "marker": {
             "colorbar": {
              "outlinewidth": 0,
              "ticks": ""
             }
            },
            "type": "scattergeo"
           }
          ],
          "scattergl": [
           {
            "marker": {
             "colorbar": {
              "outlinewidth": 0,
              "ticks": ""
             }
            },
            "type": "scattergl"
           }
          ],
          "scattermapbox": [
           {
            "marker": {
             "colorbar": {
              "outlinewidth": 0,
              "ticks": ""
             }
            },
            "type": "scattermapbox"
           }
          ],
          "scatterpolar": [
           {
            "marker": {
             "colorbar": {
              "outlinewidth": 0,
              "ticks": ""
             }
            },
            "type": "scatterpolar"
           }
          ],
          "scatterpolargl": [
           {
            "marker": {
             "colorbar": {
              "outlinewidth": 0,
              "ticks": ""
             }
            },
            "type": "scatterpolargl"
           }
          ],
          "scatterternary": [
           {
            "marker": {
             "colorbar": {
              "outlinewidth": 0,
              "ticks": ""
             }
            },
            "type": "scatterternary"
           }
          ],
          "surface": [
           {
            "colorbar": {
             "outlinewidth": 0,
             "ticks": ""
            },
            "colorscale": [
             [
              0,
              "#0d0887"
             ],
             [
              0.1111111111111111,
              "#46039f"
             ],
             [
              0.2222222222222222,
              "#7201a8"
             ],
             [
              0.3333333333333333,
              "#9c179e"
             ],
             [
              0.4444444444444444,
              "#bd3786"
             ],
             [
              0.5555555555555556,
              "#d8576b"
             ],
             [
              0.6666666666666666,
              "#ed7953"
             ],
             [
              0.7777777777777778,
              "#fb9f3a"
             ],
             [
              0.8888888888888888,
              "#fdca26"
             ],
             [
              1,
              "#f0f921"
             ]
            ],
            "type": "surface"
           }
          ],
          "table": [
           {
            "cells": {
             "fill": {
              "color": "#EBF0F8"
             },
             "line": {
              "color": "white"
             }
            },
            "header": {
             "fill": {
              "color": "#C8D4E3"
             },
             "line": {
              "color": "white"
             }
            },
            "type": "table"
           }
          ]
         },
         "layout": {
          "annotationdefaults": {
           "arrowcolor": "#2a3f5f",
           "arrowhead": 0,
           "arrowwidth": 1
          },
          "coloraxis": {
           "colorbar": {
            "outlinewidth": 0,
            "ticks": ""
           }
          },
          "colorscale": {
           "diverging": [
            [
             0,
             "#8e0152"
            ],
            [
             0.1,
             "#c51b7d"
            ],
            [
             0.2,
             "#de77ae"
            ],
            [
             0.3,
             "#f1b6da"
            ],
            [
             0.4,
             "#fde0ef"
            ],
            [
             0.5,
             "#f7f7f7"
            ],
            [
             0.6,
             "#e6f5d0"
            ],
            [
             0.7,
             "#b8e186"
            ],
            [
             0.8,
             "#7fbc41"
            ],
            [
             0.9,
             "#4d9221"
            ],
            [
             1,
             "#276419"
            ]
           ],
           "sequential": [
            [
             0,
             "#0d0887"
            ],
            [
             0.1111111111111111,
             "#46039f"
            ],
            [
             0.2222222222222222,
             "#7201a8"
            ],
            [
             0.3333333333333333,
             "#9c179e"
            ],
            [
             0.4444444444444444,
             "#bd3786"
            ],
            [
             0.5555555555555556,
             "#d8576b"
            ],
            [
             0.6666666666666666,
             "#ed7953"
            ],
            [
             0.7777777777777778,
             "#fb9f3a"
            ],
            [
             0.8888888888888888,
             "#fdca26"
            ],
            [
             1,
             "#f0f921"
            ]
           ],
           "sequentialminus": [
            [
             0,
             "#0d0887"
            ],
            [
             0.1111111111111111,
             "#46039f"
            ],
            [
             0.2222222222222222,
             "#7201a8"
            ],
            [
             0.3333333333333333,
             "#9c179e"
            ],
            [
             0.4444444444444444,
             "#bd3786"
            ],
            [
             0.5555555555555556,
             "#d8576b"
            ],
            [
             0.6666666666666666,
             "#ed7953"
            ],
            [
             0.7777777777777778,
             "#fb9f3a"
            ],
            [
             0.8888888888888888,
             "#fdca26"
            ],
            [
             1,
             "#f0f921"
            ]
           ]
          },
          "colorway": [
           "#636efa",
           "#EF553B",
           "#00cc96",
           "#ab63fa",
           "#FFA15A",
           "#19d3f3",
           "#FF6692",
           "#B6E880",
           "#FF97FF",
           "#FECB52"
          ],
          "font": {
           "color": "#2a3f5f"
          },
          "geo": {
           "bgcolor": "white",
           "lakecolor": "white",
           "landcolor": "#E5ECF6",
           "showlakes": true,
           "showland": true,
           "subunitcolor": "white"
          },
          "hoverlabel": {
           "align": "left"
          },
          "hovermode": "closest",
          "mapbox": {
           "style": "light"
          },
          "paper_bgcolor": "white",
          "plot_bgcolor": "#E5ECF6",
          "polar": {
           "angularaxis": {
            "gridcolor": "white",
            "linecolor": "white",
            "ticks": ""
           },
           "bgcolor": "#E5ECF6",
           "radialaxis": {
            "gridcolor": "white",
            "linecolor": "white",
            "ticks": ""
           }
          },
          "scene": {
           "xaxis": {
            "backgroundcolor": "#E5ECF6",
            "gridcolor": "white",
            "gridwidth": 2,
            "linecolor": "white",
            "showbackground": true,
            "ticks": "",
            "zerolinecolor": "white"
           },
           "yaxis": {
            "backgroundcolor": "#E5ECF6",
            "gridcolor": "white",
            "gridwidth": 2,
            "linecolor": "white",
            "showbackground": true,
            "ticks": "",
            "zerolinecolor": "white"
           },
           "zaxis": {
            "backgroundcolor": "#E5ECF6",
            "gridcolor": "white",
            "gridwidth": 2,
            "linecolor": "white",
            "showbackground": true,
            "ticks": "",
            "zerolinecolor": "white"
           }
          },
          "shapedefaults": {
           "line": {
            "color": "#2a3f5f"
           }
          },
          "ternary": {
           "aaxis": {
            "gridcolor": "white",
            "linecolor": "white",
            "ticks": ""
           },
           "baxis": {
            "gridcolor": "white",
            "linecolor": "white",
            "ticks": ""
           },
           "bgcolor": "#E5ECF6",
           "caxis": {
            "gridcolor": "white",
            "linecolor": "white",
            "ticks": ""
           }
          },
          "title": {
           "x": 0.05
          },
          "xaxis": {
           "automargin": true,
           "gridcolor": "white",
           "linecolor": "white",
           "ticks": "",
           "title": {
            "standoff": 15
           },
           "zerolinecolor": "white",
           "zerolinewidth": 2
          },
          "yaxis": {
           "automargin": true,
           "gridcolor": "white",
           "linecolor": "white",
           "ticks": "",
           "title": {
            "standoff": 15
           },
           "zerolinecolor": "white",
           "zerolinewidth": 2
          }
         }
        },
        "xaxis": {
         "anchor": "y",
         "categoryarray": [
          "Zamfara",
          "Yobe",
          "Taraba",
          "Sokoto",
          "Rivers",
          "Plateau",
          "Oyo",
          "Osun",
          "Ondo",
          "Ogun",
          "Niger",
          "Nasarawa",
          "Lagos"
         ],
         "categoryorder": "array",
         "domain": [
          0,
          1
         ],
         "title": {
          "text": "STATE"
         }
        },
        "yaxis": {
         "anchor": "x",
         "domain": [
          0,
          1
         ],
         "title": {
          "text": "SCREENED"
         }
        }
       }
      },
      "text/html": [
       "<div>\n",
       "        \n",
       "        \n",
       "            <div id=\"255667cd-628f-4f47-83ad-9bc273d0b1c7\" class=\"plotly-graph-div\" style=\"height:525px; width:100%;\"></div>\n",
       "            <script type=\"text/javascript\">\n",
       "                require([\"plotly\"], function(Plotly) {\n",
       "                    window.PLOTLYENV=window.PLOTLYENV || {};\n",
       "                    \n",
       "                if (document.getElementById(\"255667cd-628f-4f47-83ad-9bc273d0b1c7\")) {\n",
       "                    Plotly.newPlot(\n",
       "                        '255667cd-628f-4f47-83ad-9bc273d0b1c7',\n",
       "                        [{\"hovertemplate\": \"<b>%{hovertext}</b><br><br>STATE=%{x}<br>SCREENED=%{marker.size}<extra></extra>\", \"hovertext\": [\"Zamfara\"], \"legendgroup\": \"Zamfara\", \"marker\": {\"color\": \"#636efa\", \"size\": [0], \"sizemode\": \"area\", \"sizeref\": 0.03388888888888889, \"symbol\": \"circle\"}, \"mode\": \"markers\", \"name\": \"Zamfara\", \"orientation\": \"v\", \"showlegend\": true, \"type\": \"scatter\", \"x\": [\"Zamfara\"], \"xaxis\": \"x\", \"y\": [0], \"yaxis\": \"y\"}, {\"hovertemplate\": \"<b>%{hovertext}</b><br><br>STATE=%{x}<br>SCREENED=%{marker.size}<extra></extra>\", \"hovertext\": [\"Yobe\"], \"legendgroup\": \"Yobe\", \"marker\": {\"color\": \"#EF553B\", \"size\": [1], \"sizemode\": \"area\", \"sizeref\": 0.03388888888888889, \"symbol\": \"circle\"}, \"mode\": \"markers\", \"name\": \"Yobe\", \"orientation\": \"v\", \"showlegend\": true, \"type\": \"scatter\", \"x\": [\"Yobe\"], \"xaxis\": \"x\", \"y\": [1], \"yaxis\": \"y\"}, {\"hovertemplate\": \"<b>%{hovertext}</b><br><br>STATE=%{x}<br>SCREENED=%{marker.size}<extra></extra>\", \"hovertext\": [\"Taraba\"], \"legendgroup\": \"Taraba\", \"marker\": {\"color\": \"#00cc96\", \"size\": [0], \"sizemode\": \"area\", \"sizeref\": 0.03388888888888889, \"symbol\": \"circle\"}, \"mode\": \"markers\", \"name\": \"Taraba\", \"orientation\": \"v\", \"showlegend\": true, \"type\": \"scatter\", \"x\": [\"Taraba\"], \"xaxis\": \"x\", \"y\": [0], \"yaxis\": \"y\"}, {\"hovertemplate\": \"<b>%{hovertext}</b><br><br>STATE=%{x}<br>SCREENED=%{marker.size}<extra></extra>\", \"hovertext\": [\"Sokoto\"], \"legendgroup\": \"Sokoto\", \"marker\": {\"color\": \"#ab63fa\", \"size\": [1], \"sizemode\": \"area\", \"sizeref\": 0.03388888888888889, \"symbol\": \"circle\"}, \"mode\": \"markers\", \"name\": \"Sokoto\", \"orientation\": \"v\", \"showlegend\": true, \"type\": \"scatter\", \"x\": [\"Sokoto\"], \"xaxis\": \"x\", \"y\": [1], \"yaxis\": \"y\"}, {\"hovertemplate\": \"<b>%{hovertext}</b><br><br>STATE=%{x}<br>SCREENED=%{marker.size}<extra></extra>\", \"hovertext\": [\"Rivers\"], \"legendgroup\": \"Rivers\", \"marker\": {\"color\": \"#FFA15A\", \"size\": [8], \"sizemode\": \"area\", \"sizeref\": 0.03388888888888889, \"symbol\": \"circle\"}, \"mode\": \"markers\", \"name\": \"Rivers\", \"orientation\": \"v\", \"showlegend\": true, \"type\": \"scatter\", \"x\": [\"Rivers\"], \"xaxis\": \"x\", \"y\": [8], \"yaxis\": \"y\"}, {\"hovertemplate\": \"<b>%{hovertext}</b><br><br>STATE=%{x}<br>SCREENED=%{marker.size}<extra></extra>\", \"hovertext\": [\"Plateau\"], \"legendgroup\": \"Plateau\", \"marker\": {\"color\": \"#19d3f3\", \"size\": [4], \"sizemode\": \"area\", \"sizeref\": 0.03388888888888889, \"symbol\": \"circle\"}, \"mode\": \"markers\", \"name\": \"Plateau\", \"orientation\": \"v\", \"showlegend\": true, \"type\": \"scatter\", \"x\": [\"Plateau\"], \"xaxis\": \"x\", \"y\": [4], \"yaxis\": \"y\"}, {\"hovertemplate\": \"<b>%{hovertext}</b><br><br>STATE=%{x}<br>SCREENED=%{marker.size}<extra></extra>\", \"hovertext\": [\"Oyo\"], \"legendgroup\": \"Oyo\", \"marker\": {\"color\": \"#FF6692\", \"size\": [4], \"sizemode\": \"area\", \"sizeref\": 0.03388888888888889, \"symbol\": \"circle\"}, \"mode\": \"markers\", \"name\": \"Oyo\", \"orientation\": \"v\", \"showlegend\": true, \"type\": \"scatter\", \"x\": [\"Oyo\"], \"xaxis\": \"x\", \"y\": [4], \"yaxis\": \"y\"}, {\"hovertemplate\": \"<b>%{hovertext}</b><br><br>STATE=%{x}<br>SCREENED=%{marker.size}<extra></extra>\", \"hovertext\": [\"Osun\"], \"legendgroup\": \"Osun\", \"marker\": {\"color\": \"#B6E880\", \"size\": [1], \"sizemode\": \"area\", \"sizeref\": 0.03388888888888889, \"symbol\": \"circle\"}, \"mode\": \"markers\", \"name\": \"Osun\", \"orientation\": \"v\", \"showlegend\": true, \"type\": \"scatter\", \"x\": [\"Osun\"], \"xaxis\": \"x\", \"y\": [1], \"yaxis\": \"y\"}, {\"hovertemplate\": \"<b>%{hovertext}</b><br><br>STATE=%{x}<br>SCREENED=%{marker.size}<extra></extra>\", \"hovertext\": [\"Ondo\"], \"legendgroup\": \"Ondo\", \"marker\": {\"color\": \"#FF97FF\", \"size\": [5], \"sizemode\": \"area\", \"sizeref\": 0.03388888888888889, \"symbol\": \"circle\"}, \"mode\": \"markers\", \"name\": \"Ondo\", \"orientation\": \"v\", \"showlegend\": true, \"type\": \"scatter\", \"x\": [\"Ondo\"], \"xaxis\": \"x\", \"y\": [5], \"yaxis\": \"y\"}, {\"hovertemplate\": \"<b>%{hovertext}</b><br><br>STATE=%{x}<br>SCREENED=%{marker.size}<extra></extra>\", \"hovertext\": [\"Ogun\"], \"legendgroup\": \"Ogun\", \"marker\": {\"color\": \"#FECB52\", \"size\": [5], \"sizemode\": \"area\", \"sizeref\": 0.03388888888888889, \"symbol\": \"circle\"}, \"mode\": \"markers\", \"name\": \"Ogun\", \"orientation\": \"v\", \"showlegend\": true, \"type\": \"scatter\", \"x\": [\"Ogun\"], \"xaxis\": \"x\", \"y\": [5], \"yaxis\": \"y\"}, {\"hovertemplate\": \"<b>%{hovertext}</b><br><br>STATE=%{x}<br>SCREENED=%{marker.size}<extra></extra>\", \"hovertext\": [\"Niger\"], \"legendgroup\": \"Niger\", \"marker\": {\"color\": \"#636efa\", \"size\": [0], \"sizemode\": \"area\", \"sizeref\": 0.03388888888888889, \"symbol\": \"circle\"}, \"mode\": \"markers\", \"name\": \"Niger\", \"orientation\": \"v\", \"showlegend\": true, \"type\": \"scatter\", \"x\": [\"Niger\"], \"xaxis\": \"x\", \"y\": [0], \"yaxis\": \"y\"}, {\"hovertemplate\": \"<b>%{hovertext}</b><br><br>STATE=%{x}<br>SCREENED=%{marker.size}<extra></extra>\", \"hovertext\": [\"Nasarawa\"], \"legendgroup\": \"Nasarawa\", \"marker\": {\"color\": \"#EF553B\", \"size\": [9], \"sizemode\": \"area\", \"sizeref\": 0.03388888888888889, \"symbol\": \"circle\"}, \"mode\": \"markers\", \"name\": \"Nasarawa\", \"orientation\": \"v\", \"showlegend\": true, \"type\": \"scatter\", \"x\": [\"Nasarawa\"], \"xaxis\": \"x\", \"y\": [9], \"yaxis\": \"y\"}, {\"hovertemplate\": \"<b>%{hovertext}</b><br><br>STATE=%{x}<br>SCREENED=%{marker.size}<extra></extra>\", \"hovertext\": [\"Lagos\"], \"legendgroup\": \"Lagos\", \"marker\": {\"color\": \"#00cc96\", \"size\": [122], \"sizemode\": \"area\", \"sizeref\": 0.03388888888888889, \"symbol\": \"circle\"}, \"mode\": \"markers\", \"name\": \"Lagos\", \"orientation\": \"v\", \"showlegend\": true, \"type\": \"scatter\", \"x\": [\"Lagos\"], \"xaxis\": \"x\", \"y\": [122], \"yaxis\": \"y\"}],\n",
       "                        {\"legend\": {\"itemsizing\": \"constant\", \"title\": {\"text\": \"STATE\"}, \"tracegroupgap\": 0}, \"margin\": {\"t\": 60}, \"template\": {\"data\": {\"bar\": [{\"error_x\": {\"color\": \"#2a3f5f\"}, \"error_y\": {\"color\": \"#2a3f5f\"}, \"marker\": {\"line\": {\"color\": \"#E5ECF6\", \"width\": 0.5}}, \"type\": \"bar\"}], \"barpolar\": [{\"marker\": {\"line\": {\"color\": \"#E5ECF6\", \"width\": 0.5}}, \"type\": \"barpolar\"}], \"carpet\": [{\"aaxis\": {\"endlinecolor\": \"#2a3f5f\", \"gridcolor\": \"white\", \"linecolor\": \"white\", \"minorgridcolor\": \"white\", \"startlinecolor\": \"#2a3f5f\"}, \"baxis\": {\"endlinecolor\": \"#2a3f5f\", \"gridcolor\": \"white\", \"linecolor\": \"white\", \"minorgridcolor\": \"white\", \"startlinecolor\": \"#2a3f5f\"}, \"type\": \"carpet\"}], \"choropleth\": [{\"colorbar\": {\"outlinewidth\": 0, \"ticks\": \"\"}, \"type\": \"choropleth\"}], \"contour\": [{\"colorbar\": {\"outlinewidth\": 0, \"ticks\": \"\"}, \"colorscale\": [[0.0, \"#0d0887\"], [0.1111111111111111, \"#46039f\"], [0.2222222222222222, \"#7201a8\"], [0.3333333333333333, \"#9c179e\"], [0.4444444444444444, \"#bd3786\"], [0.5555555555555556, \"#d8576b\"], [0.6666666666666666, \"#ed7953\"], [0.7777777777777778, \"#fb9f3a\"], [0.8888888888888888, \"#fdca26\"], [1.0, \"#f0f921\"]], \"type\": \"contour\"}], \"contourcarpet\": [{\"colorbar\": {\"outlinewidth\": 0, \"ticks\": \"\"}, \"type\": \"contourcarpet\"}], \"heatmap\": [{\"colorbar\": {\"outlinewidth\": 0, \"ticks\": \"\"}, \"colorscale\": [[0.0, \"#0d0887\"], [0.1111111111111111, \"#46039f\"], [0.2222222222222222, \"#7201a8\"], [0.3333333333333333, \"#9c179e\"], [0.4444444444444444, \"#bd3786\"], [0.5555555555555556, \"#d8576b\"], [0.6666666666666666, \"#ed7953\"], [0.7777777777777778, \"#fb9f3a\"], [0.8888888888888888, \"#fdca26\"], [1.0, \"#f0f921\"]], \"type\": \"heatmap\"}], \"heatmapgl\": [{\"colorbar\": {\"outlinewidth\": 0, \"ticks\": \"\"}, \"colorscale\": [[0.0, \"#0d0887\"], [0.1111111111111111, \"#46039f\"], [0.2222222222222222, \"#7201a8\"], [0.3333333333333333, \"#9c179e\"], [0.4444444444444444, \"#bd3786\"], [0.5555555555555556, \"#d8576b\"], [0.6666666666666666, \"#ed7953\"], [0.7777777777777778, \"#fb9f3a\"], [0.8888888888888888, \"#fdca26\"], [1.0, \"#f0f921\"]], \"type\": \"heatmapgl\"}], \"histogram\": [{\"marker\": {\"colorbar\": {\"outlinewidth\": 0, \"ticks\": \"\"}}, \"type\": \"histogram\"}], \"histogram2d\": [{\"colorbar\": {\"outlinewidth\": 0, \"ticks\": \"\"}, \"colorscale\": [[0.0, \"#0d0887\"], [0.1111111111111111, \"#46039f\"], [0.2222222222222222, \"#7201a8\"], [0.3333333333333333, \"#9c179e\"], [0.4444444444444444, \"#bd3786\"], [0.5555555555555556, \"#d8576b\"], [0.6666666666666666, \"#ed7953\"], [0.7777777777777778, \"#fb9f3a\"], [0.8888888888888888, \"#fdca26\"], [1.0, \"#f0f921\"]], \"type\": \"histogram2d\"}], \"histogram2dcontour\": [{\"colorbar\": {\"outlinewidth\": 0, \"ticks\": \"\"}, \"colorscale\": [[0.0, \"#0d0887\"], [0.1111111111111111, \"#46039f\"], [0.2222222222222222, \"#7201a8\"], [0.3333333333333333, \"#9c179e\"], [0.4444444444444444, \"#bd3786\"], [0.5555555555555556, \"#d8576b\"], [0.6666666666666666, \"#ed7953\"], [0.7777777777777778, \"#fb9f3a\"], [0.8888888888888888, \"#fdca26\"], [1.0, \"#f0f921\"]], \"type\": \"histogram2dcontour\"}], \"mesh3d\": [{\"colorbar\": {\"outlinewidth\": 0, \"ticks\": \"\"}, \"type\": \"mesh3d\"}], \"parcoords\": [{\"line\": {\"colorbar\": {\"outlinewidth\": 0, \"ticks\": \"\"}}, \"type\": \"parcoords\"}], \"pie\": [{\"automargin\": true, \"type\": \"pie\"}], \"scatter\": [{\"marker\": {\"colorbar\": {\"outlinewidth\": 0, \"ticks\": \"\"}}, \"type\": \"scatter\"}], \"scatter3d\": [{\"line\": {\"colorbar\": {\"outlinewidth\": 0, \"ticks\": \"\"}}, \"marker\": {\"colorbar\": {\"outlinewidth\": 0, \"ticks\": \"\"}}, \"type\": \"scatter3d\"}], \"scattercarpet\": [{\"marker\": {\"colorbar\": {\"outlinewidth\": 0, \"ticks\": \"\"}}, \"type\": \"scattercarpet\"}], \"scattergeo\": [{\"marker\": {\"colorbar\": {\"outlinewidth\": 0, \"ticks\": \"\"}}, \"type\": \"scattergeo\"}], \"scattergl\": [{\"marker\": {\"colorbar\": {\"outlinewidth\": 0, \"ticks\": \"\"}}, \"type\": \"scattergl\"}], \"scattermapbox\": [{\"marker\": {\"colorbar\": {\"outlinewidth\": 0, \"ticks\": \"\"}}, \"type\": \"scattermapbox\"}], \"scatterpolar\": [{\"marker\": {\"colorbar\": {\"outlinewidth\": 0, \"ticks\": \"\"}}, \"type\": \"scatterpolar\"}], \"scatterpolargl\": [{\"marker\": {\"colorbar\": {\"outlinewidth\": 0, \"ticks\": \"\"}}, \"type\": \"scatterpolargl\"}], \"scatterternary\": [{\"marker\": {\"colorbar\": {\"outlinewidth\": 0, \"ticks\": \"\"}}, \"type\": \"scatterternary\"}], \"surface\": [{\"colorbar\": {\"outlinewidth\": 0, \"ticks\": \"\"}, \"colorscale\": [[0.0, \"#0d0887\"], [0.1111111111111111, \"#46039f\"], [0.2222222222222222, \"#7201a8\"], [0.3333333333333333, \"#9c179e\"], [0.4444444444444444, \"#bd3786\"], [0.5555555555555556, \"#d8576b\"], [0.6666666666666666, \"#ed7953\"], [0.7777777777777778, \"#fb9f3a\"], [0.8888888888888888, \"#fdca26\"], [1.0, \"#f0f921\"]], \"type\": \"surface\"}], \"table\": [{\"cells\": {\"fill\": {\"color\": \"#EBF0F8\"}, \"line\": {\"color\": \"white\"}}, \"header\": {\"fill\": {\"color\": \"#C8D4E3\"}, \"line\": {\"color\": \"white\"}}, \"type\": \"table\"}]}, \"layout\": {\"annotationdefaults\": {\"arrowcolor\": \"#2a3f5f\", \"arrowhead\": 0, \"arrowwidth\": 1}, \"coloraxis\": {\"colorbar\": {\"outlinewidth\": 0, \"ticks\": \"\"}}, \"colorscale\": {\"diverging\": [[0, \"#8e0152\"], [0.1, \"#c51b7d\"], [0.2, \"#de77ae\"], [0.3, \"#f1b6da\"], [0.4, \"#fde0ef\"], [0.5, \"#f7f7f7\"], [0.6, \"#e6f5d0\"], [0.7, \"#b8e186\"], [0.8, \"#7fbc41\"], [0.9, \"#4d9221\"], [1, \"#276419\"]], \"sequential\": [[0.0, \"#0d0887\"], [0.1111111111111111, \"#46039f\"], [0.2222222222222222, \"#7201a8\"], [0.3333333333333333, \"#9c179e\"], [0.4444444444444444, \"#bd3786\"], [0.5555555555555556, \"#d8576b\"], [0.6666666666666666, \"#ed7953\"], [0.7777777777777778, \"#fb9f3a\"], [0.8888888888888888, \"#fdca26\"], [1.0, \"#f0f921\"]], \"sequentialminus\": [[0.0, \"#0d0887\"], [0.1111111111111111, \"#46039f\"], [0.2222222222222222, \"#7201a8\"], [0.3333333333333333, \"#9c179e\"], [0.4444444444444444, \"#bd3786\"], [0.5555555555555556, \"#d8576b\"], [0.6666666666666666, \"#ed7953\"], [0.7777777777777778, \"#fb9f3a\"], [0.8888888888888888, \"#fdca26\"], [1.0, \"#f0f921\"]]}, \"colorway\": [\"#636efa\", \"#EF553B\", \"#00cc96\", \"#ab63fa\", \"#FFA15A\", \"#19d3f3\", \"#FF6692\", \"#B6E880\", \"#FF97FF\", \"#FECB52\"], \"font\": {\"color\": \"#2a3f5f\"}, \"geo\": {\"bgcolor\": \"white\", \"lakecolor\": \"white\", \"landcolor\": \"#E5ECF6\", \"showlakes\": true, \"showland\": true, \"subunitcolor\": \"white\"}, \"hoverlabel\": {\"align\": \"left\"}, \"hovermode\": \"closest\", \"mapbox\": {\"style\": \"light\"}, \"paper_bgcolor\": \"white\", \"plot_bgcolor\": \"#E5ECF6\", \"polar\": {\"angularaxis\": {\"gridcolor\": \"white\", \"linecolor\": \"white\", \"ticks\": \"\"}, \"bgcolor\": \"#E5ECF6\", \"radialaxis\": {\"gridcolor\": \"white\", \"linecolor\": \"white\", \"ticks\": \"\"}}, \"scene\": {\"xaxis\": {\"backgroundcolor\": \"#E5ECF6\", \"gridcolor\": \"white\", \"gridwidth\": 2, \"linecolor\": \"white\", \"showbackground\": true, \"ticks\": \"\", \"zerolinecolor\": \"white\"}, \"yaxis\": {\"backgroundcolor\": \"#E5ECF6\", \"gridcolor\": \"white\", \"gridwidth\": 2, \"linecolor\": \"white\", \"showbackground\": true, \"ticks\": \"\", \"zerolinecolor\": \"white\"}, \"zaxis\": {\"backgroundcolor\": \"#E5ECF6\", \"gridcolor\": \"white\", \"gridwidth\": 2, \"linecolor\": \"white\", \"showbackground\": true, \"ticks\": \"\", \"zerolinecolor\": \"white\"}}, \"shapedefaults\": {\"line\": {\"color\": \"#2a3f5f\"}}, \"ternary\": {\"aaxis\": {\"gridcolor\": \"white\", \"linecolor\": \"white\", \"ticks\": \"\"}, \"baxis\": {\"gridcolor\": \"white\", \"linecolor\": \"white\", \"ticks\": \"\"}, \"bgcolor\": \"#E5ECF6\", \"caxis\": {\"gridcolor\": \"white\", \"linecolor\": \"white\", \"ticks\": \"\"}}, \"title\": {\"x\": 0.05}, \"xaxis\": {\"automargin\": true, \"gridcolor\": \"white\", \"linecolor\": \"white\", \"ticks\": \"\", \"title\": {\"standoff\": 15}, \"zerolinecolor\": \"white\", \"zerolinewidth\": 2}, \"yaxis\": {\"automargin\": true, \"gridcolor\": \"white\", \"linecolor\": \"white\", \"ticks\": \"\", \"title\": {\"standoff\": 15}, \"zerolinecolor\": \"white\", \"zerolinewidth\": 2}}}, \"xaxis\": {\"anchor\": \"y\", \"categoryarray\": [\"Zamfara\", \"Yobe\", \"Taraba\", \"Sokoto\", \"Rivers\", \"Plateau\", \"Oyo\", \"Osun\", \"Ondo\", \"Ogun\", \"Niger\", \"Nasarawa\", \"Lagos\"], \"categoryorder\": \"array\", \"domain\": [0.0, 1.0], \"title\": {\"text\": \"STATE\"}}, \"yaxis\": {\"anchor\": \"x\", \"domain\": [0.0, 1.0], \"title\": {\"text\": \"SCREENED\"}}},\n",
       "                        {\"responsive\": true}\n",
       "                    ).then(function(){\n",
       "                            \n",
       "var gd = document.getElementById('255667cd-628f-4f47-83ad-9bc273d0b1c7');\n",
       "var x = new MutationObserver(function (mutations, observer) {{\n",
       "        var display = window.getComputedStyle(gd).display;\n",
       "        if (!display || display === 'none') {{\n",
       "            console.log([gd, 'removed!']);\n",
       "            Plotly.purge(gd);\n",
       "            observer.disconnect();\n",
       "        }}\n",
       "}});\n",
       "\n",
       "// Listen for the removal of the full notebook cells\n",
       "var notebookContainer = gd.closest('#notebook-container');\n",
       "if (notebookContainer) {{\n",
       "    x.observe(notebookContainer, {childList: true});\n",
       "}}\n",
       "\n",
       "// Listen for the clearing of the current output cell\n",
       "var outputEl = gd.closest('.output');\n",
       "if (outputEl) {{\n",
       "    x.observe(outputEl, {childList: true});\n",
       "}}\n",
       "\n",
       "                        })\n",
       "                };\n",
       "                });\n",
       "            </script>\n",
       "        </div>"
      ]
     },
     "metadata": {},
     "output_type": "display_data"
    }
   ],
   "source": [
    "fig5.show()"
   ]
  },
  {
   "cell_type": "markdown",
   "metadata": {},
   "source": [
    "## Map showing the affected states in Nigeria"
   ]
  },
  {
   "cell_type": "code",
   "execution_count": 97,
   "metadata": {
    "scrolled": true
   },
   "outputs": [
    {
     "data": {
      "text/html": [
       "<div style=\"width:100%;\"><div style=\"position:relative;width:100%;height:0;padding-bottom:60%;\"><span style=\"color:#565656\">Make this Notebook Trusted to load map: File -> Trust Notebook</span><iframe src=\"about:blank\" style=\"position:absolute;width:100%;height:100%;left:0;top:0;border:none !important;\" data-html=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 onload=\"this.contentDocument.open();this.contentDocument.write(atob(this.getAttribute('data-html')));this.contentDocument.close();\" allowfullscreen webkitallowfullscreen mozallowfullscreen></iframe></div></div>"
      ],
      "text/plain": [
       "<folium.folium.Map at 0x25d66723a08>"
      ]
     },
     "execution_count": 97,
     "metadata": {},
     "output_type": "execute_result"
    }
   ],
   "source": [
    "state_map = folium.Map(location=[13,0], title='nigcovidplaces', zoom_start=2, max_zoom=8, min_zoom=3)\n",
    "\n",
    "for i in range(len(covid_states_nig_data)):\n",
    "    folium.Circle(\n",
    "        location=[covid_states_nig_data.iloc[i]['LAT'], covid_states_nig_data.iloc[i]['LONG']],\n",
    "    fill = True,\n",
    "    radius = (int((np.log(covid_states_nig_data.iloc[1,-1]+1.00001))) * 0.2)*50000,\n",
    "    fill_colour = 'red',\n",
    "    color = 'blue',\n",
    "    ).add_to(state_map)\n",
    "\n",
    "state_map"
   ]
  },
  {
   "cell_type": "markdown",
   "metadata": {},
   "source": [
    "## Map showing the molecular labs in the states in Nigeria"
   ]
  },
  {
   "cell_type": "code",
   "execution_count": 94,
   "metadata": {},
   "outputs": [
    {
     "data": {
      "text/html": [
       "<div style=\"width:100%;\"><div style=\"position:relative;width:100%;height:0;padding-bottom:60%;\"><span style=\"color:#565656\">Make this Notebook Trusted to load map: File -> Trust Notebook</span><iframe src=\"about:blank\" style=\"position:absolute;width:100%;height:100%;left:0;top:0;border:none !important;\" data-html=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 onload=\"this.contentDocument.open();this.contentDocument.write(atob(this.getAttribute('data-html')));this.contentDocument.close();\" allowfullscreen webkitallowfullscreen mozallowfullscreen></iframe></div></div>"
      ],
      "text/plain": [
       "<folium.folium.Map at 0x25d723bc188>"
      ]
     },
     "execution_count": 94,
     "metadata": {},
     "output_type": "execute_result"
    }
   ],
   "source": [
    "molecular_labs_state_map = folium.Map(location=[13,0], title='nigcovidplaces', zoom_start=2, max_zoom=8, min_zoom=3)\n",
    "\n",
    "for i in range(len(covid_molecular_lab_data)):\n",
    "    folium.Circle(\n",
    "        location=[covid_molecular_lab_data.iloc[i]['LATITUDE'], covid_molecular_lab_data.iloc[i]['LONGITUDE']],\n",
    "    fill = True,\n",
    "    radius = (int((np.log(covid_molecular_lab_data.iloc[1,-1]+1.00001))) * 0.2)*50000,\n",
    "    fill_colour = 'blue',\n",
    "    color = 'red',\n",
    "    \n",
    "    ).add_to(molecular_labs_state_map)\n",
    "\n",
    "molecular_labs_state_map"
   ]
  },
  {
   "cell_type": "code",
   "execution_count": 33,
   "metadata": {
    "scrolled": false
   },
   "outputs": [
    {
     "data": {
      "text/plain": [
       "<seaborn.axisgrid.PairGrid at 0x25d69e44dc8>"
      ]
     },
     "execution_count": 33,
     "metadata": {},
     "output_type": "execute_result"
    },
    {
     "data": {
      "image/png": "[encoded data removed]",
      "text/plain": [
       "<Figure size 1980x1980 with 132 Axes>"
      ]
     },
     "metadata": {
      "needs_background": "light"
     },
     "output_type": "display_data"
    }
   ],
   "source": [
    "sns.pairplot(covid_states_nig_data)"
   ]
  },
  {
   "cell_type": "markdown",
   "metadata": {},
   "source": [
    "## Signs and Symptoms:"
   ]
  },
  {
   "cell_type": "markdown",
   "metadata": {},
   "source": [
    "![Symptoms](https://www.discovery.co.za/gallery/discoverycoza/content-hub/coronavirus-covid19-disease/signs-and-symptoms-corona-virus-720x350.jpg)"
   ]
  },
  {
   "cell_type": "markdown",
   "metadata": {},
   "source": [
    ">Common Symptoms\n",
    "Researchers in China found that the most common symptoms among people who were hospitalized with COVID-19 include:\n",
    "\n",
    ">Fever: 99%\n",
    "Fatigue:70%\n",
    "A dry cough: 59%\n",
    "Loss of appetite: 40%\n",
    "Body aches: 35%\n",
    "Shortness of breath: 31%\n",
    "Mucus or phlegm: 27%\n",
    "Symptoms usually begin 2 to 14 days after you come into contact with the virus.\n",
    "\n",
    ">Other symptoms may include:\n",
    "Sore throat\n",
    "Headache\n",
    "Chills, sometimes with shaking\n",
    "Loss of smell or taste\n",
    "Stuffy nose\n",
    "Nausea or vomiting\n",
    "Diarrhea\n",
    "Emergency Symptoms\n",
    "Call a doctor or hospital right away if you have one or more of these COVID-19 symptoms:\n",
    "\n",
    ">Trouble breathing\n",
    "Constant pain or pressure in your chest\n",
    "Bluish lips or face\n",
    "Sudden confusion\n",
    "You need medical care as soon as possible. Call your doctor’s office or hospital before you go in. This will help them prepare to treat you and protect medical staff and other patients.\n",
    "\n",
    ">Strokes have also been reported in some people who have COVID-19. \n",
    "\n",
    ">Remember FAST:\n",
    "\n",
    ">Face: Is one side of the person’s face numb or drooping? Is their smile lopsided?\n",
    "Arms. Is one arm weak or numb? If they try to raise both arms, does one arm sag?\n",
    "\n",
    ">Speech: Can they speak clearly? Ask them to repeat a sentence.\n",
    "\n",
    ">Time: Every minute counts when someone shows signs of a stroke. Call 0800-970000-10 right away.\n",
    "\n",
    ">Lab tests can tell if COVID-19 is what’s causing your symptoms. But the tests can be hard to find, and there’s no treatment if you do have the disease. So you don’t need to get tested if you have no symptoms or only mild ones. Call your doctor or your local health department if you have questions."
   ]
  },
  {
   "cell_type": "markdown",
   "metadata": {},
   "source": [
    "## Treatment At Home\n",
    ">At-Home Coronavirus Treatment\n",
    "If your symptoms are mild enough that you can recover at home, you should:\n",
    "\n",
    ">Rest. It can make you feel better and may speed your recovery.\n",
    "Stay home. Don't go to work, school, or public places.\n",
    "\n",
    ">Drink fluids. You lose more water when you're sick. Dehydration can make symptoms worse and cause other health problems.\n",
    "\n",
    ">Monitor. If your symptoms get worse, call your doctor right away. Don't go to their office without calling first. They might tell you to stay home, or they may need to take extra steps to protect staff and other patients.\n",
    "\n",
    ">Ask your doctor about over-the-counter medicines that may help, like acetaminophen to lower your fever.\n",
    "\n",
    ">The most important thing to do is to avoid infecting other people, especially those who are over 65 or who have other health problems.\n",
    "\n",
    ">That means:\n",
    "\n",
    ">Try to stay in one place in your home. Use a separate bedroom and bathroom if you can.\n",
    "\n",
    ">Tell others you're sick so they keep their distance.\n",
    "\n",
    ">Cover your coughs and sneezes with a tissue or your elbow.\n",
    "\n",
    ">Wear a mask over your nose and mouth if you can.\n",
    "\n",
    ">Wash regularly, especially your hands.\n",
    "\n",
    ">Don't share dishes, cups, eating utensils, towels, or bedding with anyone else.\n",
    "\n",
    ">Clean and disinfect common surfaces like doorknobs, counters, and tabletops.\n"
   ]
  },
  {
   "cell_type": "markdown",
   "metadata": {},
   "source": [
    "## More Info on COVID-19:\n",
    "* [https://covid19.ncdc.gov.ng/](https://covid19.ncdc.gov.ng/)\n",
    "* [https://www.who.int/health-topics/coronavirus](https://www.who.int/health-topics/coronavirus)\n",
    "* [https://www.who.int/emergencies/diseases/novel-coronavirus-2019](https://www.who.int/emergencies/diseases/novel-coronavirus-2019)\n",
    "* [https://www.nature.com/articles/s41597-020-0448-0](https://www.nature.com/articles/s41597-020-0448-0)"
   ]
  },
  {
   "cell_type": "markdown",
   "metadata": {},
   "source": [
    "## Covid-19 Hotlines \n",
    "0800-970000-10 (Toll-Free Call Centre)"
   ]
  }
 ],
 "metadata": {
  "kernelspec": {
   "display_name": "Python 3",
   "language": "python",
   "name": "python3"
  },
  "language_info": {
   "codemirror_mode": {
    "name": "ipython",
    "version": 3
   },
   "file_extension": ".py",
   "mimetype": "text/x-python",
   "name": "python",
   "nbconvert_exporter": "python",
   "pygments_lexer": "ipython3",
   "version": "3.7.6"
  }
 },
 "nbformat": 4,
 "nbformat_minor": 4
}
